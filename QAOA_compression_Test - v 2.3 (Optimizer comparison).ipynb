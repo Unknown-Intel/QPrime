{
 "cells": [
  {
   "cell_type": "code",
   "execution_count": 1,
   "metadata": {},
   "outputs": [],
   "source": [
    "import numpy as np\n",
    "from qiskit import *\n",
    "import random\n",
    "import time\n",
    "from numpy import log as ln\n",
    "import warnings\n",
    "warnings.filterwarnings('ignore', module = 'qiskit')\n",
    "# warnings.filterwarnings(action='once')\n",
    "\n",
    "from qiskit.algorithms.optimizers import ADAM, AQGD, COBYLA, SPSA, TNC, CG, L_BFGS_B, GSLS, NELDER_MEAD, NFT, P_BFGS, POWELL, SLSQP\n",
    "from qiskit.opflow.gradients import Gradient, NaturalGradient, QFI\n",
    "from qiskit.opflow import CircuitStateFn, StateFn, I, X, Y, Z, H, CX, Zero, One, OperatorBase\n",
    "\n",
    "from itertools import combinations as cm"
   ]
  },
  {
   "cell_type": "code",
   "execution_count": 2,
   "metadata": {},
   "outputs": [],
   "source": [
    "# Generate Primes as an array\n",
    "primes = [2,3,5]#,7,11,17,19,,31,37]\n",
    "primes = primes[::-1]\n",
    "\n",
    "combinations = list(cm(range(len(primes)), 2))"
   ]
  },
  {
   "cell_type": "code",
   "execution_count": 3,
   "metadata": {},
   "outputs": [],
   "source": [
    "# Generate Quantum Circuit single layer\n",
    "def generate_circuit(params, assigned=True):\n",
    "    cir = QuantumCircuit(len(primes))\n",
    "    layers = int(len(params)/(4 * len(primes)))\n",
    "    thetas = [qiskit.circuit.Parameter(str(i)) for i in range(len(primes) * 4 *layers)]\n",
    "    thetas_reshape = np.reshape(np.asarray(thetas),(layers, len(primes) * 4))\n",
    "    params = np.reshape(np.asarray(params),(layers, len(primes) * 4))\n",
    "#     cir.x(0)\n",
    "#     cir.x(1)\n",
    "#     cir.x(2)\n",
    "#     cir.x(3)\n",
    "#     cir.x(4)\n",
    "#     cir.x(5)\n",
    "#     cir.x(6)\n",
    "#     cir.h(range(len(primes)))\n",
    "    for m in range(layers):\n",
    "        l = len(params[m])\n",
    "        g = thetas_reshape[m][0:int(l/4)]\n",
    "        b = thetas_reshape[m][int(l/4): int(2*l/4)]\n",
    "        a = thetas_reshape[m][int(2*l/4): int(3*l/4)]\n",
    "        t = thetas_reshape[m][int(3*l/4):l]\n",
    "\n",
    "        for i in range(len(primes)):\n",
    "            cir.ry(g[i], i)\n",
    "        for j in range(len(primes)):\n",
    "            if j != 0:\n",
    "                cir.crz(b[j], j-1, j)\n",
    "            else:\n",
    "                cir.crz(b[j], len(primes)-1, j)\n",
    "        for k in range(len(primes)):\n",
    "            cir.ry(a[k], k)\n",
    "        for o in range(len(primes)):\n",
    "            cir.rx(t[o], o)\n",
    "    if assigned == True:\n",
    "        thetas_reshape = thetas_reshape.flatten()\n",
    "        params = params.flatten()\n",
    "        p_dict = {thetas_reshape[i] : params[i] for i in range(len(thetas))}\n",
    "        cir.assign_parameters(p_dict, inplace=True)\n",
    "    cir.measure_all()\n",
    "    \n",
    "    return cir, thetas"
   ]
  },
  {
   "cell_type": "code",
   "execution_count": 4,
   "metadata": {},
   "outputs": [],
   "source": [
    "def generate_ZZcircuit(params, primes, assigned=True):\n",
    "    cir = QuantumCircuit(len(primes))\n",
    "    layers = int(len(params)/((2 * len(primes)) + len(combinations)))\n",
    "    thetas = [qiskit.circuit.Parameter(str(i)) for i in range(layers * ((2 * len(primes)) + len(combinations)))]\n",
    "    thetas_reshape = np.reshape(np.asarray(thetas),(layers, ((2 * len(primes)) + len(combinations))))\n",
    "    params = np.reshape(np.asarray(params),(layers, ((2 * len(primes)) + len(combinations))))\n",
    "    combs = list(cm(range(len(primes)), 2))\n",
    "#     cir.h(range(len(primes)))\n",
    "    \n",
    "    for m in range(layers):\n",
    "        l = len(params[m])\n",
    "        g = thetas_reshape[m][0: len(primes)]\n",
    "        a = thetas_reshape[m][len(primes): (len(primes) + len(combs))]\n",
    "        b = thetas_reshape[m][(len(primes) + len(combs)) : l]\n",
    "        \n",
    "        for h in range(len(primes)):\n",
    "            cir.rz(g[h], h)\n",
    "        \n",
    "        i = 0\n",
    "        for j, k in combs:\n",
    "            cir.rzz(a[i], j, k)\n",
    "            i += 1\n",
    "        for l in range(len(primes)):\n",
    "            cir.rx(b[l], l)\n",
    "            \n",
    "    if assigned == True:\n",
    "        thetas_reshape = thetas_reshape.flatten()\n",
    "        params = params.flatten()\n",
    "        p_dict = {thetas_reshape[i] : params[i] for i in range(len(thetas))}\n",
    "        cir.assign_parameters(p_dict, inplace=True)\n",
    "    cir.measure_all()\n",
    "    \n",
    "    return cir, thetas"
   ]
  },
  {
   "cell_type": "code",
   "execution_count": 5,
   "metadata": {},
   "outputs": [
    {
     "name": "stdout",
     "output_type": "stream",
     "text": [
      "[2.0232348834067215, 0.6851582420138922, 2.9828481946722682, 0.42703112081673533, 0.023397384983749124, 1.7934989292967802, 2.1365870152260285, 0.7018635687052959, 2.1494774168007225]\n"
     ]
    },
    {
     "data": {
      "image/png": "[encoded data removed]",
      "text/plain": [
       "<Figure size 658.679x264.88 with 1 Axes>"
      ]
     },
     "execution_count": 5,
     "metadata": {},
     "output_type": "execute_result"
    }
   ],
   "source": [
    "hyperparam = [random.uniform(0,np.pi) for _ in range(1 * ((2 * len(primes)) + len(combinations)))]\n",
    "print(hyperparam)\n",
    "cir, free_params = generate_ZZcircuit(hyperparam, primes, assigned=False)\n",
    "cir.draw('mpl')"
   ]
  },
  {
   "cell_type": "code",
   "execution_count": 6,
   "metadata": {},
   "outputs": [],
   "source": [
    "def obj_function(counts, n, penalty):\n",
    "    max_c = 0\n",
    "    max_bit = \"\"\n",
    "    for c in counts:\n",
    "        if counts[c] >= max_c:\n",
    "            max_c =  counts[c]\n",
    "            max_bit = c\n",
    "    comp_primes = 1\n",
    "    for i in range(len(max_bit)):\n",
    "        comp_primes *= primes[i]**int(max_bit[i])\n",
    "    p = 0\n",
    "    if penalty == 1:\n",
    "        if comp_primes > n:\n",
    "            p += comp_primes \n",
    "#         return (n - comp_primes)**2\n",
    "#     print(comp_primes, n-comp_primes, p)\n",
    "    return (n - comp_primes) + p"
   ]
  },
  {
   "cell_type": "code",
   "execution_count": 7,
   "metadata": {},
   "outputs": [],
   "source": [
    "def f(theta):\n",
    "    n = 30\n",
    "    qc, free_params = generate_ZZcircuit(theta, primes)\n",
    "    back = Aer.get_backend('aer_simulator')\n",
    "    back.set_options(device='GPU')\n",
    "    job_sim = execute(qc, backend = back, shots = 2048).result()\n",
    "    counts = job_sim.get_counts(qc)\n",
    "        \n",
    "    return obj_function(counts, n, 1)\n",
    "\n",
    "def gen_f(n):\n",
    "    \n",
    "    def f(theta):\n",
    "        qc, free_params = generate_ZZcircuit(theta, primes)\n",
    "        back = Aer.get_backend('aer_simulator')\n",
    "        back.set_options(device='GPU')\n",
    "        job_sim = execute(qc, backend = back, shots = 2048).result()\n",
    "        counts = job_sim.get_counts(qc)\n",
    "        \n",
    "        return obj_function(counts, n, 1)\n",
    "\n",
    "    return f"
   ]
  },
  {
   "cell_type": "code",
   "execution_count": 8,
   "metadata": {},
   "outputs": [],
   "source": [
    "def X_generator(primes, identity):\n",
    "    #Generate X value for hamiltonian\n",
    "    constant = 0\n",
    "\n",
    "    for i in range(len(primes)):\n",
    "        #Build Constant value iteratively\n",
    "        constant += ln(primes[i])\n",
    "        \n",
    "        if i == 0:\n",
    "            z_value = Z\n",
    "        else:\n",
    "            z_value = I\n",
    "        #Build rest of X\n",
    "        for j in range(1, len(primes)):\n",
    "            if j == i:\n",
    "                z_value = z_value ^ Z\n",
    "            else:\n",
    "                z_value = z_value ^ I\n",
    "        if i == 0:\n",
    "            x = -ln(primes[i]) * z_value\n",
    "        else:\n",
    "            x -= ln(primes[i]) * z_value\n",
    "    #Combine Both to form X\n",
    "    x += constant * identity\n",
    "    \n",
    "    return x\n",
    "\n",
    "def hamiltonian(n, primes):\n",
    "    #Generate Hamitonian according to number of primes\n",
    "    identity = I\n",
    "    \n",
    "    for i in range(len(primes) - 1):\n",
    "        identity = identity ^ I\n",
    "        \n",
    "    x = X_generator(primes, identity)\n",
    "    \n",
    "    lnn = float(ln(n))\n",
    "    \n",
    "    h = ((lnn**2) * identity) - (lnn * x) + (1 / 4 * (x ** 2))\n",
    "    \n",
    "    return h"
   ]
  },
  {
   "cell_type": "code",
   "execution_count": 9,
   "metadata": {},
   "outputs": [
    {
     "name": "stdout",
     "output_type": "stream",
     "text": [
      "[[ 2.59029039e+00+0.j  0.00000000e+00+0.j  0.00000000e+00+0.j\n",
      "   0.00000000e+00+0.j  0.00000000e+00+0.j  0.00000000e+00+0.j\n",
      "   0.00000000e+00+0.j  0.00000000e+00+0.j]\n",
      " [ 0.00000000e+00+0.j  8.39588705e-01+0.j  0.00000000e+00+0.j\n",
      "   0.00000000e+00+0.j  0.00000000e+00+0.j  0.00000000e+00+0.j\n",
      "   0.00000000e+00+0.j  0.00000000e+00+0.j]\n",
      " [ 0.00000000e+00+0.j  0.00000000e+00+0.j  2.60942818e-01+0.j\n",
      "   0.00000000e+00+0.j  0.00000000e+00+0.j  0.00000000e+00+0.j\n",
      "   0.00000000e+00+0.j  0.00000000e+00+0.j]\n",
      " [ 0.00000000e+00+0.j  0.00000000e+00+0.j  0.00000000e+00+0.j\n",
      "   3.32411501e-02+0.j  0.00000000e+00+0.j  0.00000000e+00+0.j\n",
      "   0.00000000e+00+0.j  0.00000000e+00+0.j]\n",
      " [ 0.00000000e+00+0.j  0.00000000e+00+0.j  0.00000000e+00+0.j\n",
      "   0.00000000e+00+0.j -4.44089210e-16+0.j  0.00000000e+00+0.j\n",
      "   0.00000000e+00+0.j  0.00000000e+00+0.j]\n",
      " [ 0.00000000e+00+0.j  0.00000000e+00+0.j  0.00000000e+00+0.j\n",
      "   0.00000000e+00+0.j  0.00000000e+00+0.j  4.80453014e-01+0.j\n",
      "   0.00000000e+00+0.j  0.00000000e+00+0.j]\n",
      " [ 0.00000000e+00+0.j  0.00000000e+00+0.j  0.00000000e+00+0.j\n",
      "   0.00000000e+00+0.j  0.00000000e+00+0.j  0.00000000e+00+0.j\n",
      "   1.20694896e+00+0.j  0.00000000e+00+0.j]\n",
      " [ 0.00000000e+00+0.j  0.00000000e+00+0.j  0.00000000e+00+0.j\n",
      "   0.00000000e+00+0.j  0.00000000e+00+0.j  0.00000000e+00+0.j\n",
      "   0.00000000e+00+0.j  3.21040200e+00+0.j]]\n"
     ]
    }
   ],
   "source": [
    "h_value = hamiltonian(5, primes)\n",
    "print(h_value.to_matrix())"
   ]
  },
  {
   "cell_type": "code",
   "execution_count": 10,
   "metadata": {},
   "outputs": [],
   "source": [
    " def _convert_to_gradient_function(gradient_object, layers, n):\n",
    "\n",
    "        def gradient_function(current_point):\n",
    "\n",
    "            cir, free_params = generate_ZZcircuit(current_point, primes, assigned=False)\n",
    "            cir.remove_final_measurements()\n",
    "            c = hamiltonian(n, primes)\n",
    "            op = ~StateFn(c) @ CircuitStateFn(primitive=cir, coeff=1.)\n",
    "            grad_object = gradient_object.convert(operator=op, params=free_params)\n",
    "            value_dict = {free_params[i]: current_point[i] for i in range(len(free_params))}\n",
    "            x = grad_object.assign_parameters(value_dict).eval()\n",
    "#             print(x)\n",
    "#             analytical_gradients = np.array(x)# Change this part\n",
    "            return np.real(x)\n",
    "        \n",
    "        return gradient_function"
   ]
  },
  {
   "cell_type": "code",
   "execution_count": 11,
   "metadata": {},
   "outputs": [],
   "source": [
    "# from scipy import optimize as op\n",
    "# optimizer =  AQGD(maxiter=1000)\n",
    "# layers = 1\n",
    "# func = f\n",
    "# grad = \"param_shift\"\n",
    "# gradient_function =Gradient(grad_method=grad)\n",
    "# g_f = _convert_to_gradient_function(gradient_function, layers, 30)\n",
    "# theta = [random.uniform(0, 2 * np.pi) for _ in range(layers * ((2 * len(primes)) + len(combinations)))]\n",
    "# # res_sample = op.minimize(func, x0 = theta, method='COBYLA', options={'maxiter':1000})\n",
    "# # theta = res_sample['x']\n",
    "# # loss = res_sample['fun']\n",
    "# theta, loss, _ = optimizer.optimize(\n",
    "#             num_vars=len(theta),\n",
    "#             objective_function=func,\n",
    "#             initial_point=theta,\n",
    "#             gradient_function=g_f\n",
    "#             )"
   ]
  },
  {
   "cell_type": "code",
   "execution_count": 12,
   "metadata": {},
   "outputs": [],
   "source": [
    "# print(loss, theta)"
   ]
  },
  {
   "cell_type": "code",
   "execution_count": 13,
   "metadata": {},
   "outputs": [],
   "source": [
    "# theta = res_sample.x\n",
    "# theta =[2.763785562212966, 1.322415858639598, 1.3308235519001288, 2.4978133840322934, 4.2866331530605715, 1.1067569137053306, 0, 0]\n",
    "# qc, free_params = generate_ZZcircuit(theta, primes)\n",
    "# counts = execute(qc, backend = Aer.get_backend('aer_simulator'), shots = 2048).result().get_counts()"
   ]
  },
  {
   "cell_type": "code",
   "execution_count": 14,
   "metadata": {},
   "outputs": [],
   "source": [
    "# from qiskit.visualization import plot_histogram\n",
    "# plot_histogram(counts, figsize=(30, 20))"
   ]
  },
  {
   "cell_type": "code",
   "execution_count": 15,
   "metadata": {},
   "outputs": [],
   "source": [
    "# import math\n",
    "# n = 30\n",
    "# r = obj_function(counts, n, 0)\n",
    "# print(r)\n",
    "# og_bits = int(math.ceil(math.log2(n)))\n",
    "# compressed_bits = (len(primes)) + int(math.ceil(math.log2(r)))\n",
    "# print(\"Original bit = \", og_bits, ' Compressed_bits = ', compressed_bits, ' compression raito =', compressed_bits/ og_bits)"
   ]
  },
  {
   "cell_type": "code",
   "execution_count": 16,
   "metadata": {},
   "outputs": [
    {
     "name": "stdout",
     "output_type": "stream",
     "text": [
      "Current n =  5\n",
      "Current layer =  1\n",
      "Current opt =  0\n",
      "Current Gradient =  \n",
      "Current Gradient =  param_shift\n",
      "Current Gradient =  lin_comb\n",
      "Current Gradient =  fin_diff\n",
      "Current opt =  1\n",
      "Current Gradient =  \n",
      "Current Gradient =  param_shift\n",
      "Current Gradient =  lin_comb\n",
      "Current Gradient =  fin_diff\n",
      "Current opt =  2\n",
      "Current Gradient =  \n",
      "Current Gradient =  param_shift\n",
      "Current Gradient =  lin_comb\n",
      "Current Gradient =  fin_diff\n",
      "Current opt =  3\n",
      "Current Gradient =  \n",
      "Current Gradient =  param_shift\n",
      "Current Gradient =  lin_comb\n",
      "Current Gradient =  fin_diff\n",
      "Current opt =  4\n",
      "Current Gradient =  \n",
      "Current Gradient =  param_shift\n",
      "Current Gradient =  lin_comb\n",
      "Current Gradient =  fin_diff\n",
      "Current opt =  5\n",
      "Current Gradient =  \n",
      "Current Gradient =  param_shift\n",
      "Current Gradient =  lin_comb\n",
      "Current Gradient =  fin_diff\n",
      "Current n =  10\n",
      "Current layer =  1\n",
      "Current opt =  0\n",
      "Current Gradient =  \n",
      "Current Gradient =  param_shift\n",
      "Current Gradient =  lin_comb\n",
      "Current Gradient =  fin_diff\n",
      "Current opt =  1\n",
      "Current Gradient =  \n",
      "Current Gradient =  param_shift\n",
      "Current Gradient =  lin_comb\n",
      "Current Gradient =  fin_diff\n",
      "Current opt =  2\n",
      "Current Gradient =  \n",
      "Current Gradient =  param_shift\n",
      "Current Gradient =  lin_comb\n",
      "Current Gradient =  fin_diff\n",
      "Current opt =  3\n",
      "Current Gradient =  \n",
      "Current Gradient =  param_shift\n",
      "Current Gradient =  lin_comb\n",
      "Current Gradient =  fin_diff\n",
      "Current opt =  4\n",
      "Current Gradient =  \n",
      "Current Gradient =  param_shift\n",
      "Current Gradient =  lin_comb\n",
      "Current Gradient =  fin_diff\n",
      "Current opt =  5\n",
      "Current Gradient =  \n",
      "Current Gradient =  param_shift\n",
      "Current Gradient =  lin_comb\n",
      "Current Gradient =  fin_diff\n"
     ]
    }
   ],
   "source": [
    "def run(optimizer, layers, func, gradient_function, n):\n",
    "    g_f = _convert_to_gradient_function(gradient_function, layers, n)\n",
    "    theta = [random.uniform(0, 2 * np.pi) for _ in range(layers * ((2 * len(primes)) + len(combinations)))]\n",
    "    theta, loss, _ = optimizer.optimize(\n",
    "                num_vars=len(theta),\n",
    "                objective_function=func,\n",
    "                initial_point=theta,\n",
    "                gradient_function=g_f\n",
    "                )\n",
    "    return loss\n",
    "\n",
    "gradient_types = ['', 'param_shift', 'lin_comb', 'fin_diff']\n",
    "op_types = [AQGD(maxiter = 100), COBYLA(maxiter = 100), TNC(maxiter = 100), CG(maxiter = 100), GSLS(maxiter = 100), NELDER_MEAD(maxiter = 100)]#, NFT(maxiter = 500)]#, P_BFGS(maxfun = 500), POWELL(maxiter = 500), SLSQP(maxiter = 500)]\n",
    "loss_list = []\n",
    "\n",
    "\n",
    "for i in [5, 10]:\n",
    "    print(\"Current n = \", i)\n",
    "    fun = gen_f(i)\n",
    "    n_list = []\n",
    "    for j in range(1, 2):\n",
    "        print(\"Current layer = \", j)\n",
    "        layer_list = []\n",
    "        for k in range(len(op_types)):\n",
    "            print(\"Current opt = \", k)\n",
    "            opt = op_types[k]\n",
    "            grad_list = []\n",
    "            for g in range(len(gradient_types)):\n",
    "                print(\"Current Gradient = \", gradient_types[g] )\n",
    "                if g == 0:\n",
    "                    grad = Gradient()\n",
    "                else:\n",
    "                    grad = Gradient(grad_method=gradient_types[g])\n",
    "                samples = []\n",
    "                for _ in range(10):\n",
    "                    start = time.perf_counter()\n",
    "                    loss = run(opt,  j, fun, grad, i)\n",
    "                    end = time.perf_counter()\n",
    "                    samples.append((loss, end - start))\n",
    "                grad_list.append(samples)\n",
    "            layer_list.append(grad_list)\n",
    "        n_list.append(layer_list)\n",
    "    loss_list.append(n_list)"
   ]
  },
  {
   "cell_type": "code",
   "execution_count": 17,
   "metadata": {},
   "outputs": [
    {
     "name": "stdout",
     "output_type": "stream",
     "text": [
      "[[[[[(5, 26.43226627999684), (0, 17.191282504005358), (5, 17.227236587990774), (0, 20.41838789799658), (2, 17.298664109010133), (0, 31.192857465008274), (5, 21.89796524400299), (0, 26.669267687000684), (0, 17.196972591991653), (5, 30.04267384999548)], [(5, 23.61901429099089), (5, 23.575470580995898), (5, 20.407243234993075), (5, 17.22505086599267), (0, 17.318910036003217), (0, 20.29346050300228), (2, 20.360444229998393), (2, 20.362198899005307), (0, 20.33456600100908), (2, 17.247264816993265)], [(0, 17.235772761996486), (0, 13.551417911003227), (0, 13.523722921003355), (0, 20.94334787801199), (5, 13.558253276991309), (2, 13.56598381799995), (5, 13.62383639300242), (0, 13.549963088007644), (0, 16.032719748996897), (5, 21.007764519992634)], [(0, 17.360547418997157), (2, 15.922300357997301), (5, 23.226974919001805), (5, 15.941857685000286), (5, 17.420285896994756), (0, 16.051068278000457), (2, 18.877765039011138), (0, 17.424549018993275), (5, 16.025323359004688), (5, 15.928283957997337)]], [[(0.0, 0.8044972920033615), (0.0, 0.8470529100013664), (3.0, 0.8836764570005471), (2.0, 0.9744618319964502), (0.0, 0.9822089649969712), (5.0, 1.0041018890042324), (5.0, 1.0506083229993237), (0.0, 1.1163269249955192), (5.0, 1.1343683259910904), (2.0, 1.1995174839976244)], [(3.0, 1.3330141740007093), (3.0, 1.4858853750047274), (5.0, 1.3193537889892468), (0.0, 1.3979696589958621), (5.0, 1.4129751510045025), (0.0, 2.032648292995873), (0.0, 1.5488360040035332), (0.0, 1.591517805994954), (5.0, 1.6067659050022485), (0.0, 1.9755742490087869)], [(5.0, 1.7102723279967904), (3.0, 1.7823443719971692), (2.0, 1.836943753005471), (2.0, 1.8795890460023656), (2.0, 1.927029433005373), (5.0, 1.9302594180044252), (4.0, 1.9721309229935287), (3.0, 2.0670194730046205), (2.0, 2.1026467050105566), (5.0, 2.0973679990129313)], [(2.0, 3.5729499199951533), (2.0, 2.264411702999496), (2.0, 2.4413467069971375), (5.0, 2.327711324993288), (5.0, 2.340590820007492), (0.0, 2.4255056169931777), (2.0, 2.488893173998804), (5.0, 2.4726220140000805), (5.0, 4.528786588998628), (4.0, 2.592594490997726)]], [[(0, 98.93899220300955), (3, 85.27200699300738), (2, 93.14752663800027), (3, 86.84784180099086), (0, 101.25657912300085), (5, 80.40712637300021), (5, 86.06775089800067), (5, 92.6201574329898), (5, 81.76719366500038), (5, 88.7191537990002)], [(3, 87.87046588100202), (0, 162.02559516800102), (0, 98.77009422000265), (0, 94.56266236200463), (2, 93.14782892199582), (3, 94.10982430099102), (0, 109.23578028600605), (2, 97.56920549500501), (5, 145.69282044300053), (0, 95.35608191000938)], [(3, 77.84366145799868), (2, 83.46191023099527), (0, 75.05110211500141), (2, 74.87736940699688), (0, 117.40095715000643), (3, 73.19316428100865), (2, 72.24291866000567), (5, 117.45727202900162), (2, 78.84964789499645), (0, 80.2399813200027)], [(3, 81.42104038599064), (0, 90.12358065000444), (5, 135.3337485850061), (2, 82.79472773899033), (0, 94.62874485699285), (5, 83.50019412499387), (2, 83.97651907999534), (5, 80.87296963200788), (5, 77.06524848299159), (2, 91.45321289599815)]], [[(0, 46.73892330798844), (2, 73.14508639600535), (5, 68.0081439659989), (0.0, 47.923599251997075), (0, 44.44770351599436), (5, 66.71580470399931), (2, 48.43065596999077), (0.0, 48.27884514200559), (5, 66.83554716900107), (0.0, 48.17987181300123)], [(4, 47.756077476005885), (5, 71.83199791600055), (3, 64.69035253000038), (2, 46.19357523600047), (2.0, 50.532499895998626), (3.0, 73.781166123008), (5, 74.12930889100244), (3.0, 61.62334984198969), (0, 47.30747961299494), (3, 40.09697255700303)], [(3, 52.6839942039951), (0.0, 39.48845667899877), (2, 26.696328332007397), (0, 34.44644723799138), (0, 35.6154958630068), (3, 65.40037334599765), (2, 38.11030598900106), (4, 36.4456712819956), (3, 55.92239197999879), (3, 52.98986294200586)], [(0, 41.71724575899134), (5, 71.53483818299719), (3, 64.33948315901216), (2, 45.49354150000727), (2, 43.33968356301193), (5, 70.78971027900116), (5, 66.72271795700362), (3, 68.55105693200312), (3, 62.86609532800503), (5, 66.5208367830055)]], [[(2, 1.2503581370110624), (5, 1.251080592002836), (0, 1.2528364389872877), (0, 1.2506597620085813), (5, 1.2524404369905824), (3, 1.2652201050077565), (5, 1.2499111190118128), (0, 1.2415763169992715), (4, 1.309471910004504), (2, 1.268182407002314)], [(4, 1.26815815998998), (2, 1.2701085910084657), (5, 1.278924881000421), (3, 1.2785864309989847), (5, 1.283829694002634), (4, 1.2821252989961067), (5, 1.2834866920020431), (5, 1.2803060729929712), (3, 1.2969353959924774), (2, 1.2980981349974172)], [(3, 1.30265582499851), (3, 1.2919006160082063), (0, 1.2917953459982527), (5, 1.2882017590018222), (5, 1.2925173130061012), (4, 1.2978242530080024), (0, 1.2993196089955745), (5, 1.2974275960004888), (0, 1.301500955989468), (3, 25.332447687003878)], [(3, 1.329834830990876), (2, 1.338827195999329), (0, 1.342264912003884), (2, 1.346666005993029), (5, 1.3420878109900514), (5, 1.3467664300114848), (5, 1.3550509859924205), (5, 1.352326431995607), (5, 1.3528168889897643), (5, 1.3614832000021124)]], [[(4.0, 17.729931794994627), (2.0, 18.011426090990426), (0.0, 18.255261277998216), (0.0, 18.717484702996444), (5.0, 18.990762399000232), (0.0, 19.105038619003608), (2.0, 19.613937878006254), (3.0, 19.860707461004495), (3.0, 20.07329129599384), (4.0, 20.560316490009427)], [(0.0, 66.0435286310094), (0.0, 21.89287450100528), (4.0, 22.016130860996782), (0.0, 27.96117022499675), (5.0, 22.751909978993353), (5.0, 23.012954081001226), (2.0, 23.32244345000072), (5.0, 23.653055180999218), (5.0, 24.023787215992343), (4.0, 24.424374110996723)], [(5.0, 22.684631451003952), (5.0, 24.679269011001452), (5.0, 25.133681524006533), (0.0, 25.223760282999137), (5.0, 25.104044170991983), (4.0, 25.43340470500698), (4.0, 25.770866196005954), (3.0, 26.325260052006342), (0.0, 31.58087015899946), (3.0, 26.852474575003725)], [(3.0, 27.07127280200075), (0.0, 27.30030685001111), (3.0, 27.748343359999126), (5.0, 28.237646345005487), (3.0, 28.49529793599504), (3.0, 39.6006118790101), (5.0, 28.576571539000724), (2.0, 28.946726783993654), (5.0, 29.199410913992324), (5.0, 29.468505888988147)]]]], [[[[(10, 19.788867188995937), (0, 21.551075074996334), (10, 26.938628210002207), (0, 23.309844161005458), (10, 19.74864768999396), (4, 19.73357664400828), (0, 19.715003232995514), (10, 28.487248553996324), (10, 19.292371161005576), (0, 22.77884427701065)], [(0, 22.76868485599698), (10, 21.05594751398894), (0, 20.995042366994312), (0, 22.7868339340057), (4, 19.339594773002318), (4, 19.268735481993644), (4, 19.26496515699546), (4, 19.375187019002624), (10, 19.35689335600182), (0, 26.32607185699453)], [(10, 15.719058659989969), (4, 17.11262528199586), (0, 15.669787237013225), (4, 19.994617585995), (0, 15.703730957000516), (0, 15.700572000001557), (0, 22.821052241997677), (10, 15.680368704008288), (0, 17.131247680998058), (5, 15.676627833003295)], [(10, 18.09826675101067), (0, 18.150251315993955), (5, 18.096171483004582), (4, 21.407986695994623), (10, 18.107128987001488), (0, 21.39724592299899), (0, 21.633613344005425), (4, 23.33381886999996), (4, 18.333521241002018), (4, 20.006268490993534)]], [[(7.0, 12.28152808600862), (5.0, 12.111785706001683), (5.0, 11.90649274700263), (5.0, 17.4734026560036), (5.0, 12.250547126008314), (5.0, 12.041933514003176), (0.0, 12.39676846000657), (4.0, 12.635534002998611), (10.0, 12.42299802499474), (5.0, 12.701595916005317)], [(4.0, 12.507853478004108), (5.0, 19.880865669998457), (0.0, 12.65477719300543), (0.0, 13.11433331599983), (10.0, 12.470195239991881), (5.0, 12.786066582004423), (0.0, 12.624111703989911), (0.0, 12.979121809999924), (7.0, 13.011350875007338), (9.0, 12.856944428000133)], [(9.0, 12.943756385997403), (7.0, 12.94978772100876), (9.0, 12.89288881700486), (4.0, 13.156281988995033), (0.0, 13.20685076600057), (10.0, 18.963028708996717), (5.0, 13.086162634004722), (5.0, 13.111964865005575), (7.0, 13.400273291990743), (0.0, 16.560583129001316)], [(7.0, 23.289319220988546), (7.0, 13.399502448010026), (0.0, 13.737077787009184), (5.0, 13.551743107003858), (7.0, 13.569091077995836), (0.0, 13.854598881007405), (5.0, 13.64221111900406), (0.0, 14.196879231996718), (4.0, 14.751010477004456), (0.0, 14.066374390997225)]], [[(0, 93.91997637599707), (4, 97.36857754099765), (5, 94.99508676498954), (7, 96.27277032200072), (4, 101.68734793200565), (0, 102.28920346099767), (0, 130.4791631459957), (0, 111.96695476899913), (8, 95.38407870699302), (10, 99.06223865300126)], [(5, 100.56314614599978), (0, 101.27611823299958), (4, 114.10403902099642), (5, 99.42854068099405), (10, 99.90259346699168), (10, 94.5103110330092), (5, 100.09131116600474), (4, 105.70946476901008), (4, 102.1057928030059), (0, 105.74956295799348)], [(0, 92.52496599000006), (0, 127.10696864000056), (7, 123.62673338499735), (0, 88.76169265400677), (5, 79.65696391901292), (0, 96.15614014299354), (7, 80.09588102300768), (7, 80.26436769099382), (5, 72.87162046199956), (5, 126.54870246299834)], [(0, 113.87803597700258), (4, 96.95188118200167), (10, 87.09686003999377), (10, 81.91981436700735), (5, 95.31920116901165), (0, 93.64592111500679), (0, 98.80158695700811), (4, 89.32098974600376), (4, 93.17316955600108), (10, 92.859638170994)]], [[(4, 54.06469996199303), (10, 87.6279006429977), (0, 52.11683130900201), (5, 70.88388013299846), (0.0, 52.16830956299964), (4.0, 61.56688335999206), (0, 50.36933996299922), (0, 52.274098460999085), (4, 54.0535924660071), (4.0, 59.729461117996834)], [(0, 52.170575887997984), (9, 63.3478454129945), (0, 51.84519570399425), (10, 72.25042312200821), (0.0, 33.310174002996064), (5, 78.21016410499578), (7, 70.73620949299948), (4.0, 63.45217911299551), (0, 52.019853969002725), (4.0, 53.703280336994794)], [(8.0, 49.26003081598901), (5, 63.181378575012786), (4, 44.73266025399789), (5, 56.97118623799179), (4.0, 46.429040607996285), (8.0, 13.97848063398851), (0.0, 44.90816853400611), (4, 44.8998781919945), (5, 60.247436171004665), (8, 45.02701757499017)], [(4, 50.84258445400337), (7, 66.65327287599212), (0, 49.14695023800596), (4.0, 52.41895964399737), (4.0, 51.92128405800031), (0, 48.50969298399286), (5, 63.743703861997346), (10, 63.75717765999434), (4, 50.04634659399744), (0, 20.860306156013394)]], [[(0, 3.3834765829960816), (5, 3.3658503549959278), (10, 3.421591238002293), (7, 3.3889503100072034), (7, 3.373877857986372), (8, 3.3733677710115444), (10, 3.3651005950086983), (10, 3.3670710619917372), (4, 3.404989750008099), (10, 3.383514961009496)], [(10, 3.3906276220077416), (5, 3.401440929999808), (4, 3.3829574400006095), (4, 24.949471113999607), (10, 3.4078190970030846), (5, 3.411927053995896), (7, 3.395343298005173), (4, 3.400327894007205), (0, 3.4018215889955172), (5, 3.4053490689984756)], [(8, 3.406027057004394), (0, 3.407549837997067), (0, 3.4082843239884824), (5, 3.4100147090066457), (8, 3.402698939011316), (0, 3.409066483989591), (4, 3.422114100001636), (8, 3.419990566006163), (5, 3.4226042099908227), (7, 3.4190282269992167)], [(10, 3.441757509004674), (7, 3.4224337870109593), (0, 3.4439716229971964), (7, 3.4324339229933685), (4, 3.4303081029938767), (10, 3.429173291006009), (8, 3.444064255003468), (10, 3.4385617569932947), (8, 3.4400035309954546), (10, 3.4451486589969136)]], [[(10.0, 44.6896005239978), (0.0, 44.95291554600408), (10.0, 45.29269040300278), (7.0, 45.56778736501292), (0.0, 45.85181093700521), (9.0, 46.18252183799632), (9.0, 46.452102358001866), (8.0, 46.76169514200592), (8.0, 47.0170774399885), (9.0, 47.352252335011144)], [(0.0, 47.633551973005524), (10.0, 47.850221703003626), (10.0, 48.23674522899091), (10.0, 48.525851405007415), (10.0, 48.82812986399222), (10.0, 49.14725002700288), (0.0, 50.492586667009164), (7.0, 67.69167925800139), (0.0, 50.060707800003), (10.0, 50.412770459995954)], [(7.0, 50.76220853999257), (9.0, 51.03019568200398), (4.0, 51.32659936399432), (7.0, 51.70598402999167), (10.0, 47.93484483899374), (4.0, 61.77410333100124), (4.0, 52.46989185799612), (7.0, 52.78781669700402), (10.0, 53.0942308960075), (4.0, 53.43519742701028)], [(8.0, 53.638663913996425), (9.0, 53.93522177998966), (4.0, 54.97643804398831), (7.0, 54.56449958900339), (10.0, 54.79397529599373), (4.0, 55.11983895399317), (5.0, 79.76612820400624), (0.0, 56.63712761999341), (7.0, 56.13680505100638), (5.0, 56.4660821659927)]]]]]\n"
     ]
    }
   ],
   "source": [
    "print(loss_list)"
   ]
  },
  {
   "cell_type": "code",
   "execution_count": 18,
   "metadata": {},
   "outputs": [
    {
     "data": {
      "text/plain": [
       "(2, 1, 6, 4, 10, 2)"
      ]
     },
     "execution_count": 18,
     "metadata": {},
     "output_type": "execute_result"
    }
   ],
   "source": [
    "ll = np.asarray(loss_list)\n",
    "ll.shape"
   ]
  },
  {
   "cell_type": "code",
   "execution_count": 19,
   "metadata": {},
   "outputs": [],
   "source": [
    "np.save(\"newHamTest510_optimizercomparison\", ll,)"
   ]
  }
 ],
 "metadata": {
  "kernelspec": {
   "display_name": "Python 3",
   "language": "python",
   "name": "python3"
  },
  "language_info": {
   "codemirror_mode": {
    "name": "ipython",
    "version": 3
   },
   "file_extension": ".py",
   "mimetype": "text/x-python",
   "name": "python",
   "nbconvert_exporter": "python",
   "pygments_lexer": "ipython3",
   "version": "3.8.5"
  }
 },
 "nbformat": 4,
 "nbformat_minor": 4
}
