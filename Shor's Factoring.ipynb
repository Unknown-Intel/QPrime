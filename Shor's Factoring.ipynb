{
 "cells": [
  {
   "cell_type": "code",
   "execution_count": null,
   "metadata": {},
   "outputs": [],
   "source": [
    "from qiskit import *\n",
    "import numpy as np\n",
    "import math\n",
    "import random"
   ]
  },
  {
   "cell_type": "code",
   "execution_count": null,
   "metadata": {},
   "outputs": [],
   "source": [
    "# Define N to be factored:\n",
    "N = 111\n",
    "\n",
    "# Find L minimum no of bits to express N\n",
    "L = int(math.ceil(math.log2(N)))\n",
    "\n",
    "# Fine t to find the order of x\n",
    "t = 6 #2 * L + 1\n",
    "\n",
    "print(\"N =\", N, \" L =\", L, \" t =\", t, \" Total Number of Qubits =\", L + t)"
   ]
  },
  {
   "cell_type": "code",
   "execution_count": null,
   "metadata": {},
   "outputs": [],
   "source": [
    "# Pick x at random between 1, N-1:\n",
    "x = 11#random.randint(1, N)\n",
    "\n",
    "print(\"x =\", x)"
   ]
  },
  {
   "cell_type": "code",
   "execution_count": null,
   "metadata": {},
   "outputs": [],
   "source": [
    "# See if x has a GCD with N:\n",
    "f1 = math.gcd(x, N)\n",
    "\n",
    "# If there is a GCD then return the factor(f1):\n",
    "print(\"Factor =\", f1)"
   ]
  },
  {
   "cell_type": "code",
   "execution_count": null,
   "metadata": {},
   "outputs": [],
   "source": [
    "# If the factor is trivial i.e. 1, then there is no GCD\n",
    "# between the 2 numbers; they are co-prime \n",
    "# -> construct Unitary of x^j mod N\n",
    "iterations = 6#2**(int(L/2))\n",
    "\n",
    "for i in range(1, iterations + 1):\n",
    "    m = (x ** i) % N\n",
    "    print(x,\"^\", i, \" mod\", N, \" = \", m, \" mod \", N)"
   ]
  },
  {
   "cell_type": "code",
   "execution_count": null,
   "metadata": {},
   "outputs": [],
   "source": [
    "# try with a imcomplete matirx U\n",
    "U_data = np.zeros((2**L, 2**L))\n",
    "print(\"DimU = \", U_data.shape)\n",
    "\n",
    "# Fill the U with the mod values:\n",
    "for i in range(1, iterations + 1):\n",
    "    if i == 1 :\n",
    "        prev_m = (x ** i) % N\n",
    "    else:\n",
    "        curr_m = (x ** i) % N\n",
    "        \n",
    "        U_data[prev_m][curr_m] = 1\n",
    "        U_data[curr_m][prev_m] = 1\n",
    "        prev_m = curr_m\n",
    "\n",
    "for i in range(len(U_data)):\n",
    "    if 1 not in U_data[i]:\n",
    "        U_data[i][i] = 1\n",
    "\n",
    "print(U_data)\n"
   ]
  },
  {
   "cell_type": "code",
   "execution_count": null,
   "metadata": {},
   "outputs": [],
   "source": [
    "# Create a unitary and convert it to a quantum gate\n",
    "q, r = np.linalg.qr(U_data)\n",
    "\n",
    "U_q = qiskit.extensions.UnitaryGate(q, label=\"U mod 111\").control()"
   ]
  },
  {
   "cell_type": "code",
   "execution_count": null,
   "metadata": {},
   "outputs": [],
   "source": [
    "# Generate the quantum circuit for Shor's Algorithm:\n",
    "shor = QuantumCircuit(t + L, t)\n",
    "\n",
    "shor.h(range(t))\n",
    "shor.x(t)\n",
    "\n",
    "k = 0\n",
    "for index in range(t):\n",
    "    for i in range(2**k):\n",
    "        shor.append(U_q, [index] + [i for i in range(t,t+L)])\n",
    "    k += 1\n",
    "    \n",
    "shor.append(qiskit.circuit.library.QFT(t, inverse=True), range(t))\n",
    "shor.measure(range(t), range(t))"
   ]
  },
  {
   "cell_type": "code",
   "execution_count": null,
   "metadata": {},
   "outputs": [],
   "source": [
    "# shor.draw('mpl')"
   ]
  },
  {
   "cell_type": "code",
   "execution_count": null,
   "metadata": {},
   "outputs": [],
   "source": [
    "from qiskit.visualization import plot_histogram\n",
    "\n",
    "qasm_sim = Aer.get_backend('qasm_simulator')\n",
    "# qasm_sim.set_options(device=\"GPU\")\n",
    "shots = 1024\n",
    "results = execute(shor, backend=qasm_sim, shots=shots).result()\n",
    "counts = results.get_counts(shor)\n",
    "plot_histogram(counts, figsize=(30 , 10))"
   ]
  },
  {
   "cell_type": "code",
   "execution_count": null,
   "metadata": {},
   "outputs": [],
   "source": [
    "import pandas as pd\n",
    "rows, measured_phases = [], []\n",
    "for output in counts:\n",
    "    if counts[output]/shots >= 0.1:\n",
    "        decimal = int(output, 2)  # Convert (base 2) string to decimal\n",
    "        phase = decimal/(2**t)  # Find corresponding eigenvalue\n",
    "        measured_phases.append(phase)\n",
    "        # Add these values to the rows in our table:\n",
    "        rows.append([f\"{output}(bin) = {decimal:>3}(dec)\", \n",
    "                     f\"{decimal}/{2**t} = {phase:.2f}\"])\n",
    "# Print the rows in a table\n",
    "headers=[\"Register Output\", \"Phase\"]\n",
    "df = pd.DataFrame(rows, columns=headers)\n",
    "print(df)"
   ]
  },
  {
   "cell_type": "code",
   "execution_count": null,
   "metadata": {},
   "outputs": [],
   "source": [
    "from fractions import Fraction\n",
    "rows = []\n",
    "for phase in measured_phases:\n",
    "    frac = Fraction(phase).limit_denominator(21)\n",
    "    rows.append([phase, f\"{frac.numerator}/{frac.denominator}\", frac.denominator])\n",
    "# Print as a table\n",
    "headers=[\"Phase\", \"Fraction\", \"Guess for r\"]\n",
    "df = pd.DataFrame(rows, columns=headers)\n",
    "print(df)"
   ]
  },
  {
   "cell_type": "code",
   "execution_count": null,
   "metadata": {},
   "outputs": [],
   "source": [
    "r = 18\n",
    "\n",
    "answer1 = math.gcd(x ** int(r/2) - 1, N)\n",
    "answer2 = math.gcd(x ** int(r/2) + 1, N)\n",
    "\n",
    "print(answer1, answer2)"
   ]
  }
 ],
 "metadata": {
  "kernelspec": {
   "display_name": "Python 3",
   "language": "python",
   "name": "python3"
  },
  "language_info": {
   "codemirror_mode": {
    "name": "ipython",
    "version": 3
   },
   "file_extension": ".py",
   "mimetype": "text/x-python",
   "name": "python",
   "nbconvert_exporter": "python",
   "pygments_lexer": "ipython3",
   "version": "3.8.5"
  }
 },
 "nbformat": 4,
 "nbformat_minor": 4
}
