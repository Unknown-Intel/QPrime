{
 "cells": [
  {
   "cell_type": "code",
   "execution_count": 1,
   "metadata": {},
   "outputs": [],
   "source": [
    "import numpy as np\n",
    "from qiskit import *\n",
    "import random\n",
    "import time\n",
    "from numpy import log as ln\n",
    "import warnings\n",
    "warnings.filterwarnings('ignore', module = 'qiskit')\n",
    "# warnings.filterwarnings(action='once')\n",
    "\n",
    "from qiskit.algorithms.optimizers import ADAM, AQGD, COBYLA, SPSA, TNC, CG, L_BFGS_B, GSLS, NELDER_MEAD, NFT, P_BFGS, POWELL, SLSQP\n",
    "from qiskit.opflow.gradients import Gradient, NaturalGradient, QFI\n",
    "from qiskit.opflow import CircuitStateFn, StateFn, I, X, Y, Z, H, CX, Zero, One, OperatorBase\n",
    "\n",
    "from itertools import combinations as cm"
   ]
  },
  {
   "cell_type": "code",
   "execution_count": 2,
   "metadata": {},
   "outputs": [],
   "source": [
    "# Generate Primes as an array\n",
    "primes = [2,3,5]#,7,11,17,19,,31,37]\n",
    "primes = primes[::-1]\n",
    "\n",
    "combinations = list(cm(range(len(primes)), 2))"
   ]
  },
  {
   "cell_type": "code",
   "execution_count": 3,
   "metadata": {},
   "outputs": [],
   "source": [
    "def generate_ZZcircuit(params, primes, assigned=True):\n",
    "    cir = QuantumCircuit(len(primes))\n",
    "    layers = int(len(params)/((2 * len(primes)) + len(combinations)))\n",
    "    thetas = [qiskit.circuit.Parameter(str(i)) for i in range(layers * ((2 * len(primes)) + len(combinations)))]\n",
    "    thetas_reshape = np.reshape(np.asarray(thetas),(layers, ((2 * len(primes)) + len(combinations))))\n",
    "    params = np.reshape(np.asarray(params),(layers, ((2 * len(primes)) + len(combinations))))\n",
    "    combs = list(cm(range(len(primes)), 2))\n",
    "    cir.h(range(len(primes)))\n",
    "    \n",
    "    for m in range(layers):\n",
    "        l = len(params[m])\n",
    "        g = thetas_reshape[m][0: len(primes)]\n",
    "        g_prime = [ln(2)*ln(30), ln(3)*ln(30),ln(5)*ln(30)]\n",
    "        a = thetas_reshape[m][len(primes): (len(primes) + len(combs))]\n",
    "        a_prime = [ln(2)*ln(3), ln(2)*ln(5), ln(3)*ln(5)]\n",
    "        b = thetas_reshape[m][(len(primes) + len(combs)) : l]\n",
    "        \n",
    "        for h in range(len(primes)):\n",
    "            cir.rz(g_prime[h]*g[h], h)\n",
    "        \n",
    "        i = 0\n",
    "        for j, k in combs:\n",
    "            cir.rzz(a_prime[i]*a[i], j, k)\n",
    "            i += 1\n",
    "        for l in range(len(primes)):\n",
    "            cir.rx(b[l], l)\n",
    "            \n",
    "    if assigned == True:\n",
    "        thetas_reshape = thetas_reshape.flatten()\n",
    "        params = params.flatten()\n",
    "        p_dict = {thetas_reshape[i] : params[i] for i in range(len(thetas))}\n",
    "        cir.assign_parameters(p_dict, inplace=True)\n",
    "    cir.measure_all()\n",
    "    \n",
    "    return cir, thetas"
   ]
  },
  {
   "cell_type": "code",
   "execution_count": 4,
   "metadata": {},
   "outputs": [
    {
     "name": "stdout",
     "output_type": "stream",
     "text": [
      "[2.903684131568895, 2.721877095499787, 2.595584074622988, 1.4446744596259582, 2.690955957117111, 0.5750774481712586, 0.37237752074972286, 1.9016600868748115, 2.4727427832247724]\n"
     ]
    },
    {
     "data": {
      "image/png": "[encoded data removed]",
      "text/plain": [
       "<Figure size 1441.28x264.88 with 1 Axes>"
      ]
     },
     "execution_count": 4,
     "metadata": {},
     "output_type": "execute_result"
    }
   ],
   "source": [
    "hyperparam = [random.uniform(0,np.pi) for _ in range(1 * ((2 * len(primes)) + len(combinations)))]\n",
    "print(hyperparam)\n",
    "cir, free_params = generate_ZZcircuit(hyperparam, primes, assigned=False)\n",
    "cir.draw('mpl')"
   ]
  },
  {
   "cell_type": "code",
   "execution_count": 5,
   "metadata": {},
   "outputs": [],
   "source": [
    "def obj_function(counts, n, penalty):\n",
    "    max_c = 0\n",
    "    max_bit = \"\"\n",
    "    for c in counts:\n",
    "        if counts[c] >= max_c:\n",
    "            max_c =  counts[c]\n",
    "            max_bit = c\n",
    "    comp_primes = 1\n",
    "    for i in range(len(max_bit)):\n",
    "        comp_primes *= primes[i]**int(max_bit[i])\n",
    "    p = 0\n",
    "    if penalty == 1:\n",
    "        if abs(comp_primes-n) > n:\n",
    "            p += comp_primes\n",
    "    return abs((n - comp_primes) + p)"
   ]
  },
  {
   "cell_type": "code",
   "execution_count": 6,
   "metadata": {},
   "outputs": [],
   "source": [
    "def gen_f(n):\n",
    "    \n",
    "    def f(theta):\n",
    "        qc, free_params = generate_ZZcircuit(theta, primes)\n",
    "        back = Aer.get_backend('aer_simulator')\n",
    "        back.set_options(device='GPU')\n",
    "        job_sim = execute(qc, backend = back, shots = 2048).result()\n",
    "        counts = job_sim.get_counts(qc)\n",
    "        \n",
    "        return obj_function(counts, n, 1)\n",
    "\n",
    "    return f"
   ]
  },
  {
   "cell_type": "code",
   "execution_count": 7,
   "metadata": {},
   "outputs": [],
   "source": [
    "def X_generator(primes, identity):\n",
    "    #Generate X value for hamiltonian\n",
    "    constant = 0\n",
    "\n",
    "    for i in range(len(primes)):\n",
    "        #Build Constant value iteratively\n",
    "        constant += ln(primes[i])\n",
    "        \n",
    "        if i == 0:\n",
    "            z_value = Z\n",
    "        else:\n",
    "            z_value = I\n",
    "        #Build rest of X\n",
    "        for j in range(1, len(primes)):\n",
    "            if j == i:\n",
    "                z_value = z_value ^ Z\n",
    "            else:\n",
    "                z_value = z_value ^ I\n",
    "        if i == 0:\n",
    "            x = -ln(primes[i]) * z_value\n",
    "        else:\n",
    "            x -= ln(primes[i]) * z_value\n",
    "    #Combine Both to form X\n",
    "    x += constant * identity\n",
    "    \n",
    "    return x\n",
    "\n",
    "def hamiltonian(n, primes):\n",
    "    #Generate Hamitonian according to number of primes\n",
    "    identity = I\n",
    "    \n",
    "    for i in range(len(primes) - 1):\n",
    "        identity = identity ^ I\n",
    "        \n",
    "    x = X_generator(primes, identity)\n",
    "    \n",
    "    lnn = float(ln(n))\n",
    "    \n",
    "    h = ((lnn**2) * identity) - (lnn * x) + (1 / 4 * (x ** 2))\n",
    "    \n",
    "    return h"
   ]
  },
  {
   "cell_type": "code",
   "execution_count": 8,
   "metadata": {},
   "outputs": [
    {
     "name": "stdout",
     "output_type": "stream",
     "text": [
      "[[ 2.59029039e+00+0.j  0.00000000e+00+0.j  0.00000000e+00+0.j\n",
      "   0.00000000e+00+0.j  0.00000000e+00+0.j  0.00000000e+00+0.j\n",
      "   0.00000000e+00+0.j  0.00000000e+00+0.j]\n",
      " [ 0.00000000e+00+0.j  8.39588705e-01+0.j  0.00000000e+00+0.j\n",
      "   0.00000000e+00+0.j  0.00000000e+00+0.j  0.00000000e+00+0.j\n",
      "   0.00000000e+00+0.j  0.00000000e+00+0.j]\n",
      " [ 0.00000000e+00+0.j  0.00000000e+00+0.j  2.60942818e-01+0.j\n",
      "   0.00000000e+00+0.j  0.00000000e+00+0.j  0.00000000e+00+0.j\n",
      "   0.00000000e+00+0.j  0.00000000e+00+0.j]\n",
      " [ 0.00000000e+00+0.j  0.00000000e+00+0.j  0.00000000e+00+0.j\n",
      "   3.32411501e-02+0.j  0.00000000e+00+0.j  0.00000000e+00+0.j\n",
      "   0.00000000e+00+0.j  0.00000000e+00+0.j]\n",
      " [ 0.00000000e+00+0.j  0.00000000e+00+0.j  0.00000000e+00+0.j\n",
      "   0.00000000e+00+0.j -4.44089210e-16+0.j  0.00000000e+00+0.j\n",
      "   0.00000000e+00+0.j  0.00000000e+00+0.j]\n",
      " [ 0.00000000e+00+0.j  0.00000000e+00+0.j  0.00000000e+00+0.j\n",
      "   0.00000000e+00+0.j  0.00000000e+00+0.j  4.80453014e-01+0.j\n",
      "   0.00000000e+00+0.j  0.00000000e+00+0.j]\n",
      " [ 0.00000000e+00+0.j  0.00000000e+00+0.j  0.00000000e+00+0.j\n",
      "   0.00000000e+00+0.j  0.00000000e+00+0.j  0.00000000e+00+0.j\n",
      "   1.20694896e+00+0.j  0.00000000e+00+0.j]\n",
      " [ 0.00000000e+00+0.j  0.00000000e+00+0.j  0.00000000e+00+0.j\n",
      "   0.00000000e+00+0.j  0.00000000e+00+0.j  0.00000000e+00+0.j\n",
      "   0.00000000e+00+0.j  3.21040200e+00+0.j]]\n"
     ]
    }
   ],
   "source": [
    "h_value = hamiltonian(5, primes)\n",
    "print(h_value.to_matrix())"
   ]
  },
  {
   "cell_type": "code",
   "execution_count": 9,
   "metadata": {},
   "outputs": [],
   "source": [
    " def _convert_to_gradient_function(gradient_object, layers, n):\n",
    "\n",
    "        def gradient_function(current_point):\n",
    "\n",
    "            cir, free_params = generate_ZZcircuit(current_point, primes, assigned=False)\n",
    "            cir.remove_final_measurements()\n",
    "            c = hamiltonian(n, primes)\n",
    "            op = ~StateFn(c) @ CircuitStateFn(primitive=cir, coeff=1.)\n",
    "            grad_object = gradient_object.convert(operator=op, params=free_params)\n",
    "            value_dict = {free_params[i]: current_point[i] for i in range(len(free_params))}\n",
    "            x = grad_object.assign_parameters(value_dict).eval()\n",
    "#             print(x)\n",
    "#             analytical_gradients = np.array(x)# Change this part\n",
    "            return np.real(x)\n",
    "        \n",
    "        return gradient_function"
   ]
  },
  {
   "cell_type": "code",
   "execution_count": 10,
   "metadata": {},
   "outputs": [
    {
     "name": "stdout",
     "output_type": "stream",
     "text": [
      "100\n",
      "100\n",
      "100\n",
      "100\n",
      "100\n",
      "100\n",
      "100\n",
      "100\n",
      "100\n",
      "100\n",
      "300\n",
      "300\n",
      "300\n",
      "300\n",
      "300\n",
      "300\n",
      "300\n",
      "300\n",
      "300\n",
      "300\n",
      "500\n",
      "500\n",
      "500\n",
      "500\n",
      "500\n",
      "500\n",
      "500\n",
      "500\n",
      "500\n",
      "500\n",
      "700\n",
      "700\n",
      "700\n",
      "700\n",
      "700\n",
      "700\n",
      "700\n",
      "700\n",
      "700\n",
      "700\n",
      "900\n",
      "900\n",
      "900\n",
      "900\n",
      "900\n",
      "900\n",
      "900\n",
      "900\n",
      "900\n",
      "900\n",
      "1000\n",
      "1000\n",
      "1000\n",
      "1000\n",
      "1000\n",
      "1000\n",
      "1000\n",
      "1000\n",
      "1000\n",
      "1000\n",
      "2000\n",
      "2000\n",
      "2000\n",
      "2000\n",
      "2000\n",
      "2000\n",
      "2000\n",
      "2000\n",
      "2000\n",
      "2000\n"
     ]
    }
   ],
   "source": [
    "def run(optimizer, layers, func, gradient_function, n):\n",
    "    g_f = _convert_to_gradient_function(gradient_function, layers, n)\n",
    "    theta = [random.uniform(0, 2 * np.pi) for _ in range(layers * ((2 * len(primes)) + len(combinations)))]\n",
    "    theta, loss, _ = optimizer.optimize(\n",
    "                num_vars=len(theta),\n",
    "                objective_function=func,\n",
    "                initial_point=theta,\n",
    "                gradient_function=g_f\n",
    "                )\n",
    "    return loss\n",
    "\n",
    "import math\n",
    "mom = []\n",
    "itr = []\n",
    "et = []\n",
    "for i in range(100):\n",
    "    mom.append(abs(0.5 * (100-i) / 100))\n",
    "    et.append(abs(0.5 *(100-i) / 100))\n",
    "    itr.append(i)\n",
    "\n",
    "gradient_types = ['param_shift'] #['', 'param_shift', 'lin_comb', 'fin_diff']\n",
    "op_types = [100, 300, 500, 700, 900, 1000, 2000]#AQGD(maxiter = 500, momentum=0.02)]#, COBYLA(maxiter = 100), TNC(maxiter = 100), CG(maxiter = 100), GSLS(maxiter = 100), NELDER_MEAD(maxiter = 100)]#, NFT(maxiter = 500)]#, P_BFGS(maxfun = 500), POWELL(maxiter = 500), SLSQP(maxiter = 500)]\n",
    "loss_list = []\n",
    "for n in range(12, 13):\n",
    "    fun = gen_f(n) \n",
    "    grad = Gradient(grad_method=\"param_shift\")\n",
    "    n_list=[]\n",
    "    for e in op_types:\n",
    "        temp = []\n",
    "        for _ in range(10):\n",
    "            print(e)\n",
    "            opt = TNC(maxiter=e)\n",
    "            loss = run(opt, 1, fun, grad, n)\n",
    "            temp.append(loss)\n",
    "        n_list.append(temp)\n",
    "    loss_list.append(n_list)\n",
    "# for i in range(2, 16):\n",
    "#     print(\"Current n = \", i)\n",
    "#     fun = gen_f(i)\n",
    "#     n_list = []\n",
    "#     for j in range(1,2):\n",
    "#         print(\"Current layer = \", j)\n",
    "#         layer_list = []\n",
    "#         for k in range(len(op_types)):\n",
    "#             print(\"Current opt = \", k)\n",
    "#             opt = op_types[k]\n",
    "#             grad_list = []\n",
    "#             for g in range(len(gradient_types)):\n",
    "#                 print(\"Current Gradient = \", gradient_types[g] )\n",
    "# #                 if g == 0:\n",
    "# #                     grad = Gradient()\n",
    "# #                 else:\n",
    "#                 grad = Gradient(grad_method=gradient_types[g])\n",
    "#                 samples = []\n",
    "#                 for _ in range(10):\n",
    "#                     start = time.perf_counter()\n",
    "#                     loss = run(opt,  j, fun, grad, i)\n",
    "#                     end = time.perf_counter()\n",
    "#                     samples.append((loss, end - start))\n",
    "#                 grad_list.append(samples)\n",
    "#             layer_list.append(grad_list)\n",
    "#         n_list.append(layer_list)\n",
    "#     loss_list.append(n_list)"
   ]
  },
  {
   "cell_type": "code",
   "execution_count": 11,
   "metadata": {},
   "outputs": [
    {
     "name": "stdout",
     "output_type": "stream",
     "text": [
      "[[[2, 2, 2, 12, 2, 6, 3, 6, 2, 9], [2, 10, 3, 9, 2, 9, 2, 2, 2, 12], [2, 6, 7, 2, 9, 2, 6, 2, 6, 3], [6, 2, 6, 3, 2, 6, 2, 2, 3, 6], [7, 7, 2, 2, 3, 2, 6, 6, 6, 2], [3, 2, 9, 3, 6, 2, 2, 2, 2, 3], [2, 9, 9, 9, 6, 2, 3, 6, 6, 2]]]\n"
     ]
    }
   ],
   "source": [
    "print(loss_list)"
   ]
  },
  {
   "cell_type": "code",
   "execution_count": 12,
   "metadata": {},
   "outputs": [
    {
     "data": {
      "text/plain": [
       "(1, 7, 10)"
      ]
     },
     "execution_count": 12,
     "metadata": {},
     "output_type": "execute_result"
    }
   ],
   "source": [
    "ll = np.asarray(loss_list)\n",
    "ll.shape"
   ]
  },
  {
   "cell_type": "code",
   "execution_count": 13,
   "metadata": {},
   "outputs": [],
   "source": [
    "np.save(\"Test_opt_TNC_maxiter_12\", ll,)"
   ]
  }
 ],
 "metadata": {
  "kernelspec": {
   "display_name": "Python 3",
   "language": "python",
   "name": "python3"
  },
  "language_info": {
   "codemirror_mode": {
    "name": "ipython",
    "version": 3
   },
   "file_extension": ".py",
   "mimetype": "text/x-python",
   "name": "python",
   "nbconvert_exporter": "python",
   "pygments_lexer": "ipython3",
   "version": "3.8.5"
  }
 },
 "nbformat": 4,
 "nbformat_minor": 4
}
