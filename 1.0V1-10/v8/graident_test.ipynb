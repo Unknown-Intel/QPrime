{
 "cells": [
  {
   "cell_type": "code",
   "execution_count": 1,
   "metadata": {},
   "outputs": [
    {
     "name": "stdout",
     "output_type": "stream",
     "text": [
      "[-6.67818722e-03 -2.17344856e-03 -2.97136398e-02  2.61404574e-02\n",
      "  2.10470013e-02  8.30680774e-05  1.63682892e-03  4.82081527e-03\n",
      "  4.44481864e-04] [-0.00689205 -0.00240294 -0.02969111  0.02629633  0.02104386  0.00023246\n",
      "  0.00160195  0.00481963  0.00044908]\n"
     ]
    }
   ],
   "source": [
    "import numpy as np\n",
    "\n",
    "g_java = np.load(\"gradient_java.npy\")\n",
    "g_py = np.load(\"gradient_python.npy\")\n",
    "print(g_java, g_py)"
   ]
  },
  {
   "cell_type": "code",
   "execution_count": null,
   "metadata": {},
   "outputs": [],
   "source": []
  },
  {
   "cell_type": "code",
   "execution_count": null,
   "metadata": {},
   "outputs": [],
   "source": []
  }
 ],
 "metadata": {
  "kernelspec": {
   "display_name": "Python 3",
   "language": "python",
   "name": "python3"
  },
  "language_info": {
   "codemirror_mode": {
    "name": "ipython",
    "version": 3
   },
   "file_extension": ".py",
   "mimetype": "text/x-python",
   "name": "python",
   "nbconvert_exporter": "python",
   "pygments_lexer": "ipython3",
   "version": "3.8.5"
  }
 },
 "nbformat": 4,
 "nbformat_minor": 4
}
