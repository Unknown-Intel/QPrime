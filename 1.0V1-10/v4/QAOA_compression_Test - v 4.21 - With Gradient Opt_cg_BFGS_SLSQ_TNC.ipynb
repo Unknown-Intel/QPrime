{
 "cells": [
  {
   "cell_type": "code",
   "execution_count": 1,
   "metadata": {},
   "outputs": [],
   "source": [
    "import numpy as np\n",
    "from qiskit import *\n",
    "import random\n",
    "import time\n",
    "from numpy import log as ln\n",
    "import warnings\n",
    "warnings.filterwarnings('ignore', module = 'qiskit')\n",
    "# warnings.filterwarnings(action='once')\n",
    "\n",
    "from qiskit.algorithms.optimizers import ADAM, AQGD, COBYLA, SPSA, TNC, CG, L_BFGS_B, GSLS, NELDER_MEAD, NFT, P_BFGS, POWELL, SLSQP\n",
    "from qiskit.opflow.gradients import Gradient, NaturalGradient, QFI\n",
    "from qiskit.opflow import CircuitStateFn, StateFn, I, X, Y, Z, H, CX, Zero, One, OperatorBase\n",
    "\n",
    "from itertools import combinations as cm"
   ]
  },
  {
   "cell_type": "code",
   "execution_count": 2,
   "metadata": {},
   "outputs": [],
   "source": [
    "# Generate Primes as an array\n",
    "primes = [2,3,5]#,7,11,17,19,,31,37]\n",
    "primes = primes[::-1]\n",
    "\n",
    "combinations = list(cm(range(len(primes)), 2))"
   ]
  },
  {
   "cell_type": "code",
   "execution_count": 3,
   "metadata": {},
   "outputs": [],
   "source": [
    "def generate_ZZcircuit(params, primes, assigned=True):\n",
    "    cir = QuantumCircuit(len(primes))\n",
    "    layers = int(len(params)/((2 * len(primes)) + len(combinations)))\n",
    "    thetas = [qiskit.circuit.Parameter(str(i)) for i in range(layers * ((2 * len(primes)) + len(combinations)))]\n",
    "    thetas_reshape = np.reshape(np.asarray(thetas),(layers, ((2 * len(primes)) + len(combinations))))\n",
    "    params = np.reshape(np.asarray(params),(layers, ((2 * len(primes)) + len(combinations))))\n",
    "    combs = list(cm(range(len(primes)), 2))\n",
    "#     cir.h(range(len(primes)))\n",
    "    \n",
    "    for m in range(layers):\n",
    "        l = len(params[m])\n",
    "        g = thetas_reshape[m][0: len(primes)]\n",
    "#         g_prime = [ln(2)*ln(30), ln(3)*ln(30),ln(5)*ln(30)]\n",
    "        a = thetas_reshape[m][len(primes): (len(primes) + len(combs))]\n",
    "#         a_prime = [ln(2)*ln(3), ln(2)*ln(5), ln(3)*ln(5)]\n",
    "        b = thetas_reshape[m][(len(primes) + len(combs)) : l]\n",
    "        \n",
    "        for h in range(len(primes)):\n",
    "            cir.rz(g[h], h)\n",
    "        \n",
    "        i = 0\n",
    "        for j, k in combs:\n",
    "            cir.rzz(a[i], j, k)\n",
    "            i += 1\n",
    "        for l in range(len(primes)):\n",
    "            cir.rx(b[l], l)\n",
    "            \n",
    "    if assigned == True:\n",
    "        thetas_reshape = thetas_reshape.flatten()\n",
    "        params = params.flatten()\n",
    "        p_dict = {thetas_reshape[i] : params[i] for i in range(len(thetas))}\n",
    "        cir.assign_parameters(p_dict, inplace=True)\n",
    "    cir.measure_all()\n",
    "    \n",
    "    return cir, thetas"
   ]
  },
  {
   "cell_type": "code",
   "execution_count": 4,
   "metadata": {},
   "outputs": [
    {
     "name": "stdout",
     "output_type": "stream",
     "text": [
      "[0.8180639865742396, 2.8891932659689665, 0.4008489246689343, 0.8732943977004315, 0.8442262561530379, 1.3270918877254168, 2.3794739088170775, 2.537637783919531, 2.44427729175317]\n"
     ]
    },
    {
     "data": {
      "image/png": "[encoded data removed]",
      "text/plain": [
       "<Figure size 658.679x264.88 with 1 Axes>"
      ]
     },
     "execution_count": 4,
     "metadata": {},
     "output_type": "execute_result"
    }
   ],
   "source": [
    "hyperparam = [random.uniform(0,np.pi) for _ in range(1 * ((2 * len(primes)) + len(combinations)))]\n",
    "print(hyperparam)\n",
    "cir, free_params = generate_ZZcircuit(hyperparam, primes, assigned=False)\n",
    "cir.draw('mpl')"
   ]
  },
  {
   "cell_type": "code",
   "execution_count": 5,
   "metadata": {},
   "outputs": [],
   "source": [
    "def obj_function(counts, n, penalty):\n",
    "    max_c = 0\n",
    "    max_bit = \"\"\n",
    "    for c in counts:\n",
    "        if counts[c] >= max_c:\n",
    "            max_c =  counts[c]\n",
    "            max_bit = c\n",
    "    comp_primes = 1\n",
    "    for i in range(len(max_bit)):\n",
    "        comp_primes *= primes[i]**int(max_bit[i])\n",
    "    p = 0\n",
    "    if penalty == 1:\n",
    "        if abs(comp_primes-n) > n:\n",
    "            p += comp_primes**2 \n",
    "#         return (n - comp_primes)**2\n",
    "#     print(comp_primes, n-comp_primes, p)\n",
    "    return (n - comp_primes) + p"
   ]
  },
  {
   "cell_type": "code",
   "execution_count": 6,
   "metadata": {},
   "outputs": [],
   "source": [
    "def gen_f(n):\n",
    "    \n",
    "    def f(theta):\n",
    "        qc, free_params = generate_ZZcircuit(theta, primes)\n",
    "        back = Aer.get_backend('aer_simulator')\n",
    "        back.set_options(device='GPU')\n",
    "        job_sim = execute(qc, backend = back, shots = 2048).result()\n",
    "        counts = job_sim.get_counts(qc)\n",
    "        \n",
    "        return obj_function(counts, n, 1)\n",
    "\n",
    "    return f"
   ]
  },
  {
   "cell_type": "code",
   "execution_count": 7,
   "metadata": {},
   "outputs": [],
   "source": [
    "def X_generator(primes, identity):\n",
    "    #Generate X value for hamiltonian\n",
    "    constant = 0\n",
    "\n",
    "    for i in range(len(primes)):\n",
    "        #Build Constant value iteratively\n",
    "        constant += ln(primes[i])\n",
    "        \n",
    "        if i == 0:\n",
    "            z_value = Z\n",
    "        else:\n",
    "            z_value = I\n",
    "        #Build rest of X\n",
    "        for j in range(1, len(primes)):\n",
    "            if j == i:\n",
    "                z_value = z_value ^ Z\n",
    "            else:\n",
    "                z_value = z_value ^ I\n",
    "        if i == 0:\n",
    "            x = -ln(primes[i]) * z_value\n",
    "        else:\n",
    "            x -= ln(primes[i]) * z_value\n",
    "    #Combine Both to form X\n",
    "    x += constant * identity\n",
    "    \n",
    "    return x\n",
    "\n",
    "def hamiltonian(n, primes):\n",
    "    #Generate Hamitonian according to number of primes\n",
    "    identity = I\n",
    "    \n",
    "    for i in range(len(primes) - 1):\n",
    "        identity = identity ^ I\n",
    "        \n",
    "    x = X_generator(primes, identity)\n",
    "    \n",
    "    lnn = float(ln(n))\n",
    "    \n",
    "    h = ((lnn**2) * identity) - (lnn * x) + (1 / 4 * (x ** 2))\n",
    "    \n",
    "    return h"
   ]
  },
  {
   "cell_type": "code",
   "execution_count": 8,
   "metadata": {},
   "outputs": [
    {
     "name": "stdout",
     "output_type": "stream",
     "text": [
      "[[ 2.59029039e+00+0.j  0.00000000e+00+0.j  0.00000000e+00+0.j\n",
      "   0.00000000e+00+0.j  0.00000000e+00+0.j  0.00000000e+00+0.j\n",
      "   0.00000000e+00+0.j  0.00000000e+00+0.j]\n",
      " [ 0.00000000e+00+0.j  8.39588705e-01+0.j  0.00000000e+00+0.j\n",
      "   0.00000000e+00+0.j  0.00000000e+00+0.j  0.00000000e+00+0.j\n",
      "   0.00000000e+00+0.j  0.00000000e+00+0.j]\n",
      " [ 0.00000000e+00+0.j  0.00000000e+00+0.j  2.60942818e-01+0.j\n",
      "   0.00000000e+00+0.j  0.00000000e+00+0.j  0.00000000e+00+0.j\n",
      "   0.00000000e+00+0.j  0.00000000e+00+0.j]\n",
      " [ 0.00000000e+00+0.j  0.00000000e+00+0.j  0.00000000e+00+0.j\n",
      "   3.32411501e-02+0.j  0.00000000e+00+0.j  0.00000000e+00+0.j\n",
      "   0.00000000e+00+0.j  0.00000000e+00+0.j]\n",
      " [ 0.00000000e+00+0.j  0.00000000e+00+0.j  0.00000000e+00+0.j\n",
      "   0.00000000e+00+0.j -4.44089210e-16+0.j  0.00000000e+00+0.j\n",
      "   0.00000000e+00+0.j  0.00000000e+00+0.j]\n",
      " [ 0.00000000e+00+0.j  0.00000000e+00+0.j  0.00000000e+00+0.j\n",
      "   0.00000000e+00+0.j  0.00000000e+00+0.j  4.80453014e-01+0.j\n",
      "   0.00000000e+00+0.j  0.00000000e+00+0.j]\n",
      " [ 0.00000000e+00+0.j  0.00000000e+00+0.j  0.00000000e+00+0.j\n",
      "   0.00000000e+00+0.j  0.00000000e+00+0.j  0.00000000e+00+0.j\n",
      "   1.20694896e+00+0.j  0.00000000e+00+0.j]\n",
      " [ 0.00000000e+00+0.j  0.00000000e+00+0.j  0.00000000e+00+0.j\n",
      "   0.00000000e+00+0.j  0.00000000e+00+0.j  0.00000000e+00+0.j\n",
      "   0.00000000e+00+0.j  3.21040200e+00+0.j]]\n"
     ]
    }
   ],
   "source": [
    "h_value = hamiltonian(5, primes)\n",
    "print(h_value.to_matrix())"
   ]
  },
  {
   "cell_type": "code",
   "execution_count": 9,
   "metadata": {},
   "outputs": [],
   "source": [
    " def _convert_to_gradient_function(gradient_object, layers, n):\n",
    "\n",
    "        def gradient_function(current_point):\n",
    "\n",
    "            cir, free_params = generate_ZZcircuit(current_point, primes, assigned=False)\n",
    "            cir.remove_final_measurements()\n",
    "            c = hamiltonian(n, primes)\n",
    "            op = ~StateFn(c) @ CircuitStateFn(primitive=cir, coeff=1.)\n",
    "            grad_object = gradient_object.convert(operator=op, params=free_params)\n",
    "            value_dict = {free_params[i]: current_point[i] for i in range(len(free_params))}\n",
    "            x = grad_object.assign_parameters(value_dict).eval()\n",
    "#             print(x)\n",
    "#             analytical_gradients = np.array(x)# Change this part\n",
    "            return np.real(x)\n",
    "        \n",
    "        return gradient_function"
   ]
  },
  {
   "cell_type": "code",
   "execution_count": 10,
   "metadata": {},
   "outputs": [
    {
     "name": "stdout",
     "output_type": "stream",
     "text": [
      "Current n =  2\n",
      "Current layer =  1\n",
      "Current opt =  0\n",
      "Current Gradient =  param_shift\n",
      "Current opt =  1\n",
      "Current Gradient =  param_shift\n",
      "Current opt =  2\n",
      "Current Gradient =  param_shift\n",
      "Current n =  3\n",
      "Current layer =  1\n",
      "Current opt =  0\n",
      "Current Gradient =  param_shift\n",
      "Current opt =  1\n",
      "Current Gradient =  param_shift\n",
      "Current opt =  2\n",
      "Current Gradient =  param_shift\n",
      "Current n =  4\n",
      "Current layer =  1\n",
      "Current opt =  0\n",
      "Current Gradient =  param_shift\n",
      "Current opt =  1\n",
      "Current Gradient =  param_shift\n",
      "Current opt =  2\n",
      "Current Gradient =  param_shift\n",
      "Current n =  5\n",
      "Current layer =  1\n",
      "Current opt =  0\n",
      "Current Gradient =  param_shift\n",
      "Current opt =  1\n",
      "Current Gradient =  param_shift\n",
      "Current opt =  2\n",
      "Current Gradient =  param_shift\n",
      "Current n =  6\n",
      "Current layer =  1\n",
      "Current opt =  0\n",
      "Current Gradient =  param_shift\n",
      "Current opt =  1\n",
      "Current Gradient =  param_shift\n",
      "Current opt =  2\n",
      "Current Gradient =  param_shift\n",
      "Current n =  7\n",
      "Current layer =  1\n",
      "Current opt =  0\n",
      "Current Gradient =  param_shift\n",
      "Current opt =  1\n",
      "Current Gradient =  param_shift\n",
      "Current opt =  2\n",
      "Current Gradient =  param_shift\n",
      "Current n =  8\n",
      "Current layer =  1\n",
      "Current opt =  0\n",
      "Current Gradient =  param_shift\n",
      "Current opt =  1\n",
      "Current Gradient =  param_shift\n",
      "Current opt =  2\n",
      "Current Gradient =  param_shift\n",
      "Current n =  9\n",
      "Current layer =  1\n",
      "Current opt =  0\n",
      "Current Gradient =  param_shift\n",
      "Current opt =  1\n",
      "Current Gradient =  param_shift\n",
      "Current opt =  2\n",
      "Current Gradient =  param_shift\n",
      "Current n =  10\n",
      "Current layer =  1\n",
      "Current opt =  0\n",
      "Current Gradient =  param_shift\n",
      "Current opt =  1\n",
      "Current Gradient =  param_shift\n",
      "Current opt =  2\n",
      "Current Gradient =  param_shift\n",
      "Current n =  11\n",
      "Current layer =  1\n",
      "Current opt =  0\n",
      "Current Gradient =  param_shift\n",
      "Current opt =  1\n",
      "Current Gradient =  param_shift\n",
      "Current opt =  2\n",
      "Current Gradient =  param_shift\n",
      "Current n =  12\n",
      "Current layer =  1\n",
      "Current opt =  0\n",
      "Current Gradient =  param_shift\n",
      "Current opt =  1\n",
      "Current Gradient =  param_shift\n",
      "Current opt =  2\n",
      "Current Gradient =  param_shift\n",
      "Current n =  13\n",
      "Current layer =  1\n",
      "Current opt =  0\n",
      "Current Gradient =  param_shift\n",
      "Current opt =  1\n",
      "Current Gradient =  param_shift\n",
      "Current opt =  2\n",
      "Current Gradient =  param_shift\n",
      "Current n =  14\n",
      "Current layer =  1\n",
      "Current opt =  0\n",
      "Current Gradient =  param_shift\n",
      "Current opt =  1\n",
      "Current Gradient =  param_shift\n",
      "Current opt =  2\n",
      "Current Gradient =  param_shift\n",
      "Current n =  15\n",
      "Current layer =  1\n",
      "Current opt =  0\n",
      "Current Gradient =  param_shift\n",
      "Current opt =  1\n",
      "Current Gradient =  param_shift\n",
      "Current opt =  2\n",
      "Current Gradient =  param_shift\n"
     ]
    }
   ],
   "source": [
    "def run(optimizer, layers, func, gradient_function, n):\n",
    "    g_f = _convert_to_gradient_function(gradient_function, layers, n)\n",
    "    theta = [random.uniform(0, 2 * np.pi) for _ in range(layers * ((2 * len(primes)) + len(combinations)))]\n",
    "    theta, loss, _ = optimizer.optimize(\n",
    "                num_vars=len(theta),\n",
    "                objective_function=func,\n",
    "                initial_point=theta,\n",
    "                gradient_function=g_f\n",
    "                )\n",
    "    return loss\n",
    "\n",
    "gradient_types = ['param_shift'] #['', 'param_shift', 'lin_comb', 'fin_diff']\n",
    "op_types = [TNC(maxiter = 100), CG(maxiter = 100), SLSQP(maxiter = 100)]#AQGD(maxiter = 500, momentum=0.02)]#, COBYLA(maxiter = 100), TNC(maxiter = 100), CG(maxiter = 100), GSLS(maxiter = 100), NELDER_MEAD(maxiter = 100)]#, NFT(maxiter = 500)]#, P_BFGS(maxfun = 500), POWELL(maxiter = 500), SLSQP(maxiter = 500)]\n",
    "loss_list = []\n",
    "\n",
    "\n",
    "for i in range(2, 16):\n",
    "    print(\"Current n = \", i)\n",
    "    fun = gen_f(i)\n",
    "    n_list = []\n",
    "    for j in range(1, 2):\n",
    "        print(\"Current layer = \", j)\n",
    "        layer_list = []\n",
    "        for k in range(len(op_types)):\n",
    "            print(\"Current opt = \", k)\n",
    "            opt = op_types[k]\n",
    "            grad_list = []\n",
    "            for g in range(len(gradient_types)):\n",
    "                print(\"Current Gradient = \", gradient_types[g] )\n",
    "#                 if g == 0:\n",
    "#                     grad = Gradient()\n",
    "#                 else:\n",
    "                grad = Gradient(grad_method=gradient_types[g])\n",
    "                samples = []\n",
    "                for _ in range(10):\n",
    "                    start = time.perf_counter()\n",
    "                    loss = run(opt,  j, fun, grad, i)\n",
    "                    end = time.perf_counter()\n",
    "                    samples.append((loss, end - start))\n",
    "                grad_list.append(samples)\n",
    "            layer_list.append(grad_list)\n",
    "        n_list.append(layer_list)\n",
    "    loss_list.append(n_list)"
   ]
  },
  {
   "cell_type": "code",
   "execution_count": 11,
   "metadata": {},
   "outputs": [
    {
     "name": "stdout",
     "output_type": "stream",
     "text": [
      "[[[[[(1, 80.82132421599817), (1, 85.07200281199766), (1, 78.99430888899951), (32, 83.26265648301342), (0, 88.37671693001175), (92, 77.25666548300069), (0, 88.3413551900012), (-1, 89.80288852099329), (0, 84.48611178298597), (1, 102.76509989402257)]], [[(0, 41.93809269700432), (1, 44.48875596700236), (32, 43.346431069017854), (0, 42.52465561000281), (0, 42.73418970400235), (-1, 59.292497068003286), (22.0, 63.73827780401916), (92, 67.12780401899363), (0.0, 51.4383232909895), (32, 45.10176207401673)]], [[(1, 3.4850617310148664), (1, 1.9297687340003904), (22, 2.000649950990919), (0, 3.5821228759887163), (22, 1.8849265079770703), (0, 1.926466380013153), (1, 3.486800225015031), (32, 1.8637668460141867), (1, 3.560356582980603), (22, 1.8864738139964174)]]]], [[[[(0, 87.38118082500296), (-3, 126.61186246701982), (1, 97.25424097001087), (-2, 87.32385068701115), (-2, 86.78864842100302), (1, 90.33966550600599), (-3, 97.98044652599492), (-2, 94.86420016401098), (0, 91.18453803699231), (-2, 84.9701924569963)]], [[(0.0, 48.87245806801366), (-3, 66.07814506799332), (1.0, 30.411766400997294), (-2, 58.438960471976316), (1, 44.39769398700446), (0, 39.541400230984436), (0, 41.36708612801158), (-2, 44.54342000401812), (0.0, 42.98160808600369), (93, 13.054002115997719)]], [[(1, 1.975087202998111), (-2, 2.0276781329885125), (-3, 1.9800108569907025), (-3, 1.9779767819854897), (2, 2.0424550610187), (2, 1.9913359590282198), (-3, 1.986329120991286), (2, 3.5981854810088407), (0, 1.9947188450023532), (-3, 1.9960577779856976)]]]], [[[[(-2, 85.08248576099868), (-1, 89.40506726302556), (-2, 84.6275511260028), (-1, 87.87429024101584), (214, 74.59685359199648), (94, 79.92606578400591), (-1, 93.09200763702393), (3, 96.36269446799997), (-1, 89.34973914900911), (-2, 97.37844669900369)]], [[(-1.0, 73.01630731098703), (-1, 48.74454949697247), (-1.0, 68.43057362598483), (-2, 78.05536691000452), (3, 73.58202111299033), (-1, 59.734658722009044), (-1.0, 63.16957420401741), (-2, 35.80968938200385), (-2, 47.087165542005096), (1, 47.109272901987424)]], [[(-2, 2.19992268900387), (1, 2.2524606010119896), (214, 2.2069596799847204), (2, 2.204045654012589), (-2, 2.2003279050113633), (874, 2.2623203319963068), (-1, 2.2106084039842244), (-1, 2.207417741010431), (1, 3.828983485000208), (874, 2.2109476309851743)]]]], [[[[(2, 92.24501657599467), (-5, 96.21529201997328), (-5, 97.50070177801535), (2, 90.20640685598482), (-5, 86.49592874199152), (215, 73.67122136900434), (-5, 88.79946316502173), (0, 90.66806459100917), (-1, 87.15097571798833), (-1, 102.24735616700491)]], [[(0, 43.63225950099877), (215.0, 76.60511385599966), (-5, 53.645325827004854), (0.0, 47.16321030000108), (3.0, 69.88238746402203), (2.0, 51.705421483988175), (875, 81.61611851601629), (2.0, 50.959107186004985), (-1.0, 64.25872157598496), (0, 20.88213266900857)]], [[(0, 2.4510419519792777), (3, 2.451499265996972), (3, 2.4449555780156516), (0, 4.119752377999248), (-1, 4.055671612994047), (2, 2.48872782397666), (2, 2.4038880769803654), (-1, 2.3976557980058715), (0, 2.4642240520042833), (0, 2.411211529019056)]]]], [[[[(-4, 97.21737224102253), (1, 90.75139066399424), (3, 92.61731454898836), (3, 148.3209554880159), (0, 95.1849555390072), (1, 91.23426058798213), (0, 92.58192816795781), (-4, 90.59985541203059), (0, 105.43039125599898), (-4, 91.53402082901448)]], [[(1.0, 52.015367364976555), (0, 42.862884566013236), (3, 71.27485858701402), (216, 34.07056385301985), (1.0, 51.3522773499717), (-4, 56.283211469999515), (-4, 54.5560002529528), (-4.0, 59.14739517495036), (4, 46.555387909000274), (-4, 54.75634782802081)]], [[(876, 2.7667003400274552), (0, 2.744383487966843), (3, 6.065135221055243), (3, 2.652025393967051), (-4, 4.43556609400548), (-4, 2.7539784439723007), (3, 2.6341604710323736), (0, 2.6196107079740614), (-4, 2.698912891035434), (0, 2.683776167978067)]]]], [[[[(-3, 88.80016541900113), (5, 91.3113688880112), (-3, 86.45637001399882), (1, 96.24280726304278), (1, 93.66297396499431), (217, 72.58181565796258), (-3, 95.76380255498225), (-3, 117.28073816100368), (1, 102.8655353920185), (1, 91.45721480000066)]], [[(2, 49.53035151399672), (1.0, 51.18363614595728), (6, 64.38717272999929), (2.0, 49.25070608902024), (1.0, 51.0529764710227), (2, 47.779893989965785), (1, 47.75377265404677), (1, 47.70031556399772), (1, 49.39417100104038), (2, 50.46289720700588)]], [[(1, 4.386698906018864), (2, 2.7529302940238267), (217, 2.8285521299694665), (2, 2.7794795059598982), (-3, 6.067037597997114), (217, 2.766692935023457), (6, 2.752782302966807), (2, 2.772681621951051), (1, 6.169150574016385), (2, 2.7660776160191745)]]]], [[[[(5, 88.4634240870364), (-2, 97.24801535799634), (-2, 91.08937743405113), (5, 90.90727853501448), (-7, 110.06210041599115), (-7, 86.16202289896319), (2, 97.3336426219903), (2, 91.17806602804922), (-2, 94.69680205499753), (-7, 139.3303442260367)]], [[(-2, 76.15864563599462), (-7, 75.54994590900606), (-2.0, 43.45481857401319), (-2.0, 91.86607268999796), (-2, 51.81458017899422), (-2.0, 69.7091899579973), (6, 60.995744426036254), (5, 75.40126788697671), (3, 62.501756709010806), (-2.0, 78.49239201302407)]], [[(-2, 3.1333105720113963), (-2, 7.908741662977263), (2, 3.160187817993574), (-2, 4.84546888503246), (2, 4.866485069971532), (-2, 3.099472258996684), (2, 4.90205023001181), (-7, 4.832563153991941), (7, 3.083823549968656), (-7, 3.1674924790277146)]]]], [[[[(4, 85.88502067199443), (-1, 96.42849324800773), (7, 92.93609751597978), (-1, 100.56638245796785), (-1, 102.06787370098755), (-6, 90.46832394396188), (4, 91.02509857102996), (-1, 97.51493149698945), (-1, 100.11722489399835), (4, 93.31185716798063)]], [[(4, 5.054193094023503), (-1, 79.36464111600071), (3.0, 77.47865712596104), (-6.0, 80.01128780900035), (-6, 72.88410890498199), (4, 52.99220677098492), (-6, 66.59433495398844), (6, 76.65828058100305), (-1.0, 60.68714410497341), (7, 71.33437475695973)]], [[(-6, 3.2888990869978443), (4, 3.3349150250433013), (3, 4.944507936947048), (-6, 6.713595042005181), (7, 3.229603927989956), (-6, 4.896339546947274), (4, 3.2337373020127416), (-1, 5.256760035001207), (879, 3.4163484850432724), (3, 5.238282571022864)]]]], [[[[(5, 95.7383357109502), (0, 119.18691375898197), (5, 101.1509614320239), (5, 88.55885514605325), (4, 98.66069367300952), (880, 103.79623856698163), (0, 126.85192025703145), (5, 100.94982478400925), (7, 94.36399013001937), (-5, 99.57211102801375)]], [[(0, 38.62984911398962), (5, 76.72410933498759), (7, 85.52308835001895), (8.0, 57.20321445801528), (5, 73.23371579794912), (-5, 62.14920673897723), (0.0, 49.9929730949807), (880, 71.77199022198329), (-5, 49.701036637008656), (-5, 70.07904542499455)]], [[(-5, 5.101414151024073), (8, 3.4735086100408807), (5, 3.4279676160076633), (8, 3.423130446986761), (0, 3.421322618960403), (0, 3.503308432002086), (0, 3.420547772955615), (0, 5.136578645964619), (4, 3.4863193450146355), (4, 5.083309680980165)]]]], [[[[(-4, 107.4186998110381), (1, 97.03951774595771), (6, 96.08742353698472), (5, 97.32826975901844), (-4, 100.69213076896267), (-4, 104.20418199902633), (-4, 90.42954034399008), (-4, 102.4633105120156), (1, 102.89546268101549), (-4, 97.77144771500025)]], [[(8, 51.01365831599105), (5.0, 61.04778138600523), (-4, 52.40924886899302), (5.0, 74.19103176699718), (1.0, 19.240397825022228), (8, 48.34440049302066), (1.0, 27.706052393012214), (6, 65.13378595700487), (6, 89.11830572300823), (-4.0, 56.42287255299743)]], [[(5, 3.5588665179675445), (881, 3.564310277986806), (10, 3.5599418559577316), (-4, 3.6107051199651323), (6, 3.5653885859646834), (881, 3.576283247966785), (1, 5.314441256981809), (1, 3.5856330770184286), (1, 3.567689693009015), (8, 3.6329292290029116)]]]], [[[[(-3, 97.22723484499147), (6, 88.75622262398247), (-3, 87.22131844697287), (2, 116.4534422379802), (-3, 102.74707457300974), (-3, 97.88534342002822), (6, 94.28780083701713), (-3, 108.42359807499452), (7, 103.33629970700713), (-3, 115.27952014002949)]], [[(6, 56.43297367997002), (2.0, 57.62101520400029), (-3.0, 63.09212067601038), (2.0, 60.82951092696749), (-3, 95.02040074701654), (7, 4.784747262019664), (882, 91.85991277400171), (-3.0, 84.55700639099814), (-3, 83.5876080240123), (882, 92.97947255900363)]], [[(882, 3.9451478279661387), (2, 3.9878578200004995), (9, 4.02697657700628), (882, 3.9508550700265914), (6, 5.733764595002867), (-3, 5.667337900958955), (10, 3.8548373180092312), (882, 3.852372659021057), (882, 3.924977837014012), (882, 3.8717884400393814)]]]], [[[[(3, 97.97381298104301), (-2, 112.73091868497431), (3, 106.88614461303223), (-2, 114.96536642301362), (7, 94.16497319901828), (7, 103.83342858200194), (10, 94.93759174097795), (-2, 108.61577050399501), (7, 92.31668107199948), (7, 98.9557537449873)]], [[(7, 67.41186985903187), (11, 81.64334876899375), (883, 36.61774916196009), (-2, 76.99373916501645), (7, 78.66369890002534), (-2, 83.55443581700092), (883, 90.4420487479656), (-2.0, 57.40232284402009), (-2.0, 56.744226782000624), (-2, 14.753641821967904)]], [[(11, 4.028317883959971), (-2, 4.087890847004019), (-2, 4.02706313302042), (10, 4.027963261003606), (3, 5.806669584009796), (-2, 5.802247302024625), (-2, 5.833350842993241), (3, 4.024239877995569), (3, 5.76394757599337), (7, 4.095331110002007)]]]], [[[[(884, 77.66708845598623), (-1, 99.31165355700068), (12, 93.72394687699853), (8, 88.23799838102423), (-1, 96.90622759901453), (884, 74.41505610599415), (-1, 100.67340041900752), (884, 147.62251544801984), (-1, 92.04141584300669), (8, 92.21522543497849)]], [[(4, 49.57966500299517), (12, 77.33847395697376), (4, 52.779578807007056), (8, 51.1570462580421), (-1.0, 59.9363703019917), (-1, 55.010102905042004), (4, 56.15125004702713), (884, 96.99880621797638), (13, 70.5721971699968), (4, 58.28607341303723)]], [[(4, 6.161655144998804), (8, 4.30301984900143), (884, 4.376711488002911), (-1, 6.160561983997468), (-1, 6.1477624520193785), (8, 4.429664368974045), (11, 4.359070539008826), (8, 4.348247262998484), (-1, 4.348125996009912), (4, 6.283575415960513)]]]], [[[[(-15, 99.58368618099485), (-15, 102.90537915698951), (10, 101.12277926999377), (10, 159.56379811296938), (10, 94.68442776700249), (-15, 94.18713952199323), (5, 102.52532055601478), (-15, 104.13482639100403), (12, 101.80831560998922), (0, 144.11981047398876)]], [[(0, 48.755917172995396), (0.0, 54.946203237981535), (0.0, 50.756814253050834), (10, 78.40706372895511), (-15, 73.15144908596994), (9, 79.26243281899951), (5, 74.80609469895717), (12, 68.51913272601087), (10, 66.647899425996), (0, 49.08239609003067)]], [[(-15, 6.19893483701162), (-15, 8.131748479965609), (0, 6.3288978500058874), (-15, 6.190507032035384), (-15, 4.441602670995053), (5, 4.486762919987086), (-15, 6.247718517028261), (0, 6.313510555017274), (10, 4.428063338971697), (0, 6.173356282990426)]]]]]\n"
     ]
    }
   ],
   "source": [
    "print(loss_list)"
   ]
  },
  {
   "cell_type": "code",
   "execution_count": 12,
   "metadata": {},
   "outputs": [
    {
     "data": {
      "text/plain": [
       "(14, 1, 3, 1, 10, 2)"
      ]
     },
     "execution_count": 12,
     "metadata": {},
     "output_type": "execute_result"
    }
   ],
   "source": [
    "ll = np.asarray(loss_list)\n",
    "ll.shape"
   ]
  },
  {
   "cell_type": "code",
   "execution_count": 13,
   "metadata": {},
   "outputs": [],
   "source": [
    "np.save(\"Test_Phase_nH_Penalty_cg_BFGS_SLSQ_TNC_l1\", ll,)"
   ]
  },
  {
   "cell_type": "code",
   "execution_count": null,
   "metadata": {},
   "outputs": [],
   "source": []
  }
 ],
 "metadata": {
  "kernelspec": {
   "display_name": "Python 3",
   "language": "python",
   "name": "python3"
  },
  "language_info": {
   "codemirror_mode": {
    "name": "ipython",
    "version": 3
   },
   "file_extension": ".py",
   "mimetype": "text/x-python",
   "name": "python",
   "nbconvert_exporter": "python",
   "pygments_lexer": "ipython3",
   "version": "3.8.5"
  }
 },
 "nbformat": 4,
 "nbformat_minor": 4
}
