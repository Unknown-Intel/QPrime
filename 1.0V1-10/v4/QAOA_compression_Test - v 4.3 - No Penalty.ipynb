{
 "cells": [
  {
   "cell_type": "code",
   "execution_count": 1,
   "metadata": {},
   "outputs": [],
   "source": [
    "import numpy as np\n",
    "from qiskit import *\n",
    "import random\n",
    "import time\n",
    "from numpy import log as ln\n",
    "import warnings\n",
    "warnings.filterwarnings('ignore', module = 'qiskit')\n",
    "# warnings.filterwarnings(action='once')\n",
    "\n",
    "from qiskit.algorithms.optimizers import ADAM, AQGD, COBYLA, SPSA, TNC, CG, L_BFGS_B, GSLS, NELDER_MEAD, NFT, P_BFGS, POWELL, SLSQP\n",
    "from qiskit.opflow.gradients import Gradient, NaturalGradient, QFI\n",
    "from qiskit.opflow import CircuitStateFn, StateFn, I, X, Y, Z, H, CX, Zero, One, OperatorBase\n",
    "\n",
    "from itertools import combinations as cm"
   ]
  },
  {
   "cell_type": "code",
   "execution_count": 2,
   "metadata": {},
   "outputs": [],
   "source": [
    "# Generate Primes as an array\n",
    "primes = [2,3,5]#,7,11,17,19,,31,37]\n",
    "primes = primes[::-1]\n",
    "\n",
    "combinations = list(cm(range(len(primes)), 2))"
   ]
  },
  {
   "cell_type": "code",
   "execution_count": 3,
   "metadata": {},
   "outputs": [],
   "source": [
    "def generate_ZZcircuit(params, primes, assigned=True):\n",
    "    cir = QuantumCircuit(len(primes))\n",
    "    layers = int(len(params)/((2 * len(primes)) + len(combinations)))\n",
    "    thetas = [qiskit.circuit.Parameter(str(i)) for i in range(layers * ((2 * len(primes)) + len(combinations)))]\n",
    "    thetas_reshape = np.reshape(np.asarray(thetas),(layers, ((2 * len(primes)) + len(combinations))))\n",
    "    params = np.reshape(np.asarray(params),(layers, ((2 * len(primes)) + len(combinations))))\n",
    "    combs = list(cm(range(len(primes)), 2))\n",
    "#     cir.h(range(len(primes)))\n",
    "    \n",
    "    for m in range(layers):\n",
    "        l = len(params[m])\n",
    "        g = thetas_reshape[m][0: len(primes)]\n",
    "#         g_prime = [ln(2)*ln(30), ln(3)*ln(30),ln(5)*ln(30)]\n",
    "        a = thetas_reshape[m][len(primes): (len(primes) + len(combs))]\n",
    "#         a_prime = [ln(2)*ln(3), ln(2)*ln(5), ln(3)*ln(5)]\n",
    "        b = thetas_reshape[m][(len(primes) + len(combs)) : l]\n",
    "        \n",
    "        for h in range(len(primes)):\n",
    "            cir.rz(g[h], h)\n",
    "        \n",
    "        i = 0\n",
    "        for j, k in combs:\n",
    "            cir.rzz(a[i], j, k)\n",
    "            i += 1\n",
    "        for l in range(len(primes)):\n",
    "            cir.rx(b[l], l)\n",
    "            \n",
    "    if assigned == True:\n",
    "        thetas_reshape = thetas_reshape.flatten()\n",
    "        params = params.flatten()\n",
    "        p_dict = {thetas_reshape[i] : params[i] for i in range(len(thetas))}\n",
    "        cir.assign_parameters(p_dict, inplace=True)\n",
    "    cir.measure_all()\n",
    "    \n",
    "    return cir, thetas"
   ]
  },
  {
   "cell_type": "code",
   "execution_count": 4,
   "metadata": {},
   "outputs": [
    {
     "name": "stdout",
     "output_type": "stream",
     "text": [
      "[1.763188761944194, 0.09517682768191563, 2.7520190177206465, 2.8692540396503867, 2.0206304290737127, 1.671233029885608, 2.3260167571745782, 1.575743160401734, 0.5082112513156108]\n"
     ]
    },
    {
     "data": {
      "image/png": "[encoded data removed]",
      "text/plain": [
       "<Figure size 658.679x264.88 with 1 Axes>"
      ]
     },
     "execution_count": 4,
     "metadata": {},
     "output_type": "execute_result"
    }
   ],
   "source": [
    "hyperparam = [random.uniform(0,np.pi) for _ in range(1 * ((2 * len(primes)) + len(combinations)))]\n",
    "print(hyperparam)\n",
    "cir, free_params = generate_ZZcircuit(hyperparam, primes, assigned=False)\n",
    "cir.draw('mpl')"
   ]
  },
  {
   "cell_type": "code",
   "execution_count": 5,
   "metadata": {},
   "outputs": [],
   "source": [
    "def obj_function(counts, n, penalty):\n",
    "    max_c = 0\n",
    "    max_bit = \"\"\n",
    "    for c in counts:\n",
    "        if counts[c] >= max_c:\n",
    "            max_c =  counts[c]\n",
    "            max_bit = c\n",
    "    comp_primes = 1\n",
    "    for i in range(len(max_bit)):\n",
    "        comp_primes *= primes[i]**int(max_bit[i])\n",
    "    p = 0\n",
    "    if penalty == 1:\n",
    "        if abs(comp_primes-n) > n:\n",
    "            p += comp_primes**2 \n",
    "#         return (n - comp_primes)**2\n",
    "#     print(comp_primes, n-comp_primes, p)\n",
    "    return (n - comp_primes) + p"
   ]
  },
  {
   "cell_type": "code",
   "execution_count": 6,
   "metadata": {},
   "outputs": [],
   "source": [
    "def gen_f(n):\n",
    "    \n",
    "    def f(theta):\n",
    "        qc, free_params = generate_ZZcircuit(theta, primes)\n",
    "        back = Aer.get_backend('aer_simulator')\n",
    "        back.set_options(device='GPU')\n",
    "        job_sim = execute(qc, backend = back, shots = 2048).result()\n",
    "        counts = job_sim.get_counts(qc)\n",
    "        \n",
    "        return obj_function(counts, n, 0)\n",
    "\n",
    "    return f"
   ]
  },
  {
   "cell_type": "code",
   "execution_count": 7,
   "metadata": {},
   "outputs": [],
   "source": [
    "def X_generator(primes, identity):\n",
    "    #Generate X value for hamiltonian\n",
    "    constant = 0\n",
    "\n",
    "    for i in range(len(primes)):\n",
    "        #Build Constant value iteratively\n",
    "        constant += ln(primes[i])\n",
    "        \n",
    "        if i == 0:\n",
    "            z_value = Z\n",
    "        else:\n",
    "            z_value = I\n",
    "        #Build rest of X\n",
    "        for j in range(1, len(primes)):\n",
    "            if j == i:\n",
    "                z_value = z_value ^ Z\n",
    "            else:\n",
    "                z_value = z_value ^ I\n",
    "        if i == 0:\n",
    "            x = -ln(primes[i]) * z_value\n",
    "        else:\n",
    "            x -= ln(primes[i]) * z_value\n",
    "    #Combine Both to form X\n",
    "    x += constant * identity\n",
    "    \n",
    "    return x\n",
    "\n",
    "def hamiltonian(n, primes):\n",
    "    #Generate Hamitonian according to number of primes\n",
    "    identity = I\n",
    "    \n",
    "    for i in range(len(primes) - 1):\n",
    "        identity = identity ^ I\n",
    "        \n",
    "    x = X_generator(primes, identity)\n",
    "    \n",
    "    lnn = float(ln(n))\n",
    "    \n",
    "    h = ((lnn**2) * identity) - (lnn * x) + (1 / 4 * (x ** 2))\n",
    "    \n",
    "    return h"
   ]
  },
  {
   "cell_type": "code",
   "execution_count": 8,
   "metadata": {},
   "outputs": [
    {
     "name": "stdout",
     "output_type": "stream",
     "text": [
      "[[ 2.59029039e+00+0.j  0.00000000e+00+0.j  0.00000000e+00+0.j\n",
      "   0.00000000e+00+0.j  0.00000000e+00+0.j  0.00000000e+00+0.j\n",
      "   0.00000000e+00+0.j  0.00000000e+00+0.j]\n",
      " [ 0.00000000e+00+0.j  8.39588705e-01+0.j  0.00000000e+00+0.j\n",
      "   0.00000000e+00+0.j  0.00000000e+00+0.j  0.00000000e+00+0.j\n",
      "   0.00000000e+00+0.j  0.00000000e+00+0.j]\n",
      " [ 0.00000000e+00+0.j  0.00000000e+00+0.j  2.60942818e-01+0.j\n",
      "   0.00000000e+00+0.j  0.00000000e+00+0.j  0.00000000e+00+0.j\n",
      "   0.00000000e+00+0.j  0.00000000e+00+0.j]\n",
      " [ 0.00000000e+00+0.j  0.00000000e+00+0.j  0.00000000e+00+0.j\n",
      "   3.32411501e-02+0.j  0.00000000e+00+0.j  0.00000000e+00+0.j\n",
      "   0.00000000e+00+0.j  0.00000000e+00+0.j]\n",
      " [ 0.00000000e+00+0.j  0.00000000e+00+0.j  0.00000000e+00+0.j\n",
      "   0.00000000e+00+0.j -4.44089210e-16+0.j  0.00000000e+00+0.j\n",
      "   0.00000000e+00+0.j  0.00000000e+00+0.j]\n",
      " [ 0.00000000e+00+0.j  0.00000000e+00+0.j  0.00000000e+00+0.j\n",
      "   0.00000000e+00+0.j  0.00000000e+00+0.j  4.80453014e-01+0.j\n",
      "   0.00000000e+00+0.j  0.00000000e+00+0.j]\n",
      " [ 0.00000000e+00+0.j  0.00000000e+00+0.j  0.00000000e+00+0.j\n",
      "   0.00000000e+00+0.j  0.00000000e+00+0.j  0.00000000e+00+0.j\n",
      "   1.20694896e+00+0.j  0.00000000e+00+0.j]\n",
      " [ 0.00000000e+00+0.j  0.00000000e+00+0.j  0.00000000e+00+0.j\n",
      "   0.00000000e+00+0.j  0.00000000e+00+0.j  0.00000000e+00+0.j\n",
      "   0.00000000e+00+0.j  3.21040200e+00+0.j]]\n"
     ]
    }
   ],
   "source": [
    "h_value = hamiltonian(5, primes)\n",
    "print(h_value.to_matrix())"
   ]
  },
  {
   "cell_type": "code",
   "execution_count": 9,
   "metadata": {},
   "outputs": [],
   "source": [
    " def _convert_to_gradient_function(gradient_object, layers, n):\n",
    "\n",
    "        def gradient_function(current_point):\n",
    "\n",
    "            cir, free_params = generate_ZZcircuit(current_point, primes, assigned=False)\n",
    "            cir.remove_final_measurements()\n",
    "            c = hamiltonian(n, primes)\n",
    "            op = ~StateFn(c) @ CircuitStateFn(primitive=cir, coeff=1.)\n",
    "            grad_object = gradient_object.convert(operator=op, params=free_params)\n",
    "            value_dict = {free_params[i]: current_point[i] for i in range(len(free_params))}\n",
    "            x = grad_object.assign_parameters(value_dict).eval()\n",
    "#             print(x)\n",
    "#             analytical_gradients = np.array(x)# Change this part\n",
    "            return np.real(x)\n",
    "        \n",
    "        return gradient_function"
   ]
  },
  {
   "cell_type": "code",
   "execution_count": 10,
   "metadata": {},
   "outputs": [
    {
     "name": "stdout",
     "output_type": "stream",
     "text": [
      "Current n =  2\n",
      "Current layer =  1\n",
      "Current opt =  0\n",
      "Current Gradient =  param_shift\n",
      "Current n =  3\n",
      "Current layer =  1\n",
      "Current opt =  0\n",
      "Current Gradient =  param_shift\n",
      "Current n =  4\n",
      "Current layer =  1\n",
      "Current opt =  0\n",
      "Current Gradient =  param_shift\n",
      "Current n =  5\n",
      "Current layer =  1\n",
      "Current opt =  0\n",
      "Current Gradient =  param_shift\n",
      "Current n =  6\n",
      "Current layer =  1\n",
      "Current opt =  0\n",
      "Current Gradient =  param_shift\n",
      "Current n =  7\n",
      "Current layer =  1\n",
      "Current opt =  0\n",
      "Current Gradient =  param_shift\n",
      "Current n =  8\n",
      "Current layer =  1\n",
      "Current opt =  0\n",
      "Current Gradient =  param_shift\n",
      "Current n =  9\n",
      "Current layer =  1\n",
      "Current opt =  0\n",
      "Current Gradient =  param_shift\n",
      "Current n =  10\n",
      "Current layer =  1\n",
      "Current opt =  0\n",
      "Current Gradient =  param_shift\n",
      "Current n =  11\n",
      "Current layer =  1\n",
      "Current opt =  0\n",
      "Current Gradient =  param_shift\n",
      "Current n =  12\n",
      "Current layer =  1\n",
      "Current opt =  0\n",
      "Current Gradient =  param_shift\n",
      "Current n =  13\n",
      "Current layer =  1\n",
      "Current opt =  0\n",
      "Current Gradient =  param_shift\n",
      "Current n =  14\n",
      "Current layer =  1\n",
      "Current opt =  0\n",
      "Current Gradient =  param_shift\n",
      "Current n =  15\n",
      "Current layer =  1\n",
      "Current opt =  0\n",
      "Current Gradient =  param_shift\n"
     ]
    }
   ],
   "source": [
    "def run(optimizer, layers, func, gradient_function, n):\n",
    "    g_f = _convert_to_gradient_function(gradient_function, layers, n)\n",
    "    theta = [random.uniform(0, 2 * np.pi) for _ in range(layers * ((2 * len(primes)) + len(combinations)))]\n",
    "    theta, loss, _ = optimizer.optimize(\n",
    "                num_vars=len(theta),\n",
    "                objective_function=func,\n",
    "                initial_point=theta,\n",
    "                gradient_function=g_f\n",
    "                )\n",
    "    return loss\n",
    "\n",
    "gradient_types = ['param_shift'] #['', 'param_shift', 'lin_comb', 'fin_diff']\n",
    "op_types = [AQGD(maxiter = 100)]#ADAM(maxiter = 100), momentum=0.02)]#, COBYLA(maxiter = 100), TNC(maxiter = 100), CG(maxiter = 100), GSLS(maxiter = 100), NELDER_MEAD(maxiter = 100)]#, NFT(maxiter = 500)]#, P_BFGS(maxfun = 500), POWELL(maxiter = 500), SLSQP(maxiter = 500)]\n",
    "loss_list = []\n",
    "\n",
    "\n",
    "for i in range(2, 16):\n",
    "    print(\"Current n = \", i)\n",
    "    fun = gen_f(i)\n",
    "    n_list = []\n",
    "    for j in range(1, 2):\n",
    "        print(\"Current layer = \", j)\n",
    "        layer_list = []\n",
    "        for k in range(len(op_types)):\n",
    "            print(\"Current opt = \", k)\n",
    "            opt = op_types[k]\n",
    "            grad_list = []\n",
    "            for g in range(len(gradient_types)):\n",
    "                print(\"Current Gradient = \", gradient_types[g] )\n",
    "#                 if g == 0:\n",
    "#                     grad = Gradient()\n",
    "#                 else:\n",
    "                grad = Gradient(grad_method=gradient_types[g])\n",
    "                samples = []\n",
    "                for _ in range(10):\n",
    "                    start = time.perf_counter()\n",
    "                    loss = run(opt,  j, fun, grad, i)\n",
    "                    end = time.perf_counter()\n",
    "                    samples.append((loss, end - start))\n",
    "                grad_list.append(samples)\n",
    "            layer_list.append(grad_list)\n",
    "        n_list.append(layer_list)\n",
    "    loss_list.append(n_list)"
   ]
  },
  {
   "cell_type": "code",
   "execution_count": 11,
   "metadata": {},
   "outputs": [
    {
     "name": "stdout",
     "output_type": "stream",
     "text": [
      "[[[[[(0, 18.221911698987242), (0, 18.23148695001146), (0, 24.558604922000086), (0, 18.64749317499809), (1, 32.02067318800255), (1, 26.054012194974348), (-1, 18.985985591018107), (0, 18.70176820200868), (-3, 18.500007813010598), (0, 20.794008436991135)]]]], [[[[(1, 33.81765977400937), (0, 23.2745122310007), (1, 21.953755908005405), (1, 23.528058822994353), (1, 26.557440634991508), (-2, 20.189944468002068), (1, 20.697935466014314), (1, 22.544630732008955), (-2, 19.451572374993702), (-2, 24.59525013898383)]]]], [[[[(-1, 20.588868038001237), (-1, 20.68096319201868), (-2, 20.514028012985364), (-2, 18.97762080701068), (1, 18.89170407698839), (1, 25.62795088600251), (-1, 20.708798243984347), (-1, 18.86919350401149), (-1, 31.404222065990325), (-2, 29.251732490985887)]]]], [[[[(2, 19.01952269699541), (0, 22.362394691997906), (0, 20.596119255002122), (-1, 18.973377955000615), (-5, 20.81781321199378), (-1, 24.188211881002644), (-5, 33.764404645975446), (-1, 34.73254649399314), (-1, 22.64800997299608), (-1, 31.63943799000117)]]]], [[[[(1, 18.94050395899103), (1, 19.177451577998), (1, 28.729966418002732), (1, 20.463043419993483), (1, 18.710044053994352), (3, 21.81993695301935), (1, 22.879209368984448), (0, 30.127922521991422), (3, 18.945008515001973), (1, 25.529376438003965)]]]], [[[[(1, 18.27191862699692), (-3, 19.759518616978312), (1, 19.719937390007544), (-3, 18.25679845098057), (2, 18.068405179015826), (-8, 20.24651593400631), (1, 20.63745074000326), (1, 18.833045139006572), (-8, 20.53080718201818), (1, 20.575351212988608)]]]], [[[[(-2, 19.15639095098595), (-2, 25.86329151398968), (-2, 19.03859967397875), (3, 19.13491851001163), (-7, 18.939344091020757), (-7, 26.95211868098704), (-7, 27.793944506003754), (2, 29.12275960901752), (2, 21.020274320995668), (-2, 18.254863631998887)]]]], [[[[(4, 18.369574087002547), (3, 19.590455473022303), (-1, 17.9608540039917), (-1, 28.16872836998664), (-6, 21.290855546016246), (-6, 18.352791507000802), (-6, 19.914212061004946), (3, 19.687576204014476), (-1, 32.68703464101418), (3, 18.010687338974094)]]]], [[[[(0, 24.52524486798211), (4, 21.20626425597584), (-5, 19.45627969398629), (-5, 19.68070699099917), (0, 18.392958974989597), (4, 20.098606833984377), (-5, 18.49442640299094), (-5, 20.14429063600255), (-5, 23.140546403010376), (-5, 17.928658733988414)]]]], [[[[(-4, 21.183304695994593), (-4, 18.227657162991818), (-4, 28.506031801982317), (1, 20.450660798989702), (-4, 18.192119056999218), (5, 19.79354860901367), (1, 18.111836508003762), (1, 21.851932885008864), (-4, 26.463325243996223), (1, 21.477144055010285)]]]], [[[[(2, 19.941131464991486), (2, 18.053126651997445), (2, 17.97129016497638), (-3, 19.87300303700613), (-3, 25.515907054999843), (-3, 20.212637832999462), (-3, 20.156744929001434), (2, 27.099753855989547), (6, 18.918260290985927), (2, 27.531060904002516)]]]], [[[[(7, 20.508110894996207), (-2, 20.5887110689946), (-2, 20.122592972998973), (3, 18.79336373100523), (7, 18.468504093994852), (7, 20.224062241002684), (7, 20.21627796298708), (-2, 21.812709252000786), (7, 18.516595562017756), (7, 20.356423793011345)]]]], [[[[(-1, 28.393906909012003), (-1, 23.576874124002643), (-16, 22.013053931004833), (4, 35.059105717984494), (8, 18.291883784986567), (4, 18.880762356013292), (-1, 18.43486926498008), (8, 17.881227220001165), (4, 21.481692875997396), (-1, 18.529395626013866)]]]], [[[[(5, 18.62039602099685), (0, 21.525161614990793), (5, 19.67299563100096), (0, 19.73157686399645), (5, 17.893068667995976), (0, 19.51038503999007), (5, 22.843168932013214), (-15, 19.484060691989725), (5, 18.300256861984963), (5, 21.19753719100845)]]]]]\n"
     ]
    }
   ],
   "source": [
    "print(loss_list)"
   ]
  },
  {
   "cell_type": "code",
   "execution_count": 12,
   "metadata": {},
   "outputs": [
    {
     "data": {
      "text/plain": [
       "(14, 1, 1, 1, 10, 2)"
      ]
     },
     "execution_count": 12,
     "metadata": {},
     "output_type": "execute_result"
    }
   ],
   "source": [
    "ll = np.asarray(loss_list)\n",
    "ll.shape"
   ]
  },
  {
   "cell_type": "code",
   "execution_count": 14,
   "metadata": {},
   "outputs": [],
   "source": [
    "np.save(\"Test_Phase_nH_nPenalty_AQGD_l1\", ll,)"
   ]
  },
  {
   "cell_type": "code",
   "execution_count": null,
   "metadata": {},
   "outputs": [],
   "source": []
  }
 ],
 "metadata": {
  "kernelspec": {
   "display_name": "Python 3",
   "language": "python",
   "name": "python3"
  },
  "language_info": {
   "codemirror_mode": {
    "name": "ipython",
    "version": 3
   },
   "file_extension": ".py",
   "mimetype": "text/x-python",
   "name": "python",
   "nbconvert_exporter": "python",
   "pygments_lexer": "ipython3",
   "version": "3.8.5"
  }
 },
 "nbformat": 4,
 "nbformat_minor": 4
}
