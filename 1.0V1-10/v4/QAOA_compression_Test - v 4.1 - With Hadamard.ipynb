{
 "cells": [
  {
   "cell_type": "code",
   "execution_count": 1,
   "metadata": {},
   "outputs": [],
   "source": [
    "import numpy as np\n",
    "from qiskit import *\n",
    "import random\n",
    "import time\n",
    "from numpy import log as ln\n",
    "import warnings\n",
    "warnings.filterwarnings('ignore', module = 'qiskit')\n",
    "# warnings.filterwarnings(action='once')\n",
    "\n",
    "from qiskit.algorithms.optimizers import ADAM, AQGD, COBYLA, SPSA, TNC, CG, L_BFGS_B, GSLS, NELDER_MEAD, NFT, P_BFGS, POWELL, SLSQP\n",
    "from qiskit.opflow.gradients import Gradient, NaturalGradient, QFI\n",
    "from qiskit.opflow import CircuitStateFn, StateFn, I, X, Y, Z, H, CX, Zero, One, OperatorBase\n",
    "\n",
    "from itertools import combinations as cm"
   ]
  },
  {
   "cell_type": "code",
   "execution_count": 2,
   "metadata": {},
   "outputs": [],
   "source": [
    "# Generate Primes as an array\n",
    "primes = [2,3,5]#,7,11,17,19,,31,37]\n",
    "primes = primes[::-1]\n",
    "\n",
    "combinations = list(cm(range(len(primes)), 2))"
   ]
  },
  {
   "cell_type": "code",
   "execution_count": 3,
   "metadata": {},
   "outputs": [],
   "source": [
    "def generate_ZZcircuit(params, primes, assigned=True):\n",
    "    cir = QuantumCircuit(len(primes))\n",
    "    layers = int(len(params)/((2 * len(primes)) + len(combinations)))\n",
    "    thetas = [qiskit.circuit.Parameter(str(i)) for i in range(layers * ((2 * len(primes)) + len(combinations)))]\n",
    "    thetas_reshape = np.reshape(np.asarray(thetas),(layers, ((2 * len(primes)) + len(combinations))))\n",
    "    params = np.reshape(np.asarray(params),(layers, ((2 * len(primes)) + len(combinations))))\n",
    "    combs = list(cm(range(len(primes)), 2))\n",
    "    cir.h(range(len(primes)))\n",
    "    \n",
    "    for m in range(layers):\n",
    "        l = len(params[m])\n",
    "        g = thetas_reshape[m][0: len(primes)]\n",
    "#         g_prime = [ln(2)*ln(30), ln(3)*ln(30),ln(5)*ln(30)]\n",
    "        a = thetas_reshape[m][len(primes): (len(primes) + len(combs))]\n",
    "#         a_prime = [ln(2)*ln(3), ln(2)*ln(5), ln(3)*ln(5)]\n",
    "        b = thetas_reshape[m][(len(primes) + len(combs)) : l]\n",
    "        \n",
    "        for h in range(len(primes)):\n",
    "            cir.rz(g[h], h)\n",
    "        \n",
    "        i = 0\n",
    "        for j, k in combs:\n",
    "            cir.rzz(a[i], j, k)\n",
    "            i += 1\n",
    "        for l in range(len(primes)):\n",
    "            cir.rx(b[l], l)\n",
    "            \n",
    "    if assigned == True:\n",
    "        thetas_reshape = thetas_reshape.flatten()\n",
    "        params = params.flatten()\n",
    "        p_dict = {thetas_reshape[i] : params[i] for i in range(len(thetas))}\n",
    "        cir.assign_parameters(p_dict, inplace=True)\n",
    "    cir.measure_all()\n",
    "    \n",
    "    return cir, thetas"
   ]
  },
  {
   "cell_type": "code",
   "execution_count": 4,
   "metadata": {},
   "outputs": [
    {
     "name": "stdout",
     "output_type": "stream",
     "text": [
      "[0.5143658371367499, 0.2981801049964832, 2.7921316795126154, 0.7207247590573918, 2.481343181889382, 0.7133465075249203, 2.9092444262534944, 1.3533557107685839, 0.19753087015891863]\n"
     ]
    },
    {
     "data": {
      "image/png": "[encoded data removed]",
      "text/plain": [
       "<Figure size 718.879x264.88 with 1 Axes>"
      ]
     },
     "execution_count": 4,
     "metadata": {},
     "output_type": "execute_result"
    }
   ],
   "source": [
    "hyperparam = [random.uniform(0,np.pi) for _ in range(1 * ((2 * len(primes)) + len(combinations)))]\n",
    "print(hyperparam)\n",
    "cir, free_params = generate_ZZcircuit(hyperparam, primes, assigned=False)\n",
    "cir.draw('mpl')"
   ]
  },
  {
   "cell_type": "code",
   "execution_count": 5,
   "metadata": {},
   "outputs": [],
   "source": [
    "def obj_function(counts, n, penalty):\n",
    "    max_c = 0\n",
    "    max_bit = \"\"\n",
    "    for c in counts:\n",
    "        if counts[c] >= max_c:\n",
    "            max_c =  counts[c]\n",
    "            max_bit = c\n",
    "    comp_primes = 1\n",
    "    for i in range(len(max_bit)):\n",
    "        comp_primes *= primes[i]**int(max_bit[i])\n",
    "    p = 0\n",
    "    if penalty == 1:\n",
    "        if abs(comp_primes-n) > n:\n",
    "            p += comp_primes**2 \n",
    "#         return (n - comp_primes)**2\n",
    "#     print(comp_primes, n-comp_primes, p)\n",
    "    return (n - comp_primes) + p"
   ]
  },
  {
   "cell_type": "code",
   "execution_count": 6,
   "metadata": {},
   "outputs": [],
   "source": [
    "def gen_f(n):\n",
    "    \n",
    "    def f(theta):\n",
    "        qc, free_params = generate_ZZcircuit(theta, primes)\n",
    "        back = Aer.get_backend('aer_simulator')\n",
    "        back.set_options(device='GPU')\n",
    "        job_sim = execute(qc, backend = back, shots = 2048).result()\n",
    "        counts = job_sim.get_counts(qc)\n",
    "        \n",
    "        return obj_function(counts, n, 1)\n",
    "\n",
    "    return f"
   ]
  },
  {
   "cell_type": "code",
   "execution_count": 7,
   "metadata": {},
   "outputs": [],
   "source": [
    "def X_generator(primes, identity):\n",
    "    #Generate X value for hamiltonian\n",
    "    constant = 0\n",
    "\n",
    "    for i in range(len(primes)):\n",
    "        #Build Constant value iteratively\n",
    "        constant += ln(primes[i])\n",
    "        \n",
    "        if i == 0:\n",
    "            z_value = Z\n",
    "        else:\n",
    "            z_value = I\n",
    "        #Build rest of X\n",
    "        for j in range(1, len(primes)):\n",
    "            if j == i:\n",
    "                z_value = z_value ^ Z\n",
    "            else:\n",
    "                z_value = z_value ^ I\n",
    "        if i == 0:\n",
    "            x = -ln(primes[i]) * z_value\n",
    "        else:\n",
    "            x -= ln(primes[i]) * z_value\n",
    "    #Combine Both to form X\n",
    "    x += constant * identity\n",
    "    \n",
    "    return x\n",
    "\n",
    "def hamiltonian(n, primes):\n",
    "    #Generate Hamitonian according to number of primes\n",
    "    identity = I\n",
    "    \n",
    "    for i in range(len(primes) - 1):\n",
    "        identity = identity ^ I\n",
    "        \n",
    "    x = X_generator(primes, identity)\n",
    "    \n",
    "    lnn = float(ln(n))\n",
    "    \n",
    "    h = ((lnn**2) * identity) - (lnn * x) + (1 / 4 * (x ** 2))\n",
    "    \n",
    "    return h"
   ]
  },
  {
   "cell_type": "code",
   "execution_count": 8,
   "metadata": {},
   "outputs": [
    {
     "name": "stdout",
     "output_type": "stream",
     "text": [
      "[[ 2.59029039e+00+0.j  0.00000000e+00+0.j  0.00000000e+00+0.j\n",
      "   0.00000000e+00+0.j  0.00000000e+00+0.j  0.00000000e+00+0.j\n",
      "   0.00000000e+00+0.j  0.00000000e+00+0.j]\n",
      " [ 0.00000000e+00+0.j  8.39588705e-01+0.j  0.00000000e+00+0.j\n",
      "   0.00000000e+00+0.j  0.00000000e+00+0.j  0.00000000e+00+0.j\n",
      "   0.00000000e+00+0.j  0.00000000e+00+0.j]\n",
      " [ 0.00000000e+00+0.j  0.00000000e+00+0.j  2.60942818e-01+0.j\n",
      "   0.00000000e+00+0.j  0.00000000e+00+0.j  0.00000000e+00+0.j\n",
      "   0.00000000e+00+0.j  0.00000000e+00+0.j]\n",
      " [ 0.00000000e+00+0.j  0.00000000e+00+0.j  0.00000000e+00+0.j\n",
      "   3.32411501e-02+0.j  0.00000000e+00+0.j  0.00000000e+00+0.j\n",
      "   0.00000000e+00+0.j  0.00000000e+00+0.j]\n",
      " [ 0.00000000e+00+0.j  0.00000000e+00+0.j  0.00000000e+00+0.j\n",
      "   0.00000000e+00+0.j -4.44089210e-16+0.j  0.00000000e+00+0.j\n",
      "   0.00000000e+00+0.j  0.00000000e+00+0.j]\n",
      " [ 0.00000000e+00+0.j  0.00000000e+00+0.j  0.00000000e+00+0.j\n",
      "   0.00000000e+00+0.j  0.00000000e+00+0.j  4.80453014e-01+0.j\n",
      "   0.00000000e+00+0.j  0.00000000e+00+0.j]\n",
      " [ 0.00000000e+00+0.j  0.00000000e+00+0.j  0.00000000e+00+0.j\n",
      "   0.00000000e+00+0.j  0.00000000e+00+0.j  0.00000000e+00+0.j\n",
      "   1.20694896e+00+0.j  0.00000000e+00+0.j]\n",
      " [ 0.00000000e+00+0.j  0.00000000e+00+0.j  0.00000000e+00+0.j\n",
      "   0.00000000e+00+0.j  0.00000000e+00+0.j  0.00000000e+00+0.j\n",
      "   0.00000000e+00+0.j  3.21040200e+00+0.j]]\n"
     ]
    }
   ],
   "source": [
    "h_value = hamiltonian(5, primes)\n",
    "print(h_value.to_matrix())"
   ]
  },
  {
   "cell_type": "code",
   "execution_count": 9,
   "metadata": {},
   "outputs": [],
   "source": [
    " def _convert_to_gradient_function(gradient_object, layers, n):\n",
    "\n",
    "        def gradient_function(current_point):\n",
    "\n",
    "            cir, free_params = generate_ZZcircuit(current_point, primes, assigned=False)\n",
    "            cir.remove_final_measurements()\n",
    "            c = hamiltonian(n, primes)\n",
    "            op = ~StateFn(c) @ CircuitStateFn(primitive=cir, coeff=1.)\n",
    "            grad_object = gradient_object.convert(operator=op, params=free_params)\n",
    "            value_dict = {free_params[i]: current_point[i] for i in range(len(free_params))}\n",
    "            x = grad_object.assign_parameters(value_dict).eval()\n",
    "#             print(x)\n",
    "#             analytical_gradients = np.array(x)# Change this part\n",
    "            return np.real(x)\n",
    "        \n",
    "        return gradient_function"
   ]
  },
  {
   "cell_type": "code",
   "execution_count": 10,
   "metadata": {},
   "outputs": [
    {
     "name": "stdout",
     "output_type": "stream",
     "text": [
      "Current n =  2\n",
      "Current layer =  1\n",
      "Current opt =  0\n",
      "Current Gradient =  param_shift\n",
      "Current n =  3\n",
      "Current layer =  1\n",
      "Current opt =  0\n",
      "Current Gradient =  param_shift\n",
      "Current n =  4\n",
      "Current layer =  1\n",
      "Current opt =  0\n",
      "Current Gradient =  param_shift\n",
      "Current n =  5\n",
      "Current layer =  1\n",
      "Current opt =  0\n",
      "Current Gradient =  param_shift\n",
      "Current n =  6\n",
      "Current layer =  1\n",
      "Current opt =  0\n",
      "Current Gradient =  param_shift\n",
      "Current n =  7\n",
      "Current layer =  1\n",
      "Current opt =  0\n",
      "Current Gradient =  param_shift\n",
      "Current n =  8\n",
      "Current layer =  1\n",
      "Current opt =  0\n",
      "Current Gradient =  param_shift\n",
      "Current n =  9\n",
      "Current layer =  1\n",
      "Current opt =  0\n",
      "Current Gradient =  param_shift\n",
      "Current n =  10\n",
      "Current layer =  1\n",
      "Current opt =  0\n",
      "Current Gradient =  param_shift\n",
      "Current n =  11\n",
      "Current layer =  1\n",
      "Current opt =  0\n",
      "Current Gradient =  param_shift\n",
      "Current n =  12\n",
      "Current layer =  1\n",
      "Current opt =  0\n",
      "Current Gradient =  param_shift\n",
      "Current n =  13\n",
      "Current layer =  1\n",
      "Current opt =  0\n",
      "Current Gradient =  param_shift\n",
      "Current n =  14\n",
      "Current layer =  1\n",
      "Current opt =  0\n",
      "Current Gradient =  param_shift\n",
      "Current n =  15\n",
      "Current layer =  1\n",
      "Current opt =  0\n",
      "Current Gradient =  param_shift\n"
     ]
    }
   ],
   "source": [
    "def run(optimizer, layers, func, gradient_function, n):\n",
    "    g_f = _convert_to_gradient_function(gradient_function, layers, n)\n",
    "    theta = [random.uniform(0, 2 * np.pi) for _ in range(layers * ((2 * len(primes)) + len(combinations)))]\n",
    "    theta, loss, _ = optimizer.optimize(\n",
    "                num_vars=len(theta),\n",
    "                objective_function=func,\n",
    "                initial_point=theta,\n",
    "                gradient_function=g_f\n",
    "                )\n",
    "    return loss\n",
    "\n",
    "gradient_types = ['param_shift'] #['', 'param_shift', 'lin_comb', 'fin_diff']\n",
    "op_types = [AQGD(maxiter = 100)]#AQGD(maxiter = 500, momentum=0.02)]#, COBYLA(maxiter = 100), TNC(maxiter = 100), CG(maxiter = 100), GSLS(maxiter = 100), NELDER_MEAD(maxiter = 100)]#, NFT(maxiter = 500)]#, P_BFGS(maxfun = 500), POWELL(maxiter = 500), SLSQP(maxiter = 500)]\n",
    "loss_list = []\n",
    "\n",
    "\n",
    "for i in range(2, 16):\n",
    "    print(\"Current n = \", i)\n",
    "    fun = gen_f(i)\n",
    "    n_list = []\n",
    "    for j in range(1, 2):\n",
    "        print(\"Current layer = \", j)\n",
    "        layer_list = []\n",
    "        for k in range(len(op_types)):\n",
    "            print(\"Current opt = \", k)\n",
    "            opt = op_types[k]\n",
    "            grad_list = []\n",
    "            for g in range(len(gradient_types)):\n",
    "                print(\"Current Gradient = \", gradient_types[g] )\n",
    "#                 if g == 0:\n",
    "#                     grad = Gradient()\n",
    "#                 else:\n",
    "                grad = Gradient(grad_method=gradient_types[g])\n",
    "                samples = []\n",
    "                for _ in range(10):\n",
    "                    start = time.perf_counter()\n",
    "                    loss = run(opt,  j, fun, grad, i)\n",
    "                    end = time.perf_counter()\n",
    "                    samples.append((loss, end - start))\n",
    "                grad_list.append(samples)\n",
    "            layer_list.append(grad_list)\n",
    "        n_list.append(layer_list)\n",
    "    loss_list.append(n_list)"
   ]
  },
  {
   "cell_type": "code",
   "execution_count": 11,
   "metadata": {},
   "outputs": [
    {
     "name": "stdout",
     "output_type": "stream",
     "text": [
      "[[[[[(22, 24.253136735002045), (-1, 33.97926386797917), (0, 28.019531650003046), (-1, 22.510407830995973), (-1, 35.26806173400837), (-1, 24.419710353016853), (-1, 27.354262692009797), (-1, 27.41724825100391), (0, 34.95406180300051), (0, 34.01537936498062)]]]], [[[[(0, 24.92892693198519), (-2, 29.07314232198405), (-2, 27.888749100995483), (-2, 23.75918448800803), (0, 30.565864792995853), (0, 25.73390643199673), (-2, 26.09519345499575), (-2, 33.01581164900563), (-2, 39.97469670299324), (0, 24.145976196974516)]]]], [[[[(1, 24.71628656098619), (-2, 26.953495313005988), (-1, 27.121653718000744), (-2, 29.038652363000438), (-1, 26.978322497016052), (1, 79.48026740498608), (-1, 26.34963372000493), (-2, 24.345344600005774), (-1, 43.707011407008395), (1, 37.476689792005345)]]]], [[[[(0, 28.576283517002594), (-1, 29.038793316984084), (0, 23.840328869991936), (0, 24.2909237749991), (0, 59.78230386800715), (0, 28.45597990899114), (0, 37.951501809002366), (0, 23.812158983986592), (0, 23.867672824009787), (0, 38.837630613998044)]]]], [[[[(1, 36.57582220999757), (0, 25.53766453199205), (0, 31.75760626301053), (1, 46.26814475399442), (0, 35.56794221201562), (0, 23.023244109004736), (0, 33.92487240600167), (0, 29.824479478993453), (0, 46.982300283008954), (-4, 27.62426124297781)]]]], [[[[(1, 25.422878301003948), (2, 22.883811244013486), (1, 37.45042934600497), (-3, 27.698962549009593), (2, 23.073005323996767), (1, 25.069539714982966), (1, 38.024933165026596), (-3, 42.37125996401301), (1, 30.438355029997183), (-3, 23.72302976300125)]]]], [[[[(2, 30.51980387500953), (-2, 32.0950722519774), (2, 27.639567963022273), (2, 25.754737346986076), (-7, 23.666128083015792), (2, 42.66126106400043), (2, 24.198477322002873), (2, 25.768664653005544), (2, 23.88075769797433), (2, 26.279488475993276)]]]], [[[[(-6, 31.44297487998847), (-1, 25.10790118499426), (3, 23.001192245981656), (3, 38.29774000600446), (-1, 27.911739786999533), (-6, 25.911150161002297), (3, 25.679108336975332), (-1, 25.568823973997496), (3, 23.55083944197395), (3, 25.673982576990966)]]]], [[[[(0, 27.600221400993178), (4, 27.56083177300752), (0, 25.599306254007388), (0, 28.055270549026318), (4, 32.56314962700708), (-5, 30.086486486019567), (-5, 23.571891911007697), (-5, 27.409776815009536), (0, 23.120641333021922), (-5, 29.45689396900707)]]]], [[[[(1, 25.645672782004112), (-4, 27.664659995003603), (5, 23.790582745015854), (1, 28.22515148000093), (1, 45.89736402401468), (1, 26.25252144699334), (-4, 37.681068453006446), (5, 25.572727280989056), (1, 38.55713656399166), (5, 27.218585131980944)]]]], [[[[(-3, 22.884706011012895), (2, 25.016302039992297), (-3, 27.085707678023027), (-3, 22.893670863006264), (2, 33.560799572995165), (2, 29.18424503999995), (2, 26.810781345993746), (2, 37.155378050985746), (-3, 22.510439069010317), (-3, 22.493506438011536)]]]], [[[[(7, 26.688329755997984), (3, 38.3423302359879), (-2, 21.87182330901851), (3, 21.96123222800088), (3, 24.03368539098301), (-2, 24.037661895999918), (3, 26.184438147000037), (-2, 22.29982186300913), (7, 28.10419393898337), (-2, 38.12622233698494)]]]], [[[[(4, 30.203871293982957), (4, 24.106078464974416), (4, 34.23376106398064), (4, 22.13329809298739), (-1, 24.24190329501289), (-1, 38.2230846429884), (8, 30.3658231679874), (-1, 26.42381174399634), (-1, 26.568212917016353), (-1, 42.91190350500983)]]]], [[[[(0, 28.422859899990726), (5, 38.89117164199706), (5, 30.555156382004498), (0, 42.58819014398614), (0, 22.56026420701528), (9, 22.50204535998637), (0, 26.654077554005198), (0, 22.569713945995318), (5, 26.619968509010505), (0, 26.584232444001827)]]]]]\n"
     ]
    }
   ],
   "source": [
    "print(loss_list)"
   ]
  },
  {
   "cell_type": "code",
   "execution_count": 12,
   "metadata": {},
   "outputs": [
    {
     "data": {
      "text/plain": [
       "(14, 1, 1, 1, 10, 2)"
      ]
     },
     "execution_count": 12,
     "metadata": {},
     "output_type": "execute_result"
    }
   ],
   "source": [
    "ll = np.asarray(loss_list)\n",
    "ll.shape"
   ]
  },
  {
   "cell_type": "code",
   "execution_count": 13,
   "metadata": {},
   "outputs": [],
   "source": [
    "np.save(\"Test_Phase_H_Penalty_AQGD_l1\", ll,)"
   ]
  },
  {
   "cell_type": "code",
   "execution_count": null,
   "metadata": {},
   "outputs": [],
   "source": []
  }
 ],
 "metadata": {
  "kernelspec": {
   "display_name": "Python 3",
   "language": "python",
   "name": "python3"
  },
  "language_info": {
   "codemirror_mode": {
    "name": "ipython",
    "version": 3
   },
   "file_extension": ".py",
   "mimetype": "text/x-python",
   "name": "python",
   "nbconvert_exporter": "python",
   "pygments_lexer": "ipython3",
   "version": "3.8.5"
  }
 },
 "nbformat": 4,
 "nbformat_minor": 4
}
