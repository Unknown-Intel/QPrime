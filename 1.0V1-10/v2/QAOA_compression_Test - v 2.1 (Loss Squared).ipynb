{
 "cells": [
  {
   "cell_type": "code",
   "execution_count": 1,
   "metadata": {},
   "outputs": [],
   "source": [
    "import numpy as np\n",
    "from qiskit import *\n",
    "import random\n",
    "import time\n",
    "from numpy import log as ln\n",
    "import warnings\n",
    "warnings.filterwarnings('ignore', module = 'qiskit')\n",
    "# warnings.filterwarnings(action='once')\n",
    "\n",
    "from qiskit.algorithms.optimizers import ADAM, AQGD, COBYLA, SPSA, TNC, CG, L_BFGS_B, GSLS, NELDER_MEAD, NFT, P_BFGS, POWELL, SLSQP\n",
    "from qiskit.opflow.gradients import Gradient, NaturalGradient, QFI\n",
    "from qiskit.opflow import CircuitStateFn, StateFn, I, X, Y, Z, H, CX, Zero, One, OperatorBase\n",
    "\n",
    "from itertools import combinations as cm"
   ]
  },
  {
   "cell_type": "code",
   "execution_count": 2,
   "metadata": {},
   "outputs": [],
   "source": [
    "# Generate Primes as an array\n",
    "primes = [2,3,5]#,7,11,17,19,,31,37]\n",
    "primes = primes[::-1]\n",
    "\n",
    "combinations = list(cm(range(len(primes)), 2))"
   ]
  },
  {
   "cell_type": "code",
   "execution_count": 3,
   "metadata": {},
   "outputs": [],
   "source": [
    "# Generate Quantum Circuit single layer\n",
    "def generate_circuit(params, assigned=True):\n",
    "    cir = QuantumCircuit(len(primes))\n",
    "    layers = int(len(params)/(4 * len(primes)))\n",
    "    thetas = [qiskit.circuit.Parameter(str(i)) for i in range(len(primes) * 4 *layers)]\n",
    "    thetas_reshape = np.reshape(np.asarray(thetas),(layers, len(primes) * 4))\n",
    "    params = np.reshape(np.asarray(params),(layers, len(primes) * 4))\n",
    "#     cir.x(0)\n",
    "#     cir.x(1)\n",
    "#     cir.x(2)\n",
    "#     cir.x(3)\n",
    "#     cir.x(4)\n",
    "#     cir.x(5)\n",
    "#     cir.x(6)\n",
    "#     cir.h(range(len(primes)))\n",
    "    for m in range(layers):\n",
    "        l = len(params[m])\n",
    "        g = thetas_reshape[m][0:int(l/4)]\n",
    "        b = thetas_reshape[m][int(l/4): int(2*l/4)]\n",
    "        a = thetas_reshape[m][int(2*l/4): int(3*l/4)]\n",
    "        t = thetas_reshape[m][int(3*l/4):l]\n",
    "\n",
    "        for i in range(len(primes)):\n",
    "            cir.ry(g[i], i)\n",
    "        for j in range(len(primes)):\n",
    "            if j != 0:\n",
    "                cir.crz(b[j], j-1, j)\n",
    "            else:\n",
    "                cir.crz(b[j], len(primes)-1, j)\n",
    "        for k in range(len(primes)):\n",
    "            cir.ry(a[k], k)\n",
    "        for o in range(len(primes)):\n",
    "            cir.rx(t[o], o)\n",
    "    if assigned == True:\n",
    "        thetas_reshape = thetas_reshape.flatten()\n",
    "        params = params.flatten()\n",
    "        p_dict = {thetas_reshape[i] : params[i] for i in range(len(thetas))}\n",
    "        cir.assign_parameters(p_dict, inplace=True)\n",
    "    cir.measure_all()\n",
    "    \n",
    "    return cir, thetas"
   ]
  },
  {
   "cell_type": "code",
   "execution_count": 4,
   "metadata": {},
   "outputs": [],
   "source": [
    "def generate_ZZcircuit(params, primes, assigned=True):\n",
    "    cir = QuantumCircuit(len(primes))\n",
    "    layers = int(len(params)/((2 * len(primes)) + len(combinations)))\n",
    "    thetas = [qiskit.circuit.Parameter(str(i)) for i in range(layers * ((2 * len(primes)) + len(combinations)))]\n",
    "    thetas_reshape = np.reshape(np.asarray(thetas),(layers, ((2 * len(primes)) + len(combinations))))\n",
    "    params = np.reshape(np.asarray(params),(layers, ((2 * len(primes)) + len(combinations))))\n",
    "    combs = list(cm(range(len(primes)), 2))\n",
    "#     cir.h(range(len(primes)))\n",
    "    \n",
    "    for m in range(layers):\n",
    "        l = len(params[m])\n",
    "        g = thetas_reshape[m][0: len(primes)]\n",
    "        g_prime = [ln(2)*ln(30), ln(3)*ln(30),ln(5)*ln(30)]\n",
    "        a = thetas_reshape[m][len(primes): (len(primes) + len(combs))]\n",
    "        a_prime = [ln(2)*ln(3), ln(2)*ln(5), ln(3)*ln(5)]\n",
    "        b = thetas_reshape[m][(len(primes) + len(combs)) : l]\n",
    "        \n",
    "        for h in range(len(primes)):\n",
    "            cir.rz(g_prime[h]*g[h], h)\n",
    "        \n",
    "        i = 0\n",
    "        for j, k in combs:\n",
    "            cir.rzz(a_prime[i]*a[i], j, k)\n",
    "            i += 1\n",
    "        for l in range(len(primes)):\n",
    "            cir.rx(b[l], l)\n",
    "            \n",
    "    if assigned == True:\n",
    "        thetas_reshape = thetas_reshape.flatten()\n",
    "        params = params.flatten()\n",
    "        p_dict = {thetas_reshape[i] : params[i] for i in range(len(thetas))}\n",
    "        cir.assign_parameters(p_dict, inplace=True)\n",
    "    cir.measure_all()\n",
    "    \n",
    "    return cir, thetas"
   ]
  },
  {
   "cell_type": "code",
   "execution_count": 5,
   "metadata": {},
   "outputs": [
    {
     "name": "stdout",
     "output_type": "stream",
     "text": [
      "[2.39137181165737, 0.03501090989548916, 0.8699256567429902, 2.4532567735991107, 0.15198573790673361, 0.3417030749610901, 1.3893799720185178, 0.546446314118075, 2.255044063368626]\n"
     ]
    },
    {
     "data": {
      "image/png": "[encoded data removed]",
      "text/plain": [
       "<Figure size 1381.08x264.88 with 1 Axes>"
      ]
     },
     "execution_count": 5,
     "metadata": {},
     "output_type": "execute_result"
    }
   ],
   "source": [
    "hyperparam = [random.uniform(0,np.pi) for _ in range(1 * ((2 * len(primes)) + len(combinations)))]\n",
    "print(hyperparam)\n",
    "cir, free_params = generate_ZZcircuit(hyperparam, primes, assigned=False)\n",
    "cir.draw('mpl')"
   ]
  },
  {
   "cell_type": "code",
   "execution_count": 6,
   "metadata": {},
   "outputs": [],
   "source": [
    "def obj_function(counts, n, penalty):\n",
    "    max_c = 0\n",
    "    max_bit = \"\"\n",
    "    for c in counts:\n",
    "        if counts[c] >= max_c:\n",
    "            max_c =  counts[c]\n",
    "            max_bit = c\n",
    "    comp_primes = 1\n",
    "    for i in range(len(max_bit)):\n",
    "        comp_primes *= primes[i]**int(max_bit[i])\n",
    "    p = 0\n",
    "    if penalty == 1:\n",
    "        if abs(comp_primes-n) > n:\n",
    "            p += comp_primes**2 \n",
    "#         return (n - comp_primes)**2\n",
    "#     print(comp_primes, n-comp_primes, p)\n",
    "    return (n - comp_primes) + p"
   ]
  },
  {
   "cell_type": "code",
   "execution_count": 7,
   "metadata": {},
   "outputs": [],
   "source": [
    "def f(theta):\n",
    "    n = 30\n",
    "    qc, free_params = generate_ZZcircuit(theta, primes)\n",
    "    back = Aer.get_backend('aer_simulator')\n",
    "    back.set_options(device='GPU')\n",
    "    job_sim = execute(qc, backend = back, shots = 2048).result()\n",
    "    counts = job_sim.get_counts(qc)\n",
    "        \n",
    "    return obj_function(counts, n, 1)\n",
    "\n",
    "def gen_f(n):\n",
    "    \n",
    "    def f(theta):\n",
    "        qc, free_params = generate_ZZcircuit(theta, primes)\n",
    "        back = Aer.get_backend('aer_simulator')\n",
    "        back.set_options(device='GPU')\n",
    "        job_sim = execute(qc, backend = back, shots = 2048).result()\n",
    "        counts = job_sim.get_counts(qc)\n",
    "        \n",
    "        return obj_function(counts, n, 1)\n",
    "\n",
    "    return f"
   ]
  },
  {
   "cell_type": "code",
   "execution_count": 8,
   "metadata": {},
   "outputs": [],
   "source": [
    "def X_generator(primes, identity):\n",
    "    #Generate X value for hamiltonian\n",
    "    constant = 0\n",
    "\n",
    "    for i in range(len(primes)):\n",
    "        #Build Constant value iteratively\n",
    "        constant += ln(primes[i])\n",
    "        \n",
    "        if i == 0:\n",
    "            z_value = Z\n",
    "        else:\n",
    "            z_value = I\n",
    "        #Build rest of X\n",
    "        for j in range(1, len(primes)):\n",
    "            if j == i:\n",
    "                z_value = z_value ^ Z\n",
    "            else:\n",
    "                z_value = z_value ^ I\n",
    "        if i == 0:\n",
    "            x = -ln(primes[i]) * z_value\n",
    "        else:\n",
    "            x -= ln(primes[i]) * z_value\n",
    "    #Combine Both to form X\n",
    "    x += constant * identity\n",
    "    \n",
    "    return x\n",
    "\n",
    "def hamiltonian(n, primes):\n",
    "    #Generate Hamitonian according to number of primes\n",
    "    identity = I\n",
    "    \n",
    "    for i in range(len(primes) - 1):\n",
    "        identity = identity ^ I\n",
    "        \n",
    "    x = X_generator(primes, identity)\n",
    "    \n",
    "    lnn = float(ln(n))\n",
    "    \n",
    "    h = ((lnn**2) * identity) - (lnn * x) + (1 / 4 * (x ** 2))\n",
    "    \n",
    "    return h"
   ]
  },
  {
   "cell_type": "code",
   "execution_count": 9,
   "metadata": {},
   "outputs": [
    {
     "name": "stdout",
     "output_type": "stream",
     "text": [
      "[[ 2.59029039e+00+0.j  0.00000000e+00+0.j  0.00000000e+00+0.j\n",
      "   0.00000000e+00+0.j  0.00000000e+00+0.j  0.00000000e+00+0.j\n",
      "   0.00000000e+00+0.j  0.00000000e+00+0.j]\n",
      " [ 0.00000000e+00+0.j  8.39588705e-01+0.j  0.00000000e+00+0.j\n",
      "   0.00000000e+00+0.j  0.00000000e+00+0.j  0.00000000e+00+0.j\n",
      "   0.00000000e+00+0.j  0.00000000e+00+0.j]\n",
      " [ 0.00000000e+00+0.j  0.00000000e+00+0.j  2.60942818e-01+0.j\n",
      "   0.00000000e+00+0.j  0.00000000e+00+0.j  0.00000000e+00+0.j\n",
      "   0.00000000e+00+0.j  0.00000000e+00+0.j]\n",
      " [ 0.00000000e+00+0.j  0.00000000e+00+0.j  0.00000000e+00+0.j\n",
      "   3.32411501e-02+0.j  0.00000000e+00+0.j  0.00000000e+00+0.j\n",
      "   0.00000000e+00+0.j  0.00000000e+00+0.j]\n",
      " [ 0.00000000e+00+0.j  0.00000000e+00+0.j  0.00000000e+00+0.j\n",
      "   0.00000000e+00+0.j -4.44089210e-16+0.j  0.00000000e+00+0.j\n",
      "   0.00000000e+00+0.j  0.00000000e+00+0.j]\n",
      " [ 0.00000000e+00+0.j  0.00000000e+00+0.j  0.00000000e+00+0.j\n",
      "   0.00000000e+00+0.j  0.00000000e+00+0.j  4.80453014e-01+0.j\n",
      "   0.00000000e+00+0.j  0.00000000e+00+0.j]\n",
      " [ 0.00000000e+00+0.j  0.00000000e+00+0.j  0.00000000e+00+0.j\n",
      "   0.00000000e+00+0.j  0.00000000e+00+0.j  0.00000000e+00+0.j\n",
      "   1.20694896e+00+0.j  0.00000000e+00+0.j]\n",
      " [ 0.00000000e+00+0.j  0.00000000e+00+0.j  0.00000000e+00+0.j\n",
      "   0.00000000e+00+0.j  0.00000000e+00+0.j  0.00000000e+00+0.j\n",
      "   0.00000000e+00+0.j  3.21040200e+00+0.j]]\n"
     ]
    }
   ],
   "source": [
    "h_value = hamiltonian(5, primes)\n",
    "print(h_value.to_matrix())"
   ]
  },
  {
   "cell_type": "code",
   "execution_count": 10,
   "metadata": {},
   "outputs": [],
   "source": [
    " def _convert_to_gradient_function(gradient_object, layers, n):\n",
    "\n",
    "        def gradient_function(current_point):\n",
    "\n",
    "            cir, free_params = generate_ZZcircuit(current_point, primes, assigned=False)\n",
    "            cir.remove_final_measurements()\n",
    "            c = hamiltonian(n, primes)\n",
    "            op = ~StateFn(c) @ CircuitStateFn(primitive=cir, coeff=1.)\n",
    "            grad_object = gradient_object.convert(operator=op, params=free_params)\n",
    "            value_dict = {free_params[i]: current_point[i] for i in range(len(free_params))}\n",
    "            x = grad_object.assign_parameters(value_dict).eval()\n",
    "#             print(x)\n",
    "#             analytical_gradients = np.array(x)# Change this part\n",
    "            return np.real(x)\n",
    "        \n",
    "        return gradient_function"
   ]
  },
  {
   "cell_type": "code",
   "execution_count": 11,
   "metadata": {},
   "outputs": [],
   "source": [
    "# from scipy import optimize as op\n",
    "# optimizer =  AQGD(maxiter=1000)\n",
    "# layers = 1\n",
    "# func = f\n",
    "# grad = \"param_shift\"\n",
    "# gradient_function =Gradient(grad_method=grad)\n",
    "# g_f = _convert_to_gradient_function(gradient_function, layers, 30)\n",
    "# theta = [random.uniform(0, 2 * np.pi) for _ in range(layers * ((2 * len(primes)) + len(combinations)))]\n",
    "# # res_sample = op.minimize(func, x0 = theta, method='COBYLA', options={'maxiter':1000})\n",
    "# # theta = res_sample['x']\n",
    "# # loss = res_sample['fun']\n",
    "# theta, loss, _ = optimizer.optimize(\n",
    "#             num_vars=len(theta),\n",
    "#             objective_function=func,\n",
    "#             initial_point=theta,\n",
    "#             gradient_function=g_f\n",
    "#             )"
   ]
  },
  {
   "cell_type": "code",
   "execution_count": 12,
   "metadata": {},
   "outputs": [],
   "source": [
    "# print(loss, theta)"
   ]
  },
  {
   "cell_type": "code",
   "execution_count": 13,
   "metadata": {},
   "outputs": [],
   "source": [
    "# theta = res_sample.x\n",
    "# theta =[2.763785562212966, 1.322415858639598, 1.3308235519001288, 2.4978133840322934, 4.2866331530605715, 1.1067569137053306, 0, 0]\n",
    "# qc, free_params = generate_ZZcircuit(theta, primes)\n",
    "# counts = execute(qc, backend = Aer.get_backend('aer_simulator'), shots = 2048).result().get_counts()"
   ]
  },
  {
   "cell_type": "code",
   "execution_count": 14,
   "metadata": {},
   "outputs": [],
   "source": [
    "# from qiskit.visualization import plot_histogram\n",
    "# plot_histogram(counts, figsize=(30, 20))"
   ]
  },
  {
   "cell_type": "code",
   "execution_count": 15,
   "metadata": {},
   "outputs": [],
   "source": [
    "# import math\n",
    "# n = 30\n",
    "# r = obj_function(counts, n, 0)\n",
    "# print(r)\n",
    "# og_bits = int(math.ceil(math.log2(n)))\n",
    "# compressed_bits = (len(primes)) + int(math.ceil(math.log2(r)))\n",
    "# print(\"Original bit = \", og_bits, ' Compressed_bits = ', compressed_bits, ' compression raito =', compressed_bits/ og_bits)"
   ]
  },
  {
   "cell_type": "code",
   "execution_count": 16,
   "metadata": {},
   "outputs": [
    {
     "name": "stdout",
     "output_type": "stream",
     "text": [
      "Current n =  2\n",
      "Current layer =  1\n",
      "Current opt =  0\n",
      "Current Gradient =  param_shift\n",
      "Current n =  3\n",
      "Current layer =  1\n",
      "Current opt =  0\n",
      "Current Gradient =  param_shift\n",
      "Current n =  4\n",
      "Current layer =  1\n",
      "Current opt =  0\n",
      "Current Gradient =  param_shift\n",
      "Current n =  5\n",
      "Current layer =  1\n",
      "Current opt =  0\n",
      "Current Gradient =  param_shift\n",
      "Current n =  6\n",
      "Current layer =  1\n",
      "Current opt =  0\n",
      "Current Gradient =  param_shift\n",
      "Current n =  7\n",
      "Current layer =  1\n",
      "Current opt =  0\n",
      "Current Gradient =  param_shift\n",
      "Current n =  8\n",
      "Current layer =  1\n",
      "Current opt =  0\n",
      "Current Gradient =  param_shift\n",
      "Current n =  9\n",
      "Current layer =  1\n",
      "Current opt =  0\n",
      "Current Gradient =  param_shift\n",
      "Current n =  10\n",
      "Current layer =  1\n",
      "Current opt =  0\n",
      "Current Gradient =  param_shift\n",
      "Current n =  11\n",
      "Current layer =  1\n",
      "Current opt =  0\n",
      "Current Gradient =  param_shift\n",
      "Current n =  12\n",
      "Current layer =  1\n",
      "Current opt =  0\n",
      "Current Gradient =  param_shift\n",
      "Current n =  13\n",
      "Current layer =  1\n",
      "Current opt =  0\n",
      "Current Gradient =  param_shift\n",
      "Current n =  14\n",
      "Current layer =  1\n",
      "Current opt =  0\n",
      "Current Gradient =  param_shift\n",
      "Current n =  15\n",
      "Current layer =  1\n",
      "Current opt =  0\n",
      "Current Gradient =  param_shift\n"
     ]
    }
   ],
   "source": [
    "def run(optimizer, layers, func, gradient_function, n):\n",
    "    g_f = _convert_to_gradient_function(gradient_function, layers, n)\n",
    "    theta = [random.uniform(0, 2 * np.pi) for _ in range(layers * ((2 * len(primes)) + len(combinations)))]\n",
    "    theta, loss, _ = optimizer.optimize(\n",
    "                num_vars=len(theta),\n",
    "                objective_function=func,\n",
    "                initial_point=theta,\n",
    "                gradient_function=g_f\n",
    "                )\n",
    "    return loss\n",
    "\n",
    "gradient_types = ['param_shift'] #['', 'param_shift', 'lin_comb', 'fin_diff']\n",
    "op_types = [ADAM(maxiter = 100)]#AQGD(maxiter = 500, momentum=0.02)]#, COBYLA(maxiter = 100), TNC(maxiter = 100), CG(maxiter = 100), GSLS(maxiter = 100), NELDER_MEAD(maxiter = 100)]#, NFT(maxiter = 500)]#, P_BFGS(maxfun = 500), POWELL(maxiter = 500), SLSQP(maxiter = 500)]\n",
    "loss_list = []\n",
    "\n",
    "\n",
    "for i in range(2, 16):\n",
    "    print(\"Current n = \", i)\n",
    "    fun = gen_f(i)\n",
    "    n_list = []\n",
    "    for j in range(1, 2):\n",
    "        print(\"Current layer = \", j)\n",
    "        layer_list = []\n",
    "        for k in range(len(op_types)):\n",
    "            print(\"Current opt = \", k)\n",
    "            opt = op_types[k]\n",
    "            grad_list = []\n",
    "            for g in range(len(gradient_types)):\n",
    "                print(\"Current Gradient = \", gradient_types[g] )\n",
    "#                 if g == 0:\n",
    "#                     grad = Gradient()\n",
    "#                 else:\n",
    "                grad = Gradient(grad_method=gradient_types[g])\n",
    "                samples = []\n",
    "                for _ in range(10):\n",
    "                    start = time.perf_counter()\n",
    "                    loss = run(opt,  j, fun, grad, i)\n",
    "                    end = time.perf_counter()\n",
    "                    samples.append((loss, end - start))\n",
    "                grad_list.append(samples)\n",
    "            layer_list.append(grad_list)\n",
    "        n_list.append(layer_list)\n",
    "    loss_list.append(n_list)"
   ]
  },
  {
   "cell_type": "code",
   "execution_count": 17,
   "metadata": {},
   "outputs": [
    {
     "name": "stdout",
     "output_type": "stream",
     "text": [
      "[[[[[(212, 158.33943342999555), (-1, 156.79528973798733), (32, 156.73983440099983), (32, 156.66299355600495), (32, 153.34488229898852), (-1, 151.47010670299642), (32, 151.79151486800401), (1, 152.35310176500934), (872, 152.2206054739945), (872, 152.1916576520016)]]]], [[[[(-3, 152.28277683598571), (213, 152.2773667500005), (1, 151.61173759400845), (213, 151.53657430200838), (93, 151.56699673901312), (873, 153.0417515959998), (2, 153.64845663800952), (93, 153.44106887100497), (0, 154.22217971499776), (-2, 153.46965629400802)]]]], [[[[(214, 155.39157819500542), (1, 153.22668106900528), (874, 153.2246180929942), (2, 155.16255621201708), (-2, 157.73982417100342), (874, 157.2232757890015), (1, 157.3013601199782), (3, 157.78854950799723), (-1, 155.54274958602036), (1, 152.98323352998705)]]]], [[[[(-1, 152.962133730005), (-5, 153.3092362130119), (-1, 153.55698567198124), (4, 157.55129774298985), (3, 154.70539839100093), (-1, 154.31965121699614), (2, 155.46263771600206), (3, 156.68854961398756), (0, 156.60784996199072), (-5, 153.03433213499375)]]]], [[[[(3, 152.8864426270011), (0, 153.05638597198413), (216, 155.51251152699115), (5, 153.48814673899324), (1, 153.52800137698068), (1, 153.70637424199958), (3, 154.3796421510051), (5, 152.65638451601262), (216, 151.62854691498796), (-4, 152.92490028901375)]]]], [[[[(1, 153.60336420001113), (6, 154.66696325599332), (1, 153.69008663200657), (5, 152.24497860801057), (6, 152.7308945590048), (5, 152.60435411901562), (6, 152.9779268130078), (217, 152.59521143700113), (6, 152.2560613460082), (5, 153.080615208979)]]]], [[[[(-7, 154.08705194701906), (6, 153.8922032190021), (-7, 158.22726225099177), (3, 155.30192540897406), (-7, 152.24894132398185), (-7, 153.4111147649819), (3, 154.66003220601124), (6, 154.31058216901147), (6, 157.62531751400093), (-2, 155.42394059500657)]]]], [[[[(-6, 153.41832518501906), (8, 153.731466903002), (-6, 154.44520234400989), (4, 153.83028405101504), (-6, 152.01523028698284), (-6, 151.68562438999652), (3, 153.31033748798654), (-6, 154.92486769799143), (3, 155.5993767559994), (3, 153.9260666909977)]]]], [[[[(4, 155.21575718797976), (7, 158.83509432297433), (4, 159.7503579549957), (880, 155.62642562101246), (-5, 155.53378278200398), (9, 159.16851625798154), (5, 165.05614976899233), (-5, 171.23789871501504), (4, 173.02348873700248), (8, 172.60138186701806)]]]], [[[[(-4, 170.9770769860188), (881, 171.70471083497978), (1, 167.81500956998207), (8, 164.53799773700302), (1, 165.57630067499122), (10, 164.97976460302016), (8, 165.66729936600314), (881, 163.4228674969927), (8, 165.71949329099152), (6, 164.9299464810174)]]]], [[[[(882, 164.41750298099942), (2, 166.50985603700974), (9, 162.55962606298272), (-3, 158.70236066600773), (11, 157.40170889301226), (6, 156.05793991702376), (882, 154.74027983800624), (10, 154.582117301994), (7, 155.2026651169872), (9, 155.04188285500277)]]]], [[[[(10, 157.23825966598815), (883, 154.83968420801102), (8, 155.54883566501667), (3, 156.8576783760218), (-2, 155.75704011201742), (-2, 154.74050343901035), (8, 156.51786281800014), (11, 154.18308957098634), (883, 153.4407108819869), (883, 154.0425077630207)]]]], [[[[(11, 155.7032927320106), (8, 156.4649919680087), (8, 155.95136260800064), (8, 155.72844744697795), (8, 155.86259377899114), (884, 156.01773819100345), (884, 157.14070627497858), (-1, 157.1775943299872), (13, 157.29876292700646), (-1, 158.07391626999015)]]]], [[[[(13, 157.11715825399733), (9, 156.64638932200614), (5, 159.80348270901595), (5, 161.48446661702474), (13, 160.3896354890021), (5, 159.89097609499004), (12, 160.74461433998658), (-15, 157.31020098898443), (9, 158.33651262600324), (10, 162.28405971999746)]]]]]\n"
     ]
    }
   ],
   "source": [
    "print(loss_list)"
   ]
  },
  {
   "cell_type": "code",
   "execution_count": 21,
   "metadata": {},
   "outputs": [
    {
     "data": {
      "text/plain": [
       "(14, 1, 1, 1, 10, 2)"
      ]
     },
     "execution_count": 21,
     "metadata": {},
     "output_type": "execute_result"
    }
   ],
   "source": [
    "ll = np.asarray(loss_list)\n",
    "ll.shape"
   ]
  },
  {
   "cell_type": "code",
   "execution_count": 22,
   "metadata": {},
   "outputs": [],
   "source": [
    "np.save(\"newHamTestrange15ADAM_ln\", ll,)"
   ]
  },
  {
   "cell_type": "code",
   "execution_count": null,
   "metadata": {},
   "outputs": [],
   "source": []
  }
 ],
 "metadata": {
  "kernelspec": {
   "display_name": "Python 3",
   "language": "python",
   "name": "python3"
  },
  "language_info": {
   "codemirror_mode": {
    "name": "ipython",
    "version": 3
   },
   "file_extension": ".py",
   "mimetype": "text/x-python",
   "name": "python",
   "nbconvert_exporter": "python",
   "pygments_lexer": "ipython3",
   "version": "3.8.5"
  }
 },
 "nbformat": 4,
 "nbformat_minor": 4
}
