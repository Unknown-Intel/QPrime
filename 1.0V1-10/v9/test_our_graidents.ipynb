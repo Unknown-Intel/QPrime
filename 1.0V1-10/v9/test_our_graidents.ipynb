{
 "cells": [
  {
   "cell_type": "code",
   "execution_count": 1,
   "metadata": {},
   "outputs": [],
   "source": [
    "import numpy as np\n",
    "from copy import deepcopy\n",
    "from qiskit import *\n",
    "import random\n",
    "import time\n",
    "from numpy import log as ln\n",
    "import warnings\n",
    "import math\n",
    "warnings.filterwarnings('ignore', module = 'qiskit')\n",
    "# warnings.filterwarnings(action='once')\n",
    "\n",
    "from qiskit.algorithms.optimizers import ADAM, AQGD, COBYLA, SPSA, TNC, CG, L_BFGS_B, GSLS, NELDER_MEAD, NFT, P_BFGS, POWELL, SLSQP\n",
    "from qiskit.opflow.gradients import Gradient, NaturalGradient, QFI\n",
    "from qiskit.opflow import CircuitStateFn, StateFn, I, X, Y, Z, H, CX, Zero, One, OperatorBase\n",
    "from itertools import combinations as cm"
   ]
  },
  {
   "cell_type": "code",
   "execution_count": 7,
   "metadata": {},
   "outputs": [
    {
     "name": "stdout",
     "output_type": "stream",
     "text": [
      "14\n"
     ]
    }
   ],
   "source": [
    "primes = [2,3,5,7]#,19,23,29,31]\n",
    "# primes = primes[::-1]\n",
    "combinations = list(cm(range(len(primes)), 2))\n",
    "print((2 * len(primes)) + len(combinations))"
   ]
  },
  {
   "cell_type": "code",
   "execution_count": 8,
   "metadata": {},
   "outputs": [],
   "source": [
    "def generate_circuit(n, circuit_primes, combinations, no_layers, hyperparams, assigned=True):\n",
    "#     print(circuit_primes)\n",
    "    # Generate some circuit coefficients\n",
    "    param_coeffs = []\n",
    "    root_arg = 1\n",
    "    for p in circuit_primes:\n",
    "        root_arg *= p\n",
    "\n",
    "    thetas = [qiskit.circuit.Parameter(str(i)) for i in range(no_layers * ((2 * len(circuit_primes)) + len(combinations)))]\n",
    "    thetas_rshp = np.reshape(np.asarray(thetas),(no_layers, ((2 * len(circuit_primes)) + len(combinations))))\n",
    "    \n",
    "    assert len(hyperparams) == len(thetas)\n",
    "\n",
    "    # Generate circuit\n",
    "    Qcir = QuantumCircuit(len(circuit_primes))\n",
    "    Qcir.h(range(len(circuit_primes)))\n",
    "\n",
    "    for l in range(no_layers):\n",
    "        # Set parameters\n",
    "        lngth = len(thetas_rshp[l])\n",
    "        gamma1 = thetas_rshp[l][0: len(circuit_primes)]\n",
    "        gamma2 = thetas_rshp[l][len(circuit_primes): (len(circuit_primes) + len(combinations))]\n",
    "        beta   = thetas_rshp[l][(len(circuit_primes) + len(combinations)) : lngth]\n",
    "\n",
    "        for i in range(len(circuit_primes)):          \n",
    "            param_coeffs.append(2 * ln(n / math.sqrt(root_arg)) * ln(circuit_primes[i]))\n",
    "            Qcir.rz(gamma1[i], i) #* 2 * ln(n / math.sqrt(root_arg)) * ln(circuit_primes[i])\n",
    "\n",
    "        i = 0\n",
    "        for j,k in combinations:\n",
    "            param_coeffs.append(ln(circuit_primes[j]) * ln(circuit_primes[k]))\n",
    "            Qcir.rzz(gamma2[i], j, k) #* ln(circuit_primes[j]) * ln(circuit_primes[k]),\n",
    "            i+=1\n",
    "\n",
    "        for m in range(len(circuit_primes)):\n",
    "            param_coeffs.append(1)\n",
    "            Qcir.rx(beta[m], m)\n",
    "\n",
    "    if assigned == True:\n",
    "        p_dict = {thetas[i] : hyperparams[i] for i in range(len(thetas))}\n",
    "        Qcir.assign_parameters(p_dict, inplace=True)\n",
    "\n",
    "    Qcir.measure_all()\n",
    "    \n",
    "    return Qcir, thetas , param_coeffs"
   ]
  },
  {
   "cell_type": "code",
   "execution_count": 9,
   "metadata": {},
   "outputs": [],
   "source": [
    "# def generate_ZZcircuit(params, primes, n,assigned=True):\n",
    "#     cir = QuantumCircuit(len(primes))\n",
    "#     layers = int(len(params)/((2 * len(primes)) + len(combinations)))\n",
    "#     thetas = [qiskit.circuit.Parameter(str(i)) for i in range(layers * ((2 * len(primes)) + len(combinations)))]\n",
    "#     thetas_reshape = np.reshape(np.asarray(thetas),(layers, ((2 * len(primes)) + len(combinations))))\n",
    "#     params = np.reshape(np.asarray(params),(layers, ((2 * len(primes)) + len(combinations))))\n",
    "#     combs = list(cm(range(len(primes)), 2))\n",
    "#     cir.h(range(len(primes)))\n",
    "    \n",
    "#     for m in range(layers):\n",
    "#         l = len(params[m])\n",
    "#         g = thetas_reshape[m][0: len(primes)]\n",
    "#         g_prime = [2*ln(n/math.sqrt(30))*ln(2), 2*ln(n/math.sqrt(30))*ln(3), 2*ln(n/math.sqrt(30))*ln(5)]\n",
    "#         a = thetas_reshape[m][len(primes): (len(primes) + len(combs))]\n",
    "#         a_prime = [ln(2)*ln(3), ln(2)*ln(5), ln(3)*ln(5)]\n",
    "#         b = thetas_reshape[m][(len(primes) + len(combs)) : l]\n",
    "        \n",
    "#         for h in range(len(primes)):\n",
    "#             cir.rz(g_prime[h]*g[h], h)\n",
    "        \n",
    "#         i = 0\n",
    "#         for j, k in combs:\n",
    "#             cir.rzz(a_prime[i]*a[i], j, k)\n",
    "#             i += 1\n",
    "#         for l in range(len(primes)):\n",
    "#             cir.rx(b[l], l)\n",
    "            \n",
    "#     if assigned == True:\n",
    "#         thetas_reshape = thetas_reshape.flatten()\n",
    "#         params = params.flatten()\n",
    "#         p_dict = {thetas_reshape[i] : params[i] for i in range(len(thetas))}\n",
    "#         cir.assign_parameters(p_dict, inplace=True)\n",
    "#     cir.measure_all()\n",
    "    \n",
    "#     return cir, thetas"
   ]
  },
  {
   "cell_type": "code",
   "execution_count": 10,
   "metadata": {},
   "outputs": [
    {
     "name": "stdout",
     "output_type": "stream",
     "text": [
      "Parameter Coefficients =  [Parameter(0), Parameter(1), Parameter(2), Parameter(3), Parameter(4), Parameter(5), Parameter(6), Parameter(7), Parameter(8), Parameter(9), Parameter(10), Parameter(11), Parameter(12), Parameter(13)]\n"
     ]
    }
   ],
   "source": [
    "combinations = list(cm(range(len(primes)), 2))\n",
    "hyperparam = [np.pi for _ in range(1 * ((2 * len(primes)) + len(combinations)))]\n",
    "# print(\"Random_parameters = \", hyperparam)\n",
    "# cir, free_params, param_coeffs = generate_ZZcircuit(hyperparam, primes, 2,assigned=False)\n",
    "cir2, free_params, param_coeffs = generate_circuit(2, primes, combinations, 1, hyperparam,assigned=False)\n",
    "# cir.draw('mpl')\n",
    "print(\"Parameter Coefficients = \",free_params)"
   ]
  },
  {
   "cell_type": "code",
   "execution_count": 11,
   "metadata": {},
   "outputs": [
    {
     "data": {
      "image/png": "[encoded data removed]",
      "text/plain": [
       "<Figure size 959.679x325.08 with 1 Axes>"
      ]
     },
     "execution_count": 11,
     "metadata": {},
     "output_type": "execute_result"
    }
   ],
   "source": [
    "cir2.draw('mpl')"
   ]
  },
  {
   "cell_type": "code",
   "execution_count": 7,
   "metadata": {},
   "outputs": [],
   "source": [
    "def obj_function(counts, n, penalty):\n",
    "    max_c = 0\n",
    "    max_bit = \"\"\n",
    "   \n",
    "    for c in counts:\n",
    "        if counts[c] >= max_c:\n",
    "            max_c =  counts[c]\n",
    "            max_bit = c\n",
    "    comp_primes = 1\n",
    "    build_primes = primes[::-1]\n",
    "    for i in range(len(max_bit)):\n",
    "        comp_primes *= build_primes[i]**int(max_bit[i])\n",
    "    p = 0\n",
    "    if penalty == 1:\n",
    "        if abs(comp_primes-n) > n:\n",
    "            p += comp_primes\n",
    "#     print(\"N = \", n,  \" Expectation = \", abs((n - comp_primes) + p))\n",
    "    return abs((n - comp_primes) + p)"
   ]
  },
  {
   "cell_type": "code",
   "execution_count": 8,
   "metadata": {},
   "outputs": [],
   "source": [
    "def obj_function2(counts, n, penalty):\n",
    "    max_c = 0\n",
    "    max_bit = \"\"\n",
    "    expectation = 0\n",
    "    build_primes = primes[::-1]\n",
    "    for c in counts:      \n",
    "        comp_primes = 1       \n",
    "        for i in range(len(c)):\n",
    "            comp_primes *= build_primes[i]**int(c[i])\n",
    "        p = 0\n",
    "        if penalty == 1:\n",
    "            if abs(comp_primes-n) > n:\n",
    "                p += comp_primes    \n",
    "        expectation += abs(n - comp_primes + p) * (counts[c]/2048)\n",
    "    p = 0\n",
    "    return expectation"
   ]
  },
  {
   "cell_type": "code",
   "execution_count": 9,
   "metadata": {},
   "outputs": [],
   "source": [
    "def gen_f(n, layers):\n",
    "    \n",
    "    def f(theta):\n",
    "        qc, free_params, p_coeff = generate_circuit(n, primes, combinations, layers, theta)\n",
    "        back = Aer.get_backend('aer_simulator')\n",
    "        job_sim = execute(qc, backend = back, shots = 2048).result()\n",
    "        counts = job_sim.get_counts(qc)\n",
    "        \n",
    "        return obj_function2(counts, n, 1)\n",
    "\n",
    "    return f"
   ]
  },
  {
   "cell_type": "code",
   "execution_count": 10,
   "metadata": {},
   "outputs": [],
   "source": [
    "def X_generator(primes, identity):\n",
    "    #Generate X value for hamiltonian\n",
    "    constant = 0\n",
    "    for i in range(len(primes)):\n",
    "        #Build Constant value iteratively\n",
    "        constant += ln(primes[i])\n",
    "        \n",
    "        if i == 0:\n",
    "            z_value = Z\n",
    "        else:\n",
    "            z_value = I\n",
    "        #Build rest of X\n",
    "        build_primes = primes[::-1]\n",
    "        for j in range(1, len(primes)):\n",
    "            if j == i:\n",
    "                z_value = z_value ^ Z\n",
    "            else:\n",
    "                z_value = z_value ^ I\n",
    "        if i == 0:\n",
    "            x = -ln(build_primes[i]) * z_value\n",
    "        else:\n",
    "            x -= ln(build_primes[i]) * z_value\n",
    "    #Combine Both to form X\n",
    "    x += constant * identity\n",
    "\n",
    "    return x\n",
    "\n",
    "def hamiltonian(n, primes):\n",
    "    #Generate Hamitonian according to number of primes\n",
    "    identity = I\n",
    "    \n",
    "    for i in range(len(primes) - 1):\n",
    "        identity = identity ^ I\n",
    "        \n",
    "    x = X_generator(primes, identity)\n",
    "    \n",
    "    lnn = float(ln(n))\n",
    "    \n",
    "    h = ((lnn**2) * identity) - (lnn * x) + (1 / 4 * (x ** 2))\n",
    "    \n",
    "    return h"
   ]
  },
  {
   "cell_type": "code",
   "execution_count": 11,
   "metadata": {},
   "outputs": [],
   "source": [
    "def _convert_to_gradient_function(gradient_object, layers, n):\n",
    "\n",
    "        def gradient_function(current_point):\n",
    "            combinations = list(cm(range(len(primes)), 2))\n",
    "            cir, free_params = generate_circuit(n, primes, combinations, layers, current_point, assigned=False)\n",
    "            cir.remove_final_measurements()\n",
    "            c = hamiltonian(n, primes)\n",
    "            op = ~StateFn(c) @ CircuitStateFn(primitive=cir, coeff=1.)\n",
    "            grad_object = gradient_object.convert(operator=op, params=free_params)\n",
    "            value_dict = {free_params[i]: current_point[i] for i in range(len(free_params))}\n",
    "            x = grad_object.assign_parameters(value_dict).eval()\n",
    "#             np.save(\"gradient_python.npy\", np.real(x))\n",
    "#             analytical_gradients = np.array(x)# Change this part\n",
    "            return np.real(x)\n",
    "        \n",
    "        return gradient_function"
   ]
  },
  {
   "cell_type": "code",
   "execution_count": 12,
   "metadata": {},
   "outputs": [],
   "source": [
    "def _convert_to_gradient_function2(gradient_object, layers, n):\n",
    "\n",
    "        def gradient_function2(current_point):\n",
    "            combinations = list(cm(range(len(primes)), 2))\n",
    "            circuit, free_params, param_coeffs = generate_circuit(n, primes, combinations, layers, current_point, assigned=False)\n",
    "            circuit.remove_final_measurements()\n",
    "            c = hamiltonian(n, primes).to_matrix()\n",
    "            \n",
    "            statevec = []\n",
    "            for shift in [np.pi/2, -np.pi/2]:\n",
    "                temp = []\n",
    "                for j in range(len(free_params)):\n",
    "                    cir = deepcopy(circuit)                   \n",
    "                    hyparams = deepcopy(current_point) \n",
    "                    free_params = list(cir.parameters)\n",
    "                    \n",
    "                    hyparams[j] += (shift / param_coeffs[j])\n",
    "    #         print(hyparams)\n",
    "                    p_dict = {free_params[i] : hyparams[i] for i in range(len(free_params))}\n",
    "    #         print(p_dict)\n",
    "                    cir.assign_parameters(p_dict, inplace=True)\n",
    "                 \n",
    "                    sim = Aer.get_backend('aer_simulator')\n",
    "                    cir.save_statevector()\n",
    "                    qobj = assemble(cir)     # Create a Qobj from the circuit for the simulator to run\n",
    "                    result = sim.run(qobj).result()\n",
    "                    sv = np.round((result.get_statevector(cir)).reshape(2 ** len(primes),1), 15)\n",
    "#                     print(sv)\n",
    "                \n",
    "#             print(sv)\n",
    "    #         vec = [(float(c.real), float(c.imag)) for c in sv]\n",
    "                    temp.append(sv)\n",
    "                statevec.append(temp)\n",
    "#             op = ~StateFn(c) @ CircuitStateFn(primitive=cir, coeff=1.)\n",
    "#             grad_object = gradient_object.convert(operator=op, params=free_params)\n",
    "#             value_dict = {free_params[i]: current_point[i] for i in range(len(free_params))}\n",
    "#             x = grad_object.assign_parameters(value_dict).eval()\n",
    "#             np.save(\"gradient_python.npy\", np.real(x))\n",
    "#             analytical_gradients = np.array(x)# Change this part\n",
    "            g2 = []\n",
    "            \n",
    "            for i in range(len(free_params)):\n",
    "                p_shift = np.dot(np.asmatrix(statevec[0][i]).H, np.dot(c, statevec[0][i]))\n",
    "                n_shift = np.dot(np.asmatrix(statevec[1][i]).H, np.dot(c, statevec[1][i]))\n",
    "#                 print(\"+pi/2\", p_shift)\n",
    "#                 print(\"-pi/2\", n_shift)\n",
    "                dx = param_coeffs[i] * 0.5 * (p_shift - n_shift)\n",
    "                \n",
    "                g2.append(np.real(dx.item()))\n",
    "            return np.asarray(g2)\n",
    "        \n",
    "        return gradient_function2"
   ]
  },
  {
   "cell_type": "code",
   "execution_count": 13,
   "metadata": {},
   "outputs": [],
   "source": [
    "def run(optimizer, layers, func, gradient_function, n):\n",
    "    g_f = _convert_to_gradient_function2(gradient_function, layers, n)\n",
    "    theta = [random.uniform(0, 2 *np.pi) for _ in range(layers * ((2 * len(primes)) + len(combinations)))]\n",
    "    theta, loss, _ = optimizer.optimize(\n",
    "                num_vars=len(theta),\n",
    "                objective_function=func,\n",
    "                initial_point=theta,\n",
    "                gradient_function=g_f\n",
    "                )\n",
    "    qc, free_params, p_coeff = generate_circuit(n, primes, combinations, layers, theta)\n",
    "    back = Aer.get_backend('aer_simulator')\n",
    "    job_sim = execute(qc, backend = back, shots = 2048).result()\n",
    "    counts = job_sim.get_counts(qc)\n",
    "    loss = obj_function(counts, n, 0)\n",
    "    return loss,theta"
   ]
  },
  {
   "cell_type": "code",
   "execution_count": 14,
   "metadata": {},
   "outputs": [
    {
     "ename": "KeyboardInterrupt",
     "evalue": "",
     "output_type": "error",
     "traceback": [
      "\u001b[0;31m---------------------------------------------------------------------------\u001b[0m",
      "\u001b[0;31mKeyboardInterrupt\u001b[0m                         Traceback (most recent call last)",
      "\u001b[0;32m<ipython-input-14-e84ee44ee4f2>\u001b[0m in \u001b[0;36m<module>\u001b[0;34m\u001b[0m\n\u001b[1;32m     13\u001b[0m             \u001b[0mn\u001b[0m \u001b[0;34m=\u001b[0m \u001b[0mj\u001b[0m\u001b[0;34m\u001b[0m\u001b[0;34m\u001b[0m\u001b[0m\n\u001b[1;32m     14\u001b[0m             \u001b[0mstart\u001b[0m \u001b[0;34m=\u001b[0m \u001b[0mtimeit\u001b[0m\u001b[0;34m.\u001b[0m\u001b[0mdefault_timer\u001b[0m\u001b[0;34m(\u001b[0m\u001b[0;34m)\u001b[0m\u001b[0;34m\u001b[0m\u001b[0;34m\u001b[0m\u001b[0m\n\u001b[0;32m---> 15\u001b[0;31m             \u001b[0mloss\u001b[0m\u001b[0;34m,\u001b[0m \u001b[0mthetas\u001b[0m \u001b[0;34m=\u001b[0m \u001b[0mrun\u001b[0m\u001b[0;34m(\u001b[0m\u001b[0moptimizer\u001b[0m\u001b[0;34m,\u001b[0m \u001b[0;36m7\u001b[0m\u001b[0;34m,\u001b[0m \u001b[0mgen_f\u001b[0m\u001b[0;34m(\u001b[0m\u001b[0mn\u001b[0m\u001b[0;34m,\u001b[0m \u001b[0;36m7\u001b[0m\u001b[0;34m)\u001b[0m\u001b[0;34m,\u001b[0m \u001b[0mgrad\u001b[0m\u001b[0;34m,\u001b[0m \u001b[0mn\u001b[0m\u001b[0;34m)\u001b[0m\u001b[0;34m\u001b[0m\u001b[0;34m\u001b[0m\u001b[0m\n\u001b[0m\u001b[1;32m     16\u001b[0m             \u001b[0mend\u001b[0m \u001b[0;34m=\u001b[0m \u001b[0mtimeit\u001b[0m\u001b[0;34m.\u001b[0m\u001b[0mdefault_timer\u001b[0m\u001b[0;34m(\u001b[0m\u001b[0;34m)\u001b[0m\u001b[0;34m\u001b[0m\u001b[0;34m\u001b[0m\u001b[0m\n\u001b[1;32m     17\u001b[0m             \u001b[0mprint\u001b[0m\u001b[0;34m(\u001b[0m\u001b[0;34m\"Time Taken : \"\u001b[0m\u001b[0;34m,\u001b[0m \u001b[0mend\u001b[0m \u001b[0;34m-\u001b[0m \u001b[0mstart\u001b[0m\u001b[0;34m)\u001b[0m\u001b[0;34m\u001b[0m\u001b[0;34m\u001b[0m\u001b[0m\n",
      "\u001b[0;32m<ipython-input-13-e4e1ce083f78>\u001b[0m in \u001b[0;36mrun\u001b[0;34m(optimizer, layers, func, gradient_function, n)\u001b[0m\n\u001b[1;32m      2\u001b[0m     \u001b[0mg_f\u001b[0m \u001b[0;34m=\u001b[0m \u001b[0m_convert_to_gradient_function2\u001b[0m\u001b[0;34m(\u001b[0m\u001b[0mgradient_function\u001b[0m\u001b[0;34m,\u001b[0m \u001b[0mlayers\u001b[0m\u001b[0;34m,\u001b[0m \u001b[0mn\u001b[0m\u001b[0;34m)\u001b[0m\u001b[0;34m\u001b[0m\u001b[0;34m\u001b[0m\u001b[0m\n\u001b[1;32m      3\u001b[0m     \u001b[0mtheta\u001b[0m \u001b[0;34m=\u001b[0m \u001b[0;34m[\u001b[0m\u001b[0mrandom\u001b[0m\u001b[0;34m.\u001b[0m\u001b[0muniform\u001b[0m\u001b[0;34m(\u001b[0m\u001b[0;36m0\u001b[0m\u001b[0;34m,\u001b[0m \u001b[0;36m2\u001b[0m \u001b[0;34m*\u001b[0m\u001b[0mnp\u001b[0m\u001b[0;34m.\u001b[0m\u001b[0mpi\u001b[0m\u001b[0;34m)\u001b[0m \u001b[0;32mfor\u001b[0m \u001b[0m_\u001b[0m \u001b[0;32min\u001b[0m \u001b[0mrange\u001b[0m\u001b[0;34m(\u001b[0m\u001b[0mlayers\u001b[0m \u001b[0;34m*\u001b[0m \u001b[0;34m(\u001b[0m\u001b[0;34m(\u001b[0m\u001b[0;36m2\u001b[0m \u001b[0;34m*\u001b[0m \u001b[0mlen\u001b[0m\u001b[0;34m(\u001b[0m\u001b[0mprimes\u001b[0m\u001b[0;34m)\u001b[0m\u001b[0;34m)\u001b[0m \u001b[0;34m+\u001b[0m \u001b[0mlen\u001b[0m\u001b[0;34m(\u001b[0m\u001b[0mcombinations\u001b[0m\u001b[0;34m)\u001b[0m\u001b[0;34m)\u001b[0m\u001b[0;34m)\u001b[0m\u001b[0;34m]\u001b[0m\u001b[0;34m\u001b[0m\u001b[0;34m\u001b[0m\u001b[0m\n\u001b[0;32m----> 4\u001b[0;31m     theta, loss, _ = optimizer.optimize(\n\u001b[0m\u001b[1;32m      5\u001b[0m                 \u001b[0mnum_vars\u001b[0m\u001b[0;34m=\u001b[0m\u001b[0mlen\u001b[0m\u001b[0;34m(\u001b[0m\u001b[0mtheta\u001b[0m\u001b[0;34m)\u001b[0m\u001b[0;34m,\u001b[0m\u001b[0;34m\u001b[0m\u001b[0;34m\u001b[0m\u001b[0m\n\u001b[1;32m      6\u001b[0m                 \u001b[0mobjective_function\u001b[0m\u001b[0;34m=\u001b[0m\u001b[0mfunc\u001b[0m\u001b[0;34m,\u001b[0m\u001b[0;34m\u001b[0m\u001b[0;34m\u001b[0m\u001b[0m\n",
      "\u001b[0;32m~/anaconda3/lib/python3.8/site-packages/qiskit/algorithms/optimizers/aqgd.py\u001b[0m in \u001b[0;36moptimize\u001b[0;34m(self, num_vars, objective_function, gradient_function, variable_bounds, initial_point)\u001b[0m\n\u001b[1;32m    338\u001b[0m                 \u001b[0;32melse\u001b[0m\u001b[0;34m:\u001b[0m\u001b[0;34m\u001b[0m\u001b[0;34m\u001b[0m\u001b[0m\n\u001b[1;32m    339\u001b[0m                     \u001b[0mobjval\u001b[0m \u001b[0;34m=\u001b[0m \u001b[0mobjective_function\u001b[0m\u001b[0;34m(\u001b[0m\u001b[0mparams\u001b[0m\u001b[0;34m)\u001b[0m\u001b[0;34m\u001b[0m\u001b[0;34m\u001b[0m\u001b[0m\n\u001b[0;32m--> 340\u001b[0;31m                     \u001b[0mgradient\u001b[0m \u001b[0;34m=\u001b[0m \u001b[0mgradient_function\u001b[0m\u001b[0;34m(\u001b[0m\u001b[0mparams\u001b[0m\u001b[0;34m)\u001b[0m\u001b[0;34m\u001b[0m\u001b[0;34m\u001b[0m\u001b[0m\n\u001b[0m\u001b[1;32m    341\u001b[0m \u001b[0;34m\u001b[0m\u001b[0m\n\u001b[1;32m    342\u001b[0m                 logger.info(\n",
      "\u001b[0;32m<ipython-input-12-7968ca5ba677>\u001b[0m in \u001b[0;36mgradient_function2\u001b[0;34m(current_point)\u001b[0m\n\u001b[1;32m     23\u001b[0m                     \u001b[0msim\u001b[0m \u001b[0;34m=\u001b[0m \u001b[0mAer\u001b[0m\u001b[0;34m.\u001b[0m\u001b[0mget_backend\u001b[0m\u001b[0;34m(\u001b[0m\u001b[0;34m'aer_simulator'\u001b[0m\u001b[0;34m)\u001b[0m\u001b[0;34m\u001b[0m\u001b[0;34m\u001b[0m\u001b[0m\n\u001b[1;32m     24\u001b[0m                     \u001b[0mcir\u001b[0m\u001b[0;34m.\u001b[0m\u001b[0msave_statevector\u001b[0m\u001b[0;34m(\u001b[0m\u001b[0;34m)\u001b[0m\u001b[0;34m\u001b[0m\u001b[0;34m\u001b[0m\u001b[0m\n\u001b[0;32m---> 25\u001b[0;31m                     \u001b[0mqobj\u001b[0m \u001b[0;34m=\u001b[0m \u001b[0massemble\u001b[0m\u001b[0;34m(\u001b[0m\u001b[0mcir\u001b[0m\u001b[0;34m)\u001b[0m     \u001b[0;31m# Create a Qobj from the circuit for the simulator to run\u001b[0m\u001b[0;34m\u001b[0m\u001b[0;34m\u001b[0m\u001b[0m\n\u001b[0m\u001b[1;32m     26\u001b[0m                     \u001b[0mresult\u001b[0m \u001b[0;34m=\u001b[0m \u001b[0msim\u001b[0m\u001b[0;34m.\u001b[0m\u001b[0mrun\u001b[0m\u001b[0;34m(\u001b[0m\u001b[0mqobj\u001b[0m\u001b[0;34m)\u001b[0m\u001b[0;34m.\u001b[0m\u001b[0mresult\u001b[0m\u001b[0;34m(\u001b[0m\u001b[0;34m)\u001b[0m\u001b[0;34m\u001b[0m\u001b[0;34m\u001b[0m\u001b[0m\n\u001b[1;32m     27\u001b[0m                     \u001b[0msv\u001b[0m \u001b[0;34m=\u001b[0m \u001b[0mnp\u001b[0m\u001b[0;34m.\u001b[0m\u001b[0mround\u001b[0m\u001b[0;34m(\u001b[0m\u001b[0;34m(\u001b[0m\u001b[0mresult\u001b[0m\u001b[0;34m.\u001b[0m\u001b[0mget_statevector\u001b[0m\u001b[0;34m(\u001b[0m\u001b[0mcir\u001b[0m\u001b[0;34m)\u001b[0m\u001b[0;34m)\u001b[0m\u001b[0;34m.\u001b[0m\u001b[0mreshape\u001b[0m\u001b[0;34m(\u001b[0m\u001b[0;36m2\u001b[0m \u001b[0;34m**\u001b[0m \u001b[0mlen\u001b[0m\u001b[0;34m(\u001b[0m\u001b[0mprimes\u001b[0m\u001b[0;34m)\u001b[0m\u001b[0;34m,\u001b[0m\u001b[0;36m1\u001b[0m\u001b[0;34m)\u001b[0m\u001b[0;34m,\u001b[0m \u001b[0;36m15\u001b[0m\u001b[0;34m)\u001b[0m\u001b[0;34m\u001b[0m\u001b[0;34m\u001b[0m\u001b[0m\n",
      "\u001b[0;32m~/anaconda3/lib/python3.8/site-packages/qiskit/compiler/assembler.py\u001b[0m in \u001b[0;36massemble\u001b[0;34m(experiments, backend, qobj_id, qobj_header, shots, memory, max_credits, seed_simulator, qubit_lo_freq, meas_lo_freq, qubit_lo_range, meas_lo_range, schedule_los, meas_level, meas_return, meas_map, memory_slot_size, rep_time, rep_delay, parameter_binds, parametric_pulses, init_qubits, **run_config)\u001b[0m\n\u001b[1;32m    196\u001b[0m         \u001b[0mend_time\u001b[0m \u001b[0;34m=\u001b[0m \u001b[0mtime\u001b[0m\u001b[0;34m(\u001b[0m\u001b[0;34m)\u001b[0m\u001b[0;34m\u001b[0m\u001b[0;34m\u001b[0m\u001b[0m\n\u001b[1;32m    197\u001b[0m         \u001b[0m_log_assembly_time\u001b[0m\u001b[0;34m(\u001b[0m\u001b[0mstart_time\u001b[0m\u001b[0;34m,\u001b[0m \u001b[0mend_time\u001b[0m\u001b[0;34m)\u001b[0m\u001b[0;34m\u001b[0m\u001b[0;34m\u001b[0m\u001b[0m\n\u001b[0;32m--> 198\u001b[0;31m         return assemble_circuits(\n\u001b[0m\u001b[1;32m    199\u001b[0m             \u001b[0mcircuits\u001b[0m\u001b[0;34m=\u001b[0m\u001b[0mbound_experiments\u001b[0m\u001b[0;34m,\u001b[0m\u001b[0;34m\u001b[0m\u001b[0;34m\u001b[0m\u001b[0m\n\u001b[1;32m    200\u001b[0m             \u001b[0mqobj_id\u001b[0m\u001b[0;34m=\u001b[0m\u001b[0mqobj_id\u001b[0m\u001b[0;34m,\u001b[0m\u001b[0;34m\u001b[0m\u001b[0;34m\u001b[0m\u001b[0m\n",
      "\u001b[0;32m~/anaconda3/lib/python3.8/site-packages/qiskit/assembler/assemble_circuits.py\u001b[0m in \u001b[0;36massemble_circuits\u001b[0;34m(circuits, run_config, qobj_id, qobj_header)\u001b[0m\n\u001b[1;32m    314\u001b[0m     \"\"\"\n\u001b[1;32m    315\u001b[0m     \u001b[0;31m# assemble the circuit experiments\u001b[0m\u001b[0;34m\u001b[0m\u001b[0;34m\u001b[0m\u001b[0;34m\u001b[0m\u001b[0m\n\u001b[0;32m--> 316\u001b[0;31m     \u001b[0mexperiments_and_pulse_libs\u001b[0m \u001b[0;34m=\u001b[0m \u001b[0mparallel_map\u001b[0m\u001b[0;34m(\u001b[0m\u001b[0m_assemble_circuit\u001b[0m\u001b[0;34m,\u001b[0m \u001b[0mcircuits\u001b[0m\u001b[0;34m,\u001b[0m \u001b[0;34m[\u001b[0m\u001b[0mrun_config\u001b[0m\u001b[0;34m]\u001b[0m\u001b[0;34m)\u001b[0m\u001b[0;34m\u001b[0m\u001b[0;34m\u001b[0m\u001b[0m\n\u001b[0m\u001b[1;32m    317\u001b[0m     \u001b[0mexperiments\u001b[0m \u001b[0;34m=\u001b[0m \u001b[0;34m[\u001b[0m\u001b[0;34m]\u001b[0m\u001b[0;34m\u001b[0m\u001b[0;34m\u001b[0m\u001b[0m\n\u001b[1;32m    318\u001b[0m     \u001b[0mpulse_library\u001b[0m \u001b[0;34m=\u001b[0m \u001b[0;34m{\u001b[0m\u001b[0;34m}\u001b[0m\u001b[0;34m\u001b[0m\u001b[0;34m\u001b[0m\u001b[0m\n",
      "\u001b[0;32m~/anaconda3/lib/python3.8/site-packages/qiskit/tools/parallel.py\u001b[0m in \u001b[0;36mparallel_map\u001b[0;34m(task, values, task_args, task_kwargs, num_processes)\u001b[0m\n\u001b[1;32m    130\u001b[0m         \u001b[0;32mreturn\u001b[0m \u001b[0;34m[\u001b[0m\u001b[0;34m]\u001b[0m\u001b[0;34m\u001b[0m\u001b[0;34m\u001b[0m\u001b[0m\n\u001b[1;32m    131\u001b[0m     \u001b[0;32mif\u001b[0m \u001b[0mlen\u001b[0m\u001b[0;34m(\u001b[0m\u001b[0mvalues\u001b[0m\u001b[0;34m)\u001b[0m \u001b[0;34m==\u001b[0m \u001b[0;36m1\u001b[0m\u001b[0;34m:\u001b[0m\u001b[0;34m\u001b[0m\u001b[0;34m\u001b[0m\u001b[0m\n\u001b[0;32m--> 132\u001b[0;31m         \u001b[0;32mreturn\u001b[0m \u001b[0;34m[\u001b[0m\u001b[0mtask\u001b[0m\u001b[0;34m(\u001b[0m\u001b[0mvalues\u001b[0m\u001b[0;34m[\u001b[0m\u001b[0;36m0\u001b[0m\u001b[0;34m]\u001b[0m\u001b[0;34m,\u001b[0m \u001b[0;34m*\u001b[0m\u001b[0mtask_args\u001b[0m\u001b[0;34m,\u001b[0m \u001b[0;34m**\u001b[0m\u001b[0mtask_kwargs\u001b[0m\u001b[0;34m)\u001b[0m\u001b[0;34m]\u001b[0m\u001b[0;34m\u001b[0m\u001b[0;34m\u001b[0m\u001b[0m\n\u001b[0m\u001b[1;32m    133\u001b[0m \u001b[0;34m\u001b[0m\u001b[0m\n\u001b[1;32m    134\u001b[0m     \u001b[0mPublisher\u001b[0m\u001b[0;34m(\u001b[0m\u001b[0;34m)\u001b[0m\u001b[0;34m.\u001b[0m\u001b[0mpublish\u001b[0m\u001b[0;34m(\u001b[0m\u001b[0;34m\"terra.parallel.start\"\u001b[0m\u001b[0;34m,\u001b[0m \u001b[0mlen\u001b[0m\u001b[0;34m(\u001b[0m\u001b[0mvalues\u001b[0m\u001b[0;34m)\u001b[0m\u001b[0;34m)\u001b[0m\u001b[0;34m\u001b[0m\u001b[0;34m\u001b[0m\u001b[0m\n",
      "\u001b[0;32m~/anaconda3/lib/python3.8/site-packages/qiskit/assembler/assemble_circuits.py\u001b[0m in \u001b[0;36m_assemble_circuit\u001b[0;34m(circuit, run_config)\u001b[0m\n\u001b[1;32m    117\u001b[0m \u001b[0;34m\u001b[0m\u001b[0m\n\u001b[1;32m    118\u001b[0m     \u001b[0minstructions\u001b[0m \u001b[0;34m=\u001b[0m \u001b[0;34m[\u001b[0m\u001b[0;34m]\u001b[0m\u001b[0;34m\u001b[0m\u001b[0;34m\u001b[0m\u001b[0m\n\u001b[0;32m--> 119\u001b[0;31m     \u001b[0;32mfor\u001b[0m \u001b[0mop_context\u001b[0m \u001b[0;32min\u001b[0m \u001b[0mcircuit\u001b[0m\u001b[0;34m.\u001b[0m\u001b[0mdata\u001b[0m\u001b[0;34m:\u001b[0m\u001b[0;34m\u001b[0m\u001b[0;34m\u001b[0m\u001b[0m\n\u001b[0m\u001b[1;32m    120\u001b[0m         \u001b[0minstruction\u001b[0m \u001b[0;34m=\u001b[0m \u001b[0mop_context\u001b[0m\u001b[0;34m[\u001b[0m\u001b[0;36m0\u001b[0m\u001b[0;34m]\u001b[0m\u001b[0;34m.\u001b[0m\u001b[0massemble\u001b[0m\u001b[0;34m(\u001b[0m\u001b[0;34m)\u001b[0m\u001b[0;34m\u001b[0m\u001b[0;34m\u001b[0m\u001b[0m\n\u001b[1;32m    121\u001b[0m \u001b[0;34m\u001b[0m\u001b[0m\n",
      "\u001b[0;32m~/anaconda3/lib/python3.8/_collections_abc.py\u001b[0m in \u001b[0;36m__iter__\u001b[0;34m(self)\u001b[0m\n\u001b[1;32m    876\u001b[0m                 \u001b[0mi\u001b[0m \u001b[0;34m+=\u001b[0m \u001b[0;36m1\u001b[0m\u001b[0;34m\u001b[0m\u001b[0;34m\u001b[0m\u001b[0m\n\u001b[1;32m    877\u001b[0m         \u001b[0;32mexcept\u001b[0m \u001b[0mIndexError\u001b[0m\u001b[0;34m:\u001b[0m\u001b[0;34m\u001b[0m\u001b[0;34m\u001b[0m\u001b[0m\n\u001b[0;32m--> 878\u001b[0;31m             \u001b[0;32mreturn\u001b[0m\u001b[0;34m\u001b[0m\u001b[0;34m\u001b[0m\u001b[0m\n\u001b[0m\u001b[1;32m    879\u001b[0m \u001b[0;34m\u001b[0m\u001b[0m\n\u001b[1;32m    880\u001b[0m     \u001b[0;32mdef\u001b[0m \u001b[0m__contains__\u001b[0m\u001b[0;34m(\u001b[0m\u001b[0mself\u001b[0m\u001b[0;34m,\u001b[0m \u001b[0mvalue\u001b[0m\u001b[0;34m)\u001b[0m\u001b[0;34m:\u001b[0m\u001b[0;34m\u001b[0m\u001b[0;34m\u001b[0m\u001b[0m\n",
      "\u001b[0;31mKeyboardInterrupt\u001b[0m: "
     ]
    }
   ],
   "source": [
    "import timeit\n",
    "combinations = list(cm(range(len(primes)), 2))\n",
    "dist =  []\n",
    "lr_list = [1]\n",
    "for j in [15000, 21000, 30030, 53728]:\n",
    "    temp = []\n",
    "#     cir = generate_circuit(n, primes, combinations, 1, hyperparams, assigned=False)\n",
    "    for l in lr_list:\n",
    "        temp1 = []\n",
    "        for i in range(1):\n",
    "            grad = Gradient(grad_method=\"param_shift\")\n",
    "            optimizer = AQGD(maxiter=1000)\n",
    "            n = j\n",
    "            start = timeit.default_timer()\n",
    "            loss, thetas = run(optimizer, 7, gen_f(n, 7), grad, n)\n",
    "            end = timeit.default_timer()\n",
    "            print(\"Time Taken : \", end - start)\n",
    "            temp1.append(loss)\n",
    "        temp.append(temp1)\n",
    "    dist.append(temp)\n",
    "    print(j)"
   ]
  },
  {
   "cell_type": "code",
   "execution_count": null,
   "metadata": {},
   "outputs": [],
   "source": [
    "import numpy as np\n",
    "\n",
    "import matplotlib.pyplot as plt\n",
    "%matplotlib inline\n",
    "\n",
    "fig, ax = plt.subplots(5, 6)\n",
    "fig.set_size_inches(30, 20)\n",
    "n = 0\n",
    "for k in range(5):\n",
    "    for l in range(6):\n",
    "        ax[k][l].set_title(\"n=\"+ str(n+2) )\n",
    "        ax[k][l].hist(dist[n], bins=10, label=[\"1\"])\n",
    "        ax[k][l].legend()\n",
    "        n += 1\n",
    "        if n >= 29:\n",
    "            break"
   ]
  },
  {
   "cell_type": "code",
   "execution_count": null,
   "metadata": {},
   "outputs": [],
   "source": [
    "print(dist)"
   ]
  },
  {
   "cell_type": "code",
   "execution_count": null,
   "metadata": {},
   "outputs": [],
   "source": []
  }
 ],
 "metadata": {
  "kernelspec": {
   "display_name": "Python 3",
   "language": "python",
   "name": "python3"
  },
  "language_info": {
   "codemirror_mode": {
    "name": "ipython",
    "version": 3
   },
   "file_extension": ".py",
   "mimetype": "text/x-python",
   "name": "python",
   "nbconvert_exporter": "python",
   "pygments_lexer": "ipython3",
   "version": "3.8.5"
  }
 },
 "nbformat": 4,
 "nbformat_minor": 4
}
