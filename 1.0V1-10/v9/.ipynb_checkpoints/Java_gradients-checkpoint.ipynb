{
 "cells": [
  {
   "cell_type": "code",
   "execution_count": 1,
   "metadata": {},
   "outputs": [],
   "source": [
    "import numpy as np\n",
    "from qiskit import *\n",
    "import random\n",
    "import time\n",
    "from numpy import log as ln\n",
    "import warnings\n",
    "import math\n",
    "warnings.filterwarnings('ignore', module = 'qiskit')\n",
    "# warnings.filterwarnings(action='once')\n",
    "\n",
    "from qiskit.algorithms.optimizers import ADAM, AQGD, COBYLA, SPSA, TNC, CG, L_BFGS_B, GSLS, NELDER_MEAD, NFT, P_BFGS, POWELL, SLSQP\n",
    "from qiskit.opflow.gradients import Gradient, NaturalGradient, QFI\n",
    "from qiskit.opflow import CircuitStateFn, StateFn, I, X, Y, Z, H, CX, Zero, One, OperatorBase,CircuitOp, ComposedOp, ListOp,SummedOp\n",
    "from itertools import combinations as cm"
   ]
  },
  {
   "cell_type": "code",
   "execution_count": 44,
   "metadata": {},
   "outputs": [
    {
     "name": "stdout",
     "output_type": "stream",
     "text": [
      "5\n"
     ]
    }
   ],
   "source": [
    "primes = [2,3]#,5,7,11,17,19,23]#,29,31]\n",
    "# primes = primes[::-1]\n",
    "combs = list(cm(range(len(primes)), 2))\n",
    "print((2 * len(primes)) + len(combs))"
   ]
  },
  {
   "cell_type": "code",
   "execution_count": 45,
   "metadata": {},
   "outputs": [],
   "source": [
    "def generate_circuit(n, circuit_primes, combinations, no_layers, hyperparams, assigned=True):\n",
    "#     print(circuit_primes)\n",
    "    # Generate some circuit coefficients\n",
    "    root_arg = 1\n",
    "    for p in circuit_primes:\n",
    "        root_arg *= p\n",
    "\n",
    "    thetas = [qiskit.circuit.Parameter(str(i)) for i in range(no_layers * ((2 * len(circuit_primes)) + len(combinations)))]\n",
    "    thetas_rshp = np.reshape(np.asarray(thetas),(no_layers, ((2 * len(circuit_primes)) + len(combinations))))\n",
    "   \n",
    "    assert len(hyperparams) == len(thetas)\n",
    "\n",
    "    # Generate circuit\n",
    "    Qcir = QuantumCircuit(len(circuit_primes))\n",
    "    Qcir.h(range(len(circuit_primes)))\n",
    "\n",
    "    for l in range(no_layers):\n",
    "        # Set parameters\n",
    "        lngth = len(thetas_rshp[l])\n",
    "        gamma1 = thetas_rshp[l][0: len(circuit_primes)]\n",
    "        gamma2 = thetas_rshp[l][len(circuit_primes): (len(circuit_primes) + len(combinations))]\n",
    "        beta   = thetas_rshp[l][(len(circuit_primes) + len(combinations)) : lngth]\n",
    "\n",
    "        for i in range(len(circuit_primes)):\n",
    "            Qcir.rz(gamma1[i] * 2 * ln(n / math.sqrt(root_arg)) * ln(circuit_primes[i]), i)\n",
    "\n",
    "        i = 0\n",
    "        for j,k in combinations:\n",
    "            Qcir.rzz(gamma2[i] * ln(circuit_primes[j]) * ln(circuit_primes[k]), j, k)\n",
    "            i+=1\n",
    "\n",
    "        for m in range(len(circuit_primes)):\n",
    "            Qcir.rx(beta[m], m)\n",
    "\n",
    "        if assigned == True:\n",
    "            p_dict = {thetas[i] : hyperparams[i] for i in range(len(thetas))}\n",
    "            Qcir.assign_parameters(p_dict, inplace=True)\n",
    "\n",
    "    Qcir.measure_all()\n",
    "    \n",
    "    return Qcir, thetas"
   ]
  },
  {
   "cell_type": "code",
   "execution_count": 4,
   "metadata": {},
   "outputs": [],
   "source": [
    "# def generate_ZZcircuit(params, primes, n,assigned=True):\n",
    "#     cir = QuantumCircuit(len(primes))\n",
    "#     layers = int(len(params)/((2 * len(primes)) + len(combinations)))\n",
    "#     thetas = [qiskit.circuit.Parameter(str(i)) for i in range(layers * ((2 * len(primes)) + len(combinations)))]\n",
    "#     thetas_reshape = np.reshape(np.asarray(thetas),(layers, ((2 * len(primes)) + len(combinations))))\n",
    "#     params = np.reshape(np.asarray(params),(layers, ((2 * len(primes)) + len(combinations))))\n",
    "#     combs = list(cm(range(len(primes)), 2))\n",
    "#     cir.h(range(len(primes)))\n",
    "    \n",
    "#     for m in range(layers):\n",
    "#         l = len(params[m])\n",
    "#         g = thetas_reshape[m][0: len(primes)]\n",
    "#         g_prime = [2*ln(n/math.sqrt(30))*ln(2), 2*ln(n/math.sqrt(30))*ln(3), 2*ln(n/math.sqrt(30))*ln(5)]\n",
    "#         a = thetas_reshape[m][len(primes): (len(primes) + len(combs))]\n",
    "#         a_prime = [ln(2)*ln(3), ln(2)*ln(5), ln(3)*ln(5)]\n",
    "#         b = thetas_reshape[m][(len(primes) + len(combs)) : l]\n",
    "        \n",
    "#         for h in range(len(primes)):\n",
    "#             cir.rz(g_prime[h]*g[h], h)\n",
    "        \n",
    "#         i = 0\n",
    "#         for j, k in combs:\n",
    "#             cir.rzz(a_prime[i]*a[i], j, k)\n",
    "#             i += 1\n",
    "#         for l in range(len(primes)):\n",
    "#             cir.rx(b[l], l)\n",
    "            \n",
    "#     if assigned == True:\n",
    "#         thetas_reshape = thetas_reshape.flatten()\n",
    "#         params = params.flatten()\n",
    "#         p_dict = {thetas_reshape[i] : params[i] for i in range(len(thetas))}\n",
    "#         cir.assign_parameters(p_dict, inplace=True)\n",
    "#     cir.measure_all()\n",
    "    \n",
    "#     return cir, thetas"
   ]
  },
  {
   "cell_type": "code",
   "execution_count": 46,
   "metadata": {},
   "outputs": [
    {
     "name": "stdout",
     "output_type": "stream",
     "text": [
      "[2.8548805626554334, 3.066174162741068, 1.3033848114272424, 0.9491296673972367, 0.3823771164829319]\n"
     ]
    },
    {
     "data": {
      "image/png": "[encoded data removed]",
      "text/plain": [
       "<Figure size 899.479x204.68 with 1 Axes>"
      ]
     },
     "execution_count": 46,
     "metadata": {},
     "output_type": "execute_result"
    }
   ],
   "source": [
    "combinations = list(cm(range(len(primes)), 2))\n",
    "hyperparam = [random.uniform(0,np.pi) for _ in range(1 * ((2 * len(primes)) + len(combinations)))]\n",
    "print(hyperparam)\n",
    "# cir, free_params = generate_ZZcircuit(hyperparam, primes, 2,assigned=False)\n",
    "cir2, free_params = generate_circuit(2, primes, combinations, 1, hyperparam,assigned=False)\n",
    "cir2.draw('mpl')"
   ]
  },
  {
   "cell_type": "code",
   "execution_count": 6,
   "metadata": {},
   "outputs": [
    {
     "data": {
      "image/png": "[encoded data removed]",
      "text/plain": [
       "<Figure size 899.479x204.68 with 1 Axes>"
      ]
     },
     "execution_count": 6,
     "metadata": {},
     "output_type": "execute_result"
    }
   ],
   "source": [
    "cir2.draw('mpl')"
   ]
  },
  {
   "cell_type": "code",
   "execution_count": 7,
   "metadata": {},
   "outputs": [],
   "source": [
    "def obj_function(counts, n, penalty):\n",
    "    max_c = 0\n",
    "    max_bit = \"\"\n",
    "    for c in counts:\n",
    "        if counts[c] >= max_c:\n",
    "            max_c =  counts[c]\n",
    "            max_bit = c\n",
    "    comp_primes = 1\n",
    "    build_primes = primes[::-1]\n",
    "    for i in range(len(max_bit)):\n",
    "        comp_primes *= build_primes[i]**int(max_bit[i])\n",
    "    p = 0\n",
    "    if penalty == 1:\n",
    "        if abs(comp_primes-n) > n:\n",
    "            p += comp_primes\n",
    "    return abs((n - comp_primes) + p)"
   ]
  },
  {
   "cell_type": "code",
   "execution_count": 8,
   "metadata": {},
   "outputs": [],
   "source": [
    "def gen_f(n):\n",
    "    \n",
    "    def f(theta):\n",
    "        qc, free_params = generate_ZZcircuit(theta, primes, n)\n",
    "        back = Aer.get_backend('aer_simulator')\n",
    "        job_sim = execute(qc, backend = back, shots = 2048).result()\n",
    "        counts = job_sim.get_counts(qc)\n",
    "        \n",
    "        return obj_function(counts, n, 0)\n",
    "\n",
    "    return f"
   ]
  },
  {
   "cell_type": "code",
   "execution_count": 9,
   "metadata": {},
   "outputs": [],
   "source": [
    "def X_generator(primes, identity):\n",
    "    #Generate X value for hamiltonian\n",
    "    constant = 0\n",
    "\n",
    "    for i in range(len(primes)):\n",
    "        #Build Constant value iteratively\n",
    "        constant += ln(primes[i])\n",
    "        \n",
    "        if i == 0:\n",
    "            z_value = Z\n",
    "        else:\n",
    "            z_value = I\n",
    "        #Build rest of X\n",
    "        build_primes = primes[::-1]\n",
    "        for j in range(1, len(primes)):\n",
    "            if j == i:\n",
    "                z_value = z_value ^ Z\n",
    "            else:\n",
    "                z_value = z_value ^ I\n",
    "        if i == 0:\n",
    "            x = -ln(build_primes[i]) * z_value\n",
    "        else:\n",
    "            x -= ln(build_primes[i]) * z_value\n",
    "    #Combine Both to form X\n",
    "    x += constant * identity\n",
    "\n",
    "    return x\n",
    "\n",
    "def hamiltonian(n, primes):\n",
    "    #Generate Hamitonian according to number of primes\n",
    "    identity = I\n",
    "    \n",
    "    for i in range(len(primes) - 1):\n",
    "        identity = identity ^ I\n",
    "        \n",
    "    x = X_generator(primes, identity)\n",
    "    \n",
    "    lnn = float(ln(n))\n",
    "    \n",
    "    h = ((lnn**2) * identity) - (lnn * x) + (1 / 4 * (x ** 2))\n",
    "    \n",
    "    return h"
   ]
  },
  {
   "cell_type": "code",
   "execution_count": 10,
   "metadata": {},
   "outputs": [],
   "source": [
    "def _convert_to_gradient_function(gradient_object, layers, n):\n",
    "\n",
    "        def gradient_function(current_point):\n",
    "            \n",
    "            combinations = list(cm(range(len(primes)), 2))\n",
    "            cir, free_params = generate_circuit(n, primes, combinations, layers, current_point, assigned=False)\n",
    "            cir.remove_final_measurements()\n",
    "            c = hamiltonian(n, primes).reduce()\n",
    "            op = ~StateFn(c) @ CircuitStateFn(primitive=cir, coeff=1.)\n",
    "            grad_object = gradient_object.convert(operator=op, params=free_params)\n",
    "\n",
    "            value_dict = {free_params[i]: current_point[i] for i in range(len(free_params))}\n",
    "            x = grad_object.assign_parameters(value_dict).eval()\n",
    "#             np.save(\"gradient_python.npy\", np.real(x))\n",
    "#             analytical_gradients = np.array(x)# Change this part\n",
    "            return np.real(x)\n",
    "        \n",
    "        return gradient_function"
   ]
  },
  {
   "cell_type": "code",
   "execution_count": 11,
   "metadata": {},
   "outputs": [],
   "source": [
    "def run(optimizer, layers, func, gradient_function, n):\n",
    "    g_f = _convert_to_gradient_function(gradient_function, layers, n)\n",
    "    theta = [np.pi for _ in range(layers * ((2 * len(primes)) + len(combinations)))]\n",
    "    theta, loss, _ = optimizer.optimize(\n",
    "                num_vars=len(theta),\n",
    "                objective_function=func,\n",
    "                initial_point=theta,\n",
    "                gradient_function=g_f\n",
    "                )\n",
    "    return loss,theta"
   ]
  },
  {
   "cell_type": "code",
   "execution_count": 12,
   "metadata": {},
   "outputs": [
    {
     "data": {
      "image/png": "[encoded data removed]",
      "text/plain": [
       "<Figure size 899.479x204.68 with 1 Axes>"
      ]
     },
     "execution_count": 12,
     "metadata": {},
     "output_type": "execute_result"
    }
   ],
   "source": [
    "from qiskit.circuit import qpy_serialization\n",
    "n = 6\n",
    "combinations = list(cm(range(len(primes)), 2))\n",
    "hyperparam = [np.pi for _ in range(1 * ((2 * len(primes)) + len(combinations)))]\n",
    "qc, free_params = generate_circuit(n, primes, combinations, 1, hyperparam, assigned=False)\n",
    "with open('./Qcir_current.qpy', 'wb') as fd:\n",
    "    qpy_serialization.dump(qc, fd)\n",
    "# StatevectorSimulator(precision='double')\n",
    "qc.draw('mpl')"
   ]
  },
  {
   "cell_type": "code",
   "execution_count": 13,
   "metadata": {},
   "outputs": [
    {
     "name": "stdout",
     "output_type": "stream",
     "text": [
      "time-taken =  0.08621112599939806\n"
     ]
    }
   ],
   "source": [
    "import timeit\n",
    "statevec = []\n",
    "startimeg = timeit.default_timer()\n",
    "for shift in [np.pi/2, -np.pi/2]:\n",
    "    temp = []\n",
    "    for j in range(len(free_params)):\n",
    "        with open('./Qcir_current.qpy', 'rb') as fd:\n",
    "            cir = qpy_serialization.load(fd)[0]\n",
    "        \n",
    "        hyparams = hyperparam.copy() \n",
    "        free_params = list(cir.parameters)\n",
    "        hyparams[j] += shift\n",
    "#         print(hyparams)\n",
    "        p_dict = {free_params[i] : hyparams[i] for i in range(len(free_params))}\n",
    "#         print(p_dict)\n",
    "        cir.assign_parameters(p_dict, inplace=True)\n",
    "\n",
    "        sim = Aer.get_backend('aer_simulator')\n",
    "        cir.save_statevector()\n",
    "        qobj = assemble(cir)     # Create a Qobj from the circuit for the simulator to run\n",
    "        result = sim.run(qobj).result()\n",
    "        sv = (result.get_statevector(cir)).reshape(2 ** len(primes),1)\n",
    "#         vec = [(float(c.real), float(c.imag)) for c in sv]\n",
    "        temp.append(sv)\n",
    "    statevec.append(temp)\n",
    "endtimeg = timeit.default_timer()\n",
    "print(\"time-taken = \", endtimeg - startimeg)"
   ]
  },
  {
   "cell_type": "code",
   "execution_count": 14,
   "metadata": {},
   "outputs": [
    {
     "name": "stdout",
     "output_type": "stream",
     "text": [
      "[[-0.        +0.j        ]\n",
      " [-0.20736963-0.97826266j]\n",
      " [ 0.        +0.j        ]\n",
      " [-0.        +0.j        ]]\n"
     ]
    }
   ],
   "source": [
    "print(statevec[0][0])"
   ]
  },
  {
   "cell_type": "code",
   "execution_count": 15,
   "metadata": {},
   "outputs": [
    {
     "name": "stdout",
     "output_type": "stream",
     "text": [
      "[[-0.        -0.j         -0.20736963+0.97826266j  0.        -0.j\n",
      "  -0.        -0.j        ]]\n"
     ]
    }
   ],
   "source": [
    "# statevectrans = [][]\n",
    "statevectrans = np.asmatrix(statevec[0][0].reshape(4,1))\n",
    "\n",
    "print(statevectrans.H)"
   ]
  },
  {
   "cell_type": "code",
   "execution_count": 16,
   "metadata": {},
   "outputs": [
    {
     "data": {
      "text/plain": [
       "matrix([[1.+0.j]])"
      ]
     },
     "execution_count": 16,
     "metadata": {},
     "output_type": "execute_result"
    }
   ],
   "source": [
    "np.dot((statevectrans.H), (statevec[0][0].reshape(4,1)))"
   ]
  },
  {
   "cell_type": "code",
   "execution_count": 17,
   "metadata": {},
   "outputs": [
    {
     "name": "stdout",
     "output_type": "stream",
     "text": [
      "[[0.48045301+0.j 0.        +0.j 0.        +0.j 0.        +0.j]\n",
      " [0.        +0.j 0.        +0.j 0.        +0.j 0.        +0.j]\n",
      " [0.        +0.j 0.        +0.j 0.16440195+0.j 0.        +0.j]\n",
      " [0.        +0.j 0.        +0.j 0.        +0.j 1.20694896+0.j]]\n"
     ]
    }
   ],
   "source": [
    "H = hamiltonian(2, primes).to_matrix()\n",
    "print(H)"
   ]
  },
  {
   "cell_type": "code",
   "execution_count": 18,
   "metadata": {},
   "outputs": [],
   "source": [
    "gradients = []\n",
    "\n",
    "for i in range(len(free_params)):\n",
    "    g = (np.dot((np.asmatrix(statevec[0][i]).H), np.dot(H, statevec[0][i])) - np.dot((np.asmatrix(statevec[1][i]).H), np.dot(H, statevec[1][i]))) / 2\n",
    "    gradients.append(np.real(g.item()))            "
   ]
  },
  {
   "cell_type": "code",
   "execution_count": 19,
   "metadata": {},
   "outputs": [
    {
     "data": {
      "text/plain": [
       "[-0.603474480406291,\n",
       " -0.15802553001251796,\n",
       " 2.220446049250313e-16,\n",
       " 0.5212735034597082,\n",
       " 0.24022650695910078]"
      ]
     },
     "execution_count": 19,
     "metadata": {},
     "output_type": "execute_result"
    }
   ],
   "source": [
    "gradients"
   ]
  },
  {
   "cell_type": "code",
   "execution_count": 20,
   "metadata": {},
   "outputs": [
    {
     "name": "stdout",
     "output_type": "stream",
     "text": [
      "N =  2\n",
      "[ 7.12902831e-18  6.63511356e-18 -3.40354544e-17  2.44138255e-01\n",
      "  2.04912998e-01]\n",
      "[2.220446049250313e-16, 0.4625016843378711, 0.7683675726917949, -0.10466153446425269, 0.4625016843378711]\n",
      "N =  3\n",
      "[-3.22117469e-18  1.01968121e-17 -7.35963583e-18  2.44138255e-01\n",
      "  2.04912998e-01]\n",
      "[-4.163336342344337e-17, 0.3058658883539238, 0.20120435388967112, 0.6637060382275423, 0.46250168433787114]\n",
      "N =  4\n",
      "[-3.62398862e-18  2.00077189e-16 -6.63354869e-18  7.13460798e-02\n",
      " -3.46833572e-01]\n",
      "[-0.05197426151969468, -0.05197426151969466, 1.1707762804711372, -0.05197426151969463, 0.20120435388967134]\n",
      "N =  5\n",
      "[ 2.43369720e-16 -2.31059315e-17 -7.47126250e-17 -2.46898406e-01\n",
      " -5.06130405e-01]\n",
      "[-0.3683774131323881, -2.220446049250313e-16, 1.1145313105193897, -1.11453131051939, -1.6278681075897021]\n",
      "N =  6\n",
      "[ 1.42737191e-16  9.44447270e-17 -7.78591401e-17 -5.01222138e-01\n",
      "  1.86744711e-01]\n",
      "[-2.043805387627185, 1.275437814935389, 1.7379394992732609, 0.4625016843378714, -0.7683675726917952]\n"
     ]
    }
   ],
   "source": [
    "for n in range(2, 7):\n",
    "    print(\"N = \", n)\n",
    "    hyperparam = [np.pi for _ in range(1 * ((2 * len(primes)) + len(combinations)))]\n",
    "    qc, free_params = generate_circuit(n, primes, combinations, 1, hyperparam, assigned=False)\n",
    "    grad_obj = Gradient(grad_method=\"param_shift\")\n",
    "    g_function = _convert_to_gradient_function(grad_obj, 1, n)\n",
    "    H = hamiltonian(n , primes).reduce().to_matrix()/ (np.pi/2)\n",
    "#     h = ~StateFn(H)\n",
    "#     print(h)\n",
    "#     print(h)\n",
    "#     H =  np.linalg.inv(H)\n",
    "#     print(H.shape)\n",
    "    g1 = g_function(hyperparam)\n",
    "    \n",
    "    statevec = []\n",
    "    for shift in [np.pi/2, -np.pi/2]:\n",
    "        temp = []\n",
    "        for j in range(len(free_params)):\n",
    "            cir = qc.copy()\n",
    "            hyparams = hyperparam.copy() \n",
    "            free_params = list(cir.parameters)\n",
    "            hyparams[j] += shift\n",
    "            \n",
    "    #         print(hyparams)\n",
    "            p_dict = {free_params[i] : hyparams[i] for i in range(len(free_params))}\n",
    "    #         print(p_dict)\n",
    "            cir.assign_parameters(p_dict, inplace=True)\n",
    "\n",
    "            sim = Aer.get_backend('aer_simulator')\n",
    "            cir.save_statevector()\n",
    "            qobj = assemble(cir)     # Create a Qobj from the circuit for the simulator to run\n",
    "            result = sim.run(qobj).result()\n",
    "            sv = (result.get_statevector(cir)).reshape(2 ** len(primes),1)\n",
    "#             print(sv)\n",
    "    #         vec = [(float(c.real), float(c.imag)) for c in sv]\n",
    "            temp.append(sv)\n",
    "        statevec.append(temp)\n",
    "    \n",
    "    g2 = []\n",
    "\n",
    "    for i in range(len(free_params)):\n",
    "        g = (np.dot((np.asmatrix(statevec[0][i]).H), np.dot(H, statevec[0][i])) - np.dot((np.asmatrix(statevec[1][i]).H), np.dot(H, statevec[1][i])))\n",
    "        \n",
    "        g2.append(np.real(g.item())) \n",
    "        \n",
    "    print(g1)\n",
    "    print(g2)"
   ]
  },
  {
   "cell_type": "code",
   "execution_count": 21,
   "metadata": {},
   "outputs": [
    {
     "name": "stdout",
     "output_type": "stream",
     "text": [
      "Param No:  0\n",
      " + Pi/2 =  [[-0.        +0.j        ]\n",
      " [ 0.        -0.j        ]\n",
      " [ 0.        +0.j        ]\n",
      " [-0.59679827+0.80239131j]]\n",
      " - Pi/2 =  [[ 0.96369243-0.26701481j]\n",
      " [ 0.        +0.j        ]\n",
      " [-0.        +0.j        ]\n",
      " [ 0.        +0.j        ]]\n",
      "Param No:  1\n",
      " + Pi/2 =  [[-0.62906783+0.77735041j]\n",
      " [ 0.        +0.j        ]\n",
      " [-0.        +0.j        ]\n",
      " [-0.        +0.j        ]]\n",
      " - Pi/2 =  [[ 0.        +0.j       ]\n",
      " [-0.70290535-0.7112834j]\n",
      " [ 0.        +0.j       ]\n",
      " [ 0.        +0.j       ]]\n",
      "Param No:  2\n",
      " + Pi/2 =  [[ 0.99427531+0.10684852j]\n",
      " [ 0.        +0.j        ]\n",
      " [ 0.        -0.j        ]\n",
      " [-0.        +0.j        ]]\n",
      " - Pi/2 =  [[ 0.        +0.j        ]\n",
      " [ 0.        +0.j        ]\n",
      " [-0.85611257+0.51678938j]\n",
      " [ 0.        +0.j        ]]\n",
      "Param No:  3\n",
      " + Pi/2 =  [[ 0.        +0.j        ]\n",
      " [ 0.67120852-0.74126859j]\n",
      " [-0.        +0.j        ]\n",
      " [-0.        +0.j        ]]\n",
      " - Pi/2 =  [[ 0.        +0.j        ]\n",
      " [ 0.        +0.j        ]\n",
      " [-0.67120852-0.74126859j]\n",
      " [ 0.        +0.j        ]]\n",
      "Param No:  4\n",
      " + Pi/2 =  [[ 0.        +0.j        ]\n",
      " [ 0.        +0.j        ]\n",
      " [ 0.        +0.j        ]\n",
      " [-0.91896868-0.39433054j]]\n",
      " - Pi/2 =  [[ 0.        +0.j        ]\n",
      " [ 0.39433054-0.91896868j]\n",
      " [-0.        +0.j        ]\n",
      " [-0.        +0.j        ]]\n"
     ]
    }
   ],
   "source": [
    "for k in range(len(statevec[0])):\n",
    "    print(\"Param No: \", k)\n",
    "    print(\" + Pi/2 = \" ,statevec[0][k])\n",
    "    print(\" - Pi/2 = \" ,statevec[1][k])"
   ]
  },
  {
   "cell_type": "code",
   "execution_count": 22,
   "metadata": {},
   "outputs": [
    {
     "name": "stdout",
     "output_type": "stream",
     "text": [
      "1.2244509925747962 * II\n",
      "+ 0.9842244856156956 * ZI\n",
      "+ 0.6209765121685051 * IZ\n",
      "+ 0.3807500052094045 * ZZ\n"
     ]
    }
   ],
   "source": [
    "H = hamiltonian(n , primes).reduce()\n",
    "print(H)"
   ]
  },
  {
   "cell_type": "code",
   "execution_count": 23,
   "metadata": {},
   "outputs": [
    {
     "name": "stdout",
     "output_type": "stream",
     "text": [
      "[Parameter(0), Parameter(1), Parameter(2), Parameter(3), Parameter(4)]\n"
     ]
    },
    {
     "data": {
      "image/png": "[encoded data removed]",
      "text/plain": [
       "<Figure size 899.479x204.68 with 1 Axes>"
      ]
     },
     "execution_count": 23,
     "metadata": {},
     "output_type": "execute_result"
    }
   ],
   "source": [
    "print(free_params)\n",
    "qc.draw('mpl')"
   ]
  },
  {
   "cell_type": "code",
   "execution_count": 24,
   "metadata": {},
   "outputs": [],
   "source": [
    "hyperparam = [np.pi for _ in range(1 * ((2 * len(primes)) + len(combinations)))]\n",
    "p_dict = {free_params[i] : hyparams[i] for i in range(len(free_params))}"
   ]
  },
  {
   "cell_type": "code",
   "execution_count": 25,
   "metadata": {},
   "outputs": [],
   "source": [
    "def _p(operator: OperatorBase, circuit: QuantumCircuit):\n",
    "    if isinstance(operator, CircuitStateFn):\n",
    "        print(\"HI1\")\n",
    "        return CircuitStateFn(circuit, coeff=operator.coeff)\n",
    "    elif isinstance(operator, CircuitOp):\n",
    "        print(\"HI2\")\n",
    "        return CircuitOp(circuit, coeff=operator.coeff)\n",
    "    elif isinstance(operator, (ComposedOp, ListOp)):\n",
    "        print(\"HI3\")\n",
    "        return operator.traverse(partial(_p, circuit=circuit))\n",
    "    else:\n",
    "        print(\"HI4\")\n",
    "        return operator"
   ]
  },
  {
   "cell_type": "code",
   "execution_count": 26,
   "metadata": {},
   "outputs": [
    {
     "name": "stdout",
     "output_type": "stream",
     "text": [
      "HI3\n",
      "HI4\n",
      "HI1\n",
      "ComposedOp([\n",
      "  OperatorMeasurement(1.2244509925747962 * II\n",
      "  + 0.9842244856156956 * ZI\n",
      "  + 0.6209765121685051 * IZ\n",
      "  + 0.3807500052094045 * ZZ),\n",
      "  CircuitStateFn(\n",
      "       ┌───┐┌────────────────────────┐                          ┌───────┐\n",
      "  q_0: ┤ H ├┤ Rz(1.24195302433701*0) ├─■────────────────────────┤ Rx(3) ├\n",
      "       ├───┤├────────────────────────┤ │ZZ(0.761500010418809*2) ├───────┤\n",
      "  q_1: ┤ H ├┤ Rz(1.96844897123139*1) ├─■────────────────────────┤ Rx(4) ├\n",
      "       └───┘└────────────────────────┘                          └───────┘\n",
      "  )\n",
      "])\n"
     ]
    }
   ],
   "source": [
    "from functools import partial\n",
    "qc.remove_final_measurements()\n",
    "op = ~StateFn(H) @ CircuitStateFn(primitive=qc, coeff=1.)\n",
    "# print(op[1].primitive)\n",
    "# print(set(op[1].primitive.count_ops().keys()))\n",
    "grad_ob = Gradient(grad_method=\"param_shift\")\n",
    "x = _p(op,  op[1].primitive)\n",
    "# g = grad_ob._replace_operator_circuit(op, op[1].primitive)\n",
    "# print(g)\n",
    "print(x)"
   ]
  },
  {
   "cell_type": "code",
   "execution_count": 27,
   "metadata": {},
   "outputs": [
    {
     "data": {
      "text/plain": [
       "[(<qiskit.circuit.library.standard_gates.rx.RXGate at 0x7f4c69091c10>, 0)]"
      ]
     },
     "execution_count": 27,
     "metadata": {},
     "output_type": "execute_result"
    }
   ],
   "source": [
    "op[1].primitive._parameter_table[free_params[4]]"
   ]
  },
  {
   "cell_type": "code",
   "execution_count": 28,
   "metadata": {},
   "outputs": [
    {
     "name": "stdout",
     "output_type": "stream",
     "text": [
      "Parameter 0\n",
      "SummedOp([\n",
      "  0.5 * ComposedOp([\n",
      "    OperatorMeasurement(1.2244509925747962 * II\n",
      "    + 0.9842244856156956 * ZI\n",
      "    + 0.6209765121685051 * IZ\n",
      "    + 0.3807500052094045 * ZZ),\n",
      "    CircuitStateFn(\n",
      "         ┌───┐┌──────────────────────────────────────────┐»\n",
      "    q_0: ┤ H ├┤ Rz(1.24195302433701*0 + 1.5707963267949) ├»\n",
      "         ├───┤└────────┬────────────────────────┬────────┘»\n",
      "    q_1: ┤ H ├─────────┤ Rz(1.96844897123139*1) ├─────────»\n",
      "         └───┘         └────────────────────────┘         »\n",
      "    «                               ┌───────┐\n",
      "    «q_0: ─■────────────────────────┤ Rx(3) ├\n",
      "    «      │ZZ(0.761500010418809*2) ├───────┤\n",
      "    «q_1: ─■────────────────────────┤ Rx(4) ├\n",
      "    «                               └───────┘\n",
      "    )\n",
      "  ]),\n",
      "  -0.5 * ComposedOp([\n",
      "    OperatorMeasurement(1.2244509925747962 * II\n",
      "    + 0.9842244856156956 * ZI\n",
      "    + 0.6209765121685051 * IZ\n",
      "    + 0.3807500052094045 * ZZ),\n",
      "    CircuitStateFn(\n",
      "         ┌───┐┌──────────────────────────────────────────┐»\n",
      "    q_0: ┤ H ├┤ Rz(1.24195302433701*0 - 1.5707963267949) ├»\n",
      "         ├───┤└────────┬────────────────────────┬────────┘»\n",
      "    q_1: ┤ H ├─────────┤ Rz(1.96844897123139*1) ├─────────»\n",
      "         └───┘         └────────────────────────┘         »\n",
      "    «                               ┌───────┐\n",
      "    «q_0: ─■────────────────────────┤ Rx(3) ├\n",
      "    «      │ZZ(0.761500010418809*2) ├───────┤\n",
      "    «q_1: ─■────────────────────────┤ Rx(4) ├\n",
      "    «                               └───────┘\n",
      "    )\n",
      "  ])\n",
      "])\n",
      "Parameter 1\n",
      "SummedOp([\n",
      "  0.5 * ComposedOp([\n",
      "    OperatorMeasurement(1.2244509925747962 * II\n",
      "    + 0.9842244856156956 * ZI\n",
      "    + 0.6209765121685051 * IZ\n",
      "    + 0.3807500052094045 * ZZ),\n",
      "    CircuitStateFn(\n",
      "         ┌───┐         ┌────────────────────────┐         »\n",
      "    q_0: ┤ H ├─────────┤ Rz(1.24195302433701*0) ├─────────»\n",
      "         ├───┤┌────────┴────────────────────────┴────────┐»\n",
      "    q_1: ┤ H ├┤ Rz(1.96844897123139*1 + 1.5707963267949) ├»\n",
      "         └───┘└──────────────────────────────────────────┘»\n",
      "    «                               ┌───────┐\n",
      "    «q_0: ─■────────────────────────┤ Rx(3) ├\n",
      "    «      │ZZ(0.761500010418809*2) ├───────┤\n",
      "    «q_1: ─■────────────────────────┤ Rx(4) ├\n",
      "    «                               └───────┘\n",
      "    )\n",
      "  ]),\n",
      "  -0.5 * ComposedOp([\n",
      "    OperatorMeasurement(1.2244509925747962 * II\n",
      "    + 0.9842244856156956 * ZI\n",
      "    + 0.6209765121685051 * IZ\n",
      "    + 0.3807500052094045 * ZZ),\n",
      "    CircuitStateFn(\n",
      "         ┌───┐         ┌────────────────────────┐         »\n",
      "    q_0: ┤ H ├─────────┤ Rz(1.24195302433701*0) ├─────────»\n",
      "         ├───┤┌────────┴────────────────────────┴────────┐»\n",
      "    q_1: ┤ H ├┤ Rz(1.96844897123139*1 - 1.5707963267949) ├»\n",
      "         └───┘└──────────────────────────────────────────┘»\n",
      "    «                               ┌───────┐\n",
      "    «q_0: ─■────────────────────────┤ Rx(3) ├\n",
      "    «      │ZZ(0.761500010418809*2) ├───────┤\n",
      "    «q_1: ─■────────────────────────┤ Rx(4) ├\n",
      "    «                               └───────┘\n",
      "    )\n",
      "  ])\n",
      "])\n",
      "Parameter 2\n",
      "SummedOp([\n",
      "  0.5 * ComposedOp([\n",
      "    OperatorMeasurement(1.2244509925747962 * II\n",
      "    + 0.9842244856156956 * ZI\n",
      "    + 0.6209765121685051 * IZ\n",
      "    + 0.3807500052094045 * ZZ),\n",
      "    CircuitStateFn(\n",
      "         ┌───┐┌────────────────────────┐»\n",
      "    q_0: ┤ H ├┤ Rz(1.24195302433701*0) ├»\n",
      "         ├───┤├────────────────────────┤»\n",
      "    q_1: ┤ H ├┤ Rz(1.96844897123139*1) ├»\n",
      "         └───┘└────────────────────────┘»\n",
      "    «                                                 ┌───────┐\n",
      "    «q_0: ─■──────────────────────────────────────────┤ Rx(3) ├\n",
      "    «      │ZZ(0.761500010418809*2 + 1.5707963267949) ├───────┤\n",
      "    «q_1: ─■──────────────────────────────────────────┤ Rx(4) ├\n",
      "    «                                                 └───────┘\n",
      "    )\n",
      "  ]),\n",
      "  -0.5 * ComposedOp([\n",
      "    OperatorMeasurement(1.2244509925747962 * II\n",
      "    + 0.9842244856156956 * ZI\n",
      "    + 0.6209765121685051 * IZ\n",
      "    + 0.3807500052094045 * ZZ),\n",
      "    CircuitStateFn(\n",
      "         ┌───┐┌────────────────────────┐»\n",
      "    q_0: ┤ H ├┤ Rz(1.24195302433701*0) ├»\n",
      "         ├───┤├────────────────────────┤»\n",
      "    q_1: ┤ H ├┤ Rz(1.96844897123139*1) ├»\n",
      "         └───┘└────────────────────────┘»\n",
      "    «                                                 ┌───────┐\n",
      "    «q_0: ─■──────────────────────────────────────────┤ Rx(3) ├\n",
      "    «      │ZZ(0.761500010418809*2 - 1.5707963267949) ├───────┤\n",
      "    «q_1: ─■──────────────────────────────────────────┤ Rx(4) ├\n",
      "    «                                                 └───────┘\n",
      "    )\n",
      "  ])\n",
      "])\n",
      "Parameter 3\n",
      "SummedOp([\n",
      "  0.5 * ComposedOp([\n",
      "    OperatorMeasurement(1.2244509925747962 * II\n",
      "    + 0.9842244856156956 * ZI\n",
      "    + 0.6209765121685051 * IZ\n",
      "    + 0.3807500052094045 * ZZ),\n",
      "    CircuitStateFn(\n",
      "         ┌───┐┌────────────────────────┐                          »\n",
      "    q_0: ┤ H ├┤ Rz(1.24195302433701*0) ├─■────────────────────────»\n",
      "         ├───┤├────────────────────────┤ │ZZ(0.761500010418809*2) »\n",
      "    q_1: ┤ H ├┤ Rz(1.96844897123139*1) ├─■────────────────────────»\n",
      "         └───┘└────────────────────────┘                          »\n",
      "    «     ┌─────────────────────────┐\n",
      "    «q_0: ┤ Rx(3 + 1.5707963267949) ├\n",
      "    «     └────────┬───────┬────────┘\n",
      "    «q_1: ─────────┤ Rx(4) ├─────────\n",
      "    «              └───────┘         \n",
      "    )\n",
      "  ]),\n",
      "  -0.5 * ComposedOp([\n",
      "    OperatorMeasurement(1.2244509925747962 * II\n",
      "    + 0.9842244856156956 * ZI\n",
      "    + 0.6209765121685051 * IZ\n",
      "    + 0.3807500052094045 * ZZ),\n",
      "    CircuitStateFn(\n",
      "         ┌───┐┌────────────────────────┐                          »\n",
      "    q_0: ┤ H ├┤ Rz(1.24195302433701*0) ├─■────────────────────────»\n",
      "         ├───┤├────────────────────────┤ │ZZ(0.761500010418809*2) »\n",
      "    q_1: ┤ H ├┤ Rz(1.96844897123139*1) ├─■────────────────────────»\n",
      "         └───┘└────────────────────────┘                          »\n",
      "    «     ┌─────────────────────────┐\n",
      "    «q_0: ┤ Rx(3 - 1.5707963267949) ├\n",
      "    «     └────────┬───────┬────────┘\n",
      "    «q_1: ─────────┤ Rx(4) ├─────────\n",
      "    «              └───────┘         \n",
      "    )\n",
      "  ])\n",
      "])\n",
      "Parameter 4\n",
      "SummedOp([\n",
      "  0.5 * ComposedOp([\n",
      "    OperatorMeasurement(1.2244509925747962 * II\n",
      "    + 0.9842244856156956 * ZI\n",
      "    + 0.6209765121685051 * IZ\n",
      "    + 0.3807500052094045 * ZZ),\n",
      "    CircuitStateFn(\n",
      "         ┌───┐┌────────────────────────┐                          »\n",
      "    q_0: ┤ H ├┤ Rz(1.24195302433701*0) ├─■────────────────────────»\n",
      "         ├───┤├────────────────────────┤ │ZZ(0.761500010418809*2) »\n",
      "    q_1: ┤ H ├┤ Rz(1.96844897123139*1) ├─■────────────────────────»\n",
      "         └───┘└────────────────────────┘                          »\n",
      "    «              ┌───────┐         \n",
      "    «q_0: ─────────┤ Rx(3) ├─────────\n",
      "    «     ┌────────┴───────┴────────┐\n",
      "    «q_1: ┤ Rx(4 + 1.5707963267949) ├\n",
      "    «     └─────────────────────────┘\n",
      "    )\n",
      "  ]),\n",
      "  -0.5 * ComposedOp([\n",
      "    OperatorMeasurement(1.2244509925747962 * II\n",
      "    + 0.9842244856156956 * ZI\n",
      "    + 0.6209765121685051 * IZ\n",
      "    + 0.3807500052094045 * ZZ),\n",
      "    CircuitStateFn(\n",
      "         ┌───┐┌────────────────────────┐                          »\n",
      "    q_0: ┤ H ├┤ Rz(1.24195302433701*0) ├─■────────────────────────»\n",
      "         ├───┤├────────────────────────┤ │ZZ(0.761500010418809*2) »\n",
      "    q_1: ┤ H ├┤ Rz(1.96844897123139*1) ├─■────────────────────────»\n",
      "         └───┘└────────────────────────┘                          »\n",
      "    «              ┌───────┐         \n",
      "    «q_0: ─────────┤ Rx(3) ├─────────\n",
      "    «     ┌────────┴───────┴────────┐\n",
      "    «q_1: ┤ Rx(4 - 1.5707963267949) ├\n",
      "    «     └─────────────────────────┘\n",
      "    )\n",
      "  ])\n",
      "])\n"
     ]
    }
   ],
   "source": [
    "# Straight from Qiskit's source\n",
    "from copy import deepcopy\n",
    "\n",
    "for param in free_params:\n",
    "    print(\"Parameter\",param)\n",
    "    shifted_ops = []\n",
    "    summed_shifted_op = None\n",
    "    for m, param_occurence in enumerate(op[1].primitive._parameter_table[param]):\n",
    "        param_index = param_occurence[1]\n",
    "        pshift_op = deepcopy(op)\n",
    "        mshift_op = deepcopy(op)\n",
    "        \n",
    "#         # We need the circuit objects of the newly instantiated operators\n",
    "        pshift_circ = pshift_op[1].primitive\n",
    "        mshift_circ = mshift_op[1].primitive\n",
    "        \n",
    "        pshift_gate = pshift_circ._parameter_table[param][m][0]\n",
    "        mshift_gate = mshift_circ._parameter_table[param][m][0]\n",
    "\n",
    "        p_param = pshift_gate.params[param_index]\n",
    "        m_param = mshift_gate.params[param_index]\n",
    "        \n",
    "#                 # For analytic gradients the circuit parameters are shifted once by +pi/2 and\n",
    "#                 # once by -pi/2.\n",
    "#         if self.analytic:\n",
    "        shift_constant = 0.5\n",
    "        pshift_gate.params[param_index] = p_param + (np.pi / (4 * shift_constant))\n",
    "        mshift_gate.params[param_index] = m_param - (np.pi / (4 * shift_constant))\n",
    "        if isinstance(op, ComposedOp):\n",
    "            shifted_op = shift_constant * (pshift_op - mshift_op)\n",
    "            \n",
    "        if not summed_shifted_op:\n",
    "            summed_shifted_op = shifted_op\n",
    "        else:\n",
    "            summed_shifted_op += shifted_op  \n",
    "    shifted_ops.append(summed_shifted_op)  \n",
    "    x = SummedOp(shifted_ops).reduce()\n",
    "    print(x)"
   ]
  },
  {
   "cell_type": "code",
   "execution_count": 29,
   "metadata": {},
   "outputs": [
    {
     "name": "stdout",
     "output_type": "stream",
     "text": [
      "1.2244509925747962 * II\n",
      "+ 0.9842244856156956 * ZI\n",
      "+ 0.6209765121685051 * IZ\n",
      "+ 0.3807500052094045 * ZZ\n"
     ]
    }
   ],
   "source": [
    "print(H)\n"
   ]
  },
  {
   "cell_type": "code",
   "execution_count": 30,
   "metadata": {},
   "outputs": [
    {
     "name": "stdout",
     "output_type": "stream",
     "text": [
      "Parameter  0\n",
      "(1.6052009977842008+5.551115123125783e-17j)\n",
      "Parameter  1\n",
      "(0.6034744804062913-5.551115123125783e-17j)\n",
      "Parameter  2\n",
      "(0.24022650695910058+0j)\n",
      "Parameter  3\n",
      "(0.2402265069591007+0j)\n",
      "Parameter  4\n",
      "(0.6034744804062913-2.7755575615628914e-17j)\n"
     ]
    }
   ],
   "source": [
    "for i in range(len(free_params)):\n",
    "    print(\"Parameter \", free_params[i])\n",
    "    g = 0.5 * np.dot((np.asmatrix(statevec[1][i]).H), np.dot(H.to_matrix(), statevec[1][i])) #- (0.5 * np.dot((np.asmatrix(statevec[1][i]).H), np.dot(H.to_matrix(), statevec[1][i])))\n",
    "    print(g.item())"
   ]
  },
  {
   "cell_type": "code",
   "execution_count": 48,
   "metadata": {},
   "outputs": [
    {
     "name": "stdout",
     "output_type": "stream",
     "text": [
      "Statevectors.....\n",
      "[[-0.00942739+0.49991112j]\n",
      " [-0.49419558-0.07596531j]\n",
      " [ 0.31010298-0.3922195j ]\n",
      " [-0.33358901+0.37244916j]]\n",
      "[[ 0.49991112+0.00942739j]\n",
      " [ 0.07596531-0.49419558j]\n",
      " [-0.3922195 -0.31010298j]\n",
      " [-0.37244916-0.33358901j]]\n"
     ]
    }
   ],
   "source": [
    "n = 2\n",
    "combinations = list(cm(range(len(primes)), 2))\n",
    "circuit, free_params = generate_circuit(n, primes, combinations, 1, hyperparam, assigned=False)\n",
    "Hamiltonian = hamiltonian(n, primes).reduce()\n",
    "\n",
    "hyperparams = [1.0 for _ in range(1 * ((2 * len(primes)) + len(combinations)))]\n",
    "parm_dict  = {free_params[i] : hyperparams[i] for i in range(len(free_params))}\n",
    "\n",
    "statevectors = []\n",
    "print(\"Statevectors.....\")\n",
    "\n",
    "for shift in [np.pi/2, -np.pi/2]:\n",
    "    cir = deepcopy(circuit)\n",
    "    cir.remove_final_measurements()\n",
    "    hyp = deepcopy(hyperparams)\n",
    "    hyp[0] = hyp[0] + (shift/-0.2810469965006074)\n",
    "#     print(\"Hyperparameters = \" ,hyp)\n",
    "    parm = {free_params[i] : hyp[i] for i in range(len(free_params))}\n",
    "#     print(\"Paramters Dict = \", parm)\n",
    "#     cirState = CircuitStateFn(primitive=cir, coeff=1.0)\n",
    "#     print(cirState)\n",
    "#     sv = cirState.assign_parameters(parm).eval().to_matrix().reshape(2 ** len(primes),1)\n",
    "    cir.assign_parameters(parm, inplace=True)\n",
    "    sim = Aer.get_backend('aer_simulator')\n",
    "    cir.save_statevector()\n",
    "    qobj = assemble(cir)     # Create a Qobj from the circuit for the simulator to run\n",
    "    result = sim.run(qobj).result()\n",
    "    sv = np.round((result.get_statevector(cir)).reshape(2 ** len(primes),1), 15)\n",
    "    print(sv)\n",
    "    statevectors.append(sv)"
   ]
  },
  {
   "cell_type": "code",
   "execution_count": 49,
   "metadata": {},
   "outputs": [],
   "source": [
    "# np.dot(np.asmatrix(statevectors[0]).H, np.dot(H.to_matrix(), statevectors[0])).item()"
   ]
  },
  {
   "cell_type": "code",
   "execution_count": 50,
   "metadata": {},
   "outputs": [
    {
     "data": {
      "text/plain": [
       "(0.46295098215598707+0j)"
      ]
     },
     "execution_count": 50,
     "metadata": {},
     "output_type": "execute_result"
    }
   ],
   "source": [
    "g_cir = deepcopy(circuit)\n",
    "g_cir.remove_final_measurements()\n",
    "op = ~StateFn(Hamiltonian) @ CircuitStateFn(g_cir)\n",
    "p_shifthyp = deepcopy(hyperparams)\n",
    "p_shifthyp[0] = p_shifthyp[0] + np.pi/2 # need to add coeff of p1\n",
    "parm = {free_params[i] : p_shifthyp[i] for i in range(len(free_params))}\n",
    "# print(parm)\n",
    "op.assign_parameters(parm).eval()"
   ]
  },
  {
   "cell_type": "code",
   "execution_count": 51,
   "metadata": {},
   "outputs": [
    {
     "name": "stdout",
     "output_type": "stream",
     "text": [
      "Construct Graident Objects..........\n",
      "Qiskit Gradient =  (7.129028312245329e-18+0j)\n",
      "(-1.5601242325836004e-16+0j)\n"
     ]
    }
   ],
   "source": [
    "print(\"Construct Graident Objects..........\")\n",
    "\n",
    "grad_object = Gradient(grad_method=\"param_shift\")\n",
    "# print(grad_object)\n",
    "gradients = grad_object.convert(operator=op, params=free_params)\n",
    "# print(\"OG dict = \", parm_dict)\n",
    "\n",
    "# print(gradients)\n",
    "print(\"Qiskit Gradient = \",gradients[0].assign_parameters(parm_dict).eval())\n",
    "\n",
    "p_shift = np.dot(np.asmatrix(statevectors[0]).H, np.dot(H.to_matrix(), statevectors[0]))\n",
    "n_shift = np.dot(np.asmatrix(statevectors[1]).H, np.dot(H.to_matrix(), statevectors[1]))\n",
    "grad = -0.2810469965006074 * 0.5 * (p_shift - n_shift)\n",
    "print(grad.item())"
   ]
  },
  {
   "cell_type": "code",
   "execution_count": 43,
   "metadata": {},
   "outputs": [
    {
     "name": "stdout",
     "output_type": "stream",
     "text": [
      "[(7.129028312245329e-18+0j), (6.635113561457082e-18+0j), (-3.403545436375029e-17+0j), (0.2441382554099776+0j), (0.2049129984960612+0j)]\n"
     ]
    }
   ],
   "source": [
    "print(gradients.assign_parameters(parm_dict).eval())"
   ]
  },
  {
   "cell_type": "code",
   "execution_count": 36,
   "metadata": {},
   "outputs": [],
   "source": [
    "qc = deepcopy(circuit)\n",
    "qc.remove_final_measurements()\n",
    "qc_state = CircuitStateFn(primitive = qc, coeff=1.0)"
   ]
  },
  {
   "cell_type": "code",
   "execution_count": 37,
   "metadata": {},
   "outputs": [],
   "source": [
    "gate = qc._parameter_table[free_params[1]][0][0]\n",
    "gate.params[0] = gate.params[0] - np.pi/2"
   ]
  },
  {
   "cell_type": "code",
   "execution_count": 38,
   "metadata": {},
   "outputs": [
    {
     "data": {
      "image/png": "[encoded data removed]",
      "text/plain": [
       "<Figure size 808.852x144.48 with 1 Axes>"
      ]
     },
     "execution_count": 38,
     "metadata": {},
     "output_type": "execute_result"
    }
   ],
   "source": [
    "qc.draw('mpl')"
   ]
  },
  {
   "cell_type": "code",
   "execution_count": null,
   "metadata": {},
   "outputs": [],
   "source": []
  }
 ],
 "metadata": {
  "kernelspec": {
   "display_name": "Python 3",
   "language": "python",
   "name": "python3"
  },
  "language_info": {
   "codemirror_mode": {
    "name": "ipython",
    "version": 3
   },
   "file_extension": ".py",
   "mimetype": "text/x-python",
   "name": "python",
   "nbconvert_exporter": "python",
   "pygments_lexer": "ipython3",
   "version": "3.8.5"
  }
 },
 "nbformat": 4,
 "nbformat_minor": 4
}
