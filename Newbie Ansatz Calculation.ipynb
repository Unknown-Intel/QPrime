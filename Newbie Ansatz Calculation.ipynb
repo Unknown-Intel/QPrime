{
 "cells": [
  {
   "cell_type": "code",
   "execution_count": 1,
   "metadata": {},
   "outputs": [],
   "source": [
    "from sympy import *\n",
    "from sympy.physics.quantum import TensorProduct\n",
    "t1, t2, lamda, t3, t4, lamda2 = symbols(\"t1 t2 lamda t3 t4 lamda2\")"
   ]
  },
  {
   "cell_type": "code",
   "execution_count": 2,
   "metadata": {},
   "outputs": [
    {
     "data": {
      "text/latex": [
       "$\\displaystyle \\left[\\begin{matrix}\\cos{\\left(\\frac{t_{1}}{2} \\right)} & - \\sin{\\left(\\frac{t_{1}}{2} \\right)}\\\\\\sin{\\left(\\frac{t_{1}}{2} \\right)} & \\cos{\\left(\\frac{t_{1}}{2} \\right)}\\end{matrix}\\right]$"
      ],
      "text/plain": [
       "Matrix([\n",
       "[cos(t1/2), -sin(t1/2)],\n",
       "[sin(t1/2),  cos(t1/2)]])"
      ]
     },
     "execution_count": 2,
     "metadata": {},
     "output_type": "execute_result"
    }
   ],
   "source": [
    "Ry1 = Matrix([[cos(t1/2), -sin(t1/2)], [sin(t1/2), cos(t1/2)]])\n",
    "Ry2 = Matrix([[cos(t2/2), -sin(t2/2)], [sin(t2/2), cos(t2/2)]])\n",
    "Ry3 = Matrix([[cos(t3/2), -sin(t3/2)], [sin(t3/2), cos(t3/2)]])\n",
    "Ry4 = Matrix([[cos(t4/2), -sin(t4/2)], [sin(t4/2), cos(t4/2)]])\n",
    "Ry1"
   ]
  },
  {
   "cell_type": "code",
   "execution_count": 3,
   "metadata": {},
   "outputs": [
    {
     "data": {
      "text/latex": [
       "$\\displaystyle \\left[\\begin{matrix}1 & 0 & 0 & 0\\\\0 & e^{- \\frac{i \\lambda}{2}} & 0 & 0\\\\0 & 0 & 1 & 0\\\\0 & 0 & 0 & e^{\\frac{i \\lambda}{2}}\\end{matrix}\\right]$"
      ],
      "text/plain": [
       "Matrix([\n",
       "[1,               0, 0,              0],\n",
       "[0, exp(-I*lamda/2), 0,              0],\n",
       "[0,               0, 1,              0],\n",
       "[0,               0, 0, exp(I*lamda/2)]])"
      ]
     },
     "execution_count": 3,
     "metadata": {},
     "output_type": "execute_result"
    }
   ],
   "source": [
    "crz = Matrix([[1, 0, 0, 0], [0, functions.exp(-I*lamda/2), 0, 0], [0, 0, 1, 0], [0, 0, 0, functions.exp(I*lamda/2)]])\n",
    "crz2 = Matrix([[1, 0, 0, 0], [0, 1, 0, 0], [0, 0,  functions.exp(-I*lamda2/2), 0], [0, 0, 0, functions.exp(I*lamda2/2)]])\n",
    "crz"
   ]
  },
  {
   "cell_type": "code",
   "execution_count": 4,
   "metadata": {},
   "outputs": [
    {
     "data": {
      "text/latex": [
       "$\\displaystyle \\left[\\begin{matrix}\\cos{\\left(\\frac{t_{1}}{2} \\right)} \\cos{\\left(\\frac{t_{2}}{2} \\right)} & - \\sin{\\left(\\frac{t_{2}}{2} \\right)} \\cos{\\left(\\frac{t_{1}}{2} \\right)} & - \\sin{\\left(\\frac{t_{1}}{2} \\right)} \\cos{\\left(\\frac{t_{2}}{2} \\right)} & \\sin{\\left(\\frac{t_{1}}{2} \\right)} \\sin{\\left(\\frac{t_{2}}{2} \\right)}\\\\\\sin{\\left(\\frac{t_{2}}{2} \\right)} \\cos{\\left(\\frac{t_{1}}{2} \\right)} & \\cos{\\left(\\frac{t_{1}}{2} \\right)} \\cos{\\left(\\frac{t_{2}}{2} \\right)} & - \\sin{\\left(\\frac{t_{1}}{2} \\right)} \\sin{\\left(\\frac{t_{2}}{2} \\right)} & - \\sin{\\left(\\frac{t_{1}}{2} \\right)} \\cos{\\left(\\frac{t_{2}}{2} \\right)}\\\\\\sin{\\left(\\frac{t_{1}}{2} \\right)} \\cos{\\left(\\frac{t_{2}}{2} \\right)} & - \\sin{\\left(\\frac{t_{1}}{2} \\right)} \\sin{\\left(\\frac{t_{2}}{2} \\right)} & \\cos{\\left(\\frac{t_{1}}{2} \\right)} \\cos{\\left(\\frac{t_{2}}{2} \\right)} & - \\sin{\\left(\\frac{t_{2}}{2} \\right)} \\cos{\\left(\\frac{t_{1}}{2} \\right)}\\\\\\sin{\\left(\\frac{t_{1}}{2} \\right)} \\sin{\\left(\\frac{t_{2}}{2} \\right)} & \\sin{\\left(\\frac{t_{1}}{2} \\right)} \\cos{\\left(\\frac{t_{2}}{2} \\right)} & \\sin{\\left(\\frac{t_{2}}{2} \\right)} \\cos{\\left(\\frac{t_{1}}{2} \\right)} & \\cos{\\left(\\frac{t_{1}}{2} \\right)} \\cos{\\left(\\frac{t_{2}}{2} \\right)}\\end{matrix}\\right]$"
      ],
      "text/plain": [
       "Matrix([\n",
       "[cos(t1/2)*cos(t2/2), -sin(t2/2)*cos(t1/2), -sin(t1/2)*cos(t2/2),  sin(t1/2)*sin(t2/2)],\n",
       "[sin(t2/2)*cos(t1/2),  cos(t1/2)*cos(t2/2), -sin(t1/2)*sin(t2/2), -sin(t1/2)*cos(t2/2)],\n",
       "[sin(t1/2)*cos(t2/2), -sin(t1/2)*sin(t2/2),  cos(t1/2)*cos(t2/2), -sin(t2/2)*cos(t1/2)],\n",
       "[sin(t1/2)*sin(t2/2),  sin(t1/2)*cos(t2/2),  sin(t2/2)*cos(t1/2),  cos(t1/2)*cos(t2/2)]])"
      ]
     },
     "execution_count": 4,
     "metadata": {},
     "output_type": "execute_result"
    }
   ],
   "source": [
    "temp = TensorProduct(Ry1, Ry2)\n",
    "temp2 = TensorProduct(Ry3, Ry4)\n",
    "temp"
   ]
  },
  {
   "cell_type": "code",
   "execution_count": 5,
   "metadata": {},
   "outputs": [
    {
     "data": {
      "text/latex": [
       "$\\displaystyle \\left[\\begin{matrix}\\cos{\\left(\\frac{t_{1}}{2} \\right)} \\cos{\\left(\\frac{t_{2}}{2} \\right)} & - e^{- \\frac{i \\lambda}{2}} \\sin{\\left(\\frac{t_{2}}{2} \\right)} \\cos{\\left(\\frac{t_{1}}{2} \\right)} & - e^{- \\frac{i \\lambda_{2}}{2}} \\sin{\\left(\\frac{t_{1}}{2} \\right)} \\cos{\\left(\\frac{t_{2}}{2} \\right)} & e^{\\frac{i \\lambda}{2}} e^{\\frac{i \\lambda_{2}}{2}} \\sin{\\left(\\frac{t_{1}}{2} \\right)} \\sin{\\left(\\frac{t_{2}}{2} \\right)}\\\\\\sin{\\left(\\frac{t_{2}}{2} \\right)} \\cos{\\left(\\frac{t_{1}}{2} \\right)} & e^{- \\frac{i \\lambda}{2}} \\cos{\\left(\\frac{t_{1}}{2} \\right)} \\cos{\\left(\\frac{t_{2}}{2} \\right)} & - e^{- \\frac{i \\lambda_{2}}{2}} \\sin{\\left(\\frac{t_{1}}{2} \\right)} \\sin{\\left(\\frac{t_{2}}{2} \\right)} & - e^{\\frac{i \\lambda}{2}} e^{\\frac{i \\lambda_{2}}{2}} \\sin{\\left(\\frac{t_{1}}{2} \\right)} \\cos{\\left(\\frac{t_{2}}{2} \\right)}\\\\\\sin{\\left(\\frac{t_{1}}{2} \\right)} \\cos{\\left(\\frac{t_{2}}{2} \\right)} & - e^{- \\frac{i \\lambda}{2}} \\sin{\\left(\\frac{t_{1}}{2} \\right)} \\sin{\\left(\\frac{t_{2}}{2} \\right)} & e^{- \\frac{i \\lambda_{2}}{2}} \\cos{\\left(\\frac{t_{1}}{2} \\right)} \\cos{\\left(\\frac{t_{2}}{2} \\right)} & - e^{\\frac{i \\lambda}{2}} e^{\\frac{i \\lambda_{2}}{2}} \\sin{\\left(\\frac{t_{2}}{2} \\right)} \\cos{\\left(\\frac{t_{1}}{2} \\right)}\\\\\\sin{\\left(\\frac{t_{1}}{2} \\right)} \\sin{\\left(\\frac{t_{2}}{2} \\right)} & e^{- \\frac{i \\lambda}{2}} \\sin{\\left(\\frac{t_{1}}{2} \\right)} \\cos{\\left(\\frac{t_{2}}{2} \\right)} & e^{- \\frac{i \\lambda_{2}}{2}} \\sin{\\left(\\frac{t_{2}}{2} \\right)} \\cos{\\left(\\frac{t_{1}}{2} \\right)} & e^{\\frac{i \\lambda}{2}} e^{\\frac{i \\lambda_{2}}{2}} \\cos{\\left(\\frac{t_{1}}{2} \\right)} \\cos{\\left(\\frac{t_{2}}{2} \\right)}\\end{matrix}\\right]$"
      ],
      "text/plain": [
       "Matrix([\n",
       "[cos(t1/2)*cos(t2/2), -exp(-I*lamda/2)*sin(t2/2)*cos(t1/2), -exp(-I*lamda2/2)*sin(t1/2)*cos(t2/2),  exp(I*lamda/2)*exp(I*lamda2/2)*sin(t1/2)*sin(t2/2)],\n",
       "[sin(t2/2)*cos(t1/2),  exp(-I*lamda/2)*cos(t1/2)*cos(t2/2), -exp(-I*lamda2/2)*sin(t1/2)*sin(t2/2), -exp(I*lamda/2)*exp(I*lamda2/2)*sin(t1/2)*cos(t2/2)],\n",
       "[sin(t1/2)*cos(t2/2), -exp(-I*lamda/2)*sin(t1/2)*sin(t2/2),  exp(-I*lamda2/2)*cos(t1/2)*cos(t2/2), -exp(I*lamda/2)*exp(I*lamda2/2)*sin(t2/2)*cos(t1/2)],\n",
       "[sin(t1/2)*sin(t2/2),  exp(-I*lamda/2)*sin(t1/2)*cos(t2/2),  exp(-I*lamda2/2)*sin(t2/2)*cos(t1/2),  exp(I*lamda/2)*exp(I*lamda2/2)*cos(t1/2)*cos(t2/2)]])"
      ]
     },
     "execution_count": 5,
     "metadata": {},
     "output_type": "execute_result"
    }
   ],
   "source": [
    "newTemp = temp *crz2 * crz\n",
    "newTemp"
   ]
  },
  {
   "cell_type": "code",
   "execution_count": 6,
   "metadata": {},
   "outputs": [
    {
     "data": {
      "text/latex": [
       "$\\displaystyle \\left[\\begin{matrix}e^{\\frac{i \\lambda}{2}} e^{\\frac{i \\lambda_{2}}{2}} \\sin{\\left(\\frac{t_{1}}{2} \\right)} \\sin{\\left(\\frac{t_{2}}{2} \\right)} \\sin{\\left(\\frac{t_{3}}{2} \\right)} \\sin{\\left(\\frac{t_{4}}{2} \\right)} + \\cos{\\left(\\frac{t_{1}}{2} \\right)} \\cos{\\left(\\frac{t_{2}}{2} \\right)} \\cos{\\left(\\frac{t_{3}}{2} \\right)} \\cos{\\left(\\frac{t_{4}}{2} \\right)} - e^{- \\frac{i \\lambda_{2}}{2}} \\sin{\\left(\\frac{t_{1}}{2} \\right)} \\sin{\\left(\\frac{t_{3}}{2} \\right)} \\cos{\\left(\\frac{t_{2}}{2} \\right)} \\cos{\\left(\\frac{t_{4}}{2} \\right)} - e^{- \\frac{i \\lambda}{2}} \\sin{\\left(\\frac{t_{2}}{2} \\right)} \\sin{\\left(\\frac{t_{4}}{2} \\right)} \\cos{\\left(\\frac{t_{1}}{2} \\right)} \\cos{\\left(\\frac{t_{3}}{2} \\right)} & e^{\\frac{i \\lambda}{2}} e^{\\frac{i \\lambda_{2}}{2}} \\sin{\\left(\\frac{t_{1}}{2} \\right)} \\sin{\\left(\\frac{t_{2}}{2} \\right)} \\sin{\\left(\\frac{t_{3}}{2} \\right)} \\cos{\\left(\\frac{t_{4}}{2} \\right)} - \\sin{\\left(\\frac{t_{4}}{2} \\right)} \\cos{\\left(\\frac{t_{1}}{2} \\right)} \\cos{\\left(\\frac{t_{2}}{2} \\right)} \\cos{\\left(\\frac{t_{3}}{2} \\right)} + e^{- \\frac{i \\lambda_{2}}{2}} \\sin{\\left(\\frac{t_{1}}{2} \\right)} \\sin{\\left(\\frac{t_{3}}{2} \\right)} \\sin{\\left(\\frac{t_{4}}{2} \\right)} \\cos{\\left(\\frac{t_{2}}{2} \\right)} - e^{- \\frac{i \\lambda}{2}} \\sin{\\left(\\frac{t_{2}}{2} \\right)} \\cos{\\left(\\frac{t_{1}}{2} \\right)} \\cos{\\left(\\frac{t_{3}}{2} \\right)} \\cos{\\left(\\frac{t_{4}}{2} \\right)} & e^{\\frac{i \\lambda}{2}} e^{\\frac{i \\lambda_{2}}{2}} \\sin{\\left(\\frac{t_{1}}{2} \\right)} \\sin{\\left(\\frac{t_{2}}{2} \\right)} \\sin{\\left(\\frac{t_{4}}{2} \\right)} \\cos{\\left(\\frac{t_{3}}{2} \\right)} - \\sin{\\left(\\frac{t_{3}}{2} \\right)} \\cos{\\left(\\frac{t_{1}}{2} \\right)} \\cos{\\left(\\frac{t_{2}}{2} \\right)} \\cos{\\left(\\frac{t_{4}}{2} \\right)} - e^{- \\frac{i \\lambda_{2}}{2}} \\sin{\\left(\\frac{t_{1}}{2} \\right)} \\cos{\\left(\\frac{t_{2}}{2} \\right)} \\cos{\\left(\\frac{t_{3}}{2} \\right)} \\cos{\\left(\\frac{t_{4}}{2} \\right)} + e^{- \\frac{i \\lambda}{2}} \\sin{\\left(\\frac{t_{2}}{2} \\right)} \\sin{\\left(\\frac{t_{3}}{2} \\right)} \\sin{\\left(\\frac{t_{4}}{2} \\right)} \\cos{\\left(\\frac{t_{1}}{2} \\right)} & e^{\\frac{i \\lambda}{2}} e^{\\frac{i \\lambda_{2}}{2}} \\sin{\\left(\\frac{t_{1}}{2} \\right)} \\sin{\\left(\\frac{t_{2}}{2} \\right)} \\cos{\\left(\\frac{t_{3}}{2} \\right)} \\cos{\\left(\\frac{t_{4}}{2} \\right)} + \\sin{\\left(\\frac{t_{3}}{2} \\right)} \\sin{\\left(\\frac{t_{4}}{2} \\right)} \\cos{\\left(\\frac{t_{1}}{2} \\right)} \\cos{\\left(\\frac{t_{2}}{2} \\right)} + e^{- \\frac{i \\lambda_{2}}{2}} \\sin{\\left(\\frac{t_{1}}{2} \\right)} \\sin{\\left(\\frac{t_{4}}{2} \\right)} \\cos{\\left(\\frac{t_{2}}{2} \\right)} \\cos{\\left(\\frac{t_{3}}{2} \\right)} + e^{- \\frac{i \\lambda}{2}} \\sin{\\left(\\frac{t_{2}}{2} \\right)} \\sin{\\left(\\frac{t_{3}}{2} \\right)} \\cos{\\left(\\frac{t_{1}}{2} \\right)} \\cos{\\left(\\frac{t_{4}}{2} \\right)}\\\\- e^{\\frac{i \\lambda}{2}} e^{\\frac{i \\lambda_{2}}{2}} \\sin{\\left(\\frac{t_{1}}{2} \\right)} \\sin{\\left(\\frac{t_{3}}{2} \\right)} \\sin{\\left(\\frac{t_{4}}{2} \\right)} \\cos{\\left(\\frac{t_{2}}{2} \\right)} + \\sin{\\left(\\frac{t_{2}}{2} \\right)} \\cos{\\left(\\frac{t_{1}}{2} \\right)} \\cos{\\left(\\frac{t_{3}}{2} \\right)} \\cos{\\left(\\frac{t_{4}}{2} \\right)} - e^{- \\frac{i \\lambda_{2}}{2}} \\sin{\\left(\\frac{t_{1}}{2} \\right)} \\sin{\\left(\\frac{t_{2}}{2} \\right)} \\sin{\\left(\\frac{t_{3}}{2} \\right)} \\cos{\\left(\\frac{t_{4}}{2} \\right)} + e^{- \\frac{i \\lambda}{2}} \\sin{\\left(\\frac{t_{4}}{2} \\right)} \\cos{\\left(\\frac{t_{1}}{2} \\right)} \\cos{\\left(\\frac{t_{2}}{2} \\right)} \\cos{\\left(\\frac{t_{3}}{2} \\right)} & - e^{\\frac{i \\lambda}{2}} e^{\\frac{i \\lambda_{2}}{2}} \\sin{\\left(\\frac{t_{1}}{2} \\right)} \\sin{\\left(\\frac{t_{3}}{2} \\right)} \\cos{\\left(\\frac{t_{2}}{2} \\right)} \\cos{\\left(\\frac{t_{4}}{2} \\right)} - \\sin{\\left(\\frac{t_{2}}{2} \\right)} \\sin{\\left(\\frac{t_{4}}{2} \\right)} \\cos{\\left(\\frac{t_{1}}{2} \\right)} \\cos{\\left(\\frac{t_{3}}{2} \\right)} + e^{- \\frac{i \\lambda_{2}}{2}} \\sin{\\left(\\frac{t_{1}}{2} \\right)} \\sin{\\left(\\frac{t_{2}}{2} \\right)} \\sin{\\left(\\frac{t_{3}}{2} \\right)} \\sin{\\left(\\frac{t_{4}}{2} \\right)} + e^{- \\frac{i \\lambda}{2}} \\cos{\\left(\\frac{t_{1}}{2} \\right)} \\cos{\\left(\\frac{t_{2}}{2} \\right)} \\cos{\\left(\\frac{t_{3}}{2} \\right)} \\cos{\\left(\\frac{t_{4}}{2} \\right)} & - e^{\\frac{i \\lambda}{2}} e^{\\frac{i \\lambda_{2}}{2}} \\sin{\\left(\\frac{t_{1}}{2} \\right)} \\sin{\\left(\\frac{t_{4}}{2} \\right)} \\cos{\\left(\\frac{t_{2}}{2} \\right)} \\cos{\\left(\\frac{t_{3}}{2} \\right)} - \\sin{\\left(\\frac{t_{2}}{2} \\right)} \\sin{\\left(\\frac{t_{3}}{2} \\right)} \\cos{\\left(\\frac{t_{1}}{2} \\right)} \\cos{\\left(\\frac{t_{4}}{2} \\right)} - e^{- \\frac{i \\lambda_{2}}{2}} \\sin{\\left(\\frac{t_{1}}{2} \\right)} \\sin{\\left(\\frac{t_{2}}{2} \\right)} \\cos{\\left(\\frac{t_{3}}{2} \\right)} \\cos{\\left(\\frac{t_{4}}{2} \\right)} - e^{- \\frac{i \\lambda}{2}} \\sin{\\left(\\frac{t_{3}}{2} \\right)} \\sin{\\left(\\frac{t_{4}}{2} \\right)} \\cos{\\left(\\frac{t_{1}}{2} \\right)} \\cos{\\left(\\frac{t_{2}}{2} \\right)} & - e^{\\frac{i \\lambda}{2}} e^{\\frac{i \\lambda_{2}}{2}} \\sin{\\left(\\frac{t_{1}}{2} \\right)} \\cos{\\left(\\frac{t_{2}}{2} \\right)} \\cos{\\left(\\frac{t_{3}}{2} \\right)} \\cos{\\left(\\frac{t_{4}}{2} \\right)} + \\sin{\\left(\\frac{t_{2}}{2} \\right)} \\sin{\\left(\\frac{t_{3}}{2} \\right)} \\sin{\\left(\\frac{t_{4}}{2} \\right)} \\cos{\\left(\\frac{t_{1}}{2} \\right)} + e^{- \\frac{i \\lambda_{2}}{2}} \\sin{\\left(\\frac{t_{1}}{2} \\right)} \\sin{\\left(\\frac{t_{2}}{2} \\right)} \\sin{\\left(\\frac{t_{4}}{2} \\right)} \\cos{\\left(\\frac{t_{3}}{2} \\right)} - e^{- \\frac{i \\lambda}{2}} \\sin{\\left(\\frac{t_{3}}{2} \\right)} \\cos{\\left(\\frac{t_{1}}{2} \\right)} \\cos{\\left(\\frac{t_{2}}{2} \\right)} \\cos{\\left(\\frac{t_{4}}{2} \\right)}\\\\- e^{\\frac{i \\lambda}{2}} e^{\\frac{i \\lambda_{2}}{2}} \\sin{\\left(\\frac{t_{2}}{2} \\right)} \\sin{\\left(\\frac{t_{3}}{2} \\right)} \\sin{\\left(\\frac{t_{4}}{2} \\right)} \\cos{\\left(\\frac{t_{1}}{2} \\right)} + \\sin{\\left(\\frac{t_{1}}{2} \\right)} \\cos{\\left(\\frac{t_{2}}{2} \\right)} \\cos{\\left(\\frac{t_{3}}{2} \\right)} \\cos{\\left(\\frac{t_{4}}{2} \\right)} + e^{- \\frac{i \\lambda_{2}}{2}} \\sin{\\left(\\frac{t_{3}}{2} \\right)} \\cos{\\left(\\frac{t_{1}}{2} \\right)} \\cos{\\left(\\frac{t_{2}}{2} \\right)} \\cos{\\left(\\frac{t_{4}}{2} \\right)} - e^{- \\frac{i \\lambda}{2}} \\sin{\\left(\\frac{t_{1}}{2} \\right)} \\sin{\\left(\\frac{t_{2}}{2} \\right)} \\sin{\\left(\\frac{t_{4}}{2} \\right)} \\cos{\\left(\\frac{t_{3}}{2} \\right)} & - e^{\\frac{i \\lambda}{2}} e^{\\frac{i \\lambda_{2}}{2}} \\sin{\\left(\\frac{t_{2}}{2} \\right)} \\sin{\\left(\\frac{t_{3}}{2} \\right)} \\cos{\\left(\\frac{t_{1}}{2} \\right)} \\cos{\\left(\\frac{t_{4}}{2} \\right)} - \\sin{\\left(\\frac{t_{1}}{2} \\right)} \\sin{\\left(\\frac{t_{4}}{2} \\right)} \\cos{\\left(\\frac{t_{2}}{2} \\right)} \\cos{\\left(\\frac{t_{3}}{2} \\right)} - e^{- \\frac{i \\lambda_{2}}{2}} \\sin{\\left(\\frac{t_{3}}{2} \\right)} \\sin{\\left(\\frac{t_{4}}{2} \\right)} \\cos{\\left(\\frac{t_{1}}{2} \\right)} \\cos{\\left(\\frac{t_{2}}{2} \\right)} - e^{- \\frac{i \\lambda}{2}} \\sin{\\left(\\frac{t_{1}}{2} \\right)} \\sin{\\left(\\frac{t_{2}}{2} \\right)} \\cos{\\left(\\frac{t_{3}}{2} \\right)} \\cos{\\left(\\frac{t_{4}}{2} \\right)} & - e^{\\frac{i \\lambda}{2}} e^{\\frac{i \\lambda_{2}}{2}} \\sin{\\left(\\frac{t_{2}}{2} \\right)} \\sin{\\left(\\frac{t_{4}}{2} \\right)} \\cos{\\left(\\frac{t_{1}}{2} \\right)} \\cos{\\left(\\frac{t_{3}}{2} \\right)} - \\sin{\\left(\\frac{t_{1}}{2} \\right)} \\sin{\\left(\\frac{t_{3}}{2} \\right)} \\cos{\\left(\\frac{t_{2}}{2} \\right)} \\cos{\\left(\\frac{t_{4}}{2} \\right)} + e^{- \\frac{i \\lambda_{2}}{2}} \\cos{\\left(\\frac{t_{1}}{2} \\right)} \\cos{\\left(\\frac{t_{2}}{2} \\right)} \\cos{\\left(\\frac{t_{3}}{2} \\right)} \\cos{\\left(\\frac{t_{4}}{2} \\right)} + e^{- \\frac{i \\lambda}{2}} \\sin{\\left(\\frac{t_{1}}{2} \\right)} \\sin{\\left(\\frac{t_{2}}{2} \\right)} \\sin{\\left(\\frac{t_{3}}{2} \\right)} \\sin{\\left(\\frac{t_{4}}{2} \\right)} & - e^{\\frac{i \\lambda}{2}} e^{\\frac{i \\lambda_{2}}{2}} \\sin{\\left(\\frac{t_{2}}{2} \\right)} \\cos{\\left(\\frac{t_{1}}{2} \\right)} \\cos{\\left(\\frac{t_{3}}{2} \\right)} \\cos{\\left(\\frac{t_{4}}{2} \\right)} + \\sin{\\left(\\frac{t_{1}}{2} \\right)} \\sin{\\left(\\frac{t_{3}}{2} \\right)} \\sin{\\left(\\frac{t_{4}}{2} \\right)} \\cos{\\left(\\frac{t_{2}}{2} \\right)} - e^{- \\frac{i \\lambda_{2}}{2}} \\sin{\\left(\\frac{t_{4}}{2} \\right)} \\cos{\\left(\\frac{t_{1}}{2} \\right)} \\cos{\\left(\\frac{t_{2}}{2} \\right)} \\cos{\\left(\\frac{t_{3}}{2} \\right)} + e^{- \\frac{i \\lambda}{2}} \\sin{\\left(\\frac{t_{1}}{2} \\right)} \\sin{\\left(\\frac{t_{2}}{2} \\right)} \\sin{\\left(\\frac{t_{3}}{2} \\right)} \\cos{\\left(\\frac{t_{4}}{2} \\right)}\\\\e^{\\frac{i \\lambda}{2}} e^{\\frac{i \\lambda_{2}}{2}} \\sin{\\left(\\frac{t_{3}}{2} \\right)} \\sin{\\left(\\frac{t_{4}}{2} \\right)} \\cos{\\left(\\frac{t_{1}}{2} \\right)} \\cos{\\left(\\frac{t_{2}}{2} \\right)} + \\sin{\\left(\\frac{t_{1}}{2} \\right)} \\sin{\\left(\\frac{t_{2}}{2} \\right)} \\cos{\\left(\\frac{t_{3}}{2} \\right)} \\cos{\\left(\\frac{t_{4}}{2} \\right)} + e^{- \\frac{i \\lambda_{2}}{2}} \\sin{\\left(\\frac{t_{2}}{2} \\right)} \\sin{\\left(\\frac{t_{3}}{2} \\right)} \\cos{\\left(\\frac{t_{1}}{2} \\right)} \\cos{\\left(\\frac{t_{4}}{2} \\right)} + e^{- \\frac{i \\lambda}{2}} \\sin{\\left(\\frac{t_{1}}{2} \\right)} \\sin{\\left(\\frac{t_{4}}{2} \\right)} \\cos{\\left(\\frac{t_{2}}{2} \\right)} \\cos{\\left(\\frac{t_{3}}{2} \\right)} & e^{\\frac{i \\lambda}{2}} e^{\\frac{i \\lambda_{2}}{2}} \\sin{\\left(\\frac{t_{3}}{2} \\right)} \\cos{\\left(\\frac{t_{1}}{2} \\right)} \\cos{\\left(\\frac{t_{2}}{2} \\right)} \\cos{\\left(\\frac{t_{4}}{2} \\right)} - \\sin{\\left(\\frac{t_{1}}{2} \\right)} \\sin{\\left(\\frac{t_{2}}{2} \\right)} \\sin{\\left(\\frac{t_{4}}{2} \\right)} \\cos{\\left(\\frac{t_{3}}{2} \\right)} - e^{- \\frac{i \\lambda_{2}}{2}} \\sin{\\left(\\frac{t_{2}}{2} \\right)} \\sin{\\left(\\frac{t_{3}}{2} \\right)} \\sin{\\left(\\frac{t_{4}}{2} \\right)} \\cos{\\left(\\frac{t_{1}}{2} \\right)} + e^{- \\frac{i \\lambda}{2}} \\sin{\\left(\\frac{t_{1}}{2} \\right)} \\cos{\\left(\\frac{t_{2}}{2} \\right)} \\cos{\\left(\\frac{t_{3}}{2} \\right)} \\cos{\\left(\\frac{t_{4}}{2} \\right)} & e^{\\frac{i \\lambda}{2}} e^{\\frac{i \\lambda_{2}}{2}} \\sin{\\left(\\frac{t_{4}}{2} \\right)} \\cos{\\left(\\frac{t_{1}}{2} \\right)} \\cos{\\left(\\frac{t_{2}}{2} \\right)} \\cos{\\left(\\frac{t_{3}}{2} \\right)} - \\sin{\\left(\\frac{t_{1}}{2} \\right)} \\sin{\\left(\\frac{t_{2}}{2} \\right)} \\sin{\\left(\\frac{t_{3}}{2} \\right)} \\cos{\\left(\\frac{t_{4}}{2} \\right)} + e^{- \\frac{i \\lambda_{2}}{2}} \\sin{\\left(\\frac{t_{2}}{2} \\right)} \\cos{\\left(\\frac{t_{1}}{2} \\right)} \\cos{\\left(\\frac{t_{3}}{2} \\right)} \\cos{\\left(\\frac{t_{4}}{2} \\right)} - e^{- \\frac{i \\lambda}{2}} \\sin{\\left(\\frac{t_{1}}{2} \\right)} \\sin{\\left(\\frac{t_{3}}{2} \\right)} \\sin{\\left(\\frac{t_{4}}{2} \\right)} \\cos{\\left(\\frac{t_{2}}{2} \\right)} & e^{\\frac{i \\lambda}{2}} e^{\\frac{i \\lambda_{2}}{2}} \\cos{\\left(\\frac{t_{1}}{2} \\right)} \\cos{\\left(\\frac{t_{2}}{2} \\right)} \\cos{\\left(\\frac{t_{3}}{2} \\right)} \\cos{\\left(\\frac{t_{4}}{2} \\right)} + \\sin{\\left(\\frac{t_{1}}{2} \\right)} \\sin{\\left(\\frac{t_{2}}{2} \\right)} \\sin{\\left(\\frac{t_{3}}{2} \\right)} \\sin{\\left(\\frac{t_{4}}{2} \\right)} - e^{- \\frac{i \\lambda_{2}}{2}} \\sin{\\left(\\frac{t_{2}}{2} \\right)} \\sin{\\left(\\frac{t_{4}}{2} \\right)} \\cos{\\left(\\frac{t_{1}}{2} \\right)} \\cos{\\left(\\frac{t_{3}}{2} \\right)} - e^{- \\frac{i \\lambda}{2}} \\sin{\\left(\\frac{t_{1}}{2} \\right)} \\sin{\\left(\\frac{t_{3}}{2} \\right)} \\cos{\\left(\\frac{t_{2}}{2} \\right)} \\cos{\\left(\\frac{t_{4}}{2} \\right)}\\end{matrix}\\right]$"
      ],
      "text/plain": [
       "Matrix([\n",
       "[ exp(I*lamda/2)*exp(I*lamda2/2)*sin(t1/2)*sin(t2/2)*sin(t3/2)*sin(t4/2) + cos(t1/2)*cos(t2/2)*cos(t3/2)*cos(t4/2) - exp(-I*lamda2/2)*sin(t1/2)*sin(t3/2)*cos(t2/2)*cos(t4/2) - exp(-I*lamda/2)*sin(t2/2)*sin(t4/2)*cos(t1/2)*cos(t3/2),  exp(I*lamda/2)*exp(I*lamda2/2)*sin(t1/2)*sin(t2/2)*sin(t3/2)*cos(t4/2) - sin(t4/2)*cos(t1/2)*cos(t2/2)*cos(t3/2) + exp(-I*lamda2/2)*sin(t1/2)*sin(t3/2)*sin(t4/2)*cos(t2/2) - exp(-I*lamda/2)*sin(t2/2)*cos(t1/2)*cos(t3/2)*cos(t4/2),  exp(I*lamda/2)*exp(I*lamda2/2)*sin(t1/2)*sin(t2/2)*sin(t4/2)*cos(t3/2) - sin(t3/2)*cos(t1/2)*cos(t2/2)*cos(t4/2) - exp(-I*lamda2/2)*sin(t1/2)*cos(t2/2)*cos(t3/2)*cos(t4/2) + exp(-I*lamda/2)*sin(t2/2)*sin(t3/2)*sin(t4/2)*cos(t1/2),  exp(I*lamda/2)*exp(I*lamda2/2)*sin(t1/2)*sin(t2/2)*cos(t3/2)*cos(t4/2) + sin(t3/2)*sin(t4/2)*cos(t1/2)*cos(t2/2) + exp(-I*lamda2/2)*sin(t1/2)*sin(t4/2)*cos(t2/2)*cos(t3/2) + exp(-I*lamda/2)*sin(t2/2)*sin(t3/2)*cos(t1/2)*cos(t4/2)],\n",
       "[-exp(I*lamda/2)*exp(I*lamda2/2)*sin(t1/2)*sin(t3/2)*sin(t4/2)*cos(t2/2) + sin(t2/2)*cos(t1/2)*cos(t3/2)*cos(t4/2) - exp(-I*lamda2/2)*sin(t1/2)*sin(t2/2)*sin(t3/2)*cos(t4/2) + exp(-I*lamda/2)*sin(t4/2)*cos(t1/2)*cos(t2/2)*cos(t3/2), -exp(I*lamda/2)*exp(I*lamda2/2)*sin(t1/2)*sin(t3/2)*cos(t2/2)*cos(t4/2) - sin(t2/2)*sin(t4/2)*cos(t1/2)*cos(t3/2) + exp(-I*lamda2/2)*sin(t1/2)*sin(t2/2)*sin(t3/2)*sin(t4/2) + exp(-I*lamda/2)*cos(t1/2)*cos(t2/2)*cos(t3/2)*cos(t4/2), -exp(I*lamda/2)*exp(I*lamda2/2)*sin(t1/2)*sin(t4/2)*cos(t2/2)*cos(t3/2) - sin(t2/2)*sin(t3/2)*cos(t1/2)*cos(t4/2) - exp(-I*lamda2/2)*sin(t1/2)*sin(t2/2)*cos(t3/2)*cos(t4/2) - exp(-I*lamda/2)*sin(t3/2)*sin(t4/2)*cos(t1/2)*cos(t2/2), -exp(I*lamda/2)*exp(I*lamda2/2)*sin(t1/2)*cos(t2/2)*cos(t3/2)*cos(t4/2) + sin(t2/2)*sin(t3/2)*sin(t4/2)*cos(t1/2) + exp(-I*lamda2/2)*sin(t1/2)*sin(t2/2)*sin(t4/2)*cos(t3/2) - exp(-I*lamda/2)*sin(t3/2)*cos(t1/2)*cos(t2/2)*cos(t4/2)],\n",
       "[-exp(I*lamda/2)*exp(I*lamda2/2)*sin(t2/2)*sin(t3/2)*sin(t4/2)*cos(t1/2) + sin(t1/2)*cos(t2/2)*cos(t3/2)*cos(t4/2) + exp(-I*lamda2/2)*sin(t3/2)*cos(t1/2)*cos(t2/2)*cos(t4/2) - exp(-I*lamda/2)*sin(t1/2)*sin(t2/2)*sin(t4/2)*cos(t3/2), -exp(I*lamda/2)*exp(I*lamda2/2)*sin(t2/2)*sin(t3/2)*cos(t1/2)*cos(t4/2) - sin(t1/2)*sin(t4/2)*cos(t2/2)*cos(t3/2) - exp(-I*lamda2/2)*sin(t3/2)*sin(t4/2)*cos(t1/2)*cos(t2/2) - exp(-I*lamda/2)*sin(t1/2)*sin(t2/2)*cos(t3/2)*cos(t4/2), -exp(I*lamda/2)*exp(I*lamda2/2)*sin(t2/2)*sin(t4/2)*cos(t1/2)*cos(t3/2) - sin(t1/2)*sin(t3/2)*cos(t2/2)*cos(t4/2) + exp(-I*lamda2/2)*cos(t1/2)*cos(t2/2)*cos(t3/2)*cos(t4/2) + exp(-I*lamda/2)*sin(t1/2)*sin(t2/2)*sin(t3/2)*sin(t4/2), -exp(I*lamda/2)*exp(I*lamda2/2)*sin(t2/2)*cos(t1/2)*cos(t3/2)*cos(t4/2) + sin(t1/2)*sin(t3/2)*sin(t4/2)*cos(t2/2) - exp(-I*lamda2/2)*sin(t4/2)*cos(t1/2)*cos(t2/2)*cos(t3/2) + exp(-I*lamda/2)*sin(t1/2)*sin(t2/2)*sin(t3/2)*cos(t4/2)],\n",
       "[ exp(I*lamda/2)*exp(I*lamda2/2)*sin(t3/2)*sin(t4/2)*cos(t1/2)*cos(t2/2) + sin(t1/2)*sin(t2/2)*cos(t3/2)*cos(t4/2) + exp(-I*lamda2/2)*sin(t2/2)*sin(t3/2)*cos(t1/2)*cos(t4/2) + exp(-I*lamda/2)*sin(t1/2)*sin(t4/2)*cos(t2/2)*cos(t3/2),  exp(I*lamda/2)*exp(I*lamda2/2)*sin(t3/2)*cos(t1/2)*cos(t2/2)*cos(t4/2) - sin(t1/2)*sin(t2/2)*sin(t4/2)*cos(t3/2) - exp(-I*lamda2/2)*sin(t2/2)*sin(t3/2)*sin(t4/2)*cos(t1/2) + exp(-I*lamda/2)*sin(t1/2)*cos(t2/2)*cos(t3/2)*cos(t4/2),  exp(I*lamda/2)*exp(I*lamda2/2)*sin(t4/2)*cos(t1/2)*cos(t2/2)*cos(t3/2) - sin(t1/2)*sin(t2/2)*sin(t3/2)*cos(t4/2) + exp(-I*lamda2/2)*sin(t2/2)*cos(t1/2)*cos(t3/2)*cos(t4/2) - exp(-I*lamda/2)*sin(t1/2)*sin(t3/2)*sin(t4/2)*cos(t2/2),  exp(I*lamda/2)*exp(I*lamda2/2)*cos(t1/2)*cos(t2/2)*cos(t3/2)*cos(t4/2) + sin(t1/2)*sin(t2/2)*sin(t3/2)*sin(t4/2) - exp(-I*lamda2/2)*sin(t2/2)*sin(t4/2)*cos(t1/2)*cos(t3/2) - exp(-I*lamda/2)*sin(t1/2)*sin(t3/2)*cos(t2/2)*cos(t4/2)]])"
      ]
     },
     "execution_count": 6,
     "metadata": {},
     "output_type": "execute_result"
    }
   ],
   "source": [
    "ansatz = (newTemp * temp2)\n",
    "ansatz"
   ]
  },
  {
   "cell_type": "code",
   "execution_count": 7,
   "metadata": {},
   "outputs": [],
   "source": [
    "import numpy as np\n",
    "# v = Matrix([ansatz.free_symbols])\n",
    "# first_derivate = ansatz.jacobian(v)\n",
    "first_derivate = diff(ansatz,t1,t2,t3,t4,lamda,lamda2)\n",
    "second_derivate = diff(first_derivate,t1,t2,t3,t4,lamda,lamda2)"
   ]
  },
  {
   "cell_type": "code",
   "execution_count": 8,
   "metadata": {},
   "outputs": [
    {
     "data": {
      "text/latex": [
       "$\\displaystyle \\left[\\begin{matrix}- \\frac{e^{\\frac{i \\lambda}{2}} e^{\\frac{i \\lambda_{2}}{2}} \\cos{\\left(\\frac{t_{1}}{2} \\right)} \\cos{\\left(\\frac{t_{2}}{2} \\right)} \\cos{\\left(\\frac{t_{3}}{2} \\right)} \\cos{\\left(\\frac{t_{4}}{2} \\right)}}{64} & \\frac{e^{\\frac{i \\lambda}{2}} e^{\\frac{i \\lambda_{2}}{2}} \\sin{\\left(\\frac{t_{4}}{2} \\right)} \\cos{\\left(\\frac{t_{1}}{2} \\right)} \\cos{\\left(\\frac{t_{2}}{2} \\right)} \\cos{\\left(\\frac{t_{3}}{2} \\right)}}{64} & \\frac{e^{\\frac{i \\lambda}{2}} e^{\\frac{i \\lambda_{2}}{2}} \\sin{\\left(\\frac{t_{3}}{2} \\right)} \\cos{\\left(\\frac{t_{1}}{2} \\right)} \\cos{\\left(\\frac{t_{2}}{2} \\right)} \\cos{\\left(\\frac{t_{4}}{2} \\right)}}{64} & - \\frac{e^{\\frac{i \\lambda}{2}} e^{\\frac{i \\lambda_{2}}{2}} \\sin{\\left(\\frac{t_{3}}{2} \\right)} \\sin{\\left(\\frac{t_{4}}{2} \\right)} \\cos{\\left(\\frac{t_{1}}{2} \\right)} \\cos{\\left(\\frac{t_{2}}{2} \\right)}}{64}\\\\- \\frac{e^{\\frac{i \\lambda}{2}} e^{\\frac{i \\lambda_{2}}{2}} \\sin{\\left(\\frac{t_{2}}{2} \\right)} \\cos{\\left(\\frac{t_{1}}{2} \\right)} \\cos{\\left(\\frac{t_{3}}{2} \\right)} \\cos{\\left(\\frac{t_{4}}{2} \\right)}}{64} & \\frac{e^{\\frac{i \\lambda}{2}} e^{\\frac{i \\lambda_{2}}{2}} \\sin{\\left(\\frac{t_{2}}{2} \\right)} \\sin{\\left(\\frac{t_{4}}{2} \\right)} \\cos{\\left(\\frac{t_{1}}{2} \\right)} \\cos{\\left(\\frac{t_{3}}{2} \\right)}}{64} & \\frac{e^{\\frac{i \\lambda}{2}} e^{\\frac{i \\lambda_{2}}{2}} \\sin{\\left(\\frac{t_{2}}{2} \\right)} \\sin{\\left(\\frac{t_{3}}{2} \\right)} \\cos{\\left(\\frac{t_{1}}{2} \\right)} \\cos{\\left(\\frac{t_{4}}{2} \\right)}}{64} & - \\frac{e^{\\frac{i \\lambda}{2}} e^{\\frac{i \\lambda_{2}}{2}} \\sin{\\left(\\frac{t_{2}}{2} \\right)} \\sin{\\left(\\frac{t_{3}}{2} \\right)} \\sin{\\left(\\frac{t_{4}}{2} \\right)} \\cos{\\left(\\frac{t_{1}}{2} \\right)}}{64}\\\\- \\frac{e^{\\frac{i \\lambda}{2}} e^{\\frac{i \\lambda_{2}}{2}} \\sin{\\left(\\frac{t_{1}}{2} \\right)} \\cos{\\left(\\frac{t_{2}}{2} \\right)} \\cos{\\left(\\frac{t_{3}}{2} \\right)} \\cos{\\left(\\frac{t_{4}}{2} \\right)}}{64} & \\frac{e^{\\frac{i \\lambda}{2}} e^{\\frac{i \\lambda_{2}}{2}} \\sin{\\left(\\frac{t_{1}}{2} \\right)} \\sin{\\left(\\frac{t_{4}}{2} \\right)} \\cos{\\left(\\frac{t_{2}}{2} \\right)} \\cos{\\left(\\frac{t_{3}}{2} \\right)}}{64} & \\frac{e^{\\frac{i \\lambda}{2}} e^{\\frac{i \\lambda_{2}}{2}} \\sin{\\left(\\frac{t_{1}}{2} \\right)} \\sin{\\left(\\frac{t_{3}}{2} \\right)} \\cos{\\left(\\frac{t_{2}}{2} \\right)} \\cos{\\left(\\frac{t_{4}}{2} \\right)}}{64} & - \\frac{e^{\\frac{i \\lambda}{2}} e^{\\frac{i \\lambda_{2}}{2}} \\sin{\\left(\\frac{t_{1}}{2} \\right)} \\sin{\\left(\\frac{t_{3}}{2} \\right)} \\sin{\\left(\\frac{t_{4}}{2} \\right)} \\cos{\\left(\\frac{t_{2}}{2} \\right)}}{64}\\\\- \\frac{e^{\\frac{i \\lambda}{2}} e^{\\frac{i \\lambda_{2}}{2}} \\sin{\\left(\\frac{t_{1}}{2} \\right)} \\sin{\\left(\\frac{t_{2}}{2} \\right)} \\cos{\\left(\\frac{t_{3}}{2} \\right)} \\cos{\\left(\\frac{t_{4}}{2} \\right)}}{64} & \\frac{e^{\\frac{i \\lambda}{2}} e^{\\frac{i \\lambda_{2}}{2}} \\sin{\\left(\\frac{t_{1}}{2} \\right)} \\sin{\\left(\\frac{t_{2}}{2} \\right)} \\sin{\\left(\\frac{t_{4}}{2} \\right)} \\cos{\\left(\\frac{t_{3}}{2} \\right)}}{64} & \\frac{e^{\\frac{i \\lambda}{2}} e^{\\frac{i \\lambda_{2}}{2}} \\sin{\\left(\\frac{t_{1}}{2} \\right)} \\sin{\\left(\\frac{t_{2}}{2} \\right)} \\sin{\\left(\\frac{t_{3}}{2} \\right)} \\cos{\\left(\\frac{t_{4}}{2} \\right)}}{64} & - \\frac{e^{\\frac{i \\lambda}{2}} e^{\\frac{i \\lambda_{2}}{2}} \\sin{\\left(\\frac{t_{1}}{2} \\right)} \\sin{\\left(\\frac{t_{2}}{2} \\right)} \\sin{\\left(\\frac{t_{3}}{2} \\right)} \\sin{\\left(\\frac{t_{4}}{2} \\right)}}{64}\\end{matrix}\\right]$"
      ],
      "text/plain": [
       "Matrix([\n",
       "[-exp(I*lamda/2)*exp(I*lamda2/2)*cos(t1/2)*cos(t2/2)*cos(t3/2)*cos(t4/2)/64, exp(I*lamda/2)*exp(I*lamda2/2)*sin(t4/2)*cos(t1/2)*cos(t2/2)*cos(t3/2)/64, exp(I*lamda/2)*exp(I*lamda2/2)*sin(t3/2)*cos(t1/2)*cos(t2/2)*cos(t4/2)/64, -exp(I*lamda/2)*exp(I*lamda2/2)*sin(t3/2)*sin(t4/2)*cos(t1/2)*cos(t2/2)/64],\n",
       "[-exp(I*lamda/2)*exp(I*lamda2/2)*sin(t2/2)*cos(t1/2)*cos(t3/2)*cos(t4/2)/64, exp(I*lamda/2)*exp(I*lamda2/2)*sin(t2/2)*sin(t4/2)*cos(t1/2)*cos(t3/2)/64, exp(I*lamda/2)*exp(I*lamda2/2)*sin(t2/2)*sin(t3/2)*cos(t1/2)*cos(t4/2)/64, -exp(I*lamda/2)*exp(I*lamda2/2)*sin(t2/2)*sin(t3/2)*sin(t4/2)*cos(t1/2)/64],\n",
       "[-exp(I*lamda/2)*exp(I*lamda2/2)*sin(t1/2)*cos(t2/2)*cos(t3/2)*cos(t4/2)/64, exp(I*lamda/2)*exp(I*lamda2/2)*sin(t1/2)*sin(t4/2)*cos(t2/2)*cos(t3/2)/64, exp(I*lamda/2)*exp(I*lamda2/2)*sin(t1/2)*sin(t3/2)*cos(t2/2)*cos(t4/2)/64, -exp(I*lamda/2)*exp(I*lamda2/2)*sin(t1/2)*sin(t3/2)*sin(t4/2)*cos(t2/2)/64],\n",
       "[-exp(I*lamda/2)*exp(I*lamda2/2)*sin(t1/2)*sin(t2/2)*cos(t3/2)*cos(t4/2)/64, exp(I*lamda/2)*exp(I*lamda2/2)*sin(t1/2)*sin(t2/2)*sin(t4/2)*cos(t3/2)/64, exp(I*lamda/2)*exp(I*lamda2/2)*sin(t1/2)*sin(t2/2)*sin(t3/2)*cos(t4/2)/64, -exp(I*lamda/2)*exp(I*lamda2/2)*sin(t1/2)*sin(t2/2)*sin(t3/2)*sin(t4/2)/64]])"
      ]
     },
     "execution_count": 8,
     "metadata": {},
     "output_type": "execute_result"
    }
   ],
   "source": [
    "first_derivate"
   ]
  },
  {
   "cell_type": "code",
   "execution_count": 9,
   "metadata": {},
   "outputs": [],
   "source": [
    "second_derivate.simplify()"
   ]
  },
  {
   "cell_type": "code",
   "execution_count": 10,
   "metadata": {},
   "outputs": [
    {
     "data": {
      "text/latex": [
       "$\\displaystyle \\left[\\begin{matrix}\\frac{e^{\\frac{i \\left(\\lambda + \\lambda_{2}\\right)}{2}} \\sin{\\left(\\frac{t_{1}}{2} \\right)} \\sin{\\left(\\frac{t_{2}}{2} \\right)} \\sin{\\left(\\frac{t_{3}}{2} \\right)} \\sin{\\left(\\frac{t_{4}}{2} \\right)}}{4096} & \\frac{e^{\\frac{i \\left(\\lambda + \\lambda_{2}\\right)}{2}} \\sin{\\left(\\frac{t_{1}}{2} \\right)} \\sin{\\left(\\frac{t_{2}}{2} \\right)} \\sin{\\left(\\frac{t_{3}}{2} \\right)} \\cos{\\left(\\frac{t_{4}}{2} \\right)}}{4096} & \\frac{e^{\\frac{i \\left(\\lambda + \\lambda_{2}\\right)}{2}} \\sin{\\left(\\frac{t_{1}}{2} \\right)} \\sin{\\left(\\frac{t_{2}}{2} \\right)} \\sin{\\left(\\frac{t_{4}}{2} \\right)} \\cos{\\left(\\frac{t_{3}}{2} \\right)}}{4096} & \\frac{e^{\\frac{i \\left(\\lambda + \\lambda_{2}\\right)}{2}} \\sin{\\left(\\frac{t_{1}}{2} \\right)} \\sin{\\left(\\frac{t_{2}}{2} \\right)} \\cos{\\left(\\frac{t_{3}}{2} \\right)} \\cos{\\left(\\frac{t_{4}}{2} \\right)}}{4096}\\\\- \\frac{e^{\\frac{i \\left(\\lambda + \\lambda_{2}\\right)}{2}} \\sin{\\left(\\frac{t_{1}}{2} \\right)} \\sin{\\left(\\frac{t_{3}}{2} \\right)} \\sin{\\left(\\frac{t_{4}}{2} \\right)} \\cos{\\left(\\frac{t_{2}}{2} \\right)}}{4096} & - \\frac{e^{\\frac{i \\left(\\lambda + \\lambda_{2}\\right)}{2}} \\sin{\\left(\\frac{t_{1}}{2} \\right)} \\sin{\\left(\\frac{t_{3}}{2} \\right)} \\cos{\\left(\\frac{t_{2}}{2} \\right)} \\cos{\\left(\\frac{t_{4}}{2} \\right)}}{4096} & - \\frac{e^{\\frac{i \\left(\\lambda + \\lambda_{2}\\right)}{2}} \\sin{\\left(\\frac{t_{1}}{2} \\right)} \\sin{\\left(\\frac{t_{4}}{2} \\right)} \\cos{\\left(\\frac{t_{2}}{2} \\right)} \\cos{\\left(\\frac{t_{3}}{2} \\right)}}{4096} & - \\frac{e^{\\frac{i \\left(\\lambda + \\lambda_{2}\\right)}{2}} \\sin{\\left(\\frac{t_{1}}{2} \\right)} \\cos{\\left(\\frac{t_{2}}{2} \\right)} \\cos{\\left(\\frac{t_{3}}{2} \\right)} \\cos{\\left(\\frac{t_{4}}{2} \\right)}}{4096}\\\\- \\frac{e^{\\frac{i \\left(\\lambda + \\lambda_{2}\\right)}{2}} \\sin{\\left(\\frac{t_{2}}{2} \\right)} \\sin{\\left(\\frac{t_{3}}{2} \\right)} \\sin{\\left(\\frac{t_{4}}{2} \\right)} \\cos{\\left(\\frac{t_{1}}{2} \\right)}}{4096} & - \\frac{e^{\\frac{i \\left(\\lambda + \\lambda_{2}\\right)}{2}} \\sin{\\left(\\frac{t_{2}}{2} \\right)} \\sin{\\left(\\frac{t_{3}}{2} \\right)} \\cos{\\left(\\frac{t_{1}}{2} \\right)} \\cos{\\left(\\frac{t_{4}}{2} \\right)}}{4096} & - \\frac{e^{\\frac{i \\left(\\lambda + \\lambda_{2}\\right)}{2}} \\sin{\\left(\\frac{t_{2}}{2} \\right)} \\sin{\\left(\\frac{t_{4}}{2} \\right)} \\cos{\\left(\\frac{t_{1}}{2} \\right)} \\cos{\\left(\\frac{t_{3}}{2} \\right)}}{4096} & - \\frac{e^{\\frac{i \\left(\\lambda + \\lambda_{2}\\right)}{2}} \\sin{\\left(\\frac{t_{2}}{2} \\right)} \\cos{\\left(\\frac{t_{1}}{2} \\right)} \\cos{\\left(\\frac{t_{3}}{2} \\right)} \\cos{\\left(\\frac{t_{4}}{2} \\right)}}{4096}\\\\\\frac{e^{\\frac{i \\left(\\lambda + \\lambda_{2}\\right)}{2}} \\sin{\\left(\\frac{t_{3}}{2} \\right)} \\sin{\\left(\\frac{t_{4}}{2} \\right)} \\cos{\\left(\\frac{t_{1}}{2} \\right)} \\cos{\\left(\\frac{t_{2}}{2} \\right)}}{4096} & \\frac{e^{\\frac{i \\left(\\lambda + \\lambda_{2}\\right)}{2}} \\sin{\\left(\\frac{t_{3}}{2} \\right)} \\cos{\\left(\\frac{t_{1}}{2} \\right)} \\cos{\\left(\\frac{t_{2}}{2} \\right)} \\cos{\\left(\\frac{t_{4}}{2} \\right)}}{4096} & \\frac{e^{\\frac{i \\left(\\lambda + \\lambda_{2}\\right)}{2}} \\sin{\\left(\\frac{t_{4}}{2} \\right)} \\cos{\\left(\\frac{t_{1}}{2} \\right)} \\cos{\\left(\\frac{t_{2}}{2} \\right)} \\cos{\\left(\\frac{t_{3}}{2} \\right)}}{4096} & \\frac{e^{\\frac{i \\left(\\lambda + \\lambda_{2}\\right)}{2}} \\cos{\\left(\\frac{t_{1}}{2} \\right)} \\cos{\\left(\\frac{t_{2}}{2} \\right)} \\cos{\\left(\\frac{t_{3}}{2} \\right)} \\cos{\\left(\\frac{t_{4}}{2} \\right)}}{4096}\\end{matrix}\\right]$"
      ],
      "text/plain": [
       "Matrix([\n",
       "[ exp(I*(lamda + lamda2)/2)*sin(t1/2)*sin(t2/2)*sin(t3/2)*sin(t4/2)/4096,  exp(I*(lamda + lamda2)/2)*sin(t1/2)*sin(t2/2)*sin(t3/2)*cos(t4/2)/4096,  exp(I*(lamda + lamda2)/2)*sin(t1/2)*sin(t2/2)*sin(t4/2)*cos(t3/2)/4096,  exp(I*(lamda + lamda2)/2)*sin(t1/2)*sin(t2/2)*cos(t3/2)*cos(t4/2)/4096],\n",
       "[-exp(I*(lamda + lamda2)/2)*sin(t1/2)*sin(t3/2)*sin(t4/2)*cos(t2/2)/4096, -exp(I*(lamda + lamda2)/2)*sin(t1/2)*sin(t3/2)*cos(t2/2)*cos(t4/2)/4096, -exp(I*(lamda + lamda2)/2)*sin(t1/2)*sin(t4/2)*cos(t2/2)*cos(t3/2)/4096, -exp(I*(lamda + lamda2)/2)*sin(t1/2)*cos(t2/2)*cos(t3/2)*cos(t4/2)/4096],\n",
       "[-exp(I*(lamda + lamda2)/2)*sin(t2/2)*sin(t3/2)*sin(t4/2)*cos(t1/2)/4096, -exp(I*(lamda + lamda2)/2)*sin(t2/2)*sin(t3/2)*cos(t1/2)*cos(t4/2)/4096, -exp(I*(lamda + lamda2)/2)*sin(t2/2)*sin(t4/2)*cos(t1/2)*cos(t3/2)/4096, -exp(I*(lamda + lamda2)/2)*sin(t2/2)*cos(t1/2)*cos(t3/2)*cos(t4/2)/4096],\n",
       "[ exp(I*(lamda + lamda2)/2)*sin(t3/2)*sin(t4/2)*cos(t1/2)*cos(t2/2)/4096,  exp(I*(lamda + lamda2)/2)*sin(t3/2)*cos(t1/2)*cos(t2/2)*cos(t4/2)/4096,  exp(I*(lamda + lamda2)/2)*sin(t4/2)*cos(t1/2)*cos(t2/2)*cos(t3/2)/4096,  exp(I*(lamda + lamda2)/2)*cos(t1/2)*cos(t2/2)*cos(t3/2)*cos(t4/2)/4096]])"
      ]
     },
     "execution_count": 10,
     "metadata": {},
     "output_type": "execute_result"
    }
   ],
   "source": [
    "second_derivate"
   ]
  },
  {
   "cell_type": "code",
   "execution_count": 11,
   "metadata": {},
   "outputs": [],
   "source": [
    "# final.eigenvals()\n",
    "# final.eigenvects()\n",
    "tr = Trace(ansatz).simplify()"
   ]
  },
  {
   "cell_type": "code",
   "execution_count": 12,
   "metadata": {},
   "outputs": [],
   "source": [
    "# evaluation of ansatz hyperparameters\n",
    "t1_eval = np.pi #np.arange(0.001, np.pi, 0.1)\n",
    "t2_eval =  np.pi #np.arange(0.001, np.pi, 0.1)\n",
    "t3_eval =  np.pi #np.arange(0.001, np.pi, 0.1)\n",
    "t4_eval =  np.pi #np.arange(0.001, np.pi, 0.1)\n",
    "lamda_eval =  np.pi #np.arange(0.001, np.pi, 0.1)\n",
    "lamda2_eval = np.pi"
   ]
  },
  {
   "cell_type": "code",
   "execution_count": 13,
   "metadata": {},
   "outputs": [],
   "source": [
    "an = lambdify([t1,t2,t3,t4,lamda,lamda2], tr, 'numpy')\n",
    "eval_an = an(t1_eval,t2_eval,t3_eval,t4_eval,lamda_eval,lamda2_eval)\n",
    "\n",
    "def obj_fun(theta):\n",
    "    return -1 * an(theta[0], theta[1], theta[2], theta[3], theta[4] ,theta[5])"
   ]
  },
  {
   "cell_type": "code",
   "execution_count": 14,
   "metadata": {},
   "outputs": [],
   "source": [
    "from scipy.optimize import minimize as mini\n",
    "\n",
    "def find_max_eigenvalues():\n",
    "    thetas = [np.random.uniform(0, 2*np.pi) for _ in range(6)]\n",
    "    print(thetas)\n",
    "    \n",
    "    f = obj_fun\n",
    "    res_sample = mini(f, x0 = thetas, method='COBYLA', options={'maxiter':1000})\n",
    "    print(res_sample['fun'])\n",
    "    return res_sample"
   ]
  },
  {
   "cell_type": "code",
   "execution_count": 15,
   "metadata": {},
   "outputs": [
    {
     "name": "stdout",
     "output_type": "stream",
     "text": [
      "[5.284748946859481, 0.8476543086627769, 4.992063425201703, 4.506347900509843, 1.372109949836157, 1.6744318331903887]\n",
      "-3.9999999866275164\n",
      "     fun: -3.9999999866275164\n",
      "   maxcv: 0.0\n",
      " message: 'Optimization terminated successfully.'\n",
      "    nfev: 151\n",
      "  status: 1\n",
      " success: True\n",
      "       x: array([ 3.47275590e+00,  1.66853868e+00,  2.81043540e+00,  4.61451733e+00,\n",
      "       -1.62184054e-04,  9.70966899e-05])\n"
     ]
    },
    {
     "name": "stderr",
     "output_type": "stream",
     "text": [
      "/home/ananda/anaconda3/lib/python3.8/site-packages/scipy/optimize/cobyla.py:260: ComplexWarning: Casting complex values to real discards the imaginary part\n",
      "  xopt, info = _cobyla.minimize(calcfc, m=m, x=np.copy(x0), rhobeg=rhobeg,\n"
     ]
    }
   ],
   "source": [
    "res = find_max_eigenvalues()\n",
    "print(res)"
   ]
  },
  {
   "cell_type": "code",
   "execution_count": 16,
   "metadata": {},
   "outputs": [
    {
     "data": {
      "text/latex": [
       "$\\displaystyle \\left[\\begin{matrix}0.0122571155416585 + 0.438917316014012 e^{- 4.85483449488299 \\cdot 10^{-5} i} + 0.533915549495356 e^{- 3.25436822978626 \\cdot 10^{-5} i} + 0.0149100168548459 e^{8.10920272466924 \\cdot 10^{-5} i} & 0.0135195245249268 + 0.484123152637228 e^{- 4.85483449488299 \\cdot 10^{-5} i} - 0.013517768245545 e^{8.10920272466924 \\cdot 10^{-5} i} - 0.484060261704219 e^{- 3.25436822978626 \\cdot 10^{-5} i} & -0.073348207153235 - 0.0892235209181595 e^{8.10920272466924 \\cdot 10^{-5} i} + 0.0733468541961642 e^{- 4.85483449488299 \\cdot 10^{-5} i} + 0.0892218751302365 e^{- 3.25436822978626 \\cdot 10^{-5} i} & -0.0809026301577471 + 0.0809011378542571 e^{- 4.85483449488299 \\cdot 10^{-5} i} - 0.0808906282390621 e^{- 3.25436822978626 \\cdot 10^{-5} i} + 0.0808921203486916 e^{8.10920272466924 \\cdot 10^{-5} i}\\\\0.013517768245545 + 0.484060261704219 e^{- 4.85483449488299 \\cdot 10^{-5} i} - 0.0135195245249268 e^{8.10920272466924 \\cdot 10^{-5} i} - 0.484123152637228 e^{- 3.25436822978626 \\cdot 10^{-5} i} & 0.0149100168548459 + 0.533915549495356 e^{- 4.85483449488299 \\cdot 10^{-5} i} + 0.438917316014012 e^{- 3.25436822978626 \\cdot 10^{-5} i} + 0.0122571155416585 e^{8.10920272466924 \\cdot 10^{-5} i} & -0.0808921203486916 + 0.0808906282390621 e^{- 4.85483449488299 \\cdot 10^{-5} i} - 0.0809011378542571 e^{- 3.25436822978626 \\cdot 10^{-5} i} + 0.0809026301577471 e^{8.10920272466924 \\cdot 10^{-5} i} & -0.0892235209181595 - 0.073348207153235 e^{8.10920272466924 \\cdot 10^{-5} i} + 0.0892218751302365 e^{- 4.85483449488299 \\cdot 10^{-5} i} + 0.0733468541961642 e^{- 3.25436822978626 \\cdot 10^{-5} i}\\\\-0.0733468541961642 - 0.0892218751302365 e^{8.10920272466924 \\cdot 10^{-5} i} + 0.073348207153235 e^{- 4.85483449488299 \\cdot 10^{-5} i} + 0.0892235209181595 e^{- 3.25436822978626 \\cdot 10^{-5} i} & -0.0809011378542571 + 0.0809026301577471 e^{- 4.85483449488299 \\cdot 10^{-5} i} - 0.0808921203486916 e^{- 3.25436822978626 \\cdot 10^{-5} i} + 0.0808906282390621 e^{8.10920272466924 \\cdot 10^{-5} i} & 0.438917316014012 + 0.0122571155416585 e^{- 4.85483449488299 \\cdot 10^{-5} i} + 0.0149100168548459 e^{- 3.25436822978626 \\cdot 10^{-5} i} + 0.533915549495356 e^{8.10920272466924 \\cdot 10^{-5} i} & 0.484123152637228 - 0.484060261704219 e^{8.10920272466924 \\cdot 10^{-5} i} + 0.0135195245249268 e^{- 4.85483449488299 \\cdot 10^{-5} i} - 0.013517768245545 e^{- 3.25436822978626 \\cdot 10^{-5} i}\\\\-0.0808906282390621 + 0.0808921203486916 e^{- 4.85483449488299 \\cdot 10^{-5} i} - 0.0809026301577471 e^{- 3.25436822978626 \\cdot 10^{-5} i} + 0.0809011378542571 e^{8.10920272466924 \\cdot 10^{-5} i} & -0.0892218751302365 - 0.0733468541961642 e^{8.10920272466924 \\cdot 10^{-5} i} + 0.0892235209181595 e^{- 4.85483449488299 \\cdot 10^{-5} i} + 0.073348207153235 e^{- 3.25436822978626 \\cdot 10^{-5} i} & 0.484060261704219 - 0.484123152637228 e^{8.10920272466924 \\cdot 10^{-5} i} + 0.013517768245545 e^{- 4.85483449488299 \\cdot 10^{-5} i} - 0.0135195245249268 e^{- 3.25436822978626 \\cdot 10^{-5} i} & 0.533915549495356 + 0.0149100168548459 e^{- 4.85483449488299 \\cdot 10^{-5} i} + 0.0122571155416585 e^{- 3.25436822978626 \\cdot 10^{-5} i} + 0.438917316014012 e^{8.10920272466924 \\cdot 10^{-5} i}\\end{matrix}\\right]$"
      ],
      "text/plain": [
       "Matrix([\n",
       "[   0.0122571155416585 + 0.438917316014012*exp(-4.85483449488299e-5*I) + 0.533915549495356*exp(-3.25436822978626e-5*I) + 0.0149100168548459*exp(8.10920272466924e-5*I),     0.0135195245249268 + 0.484123152637228*exp(-4.85483449488299e-5*I) - 0.013517768245545*exp(8.10920272466924e-5*I) - 0.484060261704219*exp(-3.25436822978626e-5*I),  -0.073348207153235 - 0.0892235209181595*exp(8.10920272466924e-5*I) + 0.0733468541961642*exp(-4.85483449488299e-5*I) + 0.0892218751302365*exp(-3.25436822978626e-5*I), -0.0809026301577471 + 0.0809011378542571*exp(-4.85483449488299e-5*I) - 0.0808906282390621*exp(-3.25436822978626e-5*I) + 0.0808921203486916*exp(8.10920272466924e-5*I)],\n",
       "[    0.013517768245545 + 0.484060261704219*exp(-4.85483449488299e-5*I) - 0.0135195245249268*exp(8.10920272466924e-5*I) - 0.484123152637228*exp(-3.25436822978626e-5*I),    0.0149100168548459 + 0.533915549495356*exp(-4.85483449488299e-5*I) + 0.438917316014012*exp(-3.25436822978626e-5*I) + 0.0122571155416585*exp(8.10920272466924e-5*I), -0.0808921203486916 + 0.0808906282390621*exp(-4.85483449488299e-5*I) - 0.0809011378542571*exp(-3.25436822978626e-5*I) + 0.0809026301577471*exp(8.10920272466924e-5*I),  -0.0892235209181595 - 0.073348207153235*exp(8.10920272466924e-5*I) + 0.0892218751302365*exp(-4.85483449488299e-5*I) + 0.0733468541961642*exp(-3.25436822978626e-5*I)],\n",
       "[ -0.0733468541961642 - 0.0892218751302365*exp(8.10920272466924e-5*I) + 0.073348207153235*exp(-4.85483449488299e-5*I) + 0.0892235209181595*exp(-3.25436822978626e-5*I), -0.0809011378542571 + 0.0809026301577471*exp(-4.85483449488299e-5*I) - 0.0808921203486916*exp(-3.25436822978626e-5*I) + 0.0808906282390621*exp(8.10920272466924e-5*I),    0.438917316014012 + 0.0122571155416585*exp(-4.85483449488299e-5*I) + 0.0149100168548459*exp(-3.25436822978626e-5*I) + 0.533915549495356*exp(8.10920272466924e-5*I),     0.484123152637228 - 0.484060261704219*exp(8.10920272466924e-5*I) + 0.0135195245249268*exp(-4.85483449488299e-5*I) - 0.013517768245545*exp(-3.25436822978626e-5*I)],\n",
       "[-0.0808906282390621 + 0.0808921203486916*exp(-4.85483449488299e-5*I) - 0.0809026301577471*exp(-3.25436822978626e-5*I) + 0.0809011378542571*exp(8.10920272466924e-5*I),  -0.0892218751302365 - 0.0733468541961642*exp(8.10920272466924e-5*I) + 0.0892235209181595*exp(-4.85483449488299e-5*I) + 0.073348207153235*exp(-3.25436822978626e-5*I),     0.484060261704219 - 0.484123152637228*exp(8.10920272466924e-5*I) + 0.013517768245545*exp(-4.85483449488299e-5*I) - 0.0135195245249268*exp(-3.25436822978626e-5*I),    0.533915549495356 + 0.0149100168548459*exp(-4.85483449488299e-5*I) + 0.0122571155416585*exp(-3.25436822978626e-5*I) + 0.438917316014012*exp(8.10920272466924e-5*I)]])"
      ]
     },
     "execution_count": 16,
     "metadata": {},
     "output_type": "execute_result"
    }
   ],
   "source": [
    "thetas = res['x']\n",
    "sub = [(t1, thetas[0]), (t2, thetas[1]), (t3, thetas[2]), (t4, thetas[3]), (lamda, thetas[4]), (lamda2, thetas[5])]\n",
    "max_ansatz = ansatz.subs(sub)\n",
    "max_ansatz"
   ]
  },
  {
   "cell_type": "code",
   "execution_count": 17,
   "metadata": {},
   "outputs": [
    {
     "data": {
      "text/latex": [
       "$\\displaystyle \\left[\\begin{matrix}1\\\\0\\\\0\\\\0\\end{matrix}\\right]$"
      ],
      "text/plain": [
       "Matrix([\n",
       "[1],\n",
       "[0],\n",
       "[0],\n",
       "[0]])"
      ]
     },
     "execution_count": 17,
     "metadata": {},
     "output_type": "execute_result"
    }
   ],
   "source": [
    "psi = Matrix([1,0,0,0])\n",
    "psi"
   ]
  },
  {
   "cell_type": "code",
   "execution_count": 18,
   "metadata": {},
   "outputs": [
    {
     "data": {
      "text/plain": [
       "<function _lambdifygenerated(t1, t2, t3, t4, lamda, lamda2)>"
      ]
     },
     "execution_count": 18,
     "metadata": {},
     "output_type": "execute_result"
    }
   ],
   "source": [
    "full_state = ansatz * psi\n",
    "expr = lambdify([t1,t2,t3,t4,lamda,lamda2], full_state[0], 'numpy')\n",
    "expr"
   ]
  },
  {
   "cell_type": "code",
   "execution_count": 19,
   "metadata": {},
   "outputs": [],
   "source": [
    "def obj_fun2(theta):\n",
    "    v = expr(theta[0], theta[1], theta[2], theta[3], theta[4], theta[5])\n",
    "    return v\n",
    "\n",
    "def find_max_prob():\n",
    "    thetas = [np.random.uniform(0, 2*np.pi) for _ in range(6)]\n",
    "    print(thetas)\n",
    "    \n",
    "    f = obj_fun2\n",
    "    res_sample = mini(f, x0 = thetas, method='COBYLA', options={'maxiter':10000})\n",
    "    print(res_sample['fun'])\n",
    "    return res_sample"
   ]
  },
  {
   "cell_type": "code",
   "execution_count": 20,
   "metadata": {},
   "outputs": [
    {
     "name": "stdout",
     "output_type": "stream",
     "text": [
      "[4.913896259677507, 2.8875692237013415, 4.494169475436439, 5.729903377038903, 1.7845829509832571, 5.24092947311395]\n",
      "-0.9999999929204062\n",
      "     fun: -0.9999999929204062\n",
      "   maxcv: 0.0\n",
      " message: 'Optimization terminated successfully.'\n",
      "    nfev: 177\n",
      "  status: 1\n",
      " success: True\n",
      "       x: array([4.28167942e+00, 2.06232978e+00, 4.28166291e+00, 4.22094166e+00,\n",
      "       3.09351659e-04, 6.28281093e+00])\n"
     ]
    }
   ],
   "source": [
    "res2 = find_max_prob()\n",
    "print(res2)"
   ]
  },
  {
   "cell_type": "code",
   "execution_count": null,
   "metadata": {},
   "outputs": [],
   "source": []
  },
  {
   "cell_type": "code",
   "execution_count": null,
   "metadata": {},
   "outputs": [],
   "source": []
  }
 ],
 "metadata": {
  "kernelspec": {
   "display_name": "Python 3",
   "language": "python",
   "name": "python3"
  },
  "language_info": {
   "codemirror_mode": {
    "name": "ipython",
    "version": 3
   },
   "file_extension": ".py",
   "mimetype": "text/x-python",
   "name": "python",
   "nbconvert_exporter": "python",
   "pygments_lexer": "ipython3",
   "version": "3.8.5"
  }
 },
 "nbformat": 4,
 "nbformat_minor": 4
}
