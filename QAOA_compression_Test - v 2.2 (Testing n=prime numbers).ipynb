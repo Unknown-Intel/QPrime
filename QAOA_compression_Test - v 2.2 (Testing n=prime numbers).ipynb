{
 "cells": [
  {
   "cell_type": "code",
   "execution_count": 1,
   "metadata": {},
   "outputs": [],
   "source": [
    "import numpy as np\n",
    "from qiskit import *\n",
    "import random\n",
    "import time\n",
    "from numpy import log as ln\n",
    "import warnings\n",
    "warnings.filterwarnings('ignore', module = 'qiskit')\n",
    "# warnings.filterwarnings(action='once')\n",
    "\n",
    "from qiskit.algorithms.optimizers import ADAM, AQGD, COBYLA, SPSA, TNC, CG, L_BFGS_B, GSLS, NELDER_MEAD, NFT, P_BFGS, POWELL, SLSQP\n",
    "from qiskit.opflow.gradients import Gradient, NaturalGradient, QFI\n",
    "from qiskit.opflow import CircuitStateFn, StateFn, I, X, Y, Z, H, CX, Zero, One, OperatorBase\n",
    "\n",
    "from itertools import combinations as cm"
   ]
  },
  {
   "cell_type": "code",
   "execution_count": 2,
   "metadata": {},
   "outputs": [],
   "source": [
    "# Generate Primes as an array\n",
    "primes = [2,3,5]#,7,11,17,19,,31,37]\n",
    "primes = primes[::-1]\n",
    "\n",
    "combinations = list(cm(range(len(primes)), 2))"
   ]
  },
  {
   "cell_type": "code",
   "execution_count": 3,
   "metadata": {},
   "outputs": [],
   "source": [
    "# Generate Quantum Circuit single layer\n",
    "def generate_circuit(params, assigned=True):\n",
    "    cir = QuantumCircuit(len(primes))\n",
    "    layers = int(len(params)/(4 * len(primes)))\n",
    "    thetas = [qiskit.circuit.Parameter(str(i)) for i in range(len(primes) * 4 *layers)]\n",
    "    thetas_reshape = np.reshape(np.asarray(thetas),(layers, len(primes) * 4))\n",
    "    params = np.reshape(np.asarray(params),(layers, len(primes) * 4))\n",
    "#     cir.x(0)\n",
    "#     cir.x(1)\n",
    "#     cir.x(2)\n",
    "#     cir.x(3)\n",
    "#     cir.x(4)\n",
    "#     cir.x(5)\n",
    "#     cir.x(6)\n",
    "#     cir.h(range(len(primes)))\n",
    "    for m in range(layers):\n",
    "        l = len(params[m])\n",
    "        g = thetas_reshape[m][0:int(l/4)]\n",
    "        b = thetas_reshape[m][int(l/4): int(2*l/4)]\n",
    "        a = thetas_reshape[m][int(2*l/4): int(3*l/4)]\n",
    "        t = thetas_reshape[m][int(3*l/4):l]\n",
    "\n",
    "        for i in range(len(primes)):\n",
    "            cir.ry(g[i], i)\n",
    "        for j in range(len(primes)):\n",
    "            if j != 0:\n",
    "                cir.crz(b[j], j-1, j)\n",
    "            else:\n",
    "                cir.crz(b[j], len(primes)-1, j)\n",
    "        for k in range(len(primes)):\n",
    "            cir.ry(a[k], k)\n",
    "        for o in range(len(primes)):\n",
    "            cir.rx(t[o], o)\n",
    "    if assigned == True:\n",
    "        thetas_reshape = thetas_reshape.flatten()\n",
    "        params = params.flatten()\n",
    "        p_dict = {thetas_reshape[i] : params[i] for i in range(len(thetas))}\n",
    "        cir.assign_parameters(p_dict, inplace=True)\n",
    "    cir.measure_all()\n",
    "    \n",
    "    return cir, thetas"
   ]
  },
  {
   "cell_type": "code",
   "execution_count": 4,
   "metadata": {},
   "outputs": [],
   "source": [
    "def generate_ZZcircuit(params, primes, assigned=True):\n",
    "    cir = QuantumCircuit(len(primes))\n",
    "    layers = int(len(params)/((2 * len(primes)) + len(combinations)))\n",
    "    thetas = [qiskit.circuit.Parameter(str(i)) for i in range(layers * ((2 * len(primes)) + len(combinations)))]\n",
    "    thetas_reshape = np.reshape(np.asarray(thetas),(layers, ((2 * len(primes)) + len(combinations))))\n",
    "    params = np.reshape(np.asarray(params),(layers, ((2 * len(primes)) + len(combinations))))\n",
    "    combs = list(cm(range(len(primes)), 2))\n",
    "#     cir.h(range(len(primes)))\n",
    "    \n",
    "    for m in range(layers):\n",
    "        l = len(params[m])\n",
    "        g = thetas_reshape[m][0: len(primes)]\n",
    "        a = thetas_reshape[m][len(primes): (len(primes) + len(combs))]\n",
    "        b = thetas_reshape[m][(len(primes) + len(combs)) : l]\n",
    "        \n",
    "        for h in range(len(primes)):\n",
    "            cir.rz(g[h], h)\n",
    "        \n",
    "        i = 0\n",
    "        for j, k in combs:\n",
    "            cir.rzz(a[i], j, k)\n",
    "            i += 1\n",
    "        for l in range(len(primes)):\n",
    "            cir.rx(b[l], l)\n",
    "            \n",
    "    if assigned == True:\n",
    "        thetas_reshape = thetas_reshape.flatten()\n",
    "        params = params.flatten()\n",
    "        p_dict = {thetas_reshape[i] : params[i] for i in range(len(thetas))}\n",
    "        cir.assign_parameters(p_dict, inplace=True)\n",
    "    cir.measure_all()\n",
    "    \n",
    "    return cir, thetas"
   ]
  },
  {
   "cell_type": "code",
   "execution_count": 5,
   "metadata": {},
   "outputs": [
    {
     "name": "stdout",
     "output_type": "stream",
     "text": [
      "[2.092150973987287, 0.6247902721435413, 1.1787251538755288, 1.6506856601193782, 1.08509833533972, 1.6741960453362075, 1.8438308727423547, 2.730106080707731, 0.34878489992129846]\n"
     ]
    },
    {
     "data": {
      "image/png": "[encoded data removed]",
      "text/plain": [
       "<Figure size 658.679x264.88 with 1 Axes>"
      ]
     },
     "execution_count": 5,
     "metadata": {},
     "output_type": "execute_result"
    }
   ],
   "source": [
    "hyperparam = [random.uniform(0,np.pi) for _ in range(1 * ((2 * len(primes)) + len(combinations)))]\n",
    "print(hyperparam)\n",
    "cir, free_params = generate_ZZcircuit(hyperparam, primes, assigned=False)\n",
    "cir.draw('mpl')"
   ]
  },
  {
   "cell_type": "code",
   "execution_count": 6,
   "metadata": {},
   "outputs": [],
   "source": [
    "def obj_function(counts, n, penalty):\n",
    "    max_c = 0\n",
    "    max_bit = \"\"\n",
    "    for c in counts:\n",
    "        if counts[c] >= max_c:\n",
    "            max_c =  counts[c]\n",
    "            max_bit = c\n",
    "    comp_primes = 1\n",
    "    for i in range(len(max_bit)):\n",
    "        comp_primes *= primes[i]**int(max_bit[i])\n",
    "    p = 0\n",
    "    if penalty == 1:\n",
    "        if comp_primes > n:\n",
    "            p += comp_primes \n",
    "#         return (n - comp_primes)**2\n",
    "#     print(comp_primes, n-comp_primes, p)\n",
    "    return (n - comp_primes) + p"
   ]
  },
  {
   "cell_type": "code",
   "execution_count": 7,
   "metadata": {},
   "outputs": [],
   "source": [
    "def f(theta):\n",
    "    n = 30\n",
    "    qc, free_params = generate_ZZcircuit(theta, primes)\n",
    "    back = Aer.get_backend('aer_simulator')\n",
    "    back.set_options(device='GPU')\n",
    "    job_sim = execute(qc, backend = back, shots = 2048).result()\n",
    "    counts = job_sim.get_counts(qc)\n",
    "        \n",
    "    return obj_function(counts, n, 1)\n",
    "\n",
    "def gen_f(n):\n",
    "    \n",
    "    def f(theta):\n",
    "        qc, free_params = generate_ZZcircuit(theta, primes)\n",
    "        back = Aer.get_backend('aer_simulator')\n",
    "        back.set_options(device='GPU')\n",
    "        job_sim = execute(qc, backend = back, shots = 2048).result()\n",
    "        counts = job_sim.get_counts(qc)\n",
    "        \n",
    "        return obj_function(counts, n, 1)\n",
    "\n",
    "    return f"
   ]
  },
  {
   "cell_type": "code",
   "execution_count": 8,
   "metadata": {},
   "outputs": [],
   "source": [
    "def X_generator(primes, identity):\n",
    "    #Generate X value for hamiltonian\n",
    "    constant = 0\n",
    "\n",
    "    for i in range(len(primes)):\n",
    "        #Build Constant value iteratively\n",
    "        constant += ln(primes[i])\n",
    "        \n",
    "        if i == 0:\n",
    "            z_value = Z\n",
    "        else:\n",
    "            z_value = I\n",
    "        #Build rest of X\n",
    "        for j in range(1, len(primes)):\n",
    "            if j == i:\n",
    "                z_value = z_value ^ Z\n",
    "            else:\n",
    "                z_value = z_value ^ I\n",
    "        if i == 0:\n",
    "            x = -ln(primes[i]) * z_value\n",
    "        else:\n",
    "            x -= ln(primes[i]) * z_value\n",
    "    #Combine Both to form X\n",
    "    x += constant * identity\n",
    "    \n",
    "    return x\n",
    "\n",
    "def hamiltonian(n, primes):\n",
    "    #Generate Hamitonian according to number of primes\n",
    "    identity = I\n",
    "    \n",
    "    for i in range(len(primes) - 1):\n",
    "        identity = identity ^ I\n",
    "        \n",
    "    x = X_generator(primes, identity)\n",
    "    \n",
    "    lnn = float(ln(n))\n",
    "    \n",
    "    h = ((lnn**2) * identity) - (lnn * x) + (1 / 4 * (x ** 2))\n",
    "    \n",
    "    return h"
   ]
  },
  {
   "cell_type": "code",
   "execution_count": 9,
   "metadata": {},
   "outputs": [
    {
     "name": "stdout",
     "output_type": "stream",
     "text": [
      "[[ 2.59029039e+00+0.j  0.00000000e+00+0.j  0.00000000e+00+0.j\n",
      "   0.00000000e+00+0.j  0.00000000e+00+0.j  0.00000000e+00+0.j\n",
      "   0.00000000e+00+0.j  0.00000000e+00+0.j]\n",
      " [ 0.00000000e+00+0.j  8.39588705e-01+0.j  0.00000000e+00+0.j\n",
      "   0.00000000e+00+0.j  0.00000000e+00+0.j  0.00000000e+00+0.j\n",
      "   0.00000000e+00+0.j  0.00000000e+00+0.j]\n",
      " [ 0.00000000e+00+0.j  0.00000000e+00+0.j  2.60942818e-01+0.j\n",
      "   0.00000000e+00+0.j  0.00000000e+00+0.j  0.00000000e+00+0.j\n",
      "   0.00000000e+00+0.j  0.00000000e+00+0.j]\n",
      " [ 0.00000000e+00+0.j  0.00000000e+00+0.j  0.00000000e+00+0.j\n",
      "   3.32411501e-02+0.j  0.00000000e+00+0.j  0.00000000e+00+0.j\n",
      "   0.00000000e+00+0.j  0.00000000e+00+0.j]\n",
      " [ 0.00000000e+00+0.j  0.00000000e+00+0.j  0.00000000e+00+0.j\n",
      "   0.00000000e+00+0.j -4.44089210e-16+0.j  0.00000000e+00+0.j\n",
      "   0.00000000e+00+0.j  0.00000000e+00+0.j]\n",
      " [ 0.00000000e+00+0.j  0.00000000e+00+0.j  0.00000000e+00+0.j\n",
      "   0.00000000e+00+0.j  0.00000000e+00+0.j  4.80453014e-01+0.j\n",
      "   0.00000000e+00+0.j  0.00000000e+00+0.j]\n",
      " [ 0.00000000e+00+0.j  0.00000000e+00+0.j  0.00000000e+00+0.j\n",
      "   0.00000000e+00+0.j  0.00000000e+00+0.j  0.00000000e+00+0.j\n",
      "   1.20694896e+00+0.j  0.00000000e+00+0.j]\n",
      " [ 0.00000000e+00+0.j  0.00000000e+00+0.j  0.00000000e+00+0.j\n",
      "   0.00000000e+00+0.j  0.00000000e+00+0.j  0.00000000e+00+0.j\n",
      "   0.00000000e+00+0.j  3.21040200e+00+0.j]]\n"
     ]
    }
   ],
   "source": [
    "h_value = hamiltonian(5, primes)\n",
    "print(h_value.to_matrix())"
   ]
  },
  {
   "cell_type": "code",
   "execution_count": 10,
   "metadata": {},
   "outputs": [],
   "source": [
    " def _convert_to_gradient_function(gradient_object, layers, n):\n",
    "\n",
    "        def gradient_function(current_point):\n",
    "\n",
    "            cir, free_params = generate_ZZcircuit(current_point, primes, assigned=False)\n",
    "            cir.remove_final_measurements()\n",
    "            c = hamiltonian(n, primes)\n",
    "            op = ~StateFn(c) @ CircuitStateFn(primitive=cir, coeff=1.)\n",
    "            grad_object = gradient_object.convert(operator=op, params=free_params)\n",
    "            value_dict = {free_params[i]: current_point[i] for i in range(len(free_params))}\n",
    "            x = grad_object.assign_parameters(value_dict).eval()\n",
    "#             print(x)\n",
    "#             analytical_gradients = np.array(x)# Change this part\n",
    "            return np.real(x)\n",
    "        \n",
    "        return gradient_function"
   ]
  },
  {
   "cell_type": "code",
   "execution_count": 11,
   "metadata": {},
   "outputs": [],
   "source": [
    "# from scipy import optimize as op\n",
    "# optimizer =  AQGD(maxiter=1000)\n",
    "# layers = 1\n",
    "# func = f\n",
    "# grad = \"param_shift\"\n",
    "# gradient_function =Gradient(grad_method=grad)\n",
    "# g_f = _convert_to_gradient_function(gradient_function, layers, 30)\n",
    "# theta = [random.uniform(0, 2 * np.pi) for _ in range(layers * ((2 * len(primes)) + len(combinations)))]\n",
    "# # res_sample = op.minimize(func, x0 = theta, method='COBYLA', options={'maxiter':1000})\n",
    "# # theta = res_sample['x']\n",
    "# # loss = res_sample['fun']\n",
    "# theta, loss, _ = optimizer.optimize(\n",
    "#             num_vars=len(theta),\n",
    "#             objective_function=func,\n",
    "#             initial_point=theta,\n",
    "#             gradient_function=g_f\n",
    "#             )"
   ]
  },
  {
   "cell_type": "code",
   "execution_count": 12,
   "metadata": {},
   "outputs": [],
   "source": [
    "# print(loss, theta)"
   ]
  },
  {
   "cell_type": "code",
   "execution_count": 13,
   "metadata": {},
   "outputs": [],
   "source": [
    "# theta = res_sample.x\n",
    "# theta =[2.763785562212966, 1.322415858639598, 1.3308235519001288, 2.4978133840322934, 4.2866331530605715, 1.1067569137053306, 0, 0]\n",
    "# qc, free_params = generate_ZZcircuit(theta, primes)\n",
    "# counts = execute(qc, backend = Aer.get_backend('aer_simulator'), shots = 2048).result().get_counts()"
   ]
  },
  {
   "cell_type": "code",
   "execution_count": 14,
   "metadata": {},
   "outputs": [],
   "source": [
    "# from qiskit.visualization import plot_histogram\n",
    "# plot_histogram(counts, figsize=(30, 20))"
   ]
  },
  {
   "cell_type": "code",
   "execution_count": 15,
   "metadata": {},
   "outputs": [],
   "source": [
    "# import math\n",
    "# n = 30\n",
    "# r = obj_function(counts, n, 0)\n",
    "# print(r)\n",
    "# og_bits = int(math.ceil(math.log2(n)))\n",
    "# compressed_bits = (len(primes)) + int(math.ceil(math.log2(r)))\n",
    "# print(\"Original bit = \", og_bits, ' Compressed_bits = ', compressed_bits, ' compression raito =', compressed_bits/ og_bits)"
   ]
  },
  {
   "cell_type": "code",
   "execution_count": 16,
   "metadata": {},
   "outputs": [
    {
     "name": "stdout",
     "output_type": "stream",
     "text": [
      "Current n =  5\n",
      "Current layer =  1\n",
      "Current opt =  0\n",
      "Current Gradient =  \n",
      "Current Gradient =  param_shift\n",
      "Current Gradient =  lin_comb\n",
      "Current Gradient =  fin_diff\n",
      "Current layer =  2\n",
      "Current opt =  0\n",
      "Current Gradient =  \n",
      "Current Gradient =  param_shift\n",
      "Current Gradient =  lin_comb\n",
      "Current Gradient =  fin_diff\n",
      "Current layer =  3\n",
      "Current opt =  0\n",
      "Current Gradient =  \n",
      "Current Gradient =  param_shift\n",
      "Current Gradient =  lin_comb\n",
      "Current Gradient =  fin_diff\n",
      "Current layer =  4\n",
      "Current opt =  0\n",
      "Current Gradient =  \n",
      "Current Gradient =  param_shift\n",
      "Current Gradient =  lin_comb\n",
      "Current Gradient =  fin_diff\n",
      "Current n =  7\n",
      "Current layer =  1\n",
      "Current opt =  0\n",
      "Current Gradient =  \n",
      "Current Gradient =  param_shift\n",
      "Current Gradient =  lin_comb\n",
      "Current Gradient =  fin_diff\n",
      "Current layer =  2\n",
      "Current opt =  0\n",
      "Current Gradient =  \n",
      "Current Gradient =  param_shift\n",
      "Current Gradient =  lin_comb\n",
      "Current Gradient =  fin_diff\n",
      "Current layer =  3\n",
      "Current opt =  0\n",
      "Current Gradient =  \n",
      "Current Gradient =  param_shift\n",
      "Current Gradient =  lin_comb\n",
      "Current Gradient =  fin_diff\n",
      "Current layer =  4\n",
      "Current opt =  0\n",
      "Current Gradient =  \n",
      "Current Gradient =  param_shift\n",
      "Current Gradient =  lin_comb\n",
      "Current Gradient =  fin_diff\n",
      "Current n =  11\n",
      "Current layer =  1\n",
      "Current opt =  0\n",
      "Current Gradient =  \n",
      "Current Gradient =  param_shift\n",
      "Current Gradient =  lin_comb\n",
      "Current Gradient =  fin_diff\n",
      "Current layer =  2\n",
      "Current opt =  0\n",
      "Current Gradient =  \n",
      "Current Gradient =  param_shift\n",
      "Current Gradient =  lin_comb\n",
      "Current Gradient =  fin_diff\n",
      "Current layer =  3\n",
      "Current opt =  0\n",
      "Current Gradient =  \n",
      "Current Gradient =  param_shift\n",
      "Current Gradient =  lin_comb\n",
      "Current Gradient =  fin_diff\n",
      "Current layer =  4\n",
      "Current opt =  0\n",
      "Current Gradient =  \n",
      "Current Gradient =  param_shift\n",
      "Current Gradient =  lin_comb\n",
      "Current Gradient =  fin_diff\n"
     ]
    }
   ],
   "source": [
    "def run(optimizer, layers, func, gradient_function, n):\n",
    "    g_f = _convert_to_gradient_function(gradient_function, layers, n)\n",
    "    theta = [random.uniform(0, 2 * np.pi) for _ in range(layers * ((2 * len(primes)) + len(combinations)))]\n",
    "    theta, loss, _ = optimizer.optimize(\n",
    "                num_vars=len(theta),\n",
    "                objective_function=func,\n",
    "                initial_point=theta,\n",
    "                gradient_function=g_f\n",
    "                )\n",
    "    return loss\n",
    "\n",
    "gradient_types = ['', 'param_shift', 'lin_comb', 'fin_diff']\n",
    "op_types = [AQGD(maxiter = 1000)]#, momentum=0.0625)]#, COBYLA(maxiter = 100), TNC(maxiter = 100), CG(maxiter = 100), GSLS(maxiter = 100), NELDER_MEAD(maxiter = 100)]#, NFT(maxiter = 500)]#, P_BFGS(maxfun = 500), POWELL(maxiter = 500), SLSQP(maxiter = 500)]\n",
    "loss_list = []\n",
    "\n",
    "\n",
    "for i in [5, 7, 11]:\n",
    "    print(\"Current n = \", i)\n",
    "    fun = gen_f(i)\n",
    "    n_list = []\n",
    "    for j in range(1, 5):\n",
    "        print(\"Current layer = \", j)\n",
    "        layer_list = []\n",
    "        for k in range(len(op_types)):\n",
    "            print(\"Current opt = \", k)\n",
    "            opt = op_types[k]\n",
    "            grad_list = []\n",
    "            for g in range(len(gradient_types)):\n",
    "                print(\"Current Gradient = \", gradient_types[g] )\n",
    "                if g == 0:\n",
    "                    grad = Gradient()\n",
    "                else:\n",
    "                    grad = Gradient(grad_method=gradient_types[g])\n",
    "                samples = []\n",
    "                for _ in range(10):\n",
    "                    start = time.perf_counter()\n",
    "                    loss = run(opt,  j, fun, grad, i)\n",
    "                    end = time.perf_counter()\n",
    "                    samples.append((loss, end - start))\n",
    "                grad_list.append(samples)\n",
    "            layer_list.append(grad_list)\n",
    "        n_list.append(layer_list)\n",
    "    loss_list.append(n_list)"
   ]
  },
  {
   "cell_type": "code",
   "execution_count": 17,
   "metadata": {},
   "outputs": [
    {
     "name": "stdout",
     "output_type": "stream",
     "text": [
      "[[[[[(0, 19.161843777998), (5, 18.916391165999812), (5, 18.958393423003145), (0, 22.225399771996308), (5, 30.352049082997837), (5, 18.941393127999618), (0, 23.785363407005207), (5, 22.211156724006287), (5, 17.47860330399999), (5, 23.66917832600302)], [(0, 20.890605908993166), (5, 22.19143337800051), (5, 17.37287723600457), (0, 23.580270512000425), (5, 17.29655639900011), (0, 23.70176001499931), (5, 26.723844495005324), (5, 17.370535179012222), (5, 17.368994217991713), (2, 17.330583579008817)], [(5, 12.551785390009172), (2, 10.64353907800978), (0, 12.616087596994475), (5, 13.592233220988419), (5, 11.610514641011832), (5, 18.378292991998023), (2, 13.578640965992236), (5, 10.628556192998076), (5, 10.618691454990767), (0, 12.609206804001587)], [(5, 30.843133457994554), (5, 16.092849004009622), (5, 16.208283595988178), (5, 16.177029974991456), (5, 20.662758399994345), (5, 17.616287224998814), (0, 19.25205772499612), (0, 23.539855900991824), (5, 16.151094504006323), (0, 16.285756237994065)]]], [[[(2, 54.65426847299386), (5, 49.91523268198944), (5, 50.204876231000526), (0, 59.60561626400158), (5, 49.52890462099458), (5, 49.45949865199509), (5, 58.21676226099953), (2, 49.25194938000641), (0, 49.39790478699433), (5, 49.256629534007516)], [(5, 71.86758479799028), (0, 50.31766125099966), (5, 57.887844493991), (0, 80.06040877600026), (5, 57.35022628400475), (0, 55.71172452199971), (0, 64.94902757000818), (2, 60.87638209699071), (5, 98.19867492599587), (0, 75.32962601499457)], [(0, 39.10300633301085), (5, 29.436892060999526), (0, 42.15990624400729), (2, 46.22118333900289), (5, 29.787000602009357), (0, 34.60197804500058), (0, 37.80803793200175), (5, 29.244149573001778), (5, 31.506390511000063), (0, 44.489909609008464)], [(0, 47.53399864399398), (5, 47.903486127994256), (5, 48.182940208003856), (0, 50.982107033996726), (0, 60.68730975200015), (5, 48.34959257100127), (5, 66.03892361899489), (0, 68.6473740819929), (5, 47.490588008993655), (0, 47.7369808479998)]]], [[[(0, 109.9849200519966), (0, 111.05788990599103), (5, 97.17492200298875), (0, 105.95121612799994), (5, 105.57223222599714), (5, 162.0087129559979), (5, 96.87501477700425), (0, 98.1368930460012), (5, 98.0764837450115), (5, 98.21989290800411)], [(0, 114.77531858200382), (5, 114.93176520199631), (5, 98.63627082499443), (0, 134.69440959200438), (5, 125.56221959000686), (5, 125.63823666800454), (5, 97.80703098099912), (5, 195.7130700199923), (5, 98.49850468499062), (0, 107.553013369994)], [(0, 54.64593245899596), (0, 94.54073134099599), (5, 59.95799007399182), (5, 54.80933059500239), (5, 64.60164662500028), (5, 54.59178108999913), (5, 59.287064097006805), (5, 58.8565119249979), (0, 63.468399013989256), (0, 58.77585546900809)], [(0, 125.32649064299767), (0, 108.74764737099758), (5, 94.39132003800478), (5, 91.65934951300733), (5, 119.74824690198875), (0, 117.93550975699327), (0, 93.18590481999854), (0, 92.79862471199885), (0, 109.45649922099255), (0, 93.24993914499646)]]], [[[(0, 209.1797169430065), (0, 193.66000278899446), (5, 165.67016223499377), (0, 176.2265143689874), (5, 220.267285747992), (0, 218.4474726930057), (0, 203.60661689500557), (0, 232.9163161040051), (0, 160.12003576599818), (0, 233.4340474490018)], [(0, 173.8213796409982), (0, 158.1682733600028), (5, 158.40887054000632), (0, 172.0593470659951), (0, 172.4060410719976), (0, 172.852684152007), (0, 245.77492306000204), (0, 158.73029066700838), (5, 158.83415603199683), (5, 172.52766898600385)], [(0, 106.94292845101154), (5, 83.97105966700474), (0, 83.70261785300681), (5, 83.57135948500945), (5, 83.78618009400088), (0, 91.36571470698982), (0, 106.50352910500078), (5, 91.49556710998877), (0, 91.34337714299909), (5, 83.65025393100223)], [(5, 150.9202349630068), (5, 150.7956129869999), (0, 204.81626899300318), (5, 163.1047786160052), (0, 162.8537528779998), (0, 176.41715240798658), (0, 191.76518656799453), (0, 153.0180448070023), (0, 166.07598511400283), (0, 150.24863341801392)]]]], [[[[(2, 20.036517077009194), (7, 18.761875947995577), (2, 21.864591720004682), (1, 20.38557190100255), (2, 17.236783087006188), (2, 25.024083600001177), (1, 20.410674273996847), (1, 23.59388830399257), (7, 17.273387879002257), (1, 17.248288749004132)], [(1, 17.26581879600417), (7, 20.42831693199696), (1, 17.25774560200807), (2, 20.47921080800006), (7, 20.474042911999277), (1, 17.317020385991782), (2, 17.263044070990873), (1, 21.99376853200374), (2, 25.222303848990123), (7, 21.968304001988145)], [(1, 14.630977085005725), (1, 11.78322472400032), (1, 12.705066544993315), (1, 16.592043784999987), (1, 13.716012395001599), (2, 10.759587902997737), (2, 10.767914045005455), (7, 12.7132929010113), (7, 10.761048265005229), (2, 10.796540311988792)], [(7, 18.95944849999796), (1, 30.78097633899597), (1, 16.133779776995652), (2, 16.075653236999642), (1, 20.44423127200571), (1, 24.82557305600494), (7, 16.04166206700029), (2, 23.395306688995333), (7, 16.046884936993592), (4, 21.90080596599728)]]], [[[(1, 49.5100903249986), (1, 67.44995716100675), (1, 58.789247777996934), (7, 54.09561318799388), (7, 49.62974246199883), (2, 49.63736407500983), (7, 49.565669743999024), (1, 49.55391726299422), (1, 58.354925043007825), (1, 49.389113436991465)], [(7, 49.16654915899562), (1, 49.105584396995255), (7, 53.69148609999684), (7, 53.71525860199472), (2, 67.25262773600116), (2, 49.40845447999891), (2, 53.97840868200001), (1, 53.88197423800011), (1, 49.26532207999844), (1, 49.41212417501083)], [(7, 28.21279641801084), (2, 35.94528527499642), (2, 53.783636560008745), (2, 28.94513690599706), (2, 37.02558611200948), (2, 36.997962036999525), (1, 39.641758947007474), (2, 31.677264347992605), (2, 50.188837784007774), (1, 36.97652285400545)], [(1, 73.27444940799614), (1, 56.070614406999084), (2, 73.2374232459988), (1, 64.6826271660102), (1, 47.40212389700173), (2, 77.61296103699715), (1, 47.44008297199616), (7, 47.36400833699736), (1, 47.39100570000301), (2, 77.64318332599942)]]], [[[(1, 99.26790365899797), (7, 99.33196614500775), (2, 126.43195384299906), (2, 107.5601904070063), (1, 98.71691331500188), (1, 105.58977074100403), (7, 113.84754392100149), (7, 113.40348776699102), (2, 113.39688713900978), (7, 95.38093465199927)], [(2, 95.58094653899025), (2, 95.2667173910013), (2, 95.38461002300028), (1, 95.58805293201294), (7, 95.98472880800546), (7, 112.51932787398982), (2, 112.71619688499777), (7, 104.21515235799598), (2, 94.68399217400292), (1, 180.97076315000595)], [(2, 72.35879124898929), (1, 69.06096118399), (7, 54.35082845900615), (1, 64.09509375100606), (6, 54.25503745400056), (7, 54.28009556500183), (2, 93.68108319300518), (2, 59.29395503499836), (7, 54.17202133400133), (7, 59.27305279299617)], [(1, 109.7001765689929), (1, 92.87121553700126), (2, 109.57307540701004), (1, 99.89946106100979), (1, 107.17713620699942), (7, 100.39038069799426), (1, 98.94219841099402), (1, 122.91204373500659), (1, 163.55561133699666), (1, 106.7953782179975)]]], [[[(1, 302.0319227680011), (7, 158.31498098399607), (7, 157.98863270800211), (1, 159.16694749498856), (1, 159.06537261800258), (7, 159.07281800700002), (7, 159.25724053900922), (2, 219.37260522998986), (7, 175.03128429100616), (7, 173.99898023801506)], [(1, 175.9619671550172), (1, 185.32522189200972), (1, 171.3973330350127), (7, 157.6992837160069), (7, 161.20067764198757), (7, 186.76581301199622), (2, 247.9931580259872), (2, 205.80230010399828), (1, 161.92841531100566), (1, 176.92087333500967)], [(7, 86.26464800801477), (7, 86.11221424801624), (2, 94.11941497700172), (7, 93.72397251499933), (2, 93.82231524700182), (1, 109.39422629898763), (2, 84.8358389409841), (1, 123.75033324499964), (1, 100.25482300901785), (1, 92.29124209700967)], [(7, 175.04256442800397), (1, 175.34383841601084), (7, 149.0284976849798), (2, 231.59870335401502), (2, 217.66092002097866), (7, 149.60685586600448), (7, 165.28492067498155), (2, 149.81564541099942), (1, 152.23788803900243), (1, 328.53196633799234)]]]], [[[[(5, 17.3151598359982), (5, 17.392238815984456), (11, 17.318910066009266), (5, 18.917353145981906), (1, 22.101763081998797), (11, 17.367606061015977), (5, 18.87218473199755), (11, 18.984967004013015), (5, 22.137874824984465), (1, 22.138977474998683)], [(5, 17.38338548198226), (11, 18.91657235499588), (1, 25.259792118973564), (1, 23.68391375002102), (1, 26.858099339006003), (1, 18.821025037002983), (1, 18.884982299001422), (11, 18.843160189018818), (5, 18.832233046996407), (11, 18.867930248990888)], [(11, 11.833359260024736), (1, 10.923561028990662), (1, 14.864286610012641), (11, 10.850298249017214), (1, 10.880145628994796), (5, 10.857241350982804), (1, 11.842720471002394), (1, 13.814910173008684), (5, 11.847135874995729), (11, 12.874073712999234)], [(11, 16.132506031979574), (5, 16.11411536799278), (11, 17.559821722999914), (1, 16.095013276993996), (5, 16.12910750298761), (11, 16.08495897598914), (11, 17.578849062003428), (5, 16.18600673598121), (5, 16.060808956011897), (5, 17.520157532999292)]]], [[[(1, 48.55069494599593), (11, 48.54525108798407), (1, 48.46571489298367), (11, 53.0327379690134), (5, 70.59364517300855), (11, 53.31526776100509), (5, 53.30285043499316), (11, 53.438033455982804), (11, 53.39985036998405), (11, 53.32214806199772)], [(1, 48.87452128302539), (11, 48.86201228600112), (1, 48.880171708005946), (1, 53.63131093600532), (1, 49.06329385898425), (1, 53.68208126799436), (11, 53.74872110001161), (11, 67.63038904499263), (11, 54.4191553510027), (5, 54.089140403986676)], [(1, 33.80463487299858), (1, 28.418940255010966), (11, 28.604741064016707), (11, 31.04599393098033), (1, 30.99119898400386), (1, 30.97862807501224), (1, 36.110620817984454), (11, 30.841012652992504), (5, 30.850726553006098), (11, 30.827636473986786)], [(11, 50.18369913898641), (11, 46.39378711898462), (5, 50.56155092798872), (1, 46.40436734299874), (1, 54.91455194100854), (11, 46.45802788299625), (11, 46.44489114099997), (11, 46.41684511202038), (11, 50.6158689300064), (11, 46.32169376400998)]]], [[[(1, 96.66457442499814), (11, 105.42759835001198), (11, 96.80054784900858), (11, 96.98525495000649), (5, 122.97533810202731), (11, 96.39907138800481), (11, 105.12790148501517), (11, 175.1470440190169), (11, 105.26878931297688), (1, 107.03152969499934)], [(1, 114.83070915698772), (1, 116.02515356199001), (11, 98.64345709601184), (1, 98.50226873101201), (11, 98.76083990398911), (1, 125.84682070999406), (11, 116.76600152099854), (11, 116.73430097100209), (11, 98.87504818700836), (1, 99.03303627797868)], [(1, 64.26781609500176), (11, 54.42716746998485), (11, 54.33306822300074), (1, 101.40219857601915), (11, 52.46738303999882), (1, 61.9098502350098), (11, 52.39270379897789), (1, 57.13265284901718), (5, 57.17025657600607), (11, 62.77990366000449)], [(11, 90.47138131599058), (1, 107.23279246099992), (11, 98.42532356601441), (1, 89.3442895860062), (1, 97.21733164298348), (11, 146.3945022150001), (1, 97.83786880300613), (1, 89.82883998999023), (1, 105.88743958499981), (11, 89.47791546498775)]]], [[[(11, 174.10496627702378), (11, 172.86238966099336), (11, 214.02545967299375), (11, 171.54092212300748), (1, 200.51091861899476), (1, 172.14870769600384), (11, 172.21616913500475), (1, 201.1050023229909), (11, 158.28605898297974), (11, 202.1817717269878)], [(1, 158.01599860700662), (11, 186.88542916398728), (11, 157.2429572470137), (11, 200.19676151999738), (11, 188.10503449599491), (11, 173.23771648100228), (1, 201.754412743001), (1, 202.6553340870014), (1, 335.03724760201294), (11, 190.35740364700905)], [(11, 85.78203606698662), (11, 83.56646413699491), (1, 98.62466769700404), (1, 92.05533592600841), (11, 92.54957116598962), (1, 123.42161020400818), (11, 107.99496576999081), (1, 100.33800404600333), (1, 92.7472556369903), (1, 92.79695002600783)], [(11, 150.2119504500006), (11, 149.70700684099575), (1, 149.22626690301695), (11, 148.78858398401644), (1, 202.98398972398718), (1, 189.62667459598742), (1, 162.64213664497947), (11, 162.58366893799393), (11, 162.4850412219821), (1, 189.5683826020104)]]]]]\n"
     ]
    }
   ],
   "source": [
    "print(loss_list)"
   ]
  },
  {
   "cell_type": "code",
   "execution_count": 18,
   "metadata": {},
   "outputs": [
    {
     "data": {
      "text/plain": [
       "(3, 4, 1, 4, 10, 2)"
      ]
     },
     "execution_count": 18,
     "metadata": {},
     "output_type": "execute_result"
    }
   ],
   "source": [
    "ll = np.asarray(loss_list)\n",
    "ll.shape"
   ]
  },
  {
   "cell_type": "code",
   "execution_count": 19,
   "metadata": {},
   "outputs": [],
   "source": [
    "np.save(\"newHamTest5711\", ll,)"
   ]
  }
 ],
 "metadata": {
  "kernelspec": {
   "display_name": "Python 3",
   "language": "python",
   "name": "python3"
  },
  "language_info": {
   "codemirror_mode": {
    "name": "ipython",
    "version": 3
   },
   "file_extension": ".py",
   "mimetype": "text/x-python",
   "name": "python",
   "nbconvert_exporter": "python",
   "pygments_lexer": "ipython3",
   "version": "3.8.5"
  }
 },
 "nbformat": 4,
 "nbformat_minor": 4
}
