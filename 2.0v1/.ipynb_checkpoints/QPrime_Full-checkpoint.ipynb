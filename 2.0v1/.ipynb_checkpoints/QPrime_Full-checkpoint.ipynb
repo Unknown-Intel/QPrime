{
 "cells": [
  {
   "cell_type": "code",
   "execution_count": 1,
   "metadata": {},
   "outputs": [],
   "source": [
    "import numpy as np\n",
    "from copy import deepcopy\n",
    "from qiskit import *\n",
    "import random\n",
    "import time\n",
    "from numpy import log as ln\n",
    "import warnings\n",
    "import math\n",
    "\n",
    "from qiskit.algorithms.optimizers import ADAM, AQGD, COBYLA, SPSA, TNC, CG, L_BFGS_B, GSLS, NELDER_MEAD, NFT, P_BFGS, POWELL, SLSQP\n",
    "from qiskit.opflow.gradients import Gradient, NaturalGradient, QFI\n",
    "from qiskit.opflow import CircuitStateFn, StateFn, I, X, Y, Z, H, CX, Zero, One, OperatorBase\n",
    "from qiskit.utils import QuantumInstance, algorithm_globals\n",
    "from qiskit.algorithms import VQE\n",
    "from qiskit.circuit.library import TwoLocal\n",
    "from itertools import combinations as cm"
   ]
  },
  {
   "cell_type": "code",
   "execution_count": 2,
   "metadata": {},
   "outputs": [],
   "source": [
    "# Utility Functions\n",
    "def genZ(index, size):\n",
    "    if index == 0:\n",
    "        z = Z\n",
    "    else:\n",
    "        z = I\n",
    "        \n",
    "    for i in range(1, size):\n",
    "        if index == i:\n",
    "            z = z ^ Z\n",
    "        else:\n",
    "            z = z ^ I\n",
    "    return z\n",
    "\n",
    "def genI(size):\n",
    "    i = I\n",
    "    for j in range(1, size):\n",
    "        i = i ^ I\n",
    "    return i\n",
    "\n",
    "# Hamiltonian Generator Functions\n",
    "def X_generator(primes, qbit_coeff, identity):\n",
    "    for i in range(len(primes)):\n",
    "        for j in range(len(qbit_coeff)):\n",
    "            if j == 0:\n",
    "                x_prime = qbit_coeff[j] * 1/2 * (identity - genZ(i * len(qbit_coeff) + j, len(primes) * len(qbit_coeff)))\n",
    "            else:\n",
    "                x_prime += qbit_coeff[j] * 1/2 * (identity - genZ(i * len(qbit_coeff) + j, len(primes) * len(qbit_coeff)))\n",
    "        \n",
    "        x_prime *= ln(primes[i])  \n",
    "        if i == 0:\n",
    "            x = x_prime\n",
    "        else:\n",
    "            x += x_prime\n",
    "\n",
    "    return x\n",
    "\n",
    "def hamiltonian(n, primes, qbit_coeff):\n",
    "    #Generate Hamitonian according to number of primes\n",
    "    identity = genI(len(primes) * len(qbit_coeff))\n",
    "        \n",
    "    x = X_generator(primes, qbit_coeff, identity)\n",
    "    \n",
    "    lnn = float(ln(n))\n",
    "    \n",
    "    h = (lnn * identity - x)**2\n",
    "    \n",
    "    return h"
   ]
  },
  {
   "cell_type": "code",
   "execution_count": 3,
   "metadata": {},
   "outputs": [],
   "source": [
    "# Post-Processing Functions\n",
    "def composite_builder(counts, n, primes, qbit_coeff):\n",
    "    max_c = 0\n",
    "    max_bit = \"\"\n",
    "   \n",
    "    for c in counts:\n",
    "        if counts[c] >= max_c:\n",
    "            max_c =  counts[c]\n",
    "            max_bit = c\n",
    "    print(\"MAX_BIT STRING : \" , max_bit)\n",
    "    split_strings = [max_bit[index : index + len(qbit_coeff)] for index in range(0, len(max_bit), len(qbit_coeff))]\n",
    "    \n",
    "    assert len(primes) == len(split_strings)\n",
    "    \n",
    "    est_n = 1\n",
    "    for i in range(len(primes)):\n",
    "        exponent = 0\n",
    "        for j in range(len(split_strings[i])):\n",
    "            exponent += qbit_coeff[j] * int(split_strings[i][j])\n",
    "        print(\"Prime_i = \", primes[i], \" Exponent = \", exponent)\n",
    "        est_n *= primes[i]**exponent\n",
    "        \n",
    "    print(\"Error/Deviation from n = \", n, \" is : \", n - est_n, \" ,where Estimated_n = \", est_n)"
   ]
  },
  {
   "cell_type": "code",
   "execution_count": 4,
   "metadata": {},
   "outputs": [
    {
     "name": "stdout",
     "output_type": "stream",
     "text": [
      "Total Resource Required =  12\n"
     ]
    }
   ],
   "source": [
    "primes = [2, 3, 5, 7, 11] # dit_coeff\n",
    "qbit_coeff = [2**0, 2**1, 2**2, 2**3, 2**4]\n",
    "\n",
    "n = 4482709258\n",
    "layer = 1\n",
    "no_dits = 4\n",
    "no_primes = 3\n",
    "primes = primes[:no_primes]\n",
    "qbit_coeff = qbit_coeff[:no_dits]\n",
    "print(\"Total Resource Required = \", no_dits * no_primes)\n",
    "\n",
    "rotation_block = 'ry'\n",
    "entanglement_block = 'cx'"
   ]
  },
  {
   "cell_type": "code",
   "execution_count": 5,
   "metadata": {},
   "outputs": [
    {
     "name": "stdout",
     "output_type": "stream",
     "text": [
      "[[493.88366093+0.j   0.        +0.j   0.        +0.j ...   0.        +0.j\n",
      "    0.        +0.j   0.        +0.j]\n",
      " [  0.        +0.j  87.38491977+0.j   0.        +0.j ...   0.        +0.j\n",
      "    0.        +0.j   0.        +0.j]\n",
      " [  0.        +0.j   0.        +0.j 249.18964405+0.j ...   0.        +0.j\n",
      "    0.        +0.j   0.        +0.j]\n",
      " ...\n",
      " [  0.        +0.j   0.        +0.j   0.        +0.j ... 499.82273374+0.j\n",
      "    0.        +0.j   0.        +0.j]\n",
      " [  0.        +0.j   0.        +0.j   0.        +0.j ...   0.        +0.j\n",
      "  253.41341419+0.j   0.        +0.j]\n",
      " [  0.        +0.j   0.        +0.j   0.        +0.j ...   0.        +0.j\n",
      "    0.        +0.j 829.1213459 +0.j]]\n"
     ]
    }
   ],
   "source": [
    "# generate Hamiltonian\n",
    "H = hamiltonian(n, primes, qbit_coeff)\n",
    "print(H.to_matrix())"
   ]
  },
  {
   "cell_type": "code",
   "execution_count": 6,
   "metadata": {},
   "outputs": [
    {
     "name": "stdout",
     "output_type": "stream",
     "text": [
      "{   'aux_operator_eigenvalues': None,\n",
      "    'cost_function_evals': 1000,\n",
      "    'eigenstate': array([-5.77889099e-10+0.j,  6.99812264e-13+0.j,  3.51395939e-10+0.j, ...,\n",
      "        8.47232489e-14+0.j, -1.55639961e-11+0.j,  6.81198504e-14+0.j]),\n",
      "    'eigenvalue': (0.07313164151327885+0j),\n",
      "    'optimal_parameters': {   ParameterVectorElement(θ[6]): 3.1487315289244275,\n",
      "                              ParameterVectorElement(θ[0]): 0.010817196280463136,\n",
      "                              ParameterVectorElement(θ[1]): 0.036193947114754356,\n",
      "                              ParameterVectorElement(θ[2]): 9.424554368662504,\n",
      "                              ParameterVectorElement(θ[3]): -0.0007688945550310263,\n",
      "                              ParameterVectorElement(θ[4]): 3.143343747566643,\n",
      "                              ParameterVectorElement(θ[5]): 6.281127471917208,\n",
      "                              ParameterVectorElement(θ[7]): 3.1490409801134076,\n",
      "                              ParameterVectorElement(θ[8]): -0.0005025670667887579,\n",
      "                              ParameterVectorElement(θ[9]): -3.1380240961377455,\n",
      "                              ParameterVectorElement(θ[10]): 3.1421627387986293,\n",
      "                              ParameterVectorElement(θ[11]): -0.1592443366675148,\n",
      "                              ParameterVectorElement(θ[13]): 3.1263114541025057,\n",
      "                              ParameterVectorElement(θ[14]): 6.26155326589393,\n",
      "                              ParameterVectorElement(θ[15]): 3.143794628498795,\n",
      "                              ParameterVectorElement(θ[16]): 3.119182921235933,\n",
      "                              ParameterVectorElement(θ[17]): -0.016206978868821872,\n",
      "                              ParameterVectorElement(θ[18]): 9.417940973963187,\n",
      "                              ParameterVectorElement(θ[19]): 3.139757790323505,\n",
      "                              ParameterVectorElement(θ[12]): 6.274351944045209,\n",
      "                              ParameterVectorElement(θ[22]): 9.426803076905545,\n",
      "                              ParameterVectorElement(θ[23]): 9.245505119257665,\n",
      "                              ParameterVectorElement(θ[21]): 9.42258855330217,\n",
      "                              ParameterVectorElement(θ[20]): 6.298660559043343},\n",
      "    'optimal_point': array([ 1.08171963e-02,  3.61939471e-02,  9.42455437e+00, -7.68894555e-04,\n",
      "        3.14334375e+00,  6.28112747e+00,  3.14873153e+00,  3.14904098e+00,\n",
      "       -5.02567067e-04, -3.13802410e+00,  3.14216274e+00, -1.59244337e-01,\n",
      "        6.27435194e+00,  3.12631145e+00,  6.26155327e+00,  3.14379463e+00,\n",
      "        3.11918292e+00, -1.62069789e-02,  9.41794097e+00,  3.13975779e+00,\n",
      "        6.29866056e+00,  9.42258855e+00,  9.42680308e+00,  9.24550512e+00]),\n",
      "    'optimal_value': 0.07313164151327885,\n",
      "    'optimizer_evals': None,\n",
      "    'optimizer_time': 1211.9899020195007}\n"
     ]
    }
   ],
   "source": [
    "# Run VQE to get optimal Parameters\n",
    "# seed = 50\n",
    "# algorithm_globals.random_seed = seed\n",
    "qi = QuantumInstance(Aer.get_backend('statevector_simulator'))#, seed_transpiler=seed, seed_simulator=seed)\n",
    "\n",
    "ansatz = TwoLocal(no_dits * no_primes, rotation_blocks= rotation_block, entanglement_blocks=entanglement_block, reps=layer)\n",
    "initial_params = [random.uniform(0, 2 * np.pi) for _ in range(len(ansatz.parameters))]\n",
    "\n",
    "opt = ADAM(maxiter=1000, lr=0.5)\n",
    "vqe = VQE(ansatz, optimizer=opt, quantum_instance=qi, initial_point=initial_params)\n",
    "result = vqe.compute_minimum_eigenvalue(operator=H)\n",
    "print(result)\n",
    "optimizer_evals = result.optimizer_evals"
   ]
  },
  {
   "cell_type": "code",
   "execution_count": 7,
   "metadata": {},
   "outputs": [
    {
     "name": "stderr",
     "output_type": "stream",
     "text": [
      "<ipython-input-7-147da8adc2b4>:5: DeprecationWarning: The QuantumCircuit.__iadd__() method is being deprecated. Use the compose() (potentially with the inplace=True argument) and tensor() methods which are more flexible w.r.t circuit register compatibility.\n",
      "  cir += two\n"
     ]
    }
   ],
   "source": [
    "# Run the circuit with final parameters\n",
    "final_params = result.optimal_point.tolist()\n",
    "cir = QuantumCircuit(no_dits * no_primes)\n",
    "two = TwoLocal(no_dits * no_primes, rotation_blocks=rotation_block, entanglement_blocks=entanglement_block,reps=layer)\n",
    "cir += two\n",
    "cir.measure_all()\n",
    "p_dict = {cir.parameters[i] : final_params[i] for i in range(len(cir.parameters))}\n",
    "new_cir = cir.assign_parameters(p_dict)\n",
    "back = Aer.get_backend('aer_simulator')\n",
    "job_sim = execute(new_cir, backend = back, shots = 2048).result()\n",
    "counts = job_sim.get_counts(new_cir)"
   ]
  },
  {
   "cell_type": "code",
   "execution_count": 8,
   "metadata": {},
   "outputs": [
    {
     "data": {
      "image/png": "[encoded data removed]",
      "text/plain": [
       "<Figure size 504x360 with 1 Axes>"
      ]
     },
     "execution_count": 8,
     "metadata": {},
     "output_type": "execute_result"
    }
   ],
   "source": [
    "from qiskit.visualization import plot_histogram\n",
    "plot_histogram(counts)"
   ]
  },
  {
   "cell_type": "code",
   "execution_count": 9,
   "metadata": {},
   "outputs": [
    {
     "name": "stdout",
     "output_type": "stream",
     "text": [
      "MAX_BIT STRING :  010110100110\n",
      "Prime_i =  2  Exponent =  10\n",
      "Prime_i =  3  Exponent =  5\n",
      "Prime_i =  5  Exponent =  6\n",
      "Error/Deviation from n =  4482709258  is :  594709258  ,where Estimated_n =  3888000000\n"
     ]
    }
   ],
   "source": [
    "# Express the result in the composite form\n",
    "composite_builder(counts, n, primes, qbit_coeff)"
   ]
  }
 ],
 "metadata": {
  "kernelspec": {
   "display_name": "Python 3",
   "language": "python",
   "name": "python3"
  },
  "language_info": {
   "codemirror_mode": {
    "name": "ipython",
    "version": 3
   },
   "file_extension": ".py",
   "mimetype": "text/x-python",
   "name": "python",
   "nbconvert_exporter": "python",
   "pygments_lexer": "ipython3",
   "version": "3.8.5"
  }
 },
 "nbformat": 4,
 "nbformat_minor": 4
}
