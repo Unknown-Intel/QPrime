{
 "cells": [
  {
   "cell_type": "code",
   "execution_count": 1,
   "metadata": {},
   "outputs": [],
   "source": [
    "import numpy as np\n",
    "from qiskit import *\n",
    "import random\n",
    "import time\n",
    "from numpy import log as ln\n",
    "import warnings\n",
    "warnings.filterwarnings('ignore', module = 'qiskit')\n",
    "# warnings.filterwarnings(action='once')\n",
    "\n",
    "from qiskit.algorithms.optimizers import ADAM, AQGD, COBYLA, SPSA, TNC, CG, L_BFGS_B, GSLS, NELDER_MEAD, NFT, P_BFGS, POWELL, SLSQP\n",
    "from qiskit.opflow.gradients import Gradient, NaturalGradient, QFI\n",
    "from qiskit.opflow import CircuitStateFn, StateFn, I, X, Y, Z, H, CX, Zero, One, OperatorBase\n",
    "\n",
    "from itertools import combinations as cm"
   ]
  },
  {
   "cell_type": "code",
   "execution_count": 2,
   "metadata": {},
   "outputs": [],
   "source": [
    "# Generate Primes as an array\n",
    "primes = [2,3,5]#,7,11,17,19,,31,37]\n",
    "primes = primes[::-1]\n",
    "\n",
    "combinations = list(cm(range(len(primes)), 2))"
   ]
  },
  {
   "cell_type": "code",
   "execution_count": 3,
   "metadata": {},
   "outputs": [],
   "source": [
    "# Generate Quantum Circuit single layer\n",
    "def generate_circuit(params, assigned=True):\n",
    "    cir = QuantumCircuit(len(primes))\n",
    "    layers = int(len(params)/(4 * len(primes)))\n",
    "    thetas = [qiskit.circuit.Parameter(str(i)) for i in range(len(primes) * 4 *layers)]\n",
    "    thetas_reshape = np.reshape(np.asarray(thetas),(layers, len(primes) * 4))\n",
    "    params = np.reshape(np.asarray(params),(layers, len(primes) * 4))\n",
    "#     cir.x(0)\n",
    "#     cir.x(1)\n",
    "#     cir.x(2)\n",
    "#     cir.x(3)\n",
    "#     cir.x(4)\n",
    "#     cir.x(5)\n",
    "#     cir.x(6)\n",
    "#     cir.h(range(len(primes)))\n",
    "    for m in range(layers):\n",
    "        l = len(params[m])\n",
    "        g = thetas_reshape[m][0:int(l/4)]\n",
    "        b = thetas_reshape[m][int(l/4): int(2*l/4)]\n",
    "        a = thetas_reshape[m][int(2*l/4): int(3*l/4)]\n",
    "        t = thetas_reshape[m][int(3*l/4):l]\n",
    "\n",
    "        for i in range(len(primes)):\n",
    "            cir.ry(g[i], i)\n",
    "        for j in range(len(primes)):\n",
    "            if j != 0:\n",
    "                cir.crz(b[j], j-1, j)\n",
    "            else:\n",
    "                cir.crz(b[j], len(primes)-1, j)\n",
    "        for k in range(len(primes)):\n",
    "            cir.ry(a[k], k)\n",
    "        for o in range(len(primes)):\n",
    "            cir.rx(t[o], o)\n",
    "    if assigned == True:\n",
    "        thetas_reshape = thetas_reshape.flatten()\n",
    "        params = params.flatten()\n",
    "        p_dict = {thetas_reshape[i] : params[i] for i in range(len(thetas))}\n",
    "        cir.assign_parameters(p_dict, inplace=True)\n",
    "    cir.measure_all()\n",
    "    \n",
    "    return cir, thetas"
   ]
  },
  {
   "cell_type": "code",
   "execution_count": 4,
   "metadata": {},
   "outputs": [],
   "source": [
    "def generate_ZZcircuit(params, primes, assigned=True):\n",
    "    cir = QuantumCircuit(len(primes))\n",
    "    layers = int(len(params)/((2 * len(primes)) + len(combinations)))\n",
    "    thetas = [qiskit.circuit.Parameter(str(i)) for i in range(layers * ((2 * len(primes)) + len(combinations)))]\n",
    "    thetas_reshape = np.reshape(np.asarray(thetas),(layers, ((2 * len(primes)) + len(combinations))))\n",
    "    params = np.reshape(np.asarray(params),(layers, ((2 * len(primes)) + len(combinations))))\n",
    "    combs = list(cm(range(len(primes)), 2))\n",
    "#     cir.h(range(len(primes)))\n",
    "    \n",
    "    for m in range(layers):\n",
    "        l = len(params[m])\n",
    "        g = thetas_reshape[m][0: len(primes)]\n",
    "        a = thetas_reshape[m][len(primes): (len(primes) + len(combs))]\n",
    "        b = thetas_reshape[m][(len(primes) + len(combs)) : l]\n",
    "        \n",
    "        for h in range(len(primes)):\n",
    "            cir.rz(g[h], h)\n",
    "        \n",
    "        i = 0\n",
    "        for j, k in combs:\n",
    "            cir.rzz(a[i], j, k)\n",
    "            i += 1\n",
    "        for l in range(len(primes)):\n",
    "            cir.rx(b[l], l)\n",
    "            \n",
    "    if assigned == True:\n",
    "        thetas_reshape = thetas_reshape.flatten()\n",
    "        params = params.flatten()\n",
    "        p_dict = {thetas_reshape[i] : params[i] for i in range(len(thetas))}\n",
    "        cir.assign_parameters(p_dict, inplace=True)\n",
    "    cir.measure_all()\n",
    "    \n",
    "    return cir, thetas"
   ]
  },
  {
   "cell_type": "code",
   "execution_count": 5,
   "metadata": {},
   "outputs": [
    {
     "name": "stdout",
     "output_type": "stream",
     "text": [
      "[1.5357269261449442, 0.8552063889366596, 1.2369761732542777, 1.5192686139284457, 1.4660017733242592, 2.3304832973920697, 0.8615250115415739, 1.5008983066889288, 3.0185328664836657]\n"
     ]
    },
    {
     "data": {
      "image/png": "[encoded data removed]",
      "text/plain": [
       "<Figure size 658.679x264.88 with 1 Axes>"
      ]
     },
     "execution_count": 5,
     "metadata": {},
     "output_type": "execute_result"
    }
   ],
   "source": [
    "hyperparam = [random.uniform(0,np.pi) for _ in range(1 * ((2 * len(primes)) + len(combinations)))]\n",
    "print(hyperparam)\n",
    "cir, free_params = generate_ZZcircuit(hyperparam, primes, assigned=False)\n",
    "cir.draw('mpl')"
   ]
  },
  {
   "cell_type": "code",
   "execution_count": 6,
   "metadata": {},
   "outputs": [],
   "source": [
    "def obj_function(counts, n, penalty):\n",
    "    max_c = 0\n",
    "    max_bit = \"\"\n",
    "    for c in counts:\n",
    "        if counts[c] >= max_c:\n",
    "            max_c =  counts[c]\n",
    "            max_bit = c\n",
    "    comp_primes = 1\n",
    "    for i in range(len(max_bit)):\n",
    "        comp_primes *= primes[i]**int(max_bit[i])\n",
    "    p = 0\n",
    "    if penalty == 1:\n",
    "        if comp_primes > n:\n",
    "            p += comp_primes \n",
    "#         return (n - comp_primes)**2\n",
    "#     print(comp_primes, n-comp_primes, p)\n",
    "    return (n - comp_primes) + p"
   ]
  },
  {
   "cell_type": "code",
   "execution_count": 7,
   "metadata": {},
   "outputs": [],
   "source": [
    "def f(theta):\n",
    "    n = 30\n",
    "    qc, free_params = generate_ZZcircuit(theta, primes)\n",
    "    back = Aer.get_backend('aer_simulator')\n",
    "    back.set_options(device='GPU')\n",
    "    job_sim = execute(qc, backend = back, shots = 2048).result()\n",
    "    counts = job_sim.get_counts(qc)\n",
    "        \n",
    "    return obj_function(counts, n, 1)\n",
    "\n",
    "def gen_f(n):\n",
    "    \n",
    "    def f(theta):\n",
    "        qc, free_params = generate_ZZcircuit(theta, primes)\n",
    "        back = Aer.get_backend('aer_simulator')\n",
    "        back.set_options(device='GPU')\n",
    "        job_sim = execute(qc, backend = back, shots = 2048).result()\n",
    "        counts = job_sim.get_counts(qc)\n",
    "        \n",
    "        return obj_function(counts, n, 1)\n",
    "\n",
    "    return f"
   ]
  },
  {
   "cell_type": "code",
   "execution_count": 8,
   "metadata": {},
   "outputs": [],
   "source": [
    "def X_generator(primes, identity):\n",
    "    #Generate X value for hamiltonian\n",
    "    constant = 0\n",
    "\n",
    "    for i in range(len(primes)):\n",
    "        #Build Constant value iteratively\n",
    "        constant += ln(primes[i])\n",
    "        \n",
    "        if i == 0:\n",
    "            z_value = Z\n",
    "        else:\n",
    "            z_value = I\n",
    "        #Build rest of X\n",
    "        for j in range(1, len(primes)):\n",
    "            if j == i:\n",
    "                z_value = z_value ^ Z\n",
    "            else:\n",
    "                z_value = z_value ^ I\n",
    "        if i == 0:\n",
    "            x = -ln(primes[i]) * z_value\n",
    "        else:\n",
    "            x -= ln(primes[i]) * z_value\n",
    "    #Combine Both to form X\n",
    "    x += constant * identity\n",
    "    \n",
    "    return x\n",
    "\n",
    "def hamiltonian(n, primes):\n",
    "    #Generate Hamitonian according to number of primes\n",
    "    identity = I\n",
    "    \n",
    "    for i in range(len(primes) - 1):\n",
    "        identity = identity ^ I\n",
    "        \n",
    "    x = X_generator(primes, identity)\n",
    "    \n",
    "    lnn = float(ln(n))\n",
    "    \n",
    "    h = ((lnn**2) * identity) - (lnn * x) + (1 / 4 * (x ** 2))\n",
    "    \n",
    "    return h"
   ]
  },
  {
   "cell_type": "code",
   "execution_count": 9,
   "metadata": {},
   "outputs": [
    {
     "name": "stdout",
     "output_type": "stream",
     "text": [
      "[[ 2.59029039e+00+0.j  0.00000000e+00+0.j  0.00000000e+00+0.j\n",
      "   0.00000000e+00+0.j  0.00000000e+00+0.j  0.00000000e+00+0.j\n",
      "   0.00000000e+00+0.j  0.00000000e+00+0.j]\n",
      " [ 0.00000000e+00+0.j  8.39588705e-01+0.j  0.00000000e+00+0.j\n",
      "   0.00000000e+00+0.j  0.00000000e+00+0.j  0.00000000e+00+0.j\n",
      "   0.00000000e+00+0.j  0.00000000e+00+0.j]\n",
      " [ 0.00000000e+00+0.j  0.00000000e+00+0.j  2.60942818e-01+0.j\n",
      "   0.00000000e+00+0.j  0.00000000e+00+0.j  0.00000000e+00+0.j\n",
      "   0.00000000e+00+0.j  0.00000000e+00+0.j]\n",
      " [ 0.00000000e+00+0.j  0.00000000e+00+0.j  0.00000000e+00+0.j\n",
      "   3.32411501e-02+0.j  0.00000000e+00+0.j  0.00000000e+00+0.j\n",
      "   0.00000000e+00+0.j  0.00000000e+00+0.j]\n",
      " [ 0.00000000e+00+0.j  0.00000000e+00+0.j  0.00000000e+00+0.j\n",
      "   0.00000000e+00+0.j -4.44089210e-16+0.j  0.00000000e+00+0.j\n",
      "   0.00000000e+00+0.j  0.00000000e+00+0.j]\n",
      " [ 0.00000000e+00+0.j  0.00000000e+00+0.j  0.00000000e+00+0.j\n",
      "   0.00000000e+00+0.j  0.00000000e+00+0.j  4.80453014e-01+0.j\n",
      "   0.00000000e+00+0.j  0.00000000e+00+0.j]\n",
      " [ 0.00000000e+00+0.j  0.00000000e+00+0.j  0.00000000e+00+0.j\n",
      "   0.00000000e+00+0.j  0.00000000e+00+0.j  0.00000000e+00+0.j\n",
      "   1.20694896e+00+0.j  0.00000000e+00+0.j]\n",
      " [ 0.00000000e+00+0.j  0.00000000e+00+0.j  0.00000000e+00+0.j\n",
      "   0.00000000e+00+0.j  0.00000000e+00+0.j  0.00000000e+00+0.j\n",
      "   0.00000000e+00+0.j  3.21040200e+00+0.j]]\n"
     ]
    }
   ],
   "source": [
    "h_value = hamiltonian(5, primes)\n",
    "print(h_value.to_matrix())"
   ]
  },
  {
   "cell_type": "code",
   "execution_count": 10,
   "metadata": {},
   "outputs": [],
   "source": [
    " def _convert_to_gradient_function(gradient_object, layers, n):\n",
    "\n",
    "        def gradient_function(current_point):\n",
    "\n",
    "            cir, free_params = generate_ZZcircuit(current_point, primes, assigned=False)\n",
    "            cir.remove_final_measurements()\n",
    "            c = hamiltonian(n, primes)\n",
    "            op = ~StateFn(c) @ CircuitStateFn(primitive=cir, coeff=1.)\n",
    "            grad_object = gradient_object.convert(operator=op, params=free_params)\n",
    "            value_dict = {free_params[i]: current_point[i] for i in range(len(free_params))}\n",
    "            x = grad_object.assign_parameters(value_dict).eval()\n",
    "#             print(x)\n",
    "#             analytical_gradients = np.array(x)# Change this part\n",
    "            return np.real(x)\n",
    "        \n",
    "        return gradient_function"
   ]
  },
  {
   "cell_type": "code",
   "execution_count": 11,
   "metadata": {},
   "outputs": [],
   "source": [
    "# from scipy import optimize as op\n",
    "# optimizer =  AQGD(maxiter=1000)\n",
    "# layers = 1\n",
    "# func = f\n",
    "# grad = \"param_shift\"\n",
    "# gradient_function =Gradient(grad_method=grad)\n",
    "# g_f = _convert_to_gradient_function(gradient_function, layers, 30)\n",
    "# theta = [random.uniform(0, 2 * np.pi) for _ in range(layers * ((2 * len(primes)) + len(combinations)))]\n",
    "# # res_sample = op.minimize(func, x0 = theta, method='COBYLA', options={'maxiter':1000})\n",
    "# # theta = res_sample['x']\n",
    "# # loss = res_sample['fun']\n",
    "# theta, loss, _ = optimizer.optimize(\n",
    "#             num_vars=len(theta),\n",
    "#             objective_function=func,\n",
    "#             initial_point=theta,\n",
    "#             gradient_function=g_f\n",
    "#             )"
   ]
  },
  {
   "cell_type": "code",
   "execution_count": 12,
   "metadata": {},
   "outputs": [],
   "source": [
    "# print(loss, theta)"
   ]
  },
  {
   "cell_type": "code",
   "execution_count": 13,
   "metadata": {},
   "outputs": [],
   "source": [
    "# theta = res_sample.x\n",
    "# theta =[2.763785562212966, 1.322415858639598, 1.3308235519001288, 2.4978133840322934, 4.2866331530605715, 1.1067569137053306, 0, 0]\n",
    "# qc, free_params = generate_ZZcircuit(theta, primes)\n",
    "# counts = execute(qc, backend = Aer.get_backend('aer_simulator'), shots = 2048).result().get_counts()"
   ]
  },
  {
   "cell_type": "code",
   "execution_count": 14,
   "metadata": {},
   "outputs": [],
   "source": [
    "# from qiskit.visualization import plot_histogram\n",
    "# plot_histogram(counts, figsize=(30, 20))"
   ]
  },
  {
   "cell_type": "code",
   "execution_count": 15,
   "metadata": {},
   "outputs": [],
   "source": [
    "# import math\n",
    "# n = 30\n",
    "# r = obj_function(counts, n, 0)\n",
    "# print(r)\n",
    "# og_bits = int(math.ceil(math.log2(n)))\n",
    "# compressed_bits = (len(primes)) + int(math.ceil(math.log2(r)))\n",
    "# print(\"Original bit = \", og_bits, ' Compressed_bits = ', compressed_bits, ' compression raito =', compressed_bits/ og_bits)"
   ]
  },
  {
   "cell_type": "code",
   "execution_count": 16,
   "metadata": {},
   "outputs": [
    {
     "name": "stdout",
     "output_type": "stream",
     "text": [
      "Current n =  2\n",
      "Current layer =  1\n",
      "Current opt =  0\n",
      "Current Gradient =  param_shift\n",
      "Current n =  3\n",
      "Current layer =  1\n",
      "Current opt =  0\n",
      "Current Gradient =  param_shift\n",
      "Current n =  4\n",
      "Current layer =  1\n",
      "Current opt =  0\n",
      "Current Gradient =  param_shift\n",
      "Current n =  5\n",
      "Current layer =  1\n",
      "Current opt =  0\n",
      "Current Gradient =  param_shift\n",
      "Current n =  6\n",
      "Current layer =  1\n",
      "Current opt =  0\n",
      "Current Gradient =  param_shift\n",
      "Current n =  7\n",
      "Current layer =  1\n",
      "Current opt =  0\n",
      "Current Gradient =  param_shift\n",
      "Current n =  8\n",
      "Current layer =  1\n",
      "Current opt =  0\n",
      "Current Gradient =  param_shift\n",
      "Current n =  9\n",
      "Current layer =  1\n",
      "Current opt =  0\n",
      "Current Gradient =  param_shift\n",
      "Current n =  10\n",
      "Current layer =  1\n",
      "Current opt =  0\n",
      "Current Gradient =  param_shift\n",
      "Current n =  11\n",
      "Current layer =  1\n",
      "Current opt =  0\n",
      "Current Gradient =  param_shift\n",
      "Current n =  12\n",
      "Current layer =  1\n",
      "Current opt =  0\n",
      "Current Gradient =  param_shift\n",
      "Current n =  13\n",
      "Current layer =  1\n",
      "Current opt =  0\n",
      "Current Gradient =  param_shift\n",
      "Current n =  14\n",
      "Current layer =  1\n",
      "Current opt =  0\n",
      "Current Gradient =  param_shift\n",
      "Current n =  15\n",
      "Current layer =  1\n",
      "Current opt =  0\n",
      "Current Gradient =  param_shift\n"
     ]
    }
   ],
   "source": [
    "def run(optimizer, layers, func, gradient_function, n):\n",
    "    g_f = _convert_to_gradient_function(gradient_function, layers, n)\n",
    "    theta = [random.uniform(0, 2 * np.pi) for _ in range(layers * ((2 * len(primes)) + len(combinations)))]\n",
    "    theta, loss, _ = optimizer.optimize(\n",
    "                num_vars=len(theta),\n",
    "                objective_function=func,\n",
    "                initial_point=theta,\n",
    "                gradient_function=g_f\n",
    "                )\n",
    "    return loss\n",
    "\n",
    "gradient_types = ['param_shift'] #['', 'param_shift', 'lin_comb', 'fin_diff']\n",
    "op_types = [AQGD(maxiter = 1000)]#, COBYLA(maxiter = 100), TNC(maxiter = 100), CG(maxiter = 100), GSLS(maxiter = 100), NELDER_MEAD(maxiter = 100)]#, NFT(maxiter = 500)]#, P_BFGS(maxfun = 500), POWELL(maxiter = 500), SLSQP(maxiter = 500)]\n",
    "loss_list = []\n",
    "\n",
    "\n",
    "for i in range(2, 16):\n",
    "    print(\"Current n = \", i)\n",
    "    fun = gen_f(i)\n",
    "    n_list = []\n",
    "    for j in range(1, 2):\n",
    "        print(\"Current layer = \", j)\n",
    "        layer_list = []\n",
    "        for k in range(len(op_types)):\n",
    "            print(\"Current opt = \", k)\n",
    "            opt = op_types[k]\n",
    "            grad_list = []\n",
    "            for g in range(len(gradient_types)):\n",
    "                print(\"Current Gradient = \", gradient_types[g] )\n",
    "#                 if g == 0:\n",
    "#                     grad = Gradient()\n",
    "#                 else:\n",
    "                grad = Gradient(grad_method=gradient_types[g])\n",
    "                samples = []\n",
    "                for _ in range(10):\n",
    "                    start = time.perf_counter()\n",
    "                    loss = run(opt,  j, fun, grad, i)\n",
    "                    end = time.perf_counter()\n",
    "                    samples.append((loss, end - start))\n",
    "                grad_list.append(samples)\n",
    "            layer_list.append(grad_list)\n",
    "        n_list.append(layer_list)\n",
    "    loss_list.append(n_list)"
   ]
  },
  {
   "cell_type": "code",
   "execution_count": 17,
   "metadata": {},
   "outputs": [
    {
     "name": "stdout",
     "output_type": "stream",
     "text": [
      "[[[[[(2, 17.46100680299969), (2, 26.623528481000903), (0, 18.74204515600104), (0, 17.208116431000235), (0, 34.37514453999938), (1, 18.793842914999914), (2, 17.21617791800054), (2, 17.2231666960015), (1, 31.615961125000467), (1, 22.251857821000158)]]]], [[[[(3, 17.50241095000092), (3, 17.406909111999994), (3, 17.48555572100122), (3, 16.80451139300021), (0, 16.88042818899885), (0, 31.12065867199999), (0, 20.258651694000946), (1, 17.12891924699943), (1, 20.26629132599919), (1, 18.663518056999237)]]]], [[[[(4, 17.17506308799966), (4, 19.87069700899883), (4, 18.341970290999598), (4, 18.401012061000074), (4, 16.77526000099897), (4, 16.936884328000815), (4, 16.870194912000443), (2, 19.918810941999254), (4, 16.907382901001256), (2, 16.922589964999133)]]]], [[[[(2, 20.003780498000197), (0, 18.461832183000297), (5, 26.280242315999203), (5, 16.717830397999933), (5, 16.70466661300088), (5, 21.270265682000172), (5, 16.9988403619991), (5, 25.865541855999254), (2, 17.107617143001335), (5, 17.145678384000348)]]]], [[[[(0, 17.064236976000757), (6, 17.053413453999383), (0, 21.484219424999537), (1, 27.195771885000795), (3, 16.66816291900068), (0, 21.193005476001417), (0, 16.640714384000603), (1, 16.659631567999895), (6, 16.701657572999466), (0, 19.768106214)]]]], [[[[(1, 16.70015291099844), (1, 18.163957964001384), (7, 18.240689968999504), (7, 16.664288553000006), (1, 19.755247999999483), (7, 16.70220169700042), (7, 16.67057088799993), (7, 18.201105301999633), (1, 22.84363499200117), (1, 25.799695445000907)]]]], [[[[(2, 19.81818486500015), (8, 18.365340227999695), (8, 16.802070061999984), (2, 19.829856553000354), (8, 16.857959512999514), (8, 19.95451069000046), (2, 18.436162537998825), (8, 21.47516963199996), (8, 18.44553463900047), (2, 16.888641817999087)]]]], [[[[(9, 16.94506533599997), (3, 23.111370060998524), (9, 16.845993214999908), (9, 19.93562406700039), (9, 18.359273944999586), (3, 16.831319543000063), (9, 16.87416161100009), (9, 21.51549068500026), (9, 16.8946161340009), (9, 24.4358054610002)]]]], [[[[(0, 18.28673524900114), (4, 16.824549820001266), (5, 16.756695430000036), (4, 19.888885375999962), (0, 16.961193398999967), (0, 20.592353127000024), (4, 16.964750179000475), (4, 17.002227835000667), (0, 18.513292590001583), (10, 18.471352419999675)]]]], [[[[(11, 16.89246785099931), (11, 18.42309029200078), (5, 16.869494198999746), (11, 18.420168601000114), (5, 23.212947047000853), (11, 17.063680844999908), (11, 16.969692284999837), (1, 27.74847125300039), (5, 26.14633467299973), (1, 16.939221578999422)]]]], [[[[(12, 29.245858551999845), (2, 21.57662584100035), (2, 16.949769464999918), (12, 16.92585004600005), (6, 16.969288379999853), (2, 18.46312776800005), (12, 18.472808196998812), (2, 21.373141164000117), (12, 18.29052127599971), (6, 16.78103031700084)]]]], [[[[(3, 20.105698946001212), (7, 17.04523018999862), (13, 17.010718344999987), (13, 17.08861236699886), (7, 18.645137899000474), (13, 20.109898198999872), (13, 18.57814958400013), (7, 18.865181208999275), (7, 17.38425861399992), (13, 20.520594210000127)]]]], [[[[(14, 17.343715896000504), (14, 20.503470947000096), (14, 17.440975075998722), (4, 22.1014705460002), (4, 20.517138191000413), (14, 20.572738142000162), (4, 17.56151203800073), (14, 17.686049719999573), (8, 17.18222843299918), (14, 21.562842801000443)]]]], [[[[(15, 32.261784340000304), (15, 19.96579253500022), (5, 16.922008691000883), (0, 32.15537802200015), (5, 26.035811330999422), (0, 26.076902133001568), (0, 33.77565133299868), (5, 18.376547559000755), (9, 16.93160951400023), (0, 16.952765243000613)]]]]]\n"
     ]
    }
   ],
   "source": [
    "print(loss_list)"
   ]
  },
  {
   "cell_type": "code",
   "execution_count": 18,
   "metadata": {},
   "outputs": [
    {
     "data": {
      "text/plain": [
       "(14, 1, 1, 1, 10, 2)"
      ]
     },
     "execution_count": 18,
     "metadata": {},
     "output_type": "execute_result"
    }
   ],
   "source": [
    "ll = np.asarray(loss_list)\n",
    "ll.shape"
   ]
  },
  {
   "cell_type": "code",
   "execution_count": 19,
   "metadata": {},
   "outputs": [],
   "source": [
    "np.save(\"newHamTestrange15param_mom\", ll,)"
   ]
  },
  {
   "cell_type": "code",
   "execution_count": null,
   "metadata": {},
   "outputs": [],
   "source": []
  }
 ],
 "metadata": {
  "kernelspec": {
   "display_name": "Python 3",
   "language": "python",
   "name": "python3"
  },
  "language_info": {
   "codemirror_mode": {
    "name": "ipython",
    "version": 3
   },
   "file_extension": ".py",
   "mimetype": "text/x-python",
   "name": "python",
   "nbconvert_exporter": "python",
   "pygments_lexer": "ipython3",
   "version": "3.8.5"
  }
 },
 "nbformat": 4,
 "nbformat_minor": 4
}
